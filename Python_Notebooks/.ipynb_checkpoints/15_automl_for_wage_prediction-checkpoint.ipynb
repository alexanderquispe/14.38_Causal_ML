{
 "cells": [
  {
   "cell_type": "markdown",
   "id": "cc221e30",
   "metadata": {
    "papermill": {
     "duration": 0.015123,
     "end_time": "2021-03-24T11:24:18.422928",
     "exception": false,
     "start_time": "2021-03-24T11:24:18.407805",
     "status": "completed"
    },
    "tags": []
   },
   "source": [
    "This notebook contains an example for teaching.\n"
   ]
  },
  {
   "cell_type": "markdown",
   "id": "e8342cb7",
   "metadata": {
    "papermill": {
     "duration": 0.013777,
     "end_time": "2021-03-24T11:24:18.450894",
     "exception": false,
     "start_time": "2021-03-24T11:24:18.437117",
     "status": "completed"
    },
    "tags": []
   },
   "source": [
    "# Automatic Machine Learning with H2O AutoML using Wage Data from 2015"
   ]
  },
  {
   "cell_type": "markdown",
   "id": "1fbd05b7",
   "metadata": {
    "papermill": {
     "duration": 0.014076,
     "end_time": "2021-03-24T11:24:18.478815",
     "exception": false,
     "start_time": "2021-03-24T11:24:18.464739",
     "status": "completed"
    },
    "tags": []
   },
   "source": [
    "We illustrate how to predict an outcome variable Y in a high-dimensional setting, using the AutoML package *H2O* that covers the complete pipeline from the raw dataset to the deployable machine learning model. In last few years, AutoML or automated machine learning has become widely popular among data science community. "
   ]
  },
  {
   "cell_type": "markdown",
   "id": "5333433f",
   "metadata": {
    "papermill": {
     "duration": 0.013915,
     "end_time": "2021-03-24T11:24:18.508556",
     "exception": false,
     "start_time": "2021-03-24T11:24:18.494641",
     "status": "completed"
    },
    "tags": []
   },
   "source": [
    "We can use AutoML as a benchmark and compare it to the methods that we used in the previous notebook where we applied one machine learning method after the other."
   ]
  },
  {
   "cell_type": "code",
   "execution_count": 1,
   "id": "dd30c6a6",
   "metadata": {},
   "outputs": [],
   "source": [
    "# Import relevant packages\n",
    "import pandas as pd\n",
    "import numpy as np\n",
    "import pyreadr\n",
    "from sklearn import preprocessing\n",
    "import patsy\n",
    "\n",
    "from numpy import loadtxt\n",
    "from keras.models import Sequential\n",
    "from keras.layers import Dense"
   ]
  },
  {
   "cell_type": "code",
   "execution_count": 2,
   "id": "0e6d7d98",
   "metadata": {},
   "outputs": [
    {
     "name": "stdout",
     "output_type": "stream",
     "text": [
      "Checking whether there is an H2O instance running at http://localhost:54321 ..... not found.\n",
      "Attempting to start a local H2O server...\n",
      "; Java HotSpot(TM) 64-Bit Server VM (build 15.0.2+7-27, mixed mode, sharing)\n",
      "  Starting server from C:\\Users\\MSI-NB\\anaconda3\\envs\\tensorflow_2\\Lib\\site-packages\\h2o\\backend\\bin\\h2o.jar\n",
      "  Ice root: C:\\Users\\MSI-NB\\AppData\\Local\\Temp\\tmpgupou00h\n",
      "  JVM stdout: C:\\Users\\MSI-NB\\AppData\\Local\\Temp\\tmpgupou00h\\h2o_MSI_NB_started_from_python.out\n",
      "  JVM stderr: C:\\Users\\MSI-NB\\AppData\\Local\\Temp\\tmpgupou00h\\h2o_MSI_NB_started_from_python.err\n",
      "  Server is running at http://127.0.0.1:54321\n",
      "Connecting to H2O server at http://127.0.0.1:54321 ... successful.\n",
      "Warning: Your H2O cluster version is too old (7 months and 13 days)! Please download and install the latest version from http://h2o.ai/download/\n"
     ]
    },
    {
     "data": {
      "text/html": [
       "<div style=\"overflow:auto\"><table style=\"width:50%\"><tr><td>H2O_cluster_uptime:</td>\n",
       "<td>01 secs</td></tr>\n",
       "<tr><td>H2O_cluster_timezone:</td>\n",
       "<td>America/Los_Angeles</td></tr>\n",
       "<tr><td>H2O_data_parsing_timezone:</td>\n",
       "<td>UTC</td></tr>\n",
       "<tr><td>H2O_cluster_version:</td>\n",
       "<td>3.32.1.1</td></tr>\n",
       "<tr><td>H2O_cluster_version_age:</td>\n",
       "<td>7 months and 13 days !!!</td></tr>\n",
       "<tr><td>H2O_cluster_name:</td>\n",
       "<td>H2O_from_python_MSI_NB_sn11f8</td></tr>\n",
       "<tr><td>H2O_cluster_total_nodes:</td>\n",
       "<td>1</td></tr>\n",
       "<tr><td>H2O_cluster_free_memory:</td>\n",
       "<td>7.965 Gb</td></tr>\n",
       "<tr><td>H2O_cluster_total_cores:</td>\n",
       "<td>12</td></tr>\n",
       "<tr><td>H2O_cluster_allowed_cores:</td>\n",
       "<td>12</td></tr>\n",
       "<tr><td>H2O_cluster_status:</td>\n",
       "<td>accepting new members, healthy</td></tr>\n",
       "<tr><td>H2O_connection_url:</td>\n",
       "<td>http://127.0.0.1:54321</td></tr>\n",
       "<tr><td>H2O_connection_proxy:</td>\n",
       "<td>{\"http\": null, \"https\": null}</td></tr>\n",
       "<tr><td>H2O_internal_security:</td>\n",
       "<td>False</td></tr>\n",
       "<tr><td>H2O_API_Extensions:</td>\n",
       "<td>Amazon S3, Algos, AutoML, Core V3, TargetEncoder, Core V4</td></tr>\n",
       "<tr><td>Python_version:</td>\n",
       "<td>3.8.8 final</td></tr></table></div>"
      ],
      "text/plain": [
       "--------------------------  ---------------------------------------------------------\n",
       "H2O_cluster_uptime:         01 secs\n",
       "H2O_cluster_timezone:       America/Los_Angeles\n",
       "H2O_data_parsing_timezone:  UTC\n",
       "H2O_cluster_version:        3.32.1.1\n",
       "H2O_cluster_version_age:    7 months and 13 days !!!\n",
       "H2O_cluster_name:           H2O_from_python_MSI_NB_sn11f8\n",
       "H2O_cluster_total_nodes:    1\n",
       "H2O_cluster_free_memory:    7.965 Gb\n",
       "H2O_cluster_total_cores:    12\n",
       "H2O_cluster_allowed_cores:  12\n",
       "H2O_cluster_status:         accepting new members, healthy\n",
       "H2O_connection_url:         http://127.0.0.1:54321\n",
       "H2O_connection_proxy:       {\"http\": null, \"https\": null}\n",
       "H2O_internal_security:      False\n",
       "H2O_API_Extensions:         Amazon S3, Algos, AutoML, Core V3, TargetEncoder, Core V4\n",
       "Python_version:             3.8.8 final\n",
       "--------------------------  ---------------------------------------------------------"
      ]
     },
     "metadata": {},
     "output_type": "display_data"
    }
   ],
   "source": [
    "# load the H2O package\n",
    "import h2o\n",
    "\n",
    "# start h2o cluster\n",
    "h2o.init()"
   ]
  },
  {
   "cell_type": "code",
   "execution_count": 3,
   "id": "bcf49964",
   "metadata": {},
   "outputs": [
    {
     "data": {
      "text/plain": [
       "pandas.core.frame.DataFrame"
      ]
     },
     "execution_count": 3,
     "metadata": {},
     "output_type": "execute_result"
    }
   ],
   "source": [
    "# load dataset\n",
    "rdata_read = pyreadr.read_r(\"../data/wage2015_subsample_inference.Rdata\")\n",
    "data = rdata_read[ 'data' ]\n",
    "n = data.shape[0]\n",
    "\n",
    "type(data)"
   ]
  },
  {
   "cell_type": "code",
   "execution_count": 10,
   "id": "305bb8e2",
   "metadata": {},
   "outputs": [],
   "source": [
    "# Import relevant packages for splitting data\n",
    "import random\n",
    "import math\n",
    "\n",
    "# Set Seed\n",
    "# to make the results replicable (generating random numbers)\n",
    "np.random.seed(0)\n",
    "random = np.random.randint(0, data.shape[0], size=math.floor(data.shape[0]))\n",
    "data[\"random\"] = random\n",
    "random    # the array does not change \n",
    "data_2 = data.sort_values(by=['random'])\n"
   ]
  },
  {
   "cell_type": "code",
   "execution_count": 11,
   "id": "52dd607c",
   "metadata": {},
   "outputs": [
    {
     "ename": "NameError",
     "evalue": "name 'data_train' is not defined",
     "output_type": "error",
     "traceback": [
      "\u001b[1;31m---------------------------------------------------------------------------\u001b[0m",
      "\u001b[1;31mNameError\u001b[0m                                 Traceback (most recent call last)",
      "\u001b[1;32m<ipython-input-11-d8b54e6f5d3d>\u001b[0m in \u001b[0;36m<module>\u001b[1;34m\u001b[0m\n\u001b[0;32m      2\u001b[0m \u001b[0mtrain\u001b[0m \u001b[1;33m=\u001b[0m \u001b[0mdata_2\u001b[0m\u001b[1;33m[\u001b[0m \u001b[1;33m:\u001b[0m \u001b[0mmath\u001b[0m\u001b[1;33m.\u001b[0m\u001b[0mfloor\u001b[0m\u001b[1;33m(\u001b[0m\u001b[0mn\u001b[0m\u001b[1;33m*\u001b[0m\u001b[1;36m3\u001b[0m\u001b[1;33m/\u001b[0m\u001b[1;36m4\u001b[0m\u001b[1;33m)\u001b[0m\u001b[1;33m]\u001b[0m    \u001b[1;31m# training sample\u001b[0m\u001b[1;33m\u001b[0m\u001b[1;33m\u001b[0m\u001b[0m\n\u001b[0;32m      3\u001b[0m \u001b[0mtest\u001b[0m \u001b[1;33m=\u001b[0m  \u001b[0mdata_2\u001b[0m\u001b[1;33m[\u001b[0m \u001b[0mmath\u001b[0m\u001b[1;33m.\u001b[0m\u001b[0mfloor\u001b[0m\u001b[1;33m(\u001b[0m\u001b[0mn\u001b[0m\u001b[1;33m*\u001b[0m\u001b[1;36m3\u001b[0m\u001b[1;33m/\u001b[0m\u001b[1;36m4\u001b[0m\u001b[1;33m)\u001b[0m \u001b[1;33m:\u001b[0m \u001b[1;33m]\u001b[0m   \u001b[1;31m# testing sample\u001b[0m\u001b[1;33m\u001b[0m\u001b[1;33m\u001b[0m\u001b[0m\n\u001b[1;32m----> 4\u001b[1;33m \u001b[0mprint\u001b[0m\u001b[1;33m(\u001b[0m\u001b[0mdata_train\u001b[0m\u001b[1;33m.\u001b[0m\u001b[0mshape\u001b[0m\u001b[1;33m)\u001b[0m\u001b[1;33m\u001b[0m\u001b[1;33m\u001b[0m\u001b[0m\n\u001b[0m\u001b[0;32m      5\u001b[0m \u001b[0mprint\u001b[0m\u001b[1;33m(\u001b[0m\u001b[0mdata_test\u001b[0m\u001b[1;33m.\u001b[0m\u001b[0mshape\u001b[0m\u001b[1;33m)\u001b[0m\u001b[1;33m\u001b[0m\u001b[1;33m\u001b[0m\u001b[0m\n",
      "\u001b[1;31mNameError\u001b[0m: name 'data_train' is not defined"
     ]
    }
   ],
   "source": [
    "# Create training and testing sample \n",
    "train = data_2[ : math.floor(n*3/4)]    # training sample\n",
    "test =  data_2[ math.floor(n*3/4) : ]   # testing sample\n",
    "print(data_train.shape)\n",
    "print(data_test.shape)"
   ]
  },
  {
   "cell_type": "code",
   "execution_count": null,
   "id": "bed9f791",
   "metadata": {},
   "outputs": [],
   "source": [
    "# start h2o cluster\n",
    "h2o.init()"
   ]
  },
  {
   "cell_type": "code",
   "execution_count": 6,
   "id": "bb269c76",
   "metadata": {},
   "outputs": [
    {
     "name": "stdout",
     "output_type": "stream",
     "text": [
      "Parse progress: |█████████████████████████████████████████████████████████| 100%\n",
      "Parse progress: |█████████████████████████████████████████████████████████| 100%\n",
      "Rows:3862\n",
      "Cols:21\n",
      "\n",
      "\n"
     ]
    },
    {
     "data": {
      "text/html": [
       "<table>\n",
       "<thead>\n",
       "<tr><th>       </th><th>wage              </th><th>lwage             </th><th>sex               </th><th>shs                 </th><th>hsg                </th><th>scl                </th><th>clg                </th><th>ad                 </th><th>mw                </th><th>so                 </th><th>we                 </th><th>ne                 </th><th>exp1              </th><th>exp2              </th><th>exp3              </th><th>exp4              </th><th>occ              </th><th>occ2              </th><th>ind              </th><th>ind2              </th><th>random            </th></tr>\n",
       "</thead>\n",
       "<tbody>\n",
       "<tr><td>type   </td><td>real              </td><td>real              </td><td>int               </td><td>int                 </td><td>int                </td><td>int                </td><td>int                </td><td>int                </td><td>int               </td><td>int                </td><td>int                </td><td>int                </td><td>real              </td><td>real              </td><td>real              </td><td>real              </td><td>int              </td><td>int               </td><td>int              </td><td>int               </td><td>int               </td></tr>\n",
       "<tr><td>mins   </td><td>3.021978021978022 </td><td>1.1059115911497213</td><td>0.0               </td><td>0.0                 </td><td>0.0                </td><td>0.0                </td><td>0.0                </td><td>0.0                </td><td>0.0               </td><td>0.0                </td><td>0.0                </td><td>0.0                </td><td>0.0               </td><td>0.0               </td><td>0.0               </td><td>0.0               </td><td>10.0             </td><td>1.0               </td><td>370.0            </td><td>2.0               </td><td>0.0               </td></tr>\n",
       "<tr><td>mean   </td><td>23.465417731467202</td><td>2.969427791239379 </td><td>0.446918694976696 </td><td>0.023562920766442258</td><td>0.24702226825479026</td><td>0.2780942516830658 </td><td>0.3125323666494045 </td><td>0.13878819264629724</td><td>0.2553081305023304</td><td>0.29829104091144487</td><td>0.21569135163127914</td><td>0.23070947695494562</td><td>13.672190574831728</td><td>2.9923032107716137</td><td>8.15417316157433  </td><td>24.849760334671146</td><td>5243.418436043504</td><td>11.69135163127914 </td><td>6667.996116002073</td><td>13.333764888658706</td><td>1914.2263076126374</td></tr>\n",
       "<tr><td>maxs   </td><td>528.845673076923  </td><td>6.270696655981913 </td><td>1.0               </td><td>1.0                 </td><td>1.0                </td><td>1.0                </td><td>1.0                </td><td>1.0                </td><td>1.0               </td><td>1.0                </td><td>1.0                </td><td>1.0                </td><td>47.0              </td><td>22.09             </td><td>103.823           </td><td>487.9681          </td><td>100000.0         </td><td>22.0              </td><td>100000.0         </td><td>22.0              </td><td>3825.0            </td></tr>\n",
       "<tr><td>sigma  </td><td>21.430085743506766</td><td>0.5750893708933925</td><td>0.4972387709704293</td><td>0.15170256601034887 </td><td>0.4313356487428773 </td><td>0.44811810407097313</td><td>0.46358551980855045</td><td>0.3457701367976389 </td><td>0.436090737870262 </td><td>0.45756716236312467</td><td>0.4113543571812672 </td><td>0.4213414081729523 </td><td>10.598613687032655</td><td>3.987480265404191 </td><td>14.424744487903597</td><td>53.27996156215637 </td><td>11579.91114662104</td><td>6.9783416585657125</td><td>5588.264282354911</td><td>5.691380293915183 </td><td>1104.7025392074318</td></tr>\n",
       "<tr><td>zeros  </td><td>0                 </td><td>0                 </td><td>2136              </td><td>3771                </td><td>2908               </td><td>2788               </td><td>2655               </td><td>3326               </td><td>2876              </td><td>2710               </td><td>3029               </td><td>2971               </td><td>48                </td><td>48                </td><td>48                </td><td>48                </td><td>0                </td><td>0                 </td><td>0                </td><td>0                 </td><td>3                 </td></tr>\n",
       "<tr><td>missing</td><td>0                 </td><td>0                 </td><td>0                 </td><td>0                   </td><td>0                  </td><td>0                  </td><td>0                  </td><td>0                  </td><td>0                 </td><td>0                  </td><td>0                  </td><td>0                  </td><td>0                 </td><td>0                 </td><td>0                 </td><td>0                 </td><td>0                </td><td>0                 </td><td>0                </td><td>0                 </td><td>0                 </td></tr>\n",
       "<tr><td>0      </td><td>26.442307692307693</td><td>3.274965291519244 </td><td>1.0               </td><td>0.0                 </td><td>1.0                </td><td>0.0                </td><td>0.0                </td><td>0.0                </td><td>0.0               </td><td>0.0                </td><td>0.0                </td><td>1.0                </td><td>29.0              </td><td>8.41              </td><td>24.389            </td><td>70.7281           </td><td>340.0            </td><td>1.0               </td><td>8660.0           </td><td>20.0              </td><td>0.0               </td></tr>\n",
       "<tr><td>1      </td><td>19.23076923076923 </td><td>2.9565115604007097</td><td>0.0               </td><td>0.0                 </td><td>0.0                </td><td>1.0                </td><td>0.0                </td><td>0.0                </td><td>0.0               </td><td>0.0                </td><td>0.0                </td><td>1.0                </td><td>33.5              </td><td>11.2225           </td><td>37.595375         </td><td>125.94450625      </td><td>9620.0           </td><td>22.0              </td><td>1870.0           </td><td>5.0               </td><td>0.0               </td></tr>\n",
       "<tr><td>2      </td><td>48.07692307692308 </td><td>3.872802292274865 </td><td>1.0               </td><td>0.0                 </td><td>0.0                </td><td>0.0                </td><td>0.0                </td><td>1.0                </td><td>1.0               </td><td>0.0                </td><td>0.0                </td><td>0.0                </td><td>2.0               </td><td>0.04              </td><td>0.008             </td><td>0.0016            </td><td>3060.0           </td><td>10.0              </td><td>8190.0           </td><td>18.0              </td><td>0.0               </td></tr>\n",
       "<tr><td>3      </td><td>12.01923076923077 </td><td>2.486507931154974 </td><td>0.0               </td><td>0.0                 </td><td>1.0                </td><td>0.0                </td><td>0.0                </td><td>0.0                </td><td>0.0               </td><td>1.0                </td><td>0.0                </td><td>0.0                </td><td>29.0              </td><td>8.41              </td><td>24.389            </td><td>70.7281           </td><td>6440.0           </td><td>19.0              </td><td>770.0            </td><td>4.0               </td><td>2.0               </td></tr>\n",
       "<tr><td>4      </td><td>39.90384615384615 </td><td>3.6864727140833713</td><td>1.0               </td><td>0.0                 </td><td>0.0                </td><td>0.0                </td><td>0.0                </td><td>1.0                </td><td>0.0               </td><td>1.0                </td><td>0.0                </td><td>0.0                </td><td>12.0              </td><td>1.44              </td><td>1.728             </td><td>2.0736            </td><td>1820.0           </td><td>5.0               </td><td>7860.0           </td><td>17.0              </td><td>2.0               </td></tr>\n",
       "<tr><td>5      </td><td>13.157894736842104</td><td>2.5770219386958058</td><td>0.0               </td><td>0.0                 </td><td>1.0                </td><td>0.0                </td><td>0.0                </td><td>0.0                </td><td>0.0               </td><td>1.0                </td><td>0.0                </td><td>0.0                </td><td>11.0              </td><td>1.21              </td><td>1.331             </td><td>1.4641            </td><td>8810.0           </td><td>21.0              </td><td>3895.0           </td><td>6.0               </td><td>3.0               </td></tr>\n",
       "<tr><td>6      </td><td>20.192307692307693</td><td>3.005301724570142 </td><td>0.0               </td><td>1.0                 </td><td>0.0                </td><td>0.0                </td><td>0.0                </td><td>0.0                </td><td>0.0               </td><td>0.0                </td><td>1.0                </td><td>0.0                </td><td>17.0              </td><td>2.89              </td><td>4.913             </td><td>8.3521            </td><td>7200.0           </td><td>20.0              </td><td>8770.0           </td><td>21.0              </td><td>4.0               </td></tr>\n",
       "<tr><td>7      </td><td>12.01923076923077 </td><td>2.486507931154974 </td><td>0.0               </td><td>0.0                 </td><td>1.0                </td><td>0.0                </td><td>0.0                </td><td>0.0                </td><td>0.0               </td><td>1.0                </td><td>0.0                </td><td>0.0                </td><td>7.0               </td><td>0.49              </td><td>0.343             </td><td>0.2401            </td><td>5610.0           </td><td>17.0              </td><td>4265.0           </td><td>7.0               </td><td>5.0               </td></tr>\n",
       "<tr><td>8      </td><td>28.846153846153847</td><td>3.361976668508874 </td><td>1.0               </td><td>1.0                 </td><td>0.0                </td><td>0.0                </td><td>0.0                </td><td>0.0                </td><td>0.0               </td><td>0.0                </td><td>0.0                </td><td>1.0                </td><td>8.0               </td><td>0.64              </td><td>0.512             </td><td>0.4096            </td><td>5240.0           </td><td>17.0              </td><td>6970.0           </td><td>12.0              </td><td>7.0               </td></tr>\n",
       "<tr><td>9      </td><td>34.13461538461539 </td><td>3.530311983328089 </td><td>0.0               </td><td>0.0                 </td><td>1.0                </td><td>0.0                </td><td>0.0                </td><td>0.0                </td><td>0.0               </td><td>1.0                </td><td>0.0                </td><td>0.0                </td><td>38.0              </td><td>14.44             </td><td>54.872            </td><td>208.5136          </td><td>5550.0           </td><td>17.0              </td><td>6370.0           </td><td>10.0              </td><td>7.0               </td></tr>\n",
       "</tbody>\n",
       "</table>"
      ]
     },
     "metadata": {},
     "output_type": "display_data"
    }
   ],
   "source": [
    "# convert data as h2o type\n",
    "train_h = h2o.H2OFrame(train)\n",
    "test_h = h2o.H2OFrame(test)\n",
    "\n",
    "# have a look at the data\n",
    "train_h.describe()\n"
   ]
  },
  {
   "cell_type": "code",
   "execution_count": 7,
   "id": "1f0bfa3f",
   "metadata": {},
   "outputs": [
    {
     "data": {
      "text/plain": [
       "['sex',\n",
       " 'shs',\n",
       " 'hsg',\n",
       " 'scl',\n",
       " 'clg',\n",
       " 'ad',\n",
       " 'mw',\n",
       " 'so',\n",
       " 'we',\n",
       " 'ne',\n",
       " 'exp1',\n",
       " 'exp2',\n",
       " 'exp3',\n",
       " 'exp4',\n",
       " 'occ',\n",
       " 'ind']"
      ]
     },
     "execution_count": 7,
     "metadata": {},
     "output_type": "execute_result"
    }
   ],
   "source": [
    "# define the variables\n",
    "y = 'lwage'\n",
    "\n",
    "data_columns = list(data)\n",
    "no_relev_col = ['wage','occ2', 'ind2', 'random', 'lwage']\n",
    "\n",
    "# This gives us: new_list = ['carrot' , 'lemon']\n",
    "x = [col for col in data_columns if col not in no_relev_col]\n"
   ]
  },
  {
   "cell_type": "code",
   "execution_count": 8,
   "id": "57c48dce",
   "metadata": {},
   "outputs": [
    {
     "ename": "NameError",
     "evalue": "name 'H2OAutoML' is not defined",
     "output_type": "error",
     "traceback": [
      "\u001b[1;31m---------------------------------------------------------------------------\u001b[0m",
      "\u001b[1;31mNameError\u001b[0m                                 Traceback (most recent call last)",
      "\u001b[1;32m<ipython-input-8-0900c0b08b0c>\u001b[0m in \u001b[0;36m<module>\u001b[1;34m\u001b[0m\n\u001b[0;32m      1\u001b[0m \u001b[1;31m# run AutoML for 10 base models and a maximal runtime of 100 seconds\u001b[0m\u001b[1;33m\u001b[0m\u001b[1;33m\u001b[0m\u001b[1;33m\u001b[0m\u001b[0m\n\u001b[0;32m      2\u001b[0m \u001b[1;31m# Run AutoML for 30 seconds\u001b[0m\u001b[1;33m\u001b[0m\u001b[1;33m\u001b[0m\u001b[1;33m\u001b[0m\u001b[0m\n\u001b[1;32m----> 3\u001b[1;33m \u001b[0maml\u001b[0m \u001b[1;33m=\u001b[0m \u001b[0mH2OAutoML\u001b[0m\u001b[1;33m(\u001b[0m\u001b[0mmax_runtime_secs\u001b[0m \u001b[1;33m=\u001b[0m \u001b[1;36m100\u001b[0m\u001b[1;33m,\u001b[0m \u001b[0mmax_models\u001b[0m \u001b[1;33m=\u001b[0m \u001b[1;36m10\u001b[0m\u001b[1;33m,\u001b[0m \u001b[0mseed\u001b[0m \u001b[1;33m=\u001b[0m \u001b[1;36m1\u001b[0m\u001b[1;33m)\u001b[0m\u001b[1;33m\u001b[0m\u001b[1;33m\u001b[0m\u001b[0m\n\u001b[0m\u001b[0;32m      4\u001b[0m \u001b[0maml\u001b[0m\u001b[1;33m.\u001b[0m\u001b[0mtrain\u001b[0m\u001b[1;33m(\u001b[0m\u001b[0mx\u001b[0m \u001b[1;33m=\u001b[0m \u001b[0mx\u001b[0m\u001b[1;33m,\u001b[0m \u001b[0my\u001b[0m \u001b[1;33m=\u001b[0m \u001b[0my\u001b[0m\u001b[1;33m,\u001b[0m \u001b[0mtraining_frame\u001b[0m \u001b[1;33m=\u001b[0m \u001b[0mtrain_h\u001b[0m\u001b[1;33m,\u001b[0m \u001b[0mleaderboard_frame\u001b[0m \u001b[1;33m=\u001b[0m \u001b[0mtest_h\u001b[0m\u001b[1;33m)\u001b[0m\u001b[1;33m\u001b[0m\u001b[1;33m\u001b[0m\u001b[0m\n",
      "\u001b[1;31mNameError\u001b[0m: name 'H2OAutoML' is not defined"
     ]
    }
   ],
   "source": [
    "# run AutoML for 10 base models and a maximal runtime of 100 seconds\n",
    "# Run AutoML for 30 seconds\n",
    "aml = H2OAutoML(max_runtime_secs = 100, max_models = 10, seed = 1)\n",
    "aml.train(x = x, y = y, training_frame = train_h, leaderboard_frame = test_h)\n"
   ]
  },
  {
   "cell_type": "code",
   "execution_count": 9,
   "id": "88df97d7",
   "metadata": {},
   "outputs": [
    {
     "ename": "NameError",
     "evalue": "name 'aml' is not defined",
     "output_type": "error",
     "traceback": [
      "\u001b[1;31m---------------------------------------------------------------------------\u001b[0m",
      "\u001b[1;31mNameError\u001b[0m                                 Traceback (most recent call last)",
      "\u001b[1;32m<ipython-input-9-b2144ca01cad>\u001b[0m in \u001b[0;36m<module>\u001b[1;34m\u001b[0m\n\u001b[0;32m      1\u001b[0m \u001b[1;31m# AutoML Leaderboard\u001b[0m\u001b[1;33m\u001b[0m\u001b[1;33m\u001b[0m\u001b[1;33m\u001b[0m\u001b[0m\n\u001b[1;32m----> 2\u001b[1;33m \u001b[0mlb\u001b[0m \u001b[1;33m=\u001b[0m \u001b[0maml\u001b[0m\u001b[1;33m.\u001b[0m\u001b[0mleaderboard\u001b[0m\u001b[1;33m\u001b[0m\u001b[1;33m\u001b[0m\u001b[0m\n\u001b[0m\u001b[0;32m      3\u001b[0m \u001b[0mprint\u001b[0m\u001b[1;33m(\u001b[0m\u001b[0mlb\u001b[0m\u001b[1;33m)\u001b[0m\u001b[1;33m\u001b[0m\u001b[1;33m\u001b[0m\u001b[0m\n",
      "\u001b[1;31mNameError\u001b[0m: name 'aml' is not defined"
     ]
    }
   ],
   "source": [
    "# AutoML Leaderboard\n",
    "lb = aml.leaderboard\n",
    "print(lb)"
   ]
  },
  {
   "cell_type": "markdown",
   "id": "d295cdc1",
   "metadata": {},
   "source": [
    "We see that two Stacked Ensembles are at the top of the leaderboard. Stacked Ensembles often outperform a single model. The out-of-sample (test) MSE of the leading model is given by"
   ]
  },
  {
   "cell_type": "code",
   "execution_count": 41,
   "id": "800f6aba",
   "metadata": {},
   "outputs": [
    {
     "data": {
      "text/plain": [
       "0.22170242200808812"
      ]
     },
     "execution_count": 41,
     "metadata": {},
     "output_type": "execute_result"
    }
   ],
   "source": [
    "aml.leaderboard['mse'][0,0]"
   ]
  },
  {
   "cell_type": "markdown",
   "id": "6c9c7ec9",
   "metadata": {},
   "source": [
    "The in-sample performance can be evaluated by"
   ]
  },
  {
   "cell_type": "code",
   "execution_count": 42,
   "id": "7e47ac17",
   "metadata": {},
   "outputs": [
    {
     "name": "stdout",
     "output_type": "stream",
     "text": [
      "Model Details\n",
      "=============\n",
      "H2OStackedEnsembleEstimator :  Stacked Ensemble\n",
      "Model Key:  StackedEnsemble_AllModels_AutoML_20210420_101446\n",
      "\n",
      "No model summary for this model\n",
      "\n",
      "ModelMetricsRegressionGLM: stackedensemble\n",
      "** Reported on train data. **\n",
      "\n",
      "MSE: 0.15336801468296055\n",
      "RMSE: 0.3916222857332822\n",
      "MAE: 0.2975878045344056\n",
      "RMSLE: 0.10083443761679912\n",
      "R^2: 0.5361510490339878\n",
      "Mean Residual Deviance: 0.15336801468296055\n",
      "Null degrees of freedom: 3861\n",
      "Residual degrees of freedom: 3854\n",
      "Null deviance: 1276.9399854672324\n",
      "Residual deviance: 592.3072727055936\n",
      "AIC: 3736.9598054643016\n",
      "\n",
      "ModelMetricsRegressionGLM: stackedensemble\n",
      "** Reported on cross-validation data. **\n",
      "\n",
      "MSE: 0.2230823259224694\n",
      "RMSE: 0.4723159174985207\n",
      "MAE: 0.35789650487089536\n",
      "RMSLE: 0.12041317556810448\n",
      "R^2: 0.32530584638448745\n",
      "Mean Residual Deviance: 0.2230823259224694\n",
      "Null degrees of freedom: 3861\n",
      "Residual degrees of freedom: 3854\n",
      "Null deviance: 1277.1043650451534\n",
      "Residual deviance: 861.5439427125768\n",
      "AIC: 5184.053213386263\n"
     ]
    },
    {
     "data": {
      "text/plain": []
     },
     "execution_count": 42,
     "metadata": {},
     "output_type": "execute_result"
    }
   ],
   "source": [
    "aml.leader"
   ]
  },
  {
   "cell_type": "markdown",
   "id": "ca0b36af",
   "metadata": {
    "papermill": {
     "duration": 0.027663,
     "end_time": "2021-03-24T11:25:13.491063",
     "exception": false,
     "start_time": "2021-03-24T11:25:13.463400",
     "status": "completed"
    },
    "tags": []
   },
   "source": [
    "This is in line with our previous results. To understand how the ensemble works, let's take a peek inside the Stacked Ensemble \"All Models\" model.  The \"All Models\" ensemble is an ensemble of all of the individual models in the AutoML run.  This is often the top performing model on the leaderboard."
   ]
  },
  {
   "cell_type": "code",
   "execution_count": 95,
   "id": "95549783",
   "metadata": {},
   "outputs": [],
   "source": [
    "model_ids = h2o.as_list(aml.leaderboard['model_id'][0], use_pandas=True)\n"
   ]
  },
  {
   "cell_type": "code",
   "execution_count": 141,
   "id": "c2236931",
   "metadata": {},
   "outputs": [
    {
     "data": {
      "text/plain": [
       "'StackedEnsemble_AllModels_AutoML_20210420_101446'"
      ]
     },
     "execution_count": 141,
     "metadata": {},
     "output_type": "execute_result"
    }
   ],
   "source": [
    "model = model_ids[model_ids['model_id'].str.contains(\"StackedEnsemble_AllModels\")].values.tolist()\n",
    "model_id = model[0][0]\n",
    "model_id"
   ]
  },
  {
   "cell_type": "code",
   "execution_count": 142,
   "id": "615b33c4",
   "metadata": {},
   "outputs": [
    {
     "name": "stdout",
     "output_type": "stream",
     "text": [
      "Model Details\n",
      "=============\n",
      "H2OStackedEnsembleEstimator :  Stacked Ensemble\n",
      "Model Key:  StackedEnsemble_AllModels_AutoML_20210420_101446\n",
      "\n",
      "No model summary for this model\n",
      "\n",
      "ModelMetricsRegressionGLM: stackedensemble\n",
      "** Reported on train data. **\n",
      "\n",
      "MSE: 0.15336801468296055\n",
      "RMSE: 0.3916222857332822\n",
      "MAE: 0.2975878045344056\n",
      "RMSLE: 0.10083443761679912\n",
      "R^2: 0.5361510490339878\n",
      "Mean Residual Deviance: 0.15336801468296055\n",
      "Null degrees of freedom: 3861\n",
      "Residual degrees of freedom: 3854\n",
      "Null deviance: 1276.9399854672324\n",
      "Residual deviance: 592.3072727055936\n",
      "AIC: 3736.9598054643016\n",
      "\n",
      "ModelMetricsRegressionGLM: stackedensemble\n",
      "** Reported on cross-validation data. **\n",
      "\n",
      "MSE: 0.2230823259224694\n",
      "RMSE: 0.4723159174985207\n",
      "MAE: 0.35789650487089536\n",
      "RMSLE: 0.12041317556810448\n",
      "R^2: 0.32530584638448745\n",
      "Mean Residual Deviance: 0.2230823259224694\n",
      "Null degrees of freedom: 3861\n",
      "Residual degrees of freedom: 3854\n",
      "Null deviance: 1277.1043650451534\n",
      "Residual deviance: 861.5439427125768\n",
      "AIC: 5184.053213386263\n"
     ]
    },
    {
     "data": {
      "text/plain": []
     },
     "execution_count": 142,
     "metadata": {},
     "output_type": "execute_result"
    }
   ],
   "source": [
    "se = h2o.get_model('StackedEnsemble_AllModels_AutoML_20210420_101446')\n",
    "se"
   ]
  },
  {
   "cell_type": "code",
   "execution_count": 147,
   "id": "439e8999",
   "metadata": {},
   "outputs": [
    {
     "name": "stdout",
     "output_type": "stream",
     "text": [
      "Model Details\n",
      "=============\n",
      "H2OGeneralizedLinearEstimator :  Generalized Linear Modeling\n",
      "Model Key:  metalearner_AUTO_StackedEnsemble_AllModels_AutoML_20210420_101446\n",
      "\n",
      "\n",
      "GLM Model: summary\n"
     ]
    },
    {
     "data": {
      "text/html": [
       "<div>\n",
       "<style scoped>\n",
       "    .dataframe tbody tr th:only-of-type {\n",
       "        vertical-align: middle;\n",
       "    }\n",
       "\n",
       "    .dataframe tbody tr th {\n",
       "        vertical-align: top;\n",
       "    }\n",
       "\n",
       "    .dataframe thead th {\n",
       "        text-align: right;\n",
       "    }\n",
       "</style>\n",
       "<table border=\"1\" class=\"dataframe\">\n",
       "  <thead>\n",
       "    <tr style=\"text-align: right;\">\n",
       "      <th></th>\n",
       "      <th></th>\n",
       "      <th>family</th>\n",
       "      <th>link</th>\n",
       "      <th>regularization</th>\n",
       "      <th>number_of_predictors_total</th>\n",
       "      <th>number_of_active_predictors</th>\n",
       "      <th>number_of_iterations</th>\n",
       "      <th>training_frame</th>\n",
       "    </tr>\n",
       "  </thead>\n",
       "  <tbody>\n",
       "    <tr>\n",
       "      <th>0</th>\n",
       "      <td></td>\n",
       "      <td>gaussian</td>\n",
       "      <td>identity</td>\n",
       "      <td>Elastic Net (alpha = 0.5, lambda = 2.258E-4 )</td>\n",
       "      <td>10</td>\n",
       "      <td>7</td>\n",
       "      <td>1</td>\n",
       "      <td>levelone_training_StackedEnsemble_AllModels_AutoML_20210420_101446</td>\n",
       "    </tr>\n",
       "  </tbody>\n",
       "</table>\n",
       "</div>"
      ],
      "text/plain": [
       "       family      link                                 regularization  \\\n",
       "0    gaussian  identity  Elastic Net (alpha = 0.5, lambda = 2.258E-4 )   \n",
       "\n",
       "   number_of_predictors_total number_of_active_predictors  \\\n",
       "0                          10                           7   \n",
       "\n",
       "   number_of_iterations  \\\n",
       "0                     1   \n",
       "\n",
       "                                                       training_frame  \n",
       "0  levelone_training_StackedEnsemble_AllModels_AutoML_20210420_101446  "
      ]
     },
     "metadata": {},
     "output_type": "display_data"
    },
    {
     "name": "stdout",
     "output_type": "stream",
     "text": [
      "\n",
      "\n",
      "ModelMetricsRegressionGLM: glm\n",
      "** Reported on train data. **\n",
      "\n",
      "MSE: 0.22285575425627957\n",
      "RMSE: 0.47207600474529476\n",
      "MAE: 0.3577168118937625\n",
      "RMSLE: 0.12034524870031442\n",
      "R^2: 0.3259910937609637\n",
      "Mean Residual Deviance: 0.22285575425627957\n",
      "Null degrees of freedom: 3861\n",
      "Residual degrees of freedom: 3854\n",
      "Null deviance: 1276.9399854672324\n",
      "Residual deviance: 860.6689229377517\n",
      "AIC: 5180.128812717147\n",
      "\n",
      "ModelMetricsRegressionGLM: glm\n",
      "** Reported on cross-validation data. **\n",
      "\n",
      "MSE: 0.2230823259224694\n",
      "RMSE: 0.4723159174985207\n",
      "MAE: 0.35789650487089536\n",
      "RMSLE: 0.12041317556810448\n",
      "R^2: 0.32530584638448745\n",
      "Mean Residual Deviance: 0.2230823259224694\n",
      "Null degrees of freedom: 3861\n",
      "Residual degrees of freedom: 3854\n",
      "Null deviance: 1277.1043650451534\n",
      "Residual deviance: 861.5439427125768\n",
      "AIC: 5184.053213386263\n",
      "\n",
      "Cross-Validation Metrics Summary: \n"
     ]
    },
    {
     "data": {
      "text/html": [
       "<div>\n",
       "<style scoped>\n",
       "    .dataframe tbody tr th:only-of-type {\n",
       "        vertical-align: middle;\n",
       "    }\n",
       "\n",
       "    .dataframe tbody tr th {\n",
       "        vertical-align: top;\n",
       "    }\n",
       "\n",
       "    .dataframe thead th {\n",
       "        text-align: right;\n",
       "    }\n",
       "</style>\n",
       "<table border=\"1\" class=\"dataframe\">\n",
       "  <thead>\n",
       "    <tr style=\"text-align: right;\">\n",
       "      <th></th>\n",
       "      <th></th>\n",
       "      <th>mean</th>\n",
       "      <th>sd</th>\n",
       "      <th>cv_1_valid</th>\n",
       "      <th>cv_2_valid</th>\n",
       "      <th>cv_3_valid</th>\n",
       "      <th>cv_4_valid</th>\n",
       "      <th>cv_5_valid</th>\n",
       "    </tr>\n",
       "  </thead>\n",
       "  <tbody>\n",
       "    <tr>\n",
       "      <th>0</th>\n",
       "      <td>mae</td>\n",
       "      <td>0.3579374</td>\n",
       "      <td>0.01058328</td>\n",
       "      <td>0.36069974</td>\n",
       "      <td>0.36608687</td>\n",
       "      <td>0.33996028</td>\n",
       "      <td>0.35787547</td>\n",
       "      <td>0.36506465</td>\n",
       "    </tr>\n",
       "    <tr>\n",
       "      <th>1</th>\n",
       "      <td>mean_residual_deviance</td>\n",
       "      <td>0.22335783</td>\n",
       "      <td>0.019000858</td>\n",
       "      <td>0.23923838</td>\n",
       "      <td>0.22691321</td>\n",
       "      <td>0.19703366</td>\n",
       "      <td>0.21159321</td>\n",
       "      <td>0.2420107</td>\n",
       "    </tr>\n",
       "    <tr>\n",
       "      <th>2</th>\n",
       "      <td>mse</td>\n",
       "      <td>0.22335783</td>\n",
       "      <td>0.019000858</td>\n",
       "      <td>0.23923838</td>\n",
       "      <td>0.22691321</td>\n",
       "      <td>0.19703366</td>\n",
       "      <td>0.21159321</td>\n",
       "      <td>0.2420107</td>\n",
       "    </tr>\n",
       "    <tr>\n",
       "      <th>3</th>\n",
       "      <td>null_deviance</td>\n",
       "      <td>255.42087</td>\n",
       "      <td>18.944805</td>\n",
       "      <td>270.14395</td>\n",
       "      <td>279.33765</td>\n",
       "      <td>235.1926</td>\n",
       "      <td>252.05312</td>\n",
       "      <td>240.37706</td>\n",
       "    </tr>\n",
       "    <tr>\n",
       "      <th>4</th>\n",
       "      <td>r2</td>\n",
       "      <td>0.32488036</td>\n",
       "      <td>0.029596588</td>\n",
       "      <td>0.3118829</td>\n",
       "      <td>0.34107918</td>\n",
       "      <td>0.34891266</td>\n",
       "      <td>0.34385273</td>\n",
       "      <td>0.27867436</td>\n",
       "    </tr>\n",
       "    <tr>\n",
       "      <th>5</th>\n",
       "      <td>residual_deviance</td>\n",
       "      <td>172.30879</td>\n",
       "      <td>13.61599</td>\n",
       "      <td>185.88823</td>\n",
       "      <td>184.02661</td>\n",
       "      <td>153.09515</td>\n",
       "      <td>165.2543</td>\n",
       "      <td>173.27966</td>\n",
       "    </tr>\n",
       "    <tr>\n",
       "      <th>6</th>\n",
       "      <td>rmse</td>\n",
       "      <td>0.47225946</td>\n",
       "      <td>0.020274352</td>\n",
       "      <td>0.48912</td>\n",
       "      <td>0.4763541</td>\n",
       "      <td>0.44388473</td>\n",
       "      <td>0.45999262</td>\n",
       "      <td>0.49194583</td>\n",
       "    </tr>\n",
       "    <tr>\n",
       "      <th>7</th>\n",
       "      <td>rmsle</td>\n",
       "      <td>0.12039038</td>\n",
       "      <td>0.0044855876</td>\n",
       "      <td>0.123683274</td>\n",
       "      <td>0.121521294</td>\n",
       "      <td>0.11285072</td>\n",
       "      <td>0.120123595</td>\n",
       "      <td>0.12377302</td>\n",
       "    </tr>\n",
       "  </tbody>\n",
       "</table>\n",
       "</div>"
      ],
      "text/plain": [
       "                                 mean            sd   cv_1_valid   cv_2_valid  \\\n",
       "0                     mae   0.3579374    0.01058328   0.36069974   0.36608687   \n",
       "1  mean_residual_deviance  0.22335783   0.019000858   0.23923838   0.22691321   \n",
       "2                     mse  0.22335783   0.019000858   0.23923838   0.22691321   \n",
       "3           null_deviance   255.42087     18.944805    270.14395    279.33765   \n",
       "4                      r2  0.32488036   0.029596588    0.3118829   0.34107918   \n",
       "5       residual_deviance   172.30879      13.61599    185.88823    184.02661   \n",
       "6                    rmse  0.47225946   0.020274352      0.48912    0.4763541   \n",
       "7                   rmsle  0.12039038  0.0044855876  0.123683274  0.121521294   \n",
       "\n",
       "   cv_3_valid   cv_4_valid  cv_5_valid  \n",
       "0  0.33996028   0.35787547  0.36506465  \n",
       "1  0.19703366   0.21159321   0.2420107  \n",
       "2  0.19703366   0.21159321   0.2420107  \n",
       "3    235.1926    252.05312   240.37706  \n",
       "4  0.34891266   0.34385273  0.27867436  \n",
       "5   153.09515     165.2543   173.27966  \n",
       "6  0.44388473   0.45999262  0.49194583  \n",
       "7  0.11285072  0.120123595  0.12377302  "
      ]
     },
     "metadata": {},
     "output_type": "display_data"
    },
    {
     "name": "stdout",
     "output_type": "stream",
     "text": [
      "\n",
      "Scoring History: \n"
     ]
    },
    {
     "data": {
      "text/html": [
       "<div>\n",
       "<style scoped>\n",
       "    .dataframe tbody tr th:only-of-type {\n",
       "        vertical-align: middle;\n",
       "    }\n",
       "\n",
       "    .dataframe tbody tr th {\n",
       "        vertical-align: top;\n",
       "    }\n",
       "\n",
       "    .dataframe thead th {\n",
       "        text-align: right;\n",
       "    }\n",
       "</style>\n",
       "<table border=\"1\" class=\"dataframe\">\n",
       "  <thead>\n",
       "    <tr style=\"text-align: right;\">\n",
       "      <th></th>\n",
       "      <th></th>\n",
       "      <th>timestamp</th>\n",
       "      <th>duration</th>\n",
       "      <th>iterations</th>\n",
       "      <th>negative_log_likelihood</th>\n",
       "      <th>objective</th>\n",
       "      <th>alpha</th>\n",
       "      <th>lambda</th>\n",
       "      <th>deviance_train</th>\n",
       "      <th>deviance_xval</th>\n",
       "      <th>deviance_se</th>\n",
       "      <th>training_rmse</th>\n",
       "      <th>training_deviance</th>\n",
       "      <th>training_mae</th>\n",
       "      <th>training_r2</th>\n",
       "    </tr>\n",
       "  </thead>\n",
       "  <tbody>\n",
       "    <tr>\n",
       "      <th>0</th>\n",
       "      <td></td>\n",
       "      <td>2021-04-20 10:15:00</td>\n",
       "      <td>0.000 sec</td>\n",
       "      <td>1</td>\n",
       "      <td>430.334459</td>\n",
       "      <td>0.111579</td>\n",
       "      <td>0.5</td>\n",
       "      <td>0.000226</td>\n",
       "      <td>0.222856</td>\n",
       "      <td>0.223358</td>\n",
       "      <td>0.100249</td>\n",
       "      <td>0.472076</td>\n",
       "      <td>0.222856</td>\n",
       "      <td>0.357717</td>\n",
       "      <td>0.325991</td>\n",
       "    </tr>\n",
       "  </tbody>\n",
       "</table>\n",
       "</div>"
      ],
      "text/plain": [
       "               timestamp    duration  iterations  negative_log_likelihood  \\\n",
       "0    2021-04-20 10:15:00   0.000 sec           1               430.334459   \n",
       "\n",
       "   objective  alpha    lambda  deviance_train  deviance_xval  deviance_se  \\\n",
       "0   0.111579    0.5  0.000226        0.222856       0.223358     0.100249   \n",
       "\n",
       "   training_rmse  training_deviance  training_mae  training_r2  \n",
       "0       0.472076           0.222856      0.357717     0.325991  "
      ]
     },
     "metadata": {},
     "output_type": "display_data"
    },
    {
     "name": "stdout",
     "output_type": "stream",
     "text": [
      "\n",
      "Variable Importances: \n"
     ]
    },
    {
     "data": {
      "text/html": [
       "<div>\n",
       "<style scoped>\n",
       "    .dataframe tbody tr th:only-of-type {\n",
       "        vertical-align: middle;\n",
       "    }\n",
       "\n",
       "    .dataframe tbody tr th {\n",
       "        vertical-align: top;\n",
       "    }\n",
       "\n",
       "    .dataframe thead th {\n",
       "        text-align: right;\n",
       "    }\n",
       "</style>\n",
       "<table border=\"1\" class=\"dataframe\">\n",
       "  <thead>\n",
       "    <tr style=\"text-align: right;\">\n",
       "      <th></th>\n",
       "      <th>variable</th>\n",
       "      <th>relative_importance</th>\n",
       "      <th>scaled_importance</th>\n",
       "      <th>percentage</th>\n",
       "    </tr>\n",
       "  </thead>\n",
       "  <tbody>\n",
       "    <tr>\n",
       "      <th>0</th>\n",
       "      <td>GBM_2_AutoML_20210420_101446</td>\n",
       "      <td>2.586545e-01</td>\n",
       "      <td>1.000000</td>\n",
       "      <td>0.755878</td>\n",
       "    </tr>\n",
       "    <tr>\n",
       "      <th>1</th>\n",
       "      <td>GBM_1_AutoML_20210420_101446</td>\n",
       "      <td>6.868768e-02</td>\n",
       "      <td>0.265558</td>\n",
       "      <td>0.200729</td>\n",
       "    </tr>\n",
       "    <tr>\n",
       "      <th>2</th>\n",
       "      <td>GBM_5_AutoML_20210420_101446</td>\n",
       "      <td>1.095310e-02</td>\n",
       "      <td>0.042346</td>\n",
       "      <td>0.032009</td>\n",
       "    </tr>\n",
       "    <tr>\n",
       "      <th>3</th>\n",
       "      <td>GBM_3_AutoML_20210420_101446</td>\n",
       "      <td>2.682023e-03</td>\n",
       "      <td>0.010369</td>\n",
       "      <td>0.007838</td>\n",
       "    </tr>\n",
       "    <tr>\n",
       "      <th>4</th>\n",
       "      <td>DeepLearning_1_AutoML_20210420_101446</td>\n",
       "      <td>8.100116e-04</td>\n",
       "      <td>0.003132</td>\n",
       "      <td>0.002367</td>\n",
       "    </tr>\n",
       "    <tr>\n",
       "      <th>5</th>\n",
       "      <td>GLM_1_AutoML_20210420_101446</td>\n",
       "      <td>4.030019e-04</td>\n",
       "      <td>0.001558</td>\n",
       "      <td>0.001178</td>\n",
       "    </tr>\n",
       "    <tr>\n",
       "      <th>6</th>\n",
       "      <td>GBM_grid__1_AutoML_20210420_101446_model_1</td>\n",
       "      <td>3.978273e-07</td>\n",
       "      <td>0.000002</td>\n",
       "      <td>0.000001</td>\n",
       "    </tr>\n",
       "    <tr>\n",
       "      <th>7</th>\n",
       "      <td>GBM_4_AutoML_20210420_101446</td>\n",
       "      <td>0.000000e+00</td>\n",
       "      <td>0.000000</td>\n",
       "      <td>0.000000</td>\n",
       "    </tr>\n",
       "    <tr>\n",
       "      <th>8</th>\n",
       "      <td>XRT_1_AutoML_20210420_101446</td>\n",
       "      <td>0.000000e+00</td>\n",
       "      <td>0.000000</td>\n",
       "      <td>0.000000</td>\n",
       "    </tr>\n",
       "    <tr>\n",
       "      <th>9</th>\n",
       "      <td>DRF_1_AutoML_20210420_101446</td>\n",
       "      <td>0.000000e+00</td>\n",
       "      <td>0.000000</td>\n",
       "      <td>0.000000</td>\n",
       "    </tr>\n",
       "  </tbody>\n",
       "</table>\n",
       "</div>"
      ],
      "text/plain": [
       "                                     variable  relative_importance  \\\n",
       "0                GBM_2_AutoML_20210420_101446         2.586545e-01   \n",
       "1                GBM_1_AutoML_20210420_101446         6.868768e-02   \n",
       "2                GBM_5_AutoML_20210420_101446         1.095310e-02   \n",
       "3                GBM_3_AutoML_20210420_101446         2.682023e-03   \n",
       "4       DeepLearning_1_AutoML_20210420_101446         8.100116e-04   \n",
       "5                GLM_1_AutoML_20210420_101446         4.030019e-04   \n",
       "6  GBM_grid__1_AutoML_20210420_101446_model_1         3.978273e-07   \n",
       "7                GBM_4_AutoML_20210420_101446         0.000000e+00   \n",
       "8                XRT_1_AutoML_20210420_101446         0.000000e+00   \n",
       "9                DRF_1_AutoML_20210420_101446         0.000000e+00   \n",
       "\n",
       "   scaled_importance  percentage  \n",
       "0           1.000000    0.755878  \n",
       "1           0.265558    0.200729  \n",
       "2           0.042346    0.032009  \n",
       "3           0.010369    0.007838  \n",
       "4           0.003132    0.002367  \n",
       "5           0.001558    0.001178  \n",
       "6           0.000002    0.000001  \n",
       "7           0.000000    0.000000  \n",
       "8           0.000000    0.000000  \n",
       "9           0.000000    0.000000  "
      ]
     },
     "metadata": {},
     "output_type": "display_data"
    },
    {
     "data": {
      "text/plain": []
     },
     "execution_count": 147,
     "metadata": {},
     "output_type": "execute_result"
    }
   ],
   "source": [
    "# Get the Stacked Ensemble metalearner model\n",
    "metalearner = se.metalearner()\n",
    "metalearner"
   ]
  },
  {
   "cell_type": "markdown",
   "id": "06402906",
   "metadata": {},
   "source": [
    "Examine the variable importance of the metalearner (combiner) algorithm in the ensemble. This shows us how much each base learner is contributing to the ensemble. The AutoML Stacked Ensembles use the default metalearner algorithm (GLM with non-negative weights), so the variable importance of the metalearner is actually the standardized coefficient magnitudes of the GLM."
   ]
  },
  {
   "cell_type": "markdown",
   "id": "7425b332",
   "metadata": {},
   "source": [
    "The table above gives us the variable importance of the metalearner in the ensemble. The AutoML Stacked Ensembles use the default metalearner algorithm (GLM with non-negative weights), so the variable importance of the metalearner is actually the standardized coefficient magnitudes of the GLM. \n"
   ]
  },
  {
   "cell_type": "code",
   "execution_count": 148,
   "id": "4d86b390",
   "metadata": {},
   "outputs": [
    {
     "data": {
      "text/plain": [
       "{'Intercept': 2.969427791239377,\n",
       " 'GBM_2_AutoML_20210420_101446': 0.2586544863569904,\n",
       " 'GBM_1_AutoML_20210420_101446': 0.06868767525462252,\n",
       " 'GBM_3_AutoML_20210420_101446': 0.002682023475229383,\n",
       " 'GBM_grid__1_AutoML_20210420_101446_model_1': 3.978273322511274e-07,\n",
       " 'GBM_5_AutoML_20210420_101446': 0.0109531013264301,\n",
       " 'GBM_4_AutoML_20210420_101446': 0.0,\n",
       " 'XRT_1_AutoML_20210420_101446': 0.0,\n",
       " 'DRF_1_AutoML_20210420_101446': 0.0,\n",
       " 'GLM_1_AutoML_20210420_101446': 0.00040300194714048984,\n",
       " 'DeepLearning_1_AutoML_20210420_101446': 0.0008100116589489116}"
      ]
     },
     "execution_count": 148,
     "metadata": {},
     "output_type": "execute_result"
    }
   ],
   "source": [
    "metalearner.coef_norm()"
   ]
  },
  {
   "cell_type": "code",
   "execution_count": 149,
   "id": "b4160a06",
   "metadata": {},
   "outputs": [
    {
     "data": {
      "image/png": "[encoded data removed]",
      "text/plain": [
       "<Figure size 1008x720 with 1 Axes>"
      ]
     },
     "metadata": {
      "needs_background": "light"
     },
     "output_type": "display_data"
    }
   ],
   "source": [
    "metalearner.std_coef_plot()"
   ]
  },
  {
   "cell_type": "code",
   "execution_count": 125,
   "id": "d08c1586",
   "metadata": {},
   "outputs": [
    {
     "name": "stdout",
     "output_type": "stream",
     "text": [
      "Model Details\n",
      "=============\n",
      "H2OGeneralizedLinearEstimator :  Generalized Linear Modeling\n",
      "Model Key:  metalearner_AUTO_StackedEnsemble_AllModels_AutoML_20210420_101446\n",
      "\n",
      "\n",
      "GLM Model: summary\n"
     ]
    },
    {
     "data": {
      "text/html": [
       "<div>\n",
       "<style scoped>\n",
       "    .dataframe tbody tr th:only-of-type {\n",
       "        vertical-align: middle;\n",
       "    }\n",
       "\n",
       "    .dataframe tbody tr th {\n",
       "        vertical-align: top;\n",
       "    }\n",
       "\n",
       "    .dataframe thead th {\n",
       "        text-align: right;\n",
       "    }\n",
       "</style>\n",
       "<table border=\"1\" class=\"dataframe\">\n",
       "  <thead>\n",
       "    <tr style=\"text-align: right;\">\n",
       "      <th></th>\n",
       "      <th></th>\n",
       "      <th>family</th>\n",
       "      <th>link</th>\n",
       "      <th>regularization</th>\n",
       "      <th>number_of_predictors_total</th>\n",
       "      <th>number_of_active_predictors</th>\n",
       "      <th>number_of_iterations</th>\n",
       "      <th>training_frame</th>\n",
       "    </tr>\n",
       "  </thead>\n",
       "  <tbody>\n",
       "    <tr>\n",
       "      <th>0</th>\n",
       "      <td></td>\n",
       "      <td>gaussian</td>\n",
       "      <td>identity</td>\n",
       "      <td>Elastic Net (alpha = 0.5, lambda = 2.258E-4 )</td>\n",
       "      <td>10</td>\n",
       "      <td>7</td>\n",
       "      <td>1</td>\n",
       "      <td>levelone_training_StackedEnsemble_AllModels_AutoML_20210420_101446</td>\n",
       "    </tr>\n",
       "  </tbody>\n",
       "</table>\n",
       "</div>"
      ],
      "text/plain": [
       "       family      link                                 regularization  \\\n",
       "0    gaussian  identity  Elastic Net (alpha = 0.5, lambda = 2.258E-4 )   \n",
       "\n",
       "   number_of_predictors_total number_of_active_predictors  \\\n",
       "0                          10                           7   \n",
       "\n",
       "   number_of_iterations  \\\n",
       "0                     1   \n",
       "\n",
       "                                                       training_frame  \n",
       "0  levelone_training_StackedEnsemble_AllModels_AutoML_20210420_101446  "
      ]
     },
     "metadata": {},
     "output_type": "display_data"
    },
    {
     "name": "stdout",
     "output_type": "stream",
     "text": [
      "\n",
      "\n",
      "ModelMetricsRegressionGLM: glm\n",
      "** Reported on train data. **\n",
      "\n",
      "MSE: 0.22285575425627957\n",
      "RMSE: 0.47207600474529476\n",
      "MAE: 0.3577168118937625\n",
      "RMSLE: 0.12034524870031442\n",
      "R^2: 0.3259910937609637\n",
      "Mean Residual Deviance: 0.22285575425627957\n",
      "Null degrees of freedom: 3861\n",
      "Residual degrees of freedom: 3854\n",
      "Null deviance: 1276.9399854672324\n",
      "Residual deviance: 860.6689229377517\n",
      "AIC: 5180.128812717147\n",
      "\n",
      "ModelMetricsRegressionGLM: glm\n",
      "** Reported on cross-validation data. **\n",
      "\n",
      "MSE: 0.2230823259224694\n",
      "RMSE: 0.4723159174985207\n",
      "MAE: 0.35789650487089536\n",
      "RMSLE: 0.12041317556810448\n",
      "R^2: 0.32530584638448745\n",
      "Mean Residual Deviance: 0.2230823259224694\n",
      "Null degrees of freedom: 3861\n",
      "Residual degrees of freedom: 3854\n",
      "Null deviance: 1277.1043650451534\n",
      "Residual deviance: 861.5439427125768\n",
      "AIC: 5184.053213386263\n",
      "\n",
      "Cross-Validation Metrics Summary: \n"
     ]
    },
    {
     "data": {
      "text/html": [
       "<div>\n",
       "<style scoped>\n",
       "    .dataframe tbody tr th:only-of-type {\n",
       "        vertical-align: middle;\n",
       "    }\n",
       "\n",
       "    .dataframe tbody tr th {\n",
       "        vertical-align: top;\n",
       "    }\n",
       "\n",
       "    .dataframe thead th {\n",
       "        text-align: right;\n",
       "    }\n",
       "</style>\n",
       "<table border=\"1\" class=\"dataframe\">\n",
       "  <thead>\n",
       "    <tr style=\"text-align: right;\">\n",
       "      <th></th>\n",
       "      <th></th>\n",
       "      <th>mean</th>\n",
       "      <th>sd</th>\n",
       "      <th>cv_1_valid</th>\n",
       "      <th>cv_2_valid</th>\n",
       "      <th>cv_3_valid</th>\n",
       "      <th>cv_4_valid</th>\n",
       "      <th>cv_5_valid</th>\n",
       "    </tr>\n",
       "  </thead>\n",
       "  <tbody>\n",
       "    <tr>\n",
       "      <th>0</th>\n",
       "      <td>mae</td>\n",
       "      <td>0.3579374</td>\n",
       "      <td>0.01058328</td>\n",
       "      <td>0.36069974</td>\n",
       "      <td>0.36608687</td>\n",
       "      <td>0.33996028</td>\n",
       "      <td>0.35787547</td>\n",
       "      <td>0.36506465</td>\n",
       "    </tr>\n",
       "    <tr>\n",
       "      <th>1</th>\n",
       "      <td>mean_residual_deviance</td>\n",
       "      <td>0.22335783</td>\n",
       "      <td>0.019000858</td>\n",
       "      <td>0.23923838</td>\n",
       "      <td>0.22691321</td>\n",
       "      <td>0.19703366</td>\n",
       "      <td>0.21159321</td>\n",
       "      <td>0.2420107</td>\n",
       "    </tr>\n",
       "    <tr>\n",
       "      <th>2</th>\n",
       "      <td>mse</td>\n",
       "      <td>0.22335783</td>\n",
       "      <td>0.019000858</td>\n",
       "      <td>0.23923838</td>\n",
       "      <td>0.22691321</td>\n",
       "      <td>0.19703366</td>\n",
       "      <td>0.21159321</td>\n",
       "      <td>0.2420107</td>\n",
       "    </tr>\n",
       "    <tr>\n",
       "      <th>3</th>\n",
       "      <td>null_deviance</td>\n",
       "      <td>255.42087</td>\n",
       "      <td>18.944805</td>\n",
       "      <td>270.14395</td>\n",
       "      <td>279.33765</td>\n",
       "      <td>235.1926</td>\n",
       "      <td>252.05312</td>\n",
       "      <td>240.37706</td>\n",
       "    </tr>\n",
       "    <tr>\n",
       "      <th>4</th>\n",
       "      <td>r2</td>\n",
       "      <td>0.32488036</td>\n",
       "      <td>0.029596588</td>\n",
       "      <td>0.3118829</td>\n",
       "      <td>0.34107918</td>\n",
       "      <td>0.34891266</td>\n",
       "      <td>0.34385273</td>\n",
       "      <td>0.27867436</td>\n",
       "    </tr>\n",
       "    <tr>\n",
       "      <th>5</th>\n",
       "      <td>residual_deviance</td>\n",
       "      <td>172.30879</td>\n",
       "      <td>13.61599</td>\n",
       "      <td>185.88823</td>\n",
       "      <td>184.02661</td>\n",
       "      <td>153.09515</td>\n",
       "      <td>165.2543</td>\n",
       "      <td>173.27966</td>\n",
       "    </tr>\n",
       "    <tr>\n",
       "      <th>6</th>\n",
       "      <td>rmse</td>\n",
       "      <td>0.47225946</td>\n",
       "      <td>0.020274352</td>\n",
       "      <td>0.48912</td>\n",
       "      <td>0.4763541</td>\n",
       "      <td>0.44388473</td>\n",
       "      <td>0.45999262</td>\n",
       "      <td>0.49194583</td>\n",
       "    </tr>\n",
       "    <tr>\n",
       "      <th>7</th>\n",
       "      <td>rmsle</td>\n",
       "      <td>0.12039038</td>\n",
       "      <td>0.0044855876</td>\n",
       "      <td>0.123683274</td>\n",
       "      <td>0.121521294</td>\n",
       "      <td>0.11285072</td>\n",
       "      <td>0.120123595</td>\n",
       "      <td>0.12377302</td>\n",
       "    </tr>\n",
       "  </tbody>\n",
       "</table>\n",
       "</div>"
      ],
      "text/plain": [
       "                                 mean            sd   cv_1_valid   cv_2_valid  \\\n",
       "0                     mae   0.3579374    0.01058328   0.36069974   0.36608687   \n",
       "1  mean_residual_deviance  0.22335783   0.019000858   0.23923838   0.22691321   \n",
       "2                     mse  0.22335783   0.019000858   0.23923838   0.22691321   \n",
       "3           null_deviance   255.42087     18.944805    270.14395    279.33765   \n",
       "4                      r2  0.32488036   0.029596588    0.3118829   0.34107918   \n",
       "5       residual_deviance   172.30879      13.61599    185.88823    184.02661   \n",
       "6                    rmse  0.47225946   0.020274352      0.48912    0.4763541   \n",
       "7                   rmsle  0.12039038  0.0044855876  0.123683274  0.121521294   \n",
       "\n",
       "   cv_3_valid   cv_4_valid  cv_5_valid  \n",
       "0  0.33996028   0.35787547  0.36506465  \n",
       "1  0.19703366   0.21159321   0.2420107  \n",
       "2  0.19703366   0.21159321   0.2420107  \n",
       "3    235.1926    252.05312   240.37706  \n",
       "4  0.34891266   0.34385273  0.27867436  \n",
       "5   153.09515     165.2543   173.27966  \n",
       "6  0.44388473   0.45999262  0.49194583  \n",
       "7  0.11285072  0.120123595  0.12377302  "
      ]
     },
     "metadata": {},
     "output_type": "display_data"
    },
    {
     "name": "stdout",
     "output_type": "stream",
     "text": [
      "\n",
      "Scoring History: \n"
     ]
    },
    {
     "data": {
      "text/html": [
       "<div>\n",
       "<style scoped>\n",
       "    .dataframe tbody tr th:only-of-type {\n",
       "        vertical-align: middle;\n",
       "    }\n",
       "\n",
       "    .dataframe tbody tr th {\n",
       "        vertical-align: top;\n",
       "    }\n",
       "\n",
       "    .dataframe thead th {\n",
       "        text-align: right;\n",
       "    }\n",
       "</style>\n",
       "<table border=\"1\" class=\"dataframe\">\n",
       "  <thead>\n",
       "    <tr style=\"text-align: right;\">\n",
       "      <th></th>\n",
       "      <th></th>\n",
       "      <th>timestamp</th>\n",
       "      <th>duration</th>\n",
       "      <th>iterations</th>\n",
       "      <th>negative_log_likelihood</th>\n",
       "      <th>objective</th>\n",
       "      <th>alpha</th>\n",
       "      <th>lambda</th>\n",
       "      <th>deviance_train</th>\n",
       "      <th>deviance_xval</th>\n",
       "      <th>deviance_se</th>\n",
       "      <th>training_rmse</th>\n",
       "      <th>training_deviance</th>\n",
       "      <th>training_mae</th>\n",
       "      <th>training_r2</th>\n",
       "    </tr>\n",
       "  </thead>\n",
       "  <tbody>\n",
       "    <tr>\n",
       "      <th>0</th>\n",
       "      <td></td>\n",
       "      <td>2021-04-20 10:15:00</td>\n",
       "      <td>0.000 sec</td>\n",
       "      <td>1</td>\n",
       "      <td>430.334459</td>\n",
       "      <td>0.111579</td>\n",
       "      <td>0.5</td>\n",
       "      <td>0.000226</td>\n",
       "      <td>0.222856</td>\n",
       "      <td>0.223358</td>\n",
       "      <td>0.100249</td>\n",
       "      <td>0.472076</td>\n",
       "      <td>0.222856</td>\n",
       "      <td>0.357717</td>\n",
       "      <td>0.325991</td>\n",
       "    </tr>\n",
       "  </tbody>\n",
       "</table>\n",
       "</div>"
      ],
      "text/plain": [
       "               timestamp    duration  iterations  negative_log_likelihood  \\\n",
       "0    2021-04-20 10:15:00   0.000 sec           1               430.334459   \n",
       "\n",
       "   objective  alpha    lambda  deviance_train  deviance_xval  deviance_se  \\\n",
       "0   0.111579    0.5  0.000226        0.222856       0.223358     0.100249   \n",
       "\n",
       "   training_rmse  training_deviance  training_mae  training_r2  \n",
       "0       0.472076           0.222856      0.357717     0.325991  "
      ]
     },
     "metadata": {},
     "output_type": "display_data"
    },
    {
     "name": "stdout",
     "output_type": "stream",
     "text": [
      "\n",
      "Variable Importances: \n"
     ]
    },
    {
     "data": {
      "text/html": [
       "<div>\n",
       "<style scoped>\n",
       "    .dataframe tbody tr th:only-of-type {\n",
       "        vertical-align: middle;\n",
       "    }\n",
       "\n",
       "    .dataframe tbody tr th {\n",
       "        vertical-align: top;\n",
       "    }\n",
       "\n",
       "    .dataframe thead th {\n",
       "        text-align: right;\n",
       "    }\n",
       "</style>\n",
       "<table border=\"1\" class=\"dataframe\">\n",
       "  <thead>\n",
       "    <tr style=\"text-align: right;\">\n",
       "      <th></th>\n",
       "      <th>variable</th>\n",
       "      <th>relative_importance</th>\n",
       "      <th>scaled_importance</th>\n",
       "      <th>percentage</th>\n",
       "    </tr>\n",
       "  </thead>\n",
       "  <tbody>\n",
       "    <tr>\n",
       "      <th>0</th>\n",
       "      <td>GBM_2_AutoML_20210420_101446</td>\n",
       "      <td>2.586545e-01</td>\n",
       "      <td>1.000000</td>\n",
       "      <td>0.755878</td>\n",
       "    </tr>\n",
       "    <tr>\n",
       "      <th>1</th>\n",
       "      <td>GBM_1_AutoML_20210420_101446</td>\n",
       "      <td>6.868768e-02</td>\n",
       "      <td>0.265558</td>\n",
       "      <td>0.200729</td>\n",
       "    </tr>\n",
       "    <tr>\n",
       "      <th>2</th>\n",
       "      <td>GBM_5_AutoML_20210420_101446</td>\n",
       "      <td>1.095310e-02</td>\n",
       "      <td>0.042346</td>\n",
       "      <td>0.032009</td>\n",
       "    </tr>\n",
       "    <tr>\n",
       "      <th>3</th>\n",
       "      <td>GBM_3_AutoML_20210420_101446</td>\n",
       "      <td>2.682023e-03</td>\n",
       "      <td>0.010369</td>\n",
       "      <td>0.007838</td>\n",
       "    </tr>\n",
       "    <tr>\n",
       "      <th>4</th>\n",
       "      <td>DeepLearning_1_AutoML_20210420_101446</td>\n",
       "      <td>8.100116e-04</td>\n",
       "      <td>0.003132</td>\n",
       "      <td>0.002367</td>\n",
       "    </tr>\n",
       "    <tr>\n",
       "      <th>5</th>\n",
       "      <td>GLM_1_AutoML_20210420_101446</td>\n",
       "      <td>4.030019e-04</td>\n",
       "      <td>0.001558</td>\n",
       "      <td>0.001178</td>\n",
       "    </tr>\n",
       "    <tr>\n",
       "      <th>6</th>\n",
       "      <td>GBM_grid__1_AutoML_20210420_101446_model_1</td>\n",
       "      <td>3.978273e-07</td>\n",
       "      <td>0.000002</td>\n",
       "      <td>0.000001</td>\n",
       "    </tr>\n",
       "    <tr>\n",
       "      <th>7</th>\n",
       "      <td>GBM_4_AutoML_20210420_101446</td>\n",
       "      <td>0.000000e+00</td>\n",
       "      <td>0.000000</td>\n",
       "      <td>0.000000</td>\n",
       "    </tr>\n",
       "    <tr>\n",
       "      <th>8</th>\n",
       "      <td>XRT_1_AutoML_20210420_101446</td>\n",
       "      <td>0.000000e+00</td>\n",
       "      <td>0.000000</td>\n",
       "      <td>0.000000</td>\n",
       "    </tr>\n",
       "    <tr>\n",
       "      <th>9</th>\n",
       "      <td>DRF_1_AutoML_20210420_101446</td>\n",
       "      <td>0.000000e+00</td>\n",
       "      <td>0.000000</td>\n",
       "      <td>0.000000</td>\n",
       "    </tr>\n",
       "  </tbody>\n",
       "</table>\n",
       "</div>"
      ],
      "text/plain": [
       "                                     variable  relative_importance  \\\n",
       "0                GBM_2_AutoML_20210420_101446         2.586545e-01   \n",
       "1                GBM_1_AutoML_20210420_101446         6.868768e-02   \n",
       "2                GBM_5_AutoML_20210420_101446         1.095310e-02   \n",
       "3                GBM_3_AutoML_20210420_101446         2.682023e-03   \n",
       "4       DeepLearning_1_AutoML_20210420_101446         8.100116e-04   \n",
       "5                GLM_1_AutoML_20210420_101446         4.030019e-04   \n",
       "6  GBM_grid__1_AutoML_20210420_101446_model_1         3.978273e-07   \n",
       "7                GBM_4_AutoML_20210420_101446         0.000000e+00   \n",
       "8                XRT_1_AutoML_20210420_101446         0.000000e+00   \n",
       "9                DRF_1_AutoML_20210420_101446         0.000000e+00   \n",
       "\n",
       "   scaled_importance  percentage  \n",
       "0           1.000000    0.755878  \n",
       "1           0.265558    0.200729  \n",
       "2           0.042346    0.032009  \n",
       "3           0.010369    0.007838  \n",
       "4           0.003132    0.002367  \n",
       "5           0.001558    0.001178  \n",
       "6           0.000002    0.000001  \n",
       "7           0.000000    0.000000  \n",
       "8           0.000000    0.000000  \n",
       "9           0.000000    0.000000  "
      ]
     },
     "metadata": {},
     "output_type": "display_data"
    },
    {
     "data": {
      "text/plain": []
     },
     "execution_count": 125,
     "metadata": {},
     "output_type": "execute_result"
    }
   ],
   "source": [
    "h2o.get_model(model_id).metalearner()"
   ]
  },
  {
   "cell_type": "markdown",
   "id": "a8f423ad",
   "metadata": {
    "papermill": {
     "duration": 0.030956,
     "end_time": "2021-03-24T11:25:14.345344",
     "exception": false,
     "start_time": "2021-03-24T11:25:14.314388",
     "status": "completed"
    },
    "tags": []
   },
   "source": [
    "## Generating Predictions Using Leader Model\n",
    "\n",
    "We can also generate predictions on a test sample using the leader model object."
   ]
  },
  {
   "cell_type": "code",
   "execution_count": 160,
   "id": "90dd2625",
   "metadata": {},
   "outputs": [
    {
     "name": "stdout",
     "output_type": "stream",
     "text": [
      "stackedensemble prediction progress: |████████████████████████████████████| 100%\n"
     ]
    },
    {
     "data": {
      "text/html": [
       "<table>\n",
       "<thead>\n",
       "<tr><th style=\"text-align: right;\">  predict</th></tr>\n",
       "</thead>\n",
       "<tbody>\n",
       "<tr><td style=\"text-align: right;\">  3.04291</td></tr>\n",
       "<tr><td style=\"text-align: right;\">  3.33913</td></tr>\n",
       "<tr><td style=\"text-align: right;\">  3.07504</td></tr>\n",
       "<tr><td style=\"text-align: right;\">  2.75576</td></tr>\n",
       "<tr><td style=\"text-align: right;\">  2.53321</td></tr>\n",
       "<tr><td style=\"text-align: right;\">  3.15056</td></tr>\n",
       "<tr><td style=\"text-align: right;\">  3.24064</td></tr>\n",
       "<tr><td style=\"text-align: right;\">  3.64364</td></tr>\n",
       "<tr><td style=\"text-align: right;\">  2.46471</td></tr>\n",
       "<tr><td style=\"text-align: right;\">  3.31511</td></tr>\n",
       "</tbody>\n",
       "</table>"
      ]
     },
     "metadata": {},
     "output_type": "display_data"
    },
    {
     "data": {
      "text/plain": []
     },
     "execution_count": 160,
     "metadata": {},
     "output_type": "execute_result"
    }
   ],
   "source": [
    "pred = aml.predict(test_h)\n",
    "pred.head()"
   ]
  },
  {
   "cell_type": "markdown",
   "id": "cbb85276",
   "metadata": {},
   "source": [
    "This allows us to estimate the out-of-sample (test) MSE and the standard error as well."
   ]
  },
  {
   "cell_type": "code",
   "execution_count": 166,
   "id": "d38d7686",
   "metadata": {},
   "outputs": [],
   "source": [
    "pred_2 = pred.as_data_frame()\n",
    "pred_aml = pred_2.to_numpy()"
   ]
  },
  {
   "cell_type": "code",
   "execution_count": 171,
   "id": "3b5cb41a",
   "metadata": {},
   "outputs": [],
   "source": [
    "Y_test = test_h['lwage'].as_data_frame().to_numpy()"
   ]
  },
  {
   "cell_type": "code",
   "execution_count": 175,
   "id": "3b070b47",
   "metadata": {},
   "outputs": [],
   "source": [
    "import statsmodels.api as sm\n",
    "import statsmodels.formula.api as smf"
   ]
  },
  {
   "cell_type": "code",
   "execution_count": 176,
   "id": "7602a9e8",
   "metadata": {},
   "outputs": [
    {
     "data": {
      "text/plain": [
       "Coef.       0.221702\n",
       "Std.Err.    0.012870\n",
       "Name: const, dtype: float64"
      ]
     },
     "execution_count": 176,
     "metadata": {},
     "output_type": "execute_result"
    }
   ],
   "source": [
    "resid_basic = (Y_test-pred_aml)**2\n",
    "\n",
    "MSE_aml_basic = sm.OLS( resid_basic , np.ones( resid_basic.shape[0] ) ).fit().summary2().tables[1].iloc[0, 0:2]\n",
    "MSE_aml_basic"
   ]
  },
  {
   "cell_type": "markdown",
   "id": "6725164f",
   "metadata": {},
   "source": [
    "We observe both a lower MSE and a lower standard error compared to our previous results (see [here](https://www.kaggle.com/janniskueck/pm3-notebook-newdata))."
   ]
  },
  {
   "cell_type": "markdown",
   "id": "e03b4c5b",
   "metadata": {
    "jupyter": {
     "source_hidden": true
    },
    "tags": []
   },
   "source": [
    "### By using model_performance()\n",
    "If needed, the standard model_performance() method can be applied to the AutoML leader model and a test set to generate an H2O model performance object.\n",
    "\n"
   ]
  },
  {
   "cell_type": "code",
   "execution_count": 177,
   "id": "caaedabd",
   "metadata": {},
   "outputs": [
    {
     "name": "stdout",
     "output_type": "stream",
     "text": [
      "\n",
      "ModelMetricsRegressionGLM: stackedensemble\n",
      "** Reported on test data. **\n",
      "\n",
      "MSE: 0.22170242200808812\n",
      "RMSE: 0.47085286662405285\n",
      "MAE: 0.35421853036302176\n",
      "RMSLE: 0.1205506753003878\n",
      "R^2: 0.28289300402772755\n",
      "Mean Residual Deviance: 0.22170242200808812\n",
      "Null degrees of freedom: 1287\n",
      "Residual degrees of freedom: 1280\n",
      "Null deviance: 398.23902107893576\n",
      "Residual deviance: 285.5527195464175\n",
      "AIC: 1732.9176833646518\n"
     ]
    },
    {
     "data": {
      "text/plain": []
     },
     "execution_count": 177,
     "metadata": {},
     "output_type": "execute_result"
    }
   ],
   "source": [
    "perf = aml.leader.model_performance(test_h)\n",
    "perf"
   ]
  }
 ],
 "metadata": {
  "hide_input": false,
  "kernelspec": {
   "display_name": "Python 3 (ipykernel)",
   "language": "python",
   "name": "python3"
  },
  "language_info": {
   "codemirror_mode": {
    "name": "ipython",
    "version": 3
   },
   "file_extension": ".py",
   "mimetype": "text/x-python",
   "name": "python",
   "nbconvert_exporter": "python",
   "pygments_lexer": "ipython3",
   "version": "3.8.0"
  }
 },
 "nbformat": 4,
 "nbformat_minor": 5
}
