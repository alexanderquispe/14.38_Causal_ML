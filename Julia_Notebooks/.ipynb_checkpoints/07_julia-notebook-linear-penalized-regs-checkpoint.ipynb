{
 "cells": [
  {
   "cell_type": "markdown",
   "metadata": {},
   "source": [
    "* Julia code replication of:\n",
    "\" https://www.kaggle.com/victorchernozhukov/r-notebook-linear-penalized-regs \""
   ]
  },
  {
   "cell_type": "markdown",
   "metadata": {
    "papermill": {
     "duration": 0.012019,
     "end_time": "2021-02-15T11:01:41.761156",
     "exception": false,
     "start_time": "2021-02-15T11:01:41.749137",
     "status": "completed"
    },
    "tags": []
   },
   "source": [
    "\n",
    "\n",
    "This notebook contains an example for teaching.\n"
   ]
  },
  {
   "cell_type": "markdown",
   "metadata": {
    "_execution_state": "idle",
    "_uuid": "051d70d956493feee0c6d64651c6a088724dca2a",
    "papermill": {
     "duration": 0.010774,
     "end_time": "2021-02-15T11:01:41.782833",
     "exception": false,
     "start_time": "2021-02-15T11:01:41.772059",
     "status": "completed"
    },
    "tags": []
   },
   "source": [
    "# Penalized Linear Regressions: A Simulation Experiment"
   ]
  },
  {
   "cell_type": "markdown",
   "metadata": {
    "papermill": {
     "duration": 0.010616,
     "end_time": "2021-02-15T11:01:41.804126",
     "exception": false,
     "start_time": "2021-02-15T11:01:41.793510",
     "status": "completed"
    },
    "tags": []
   },
   "source": [
    "## Data Generating Process: Approximately Sparse"
   ]
  },
  {
   "cell_type": "code",
   "execution_count": 174,
   "metadata": {},
   "outputs": [],
   "source": [
    "# #Needed Packages and extra just in case\n",
    "# Pkg.add( \"GLMNet\" )\n",
    "# Pkg.add(\"Plots\")\n",
    "# Pkg.add(\"Lathe\")\n",
    "# Pkg.add(\"GLM\")\n",
    "# Pkg.add(\"StatsPlots\")\n",
    "# Pkg.add(\"MLBase\")\n",
    "# Pkg.add(\"CSV\")\n",
    "# Pkg.add(\"DataFrames\")\n",
    "# Pkg.add(\"Dates\")\n",
    "# Pkg.add(\"Plots\")\n",
    "# Pkg.add(\"Lasso\")\n",
    "# Pkg.add( \"Distributions\" )"
   ]
  },
  {
   "cell_type": "code",
   "execution_count": 175,
   "metadata": {},
   "outputs": [],
   "source": [
    "using Pkg\n",
    "using CSV\n",
    "using DataFrames\n",
    "using Dates\n",
    "using Plots\n",
    "\n",
    "# Load the installed packages\n",
    "using DataFrames\n",
    "using CSV\n",
    "using Plots\n",
    "using Lathe\n",
    "using GLM\n",
    "using Statistics\n",
    "using StatsPlots\n",
    "using MLBase\n",
    "\n",
    "using Lasso\n",
    "\n",
    "# Import functions\n",
    "using LinearAlgebra, GLM, DataFrames, Statistics, Random\n",
    "\n",
    "using Distributions\n",
    "\n",
    "using GLMNet"
   ]
  },
  {
   "cell_type": "code",
   "execution_count": 171,
   "metadata": {},
   "outputs": [
    {
     "data": {
      "text/plain": [
       "TaskLocalRNG()"
      ]
     },
     "execution_count": 171,
     "metadata": {},
     "output_type": "execute_result"
    }
   ],
   "source": [
    "Random.seed!(1234)"
   ]
  },
  {
   "cell_type": "code",
   "execution_count": 176,
   "metadata": {},
   "outputs": [
    {
     "data": {
      "image/svg+xml": [
       "<?xml version=\"1.0\" encoding=\"utf-8\"?>\n",
       "<svg xmlns=\"http://www.w3.org/2000/svg\" xmlns:xlink=\"http://www.w3.org/1999/xlink\" width=\"600\" height=\"400\" viewBox=\"0 0 2400 1600\">\n",
       "<defs>\n",
       "  <clipPath id=\"clip360\">\n",
       "    <rect x=\"0\" y=\"0\" width=\"2400\" height=\"1600\"/>\n",
       "  </clipPath>\n",
       "</defs>\n",
       "<path clip-path=\"url(#clip360)\" d=\"\n",
       "M0 1600 L2400 1600 L2400 0 L0 0  Z\n",
       "  \" fill=\"#ffffff\" fill-rule=\"evenodd\" fill-opacity=\"1\"/>\n",
       "<defs>\n",
       "  <clipPath id=\"clip361\">\n",
       "    <rect x=\"480\" y=\"0\" width=\"1681\" height=\"1600\"/>\n",
       "  </clipPath>\n",
       "</defs>\n",
       "<path clip-path=\"url(#clip360)\" d=\"\n",
       "M219.38 1423.18 L2352.76 1423.18 L2352.76 123.472 L219.38 123.472  Z\n",
       "  \" fill=\"#ffffff\" fill-rule=\"evenodd\" fill-opacity=\"1\"/>\n",
       "<defs>\n",
       "  <clipPath id=\"clip362\">\n",
       "    <rect x=\"219\" y=\"123\" width=\"2134\" height=\"1301\"/>\n",
       "  </clipPath>\n",
       "</defs>\n",
       "<polyline clip-path=\"url(#clip362)\" style=\"stroke:#000000; stroke-linecap:butt; stroke-linejoin:round; stroke-width:2; stroke-opacity:0.1; fill:none\" points=\"\n",
       "  666.229,1423.18 666.229,123.472 \n",
       "  \"/>\n",
       "<polyline clip-path=\"url(#clip362)\" style=\"stroke:#000000; stroke-linecap:butt; stroke-linejoin:round; stroke-width:2; stroke-opacity:0.1; fill:none\" points=\"\n",
       "  1182.94,1423.18 1182.94,123.472 \n",
       "  \"/>\n",
       "<polyline clip-path=\"url(#clip362)\" style=\"stroke:#000000; stroke-linecap:butt; stroke-linejoin:round; stroke-width:2; stroke-opacity:0.1; fill:none\" points=\"\n",
       "  1699.64,1423.18 1699.64,123.472 \n",
       "  \"/>\n",
       "<polyline clip-path=\"url(#clip362)\" style=\"stroke:#000000; stroke-linecap:butt; stroke-linejoin:round; stroke-width:2; stroke-opacity:0.1; fill:none\" points=\"\n",
       "  2216.35,1423.18 2216.35,123.472 \n",
       "  \"/>\n",
       "<polyline clip-path=\"url(#clip360)\" style=\"stroke:#000000; stroke-linecap:butt; stroke-linejoin:round; stroke-width:4; stroke-opacity:1; fill:none\" points=\"\n",
       "  219.38,1423.18 2352.76,1423.18 \n",
       "  \"/>\n",
       "<polyline clip-path=\"url(#clip360)\" style=\"stroke:#000000; stroke-linecap:butt; stroke-linejoin:round; stroke-width:4; stroke-opacity:1; fill:none\" points=\"\n",
       "  666.229,1423.18 666.229,1404.28 \n",
       "  \"/>\n",
       "<polyline clip-path=\"url(#clip360)\" style=\"stroke:#000000; stroke-linecap:butt; stroke-linejoin:round; stroke-width:4; stroke-opacity:1; fill:none\" points=\"\n",
       "  1182.94,1423.18 1182.94,1404.28 \n",
       "  \"/>\n",
       "<polyline clip-path=\"url(#clip360)\" style=\"stroke:#000000; stroke-linecap:butt; stroke-linejoin:round; stroke-width:4; stroke-opacity:1; fill:none\" points=\"\n",
       "  1699.64,1423.18 1699.64,1404.28 \n",
       "  \"/>\n",
       "<polyline clip-path=\"url(#clip360)\" style=\"stroke:#000000; stroke-linecap:butt; stroke-linejoin:round; stroke-width:4; stroke-opacity:1; fill:none\" points=\"\n",
       "  2216.35,1423.18 2216.35,1404.28 \n",
       "  \"/>\n",
       "<path clip-path=\"url(#clip360)\" d=\"M660.882 1481.64 L677.201 1481.64 L677.201 1485.58 L655.257 1485.58 L655.257 1481.64 Q657.919 1478.89 662.502 1474.26 Q667.109 1469.61 668.289 1468.27 Q670.534 1465.74 671.414 1464.01 Q672.317 1462.25 672.317 1460.56 Q672.317 1457.8 670.372 1456.07 Q668.451 1454.33 665.349 1454.33 Q663.15 1454.33 660.697 1455.09 Q658.266 1455.86 655.488 1457.41 L655.488 1452.69 Q658.312 1451.55 660.766 1450.97 Q663.22 1450.39 665.257 1450.39 Q670.627 1450.39 673.821 1453.08 Q677.016 1455.77 677.016 1460.26 Q677.016 1462.39 676.206 1464.31 Q675.419 1466.2 673.312 1468.8 Q672.734 1469.47 669.632 1472.69 Q666.53 1475.88 660.882 1481.64 Z\" fill=\"#000000\" fill-rule=\"evenodd\" fill-opacity=\"1\" /><path clip-path=\"url(#clip360)\" d=\"M1185.94 1455.09 L1174.14 1473.54 L1185.94 1473.54 L1185.94 1455.09 M1184.72 1451.02 L1190.6 1451.02 L1190.6 1473.54 L1195.53 1473.54 L1195.53 1477.43 L1190.6 1477.43 L1190.6 1485.58 L1185.94 1485.58 L1185.94 1477.43 L1170.34 1477.43 L1170.34 1472.92 L1184.72 1451.02 Z\" fill=\"#000000\" fill-rule=\"evenodd\" fill-opacity=\"1\" /><path clip-path=\"url(#clip360)\" d=\"M1700.05 1466.44 Q1696.9 1466.44 1695.05 1468.59 Q1693.22 1470.74 1693.22 1474.49 Q1693.22 1478.22 1695.05 1480.39 Q1696.9 1482.55 1700.05 1482.55 Q1703.19 1482.55 1705.02 1480.39 Q1706.88 1478.22 1706.88 1474.49 Q1706.88 1470.74 1705.02 1468.59 Q1703.19 1466.44 1700.05 1466.44 M1709.33 1451.78 L1709.33 1456.04 Q1707.57 1455.21 1705.76 1454.77 Q1703.98 1454.33 1702.22 1454.33 Q1697.59 1454.33 1695.14 1457.45 Q1692.71 1460.58 1692.36 1466.9 Q1693.73 1464.89 1695.79 1463.82 Q1697.85 1462.73 1700.32 1462.73 Q1705.53 1462.73 1708.54 1465.9 Q1711.57 1469.05 1711.57 1474.49 Q1711.57 1479.82 1708.43 1483.03 Q1705.28 1486.25 1700.05 1486.25 Q1694.05 1486.25 1690.88 1481.67 Q1687.71 1477.06 1687.71 1468.33 Q1687.71 1460.14 1691.6 1455.28 Q1695.49 1450.39 1702.04 1450.39 Q1703.8 1450.39 1705.58 1450.74 Q1707.38 1451.09 1709.33 1451.78 Z\" fill=\"#000000\" fill-rule=\"evenodd\" fill-opacity=\"1\" /><path clip-path=\"url(#clip360)\" d=\"M2216.35 1469.17 Q2213.01 1469.17 2211.09 1470.95 Q2209.2 1472.73 2209.2 1475.86 Q2209.2 1478.98 2211.09 1480.77 Q2213.01 1482.55 2216.35 1482.55 Q2219.68 1482.55 2221.6 1480.77 Q2223.52 1478.96 2223.52 1475.86 Q2223.52 1472.73 2221.6 1470.95 Q2219.7 1469.17 2216.35 1469.17 M2211.67 1467.18 Q2208.66 1466.44 2206.97 1464.38 Q2205.31 1462.32 2205.31 1459.35 Q2205.31 1455.21 2208.25 1452.8 Q2211.21 1450.39 2216.35 1450.39 Q2221.51 1450.39 2224.45 1452.8 Q2227.39 1455.21 2227.39 1459.35 Q2227.39 1462.32 2225.7 1464.38 Q2224.03 1466.44 2221.05 1467.18 Q2224.43 1467.96 2226.3 1470.26 Q2228.2 1472.55 2228.2 1475.86 Q2228.2 1480.88 2225.12 1483.57 Q2222.07 1486.25 2216.35 1486.25 Q2210.63 1486.25 2207.55 1483.57 Q2204.5 1480.88 2204.5 1475.86 Q2204.5 1472.55 2206.39 1470.26 Q2208.29 1467.96 2211.67 1467.18 M2209.96 1459.79 Q2209.96 1462.48 2211.63 1463.98 Q2213.32 1465.49 2216.35 1465.49 Q2219.36 1465.49 2221.05 1463.98 Q2222.76 1462.48 2222.76 1459.79 Q2222.76 1457.11 2221.05 1455.6 Q2219.36 1454.1 2216.35 1454.1 Q2213.32 1454.1 2211.63 1455.6 Q2209.96 1457.11 2209.96 1459.79 Z\" fill=\"#000000\" fill-rule=\"evenodd\" fill-opacity=\"1\" /><path clip-path=\"url(#clip360)\" d=\"M1248.22 1549.81 Q1248.22 1543.44 1245.58 1539.94 Q1242.97 1536.44 1238.23 1536.44 Q1233.52 1536.44 1230.88 1539.94 Q1228.27 1543.44 1228.27 1549.81 Q1228.27 1556.14 1230.88 1559.64 Q1233.52 1563.14 1238.23 1563.14 Q1242.97 1563.14 1245.58 1559.64 Q1248.22 1556.14 1248.22 1549.81 M1254.08 1563.62 Q1254.08 1572.72 1250.04 1577.15 Q1246 1581.6 1237.66 1581.6 Q1234.57 1581.6 1231.83 1581.13 Q1229.09 1580.68 1226.52 1579.72 L1226.52 1574.03 Q1229.09 1575.43 1231.61 1576.1 Q1234.12 1576.76 1236.73 1576.76 Q1242.49 1576.76 1245.36 1573.74 Q1248.22 1570.75 1248.22 1564.67 L1248.22 1561.77 Q1246.41 1564.92 1243.58 1566.48 Q1240.74 1568.04 1236.8 1568.04 Q1230.24 1568.04 1226.23 1563.05 Q1222.22 1558.05 1222.22 1549.81 Q1222.22 1541.53 1226.23 1536.53 Q1230.24 1531.54 1236.8 1531.54 Q1240.74 1531.54 1243.58 1533.1 Q1246.41 1534.66 1248.22 1537.81 L1248.22 1532.4 L1254.08 1532.4 L1254.08 1563.62 Z\" fill=\"#000000\" fill-rule=\"evenodd\" fill-opacity=\"1\" /><path clip-path=\"url(#clip360)\" d=\"M1280.21 1518.58 Q1275.95 1525.9 1273.88 1533.06 Q1271.81 1540.23 1271.81 1547.58 Q1271.81 1554.93 1273.88 1562.16 Q1275.98 1569.35 1280.21 1576.64 L1275.12 1576.64 Q1270.34 1569.16 1267.96 1561.93 Q1265.6 1554.71 1265.6 1547.58 Q1265.6 1540.48 1267.96 1533.29 Q1270.31 1526.09 1275.12 1518.58 L1280.21 1518.58 Z\" fill=\"#000000\" fill-rule=\"evenodd\" fill-opacity=\"1\" /><path clip-path=\"url(#clip360)\" d=\"M1289.54 1520.52 L1296.44 1520.52 L1308.25 1538.19 L1320.12 1520.52 L1327.03 1520.52 L1311.75 1543.34 L1328.05 1568.04 L1321.14 1568.04 L1307.78 1547.83 L1294.31 1568.04 L1287.37 1568.04 L1304.34 1542.68 L1289.54 1520.52 Z\" fill=\"#000000\" fill-rule=\"evenodd\" fill-opacity=\"1\" /><path clip-path=\"url(#clip360)\" d=\"M1335.31 1518.58 L1340.4 1518.58 Q1345.17 1526.09 1347.53 1533.29 Q1349.92 1540.48 1349.92 1547.58 Q1349.92 1554.71 1347.53 1561.93 Q1345.17 1569.16 1340.4 1576.64 L1335.31 1576.64 Q1339.54 1569.35 1341.61 1562.16 Q1343.71 1554.93 1343.71 1547.58 Q1343.71 1540.23 1341.61 1533.06 Q1339.54 1525.9 1335.31 1518.58 Z\" fill=\"#000000\" fill-rule=\"evenodd\" fill-opacity=\"1\" /><polyline clip-path=\"url(#clip362)\" style=\"stroke:#000000; stroke-linecap:butt; stroke-linejoin:round; stroke-width:2; stroke-opacity:0.1; fill:none\" points=\"\n",
       "  219.38,1185.15 2352.76,1185.15 \n",
       "  \"/>\n",
       "<polyline clip-path=\"url(#clip362)\" style=\"stroke:#000000; stroke-linecap:butt; stroke-linejoin:round; stroke-width:2; stroke-opacity:0.1; fill:none\" points=\"\n",
       "  219.38,890.196 2352.76,890.196 \n",
       "  \"/>\n",
       "<polyline clip-path=\"url(#clip362)\" style=\"stroke:#000000; stroke-linecap:butt; stroke-linejoin:round; stroke-width:2; stroke-opacity:0.1; fill:none\" points=\"\n",
       "  219.38,595.24 2352.76,595.24 \n",
       "  \"/>\n",
       "<polyline clip-path=\"url(#clip362)\" style=\"stroke:#000000; stroke-linecap:butt; stroke-linejoin:round; stroke-width:2; stroke-opacity:0.1; fill:none\" points=\"\n",
       "  219.38,300.284 2352.76,300.284 \n",
       "  \"/>\n",
       "<polyline clip-path=\"url(#clip360)\" style=\"stroke:#000000; stroke-linecap:butt; stroke-linejoin:round; stroke-width:4; stroke-opacity:1; fill:none\" points=\"\n",
       "  219.38,1423.18 219.38,123.472 \n",
       "  \"/>\n",
       "<polyline clip-path=\"url(#clip360)\" style=\"stroke:#000000; stroke-linecap:butt; stroke-linejoin:round; stroke-width:4; stroke-opacity:1; fill:none\" points=\"\n",
       "  219.38,1185.15 238.278,1185.15 \n",
       "  \"/>\n",
       "<polyline clip-path=\"url(#clip360)\" style=\"stroke:#000000; stroke-linecap:butt; stroke-linejoin:round; stroke-width:4; stroke-opacity:1; fill:none\" points=\"\n",
       "  219.38,890.196 238.278,890.196 \n",
       "  \"/>\n",
       "<polyline clip-path=\"url(#clip360)\" style=\"stroke:#000000; stroke-linecap:butt; stroke-linejoin:round; stroke-width:4; stroke-opacity:1; fill:none\" points=\"\n",
       "  219.38,595.24 238.278,595.24 \n",
       "  \"/>\n",
       "<polyline clip-path=\"url(#clip360)\" style=\"stroke:#000000; stroke-linecap:butt; stroke-linejoin:round; stroke-width:4; stroke-opacity:1; fill:none\" points=\"\n",
       "  219.38,300.284 238.278,300.284 \n",
       "  \"/>\n",
       "<path clip-path=\"url(#clip360)\" d=\"M126.205 1170.95 Q122.593 1170.95 120.765 1174.52 Q118.959 1178.06 118.959 1185.19 Q118.959 1192.29 120.765 1195.86 Q122.593 1199.4 126.205 1199.4 Q129.839 1199.4 131.644 1195.86 Q133.473 1192.29 133.473 1185.19 Q133.473 1178.06 131.644 1174.52 Q129.839 1170.95 126.205 1170.95 M126.205 1167.25 Q132.015 1167.25 135.07 1171.85 Q138.149 1176.44 138.149 1185.19 Q138.149 1193.91 135.07 1198.52 Q132.015 1203.1 126.205 1203.1 Q120.394 1203.1 117.316 1198.52 Q114.26 1193.91 114.26 1185.19 Q114.26 1176.44 117.316 1171.85 Q120.394 1167.25 126.205 1167.25 Z\" fill=\"#000000\" fill-rule=\"evenodd\" fill-opacity=\"1\" /><path clip-path=\"url(#clip360)\" d=\"M146.366 1196.55 L151.251 1196.55 L151.251 1202.43 L146.366 1202.43 L146.366 1196.55 Z\" fill=\"#000000\" fill-rule=\"evenodd\" fill-opacity=\"1\" /><path clip-path=\"url(#clip360)\" d=\"M171.436 1170.95 Q167.825 1170.95 165.996 1174.52 Q164.19 1178.06 164.19 1185.19 Q164.19 1192.29 165.996 1195.86 Q167.825 1199.4 171.436 1199.4 Q175.07 1199.4 176.876 1195.86 Q178.704 1192.29 178.704 1185.19 Q178.704 1178.06 176.876 1174.52 Q175.07 1170.95 171.436 1170.95 M171.436 1167.25 Q177.246 1167.25 180.301 1171.85 Q183.38 1176.44 183.38 1185.19 Q183.38 1193.91 180.301 1198.52 Q177.246 1203.1 171.436 1203.1 Q165.626 1203.1 162.547 1198.52 Q159.491 1193.91 159.491 1185.19 Q159.491 1176.44 162.547 1171.85 Q165.626 1167.25 171.436 1167.25 Z\" fill=\"#000000\" fill-rule=\"evenodd\" fill-opacity=\"1\" /><path clip-path=\"url(#clip360)\" d=\"M121.228 903.541 L137.547 903.541 L137.547 907.476 L115.603 907.476 L115.603 903.541 Q118.265 900.786 122.848 896.157 Q127.455 891.504 128.635 890.161 Q130.88 887.638 131.76 885.902 Q132.663 884.143 132.663 882.453 Q132.663 879.698 130.718 877.962 Q128.797 876.226 125.695 876.226 Q123.496 876.226 121.043 876.99 Q118.612 877.754 115.834 879.305 L115.834 874.583 Q118.658 873.449 121.112 872.87 Q123.566 872.291 125.603 872.291 Q130.973 872.291 134.167 874.976 Q137.362 877.661 137.362 882.152 Q137.362 884.282 136.552 886.203 Q135.765 888.101 133.658 890.694 Q133.08 891.365 129.978 894.583 Q126.876 897.777 121.228 903.541 Z\" fill=\"#000000\" fill-rule=\"evenodd\" fill-opacity=\"1\" /><path clip-path=\"url(#clip360)\" d=\"M147.362 901.597 L152.246 901.597 L152.246 907.476 L147.362 907.476 L147.362 901.597 Z\" fill=\"#000000\" fill-rule=\"evenodd\" fill-opacity=\"1\" /><path clip-path=\"url(#clip360)\" d=\"M162.477 872.916 L180.834 872.916 L180.834 876.851 L166.76 876.851 L166.76 885.323 Q167.778 884.976 168.797 884.814 Q169.815 884.629 170.834 884.629 Q176.621 884.629 180.001 887.8 Q183.38 890.972 183.38 896.388 Q183.38 901.967 179.908 905.069 Q176.436 908.147 170.116 908.147 Q167.94 908.147 165.672 907.777 Q163.427 907.407 161.019 906.666 L161.019 901.967 Q163.102 903.101 165.325 903.657 Q167.547 904.212 170.024 904.212 Q174.028 904.212 176.366 902.106 Q178.704 899.999 178.704 896.388 Q178.704 892.777 176.366 890.671 Q174.028 888.564 170.024 888.564 Q168.149 888.564 166.274 888.981 Q164.422 889.398 162.477 890.277 L162.477 872.916 Z\" fill=\"#000000\" fill-rule=\"evenodd\" fill-opacity=\"1\" /><path clip-path=\"url(#clip360)\" d=\"M116.251 577.96 L134.607 577.96 L134.607 581.895 L120.533 581.895 L120.533 590.367 Q121.552 590.02 122.57 589.858 Q123.589 589.673 124.607 589.673 Q130.394 589.673 133.774 592.844 Q137.154 596.015 137.154 601.432 Q137.154 607.011 133.681 610.113 Q130.209 613.191 123.89 613.191 Q121.714 613.191 119.445 612.821 Q117.2 612.45 114.793 611.71 L114.793 607.011 Q116.876 608.145 119.098 608.7 Q121.32 609.256 123.797 609.256 Q127.802 609.256 130.14 607.15 Q132.478 605.043 132.478 601.432 Q132.478 597.821 130.14 595.714 Q127.802 593.608 123.797 593.608 Q121.922 593.608 120.047 594.025 Q118.195 594.441 116.251 595.321 L116.251 577.96 Z\" fill=\"#000000\" fill-rule=\"evenodd\" fill-opacity=\"1\" /><path clip-path=\"url(#clip360)\" d=\"M146.366 606.64 L151.251 606.64 L151.251 612.52 L146.366 612.52 L146.366 606.64 Z\" fill=\"#000000\" fill-rule=\"evenodd\" fill-opacity=\"1\" /><path clip-path=\"url(#clip360)\" d=\"M171.436 581.039 Q167.825 581.039 165.996 584.603 Q164.19 588.145 164.19 595.275 Q164.19 602.381 165.996 605.946 Q167.825 609.488 171.436 609.488 Q175.07 609.488 176.876 605.946 Q178.704 602.381 178.704 595.275 Q178.704 588.145 176.876 584.603 Q175.07 581.039 171.436 581.039 M171.436 577.335 Q177.246 577.335 180.301 581.941 Q183.38 586.525 183.38 595.275 Q183.38 604.001 180.301 608.608 Q177.246 613.191 171.436 613.191 Q165.626 613.191 162.547 608.608 Q159.491 604.001 159.491 595.275 Q159.491 586.525 162.547 581.941 Q165.626 577.335 171.436 577.335 Z\" fill=\"#000000\" fill-rule=\"evenodd\" fill-opacity=\"1\" /><path clip-path=\"url(#clip360)\" d=\"M116.019 283.004 L138.242 283.004 L138.242 284.994 L125.695 317.564 L120.811 317.564 L132.617 286.939 L116.019 286.939 L116.019 283.004 Z\" fill=\"#000000\" fill-rule=\"evenodd\" fill-opacity=\"1\" /><path clip-path=\"url(#clip360)\" d=\"M147.362 311.684 L152.246 311.684 L152.246 317.564 L147.362 317.564 L147.362 311.684 Z\" fill=\"#000000\" fill-rule=\"evenodd\" fill-opacity=\"1\" /><path clip-path=\"url(#clip360)\" d=\"M162.477 283.004 L180.834 283.004 L180.834 286.939 L166.76 286.939 L166.76 295.411 Q167.778 295.064 168.797 294.902 Q169.815 294.717 170.834 294.717 Q176.621 294.717 180.001 297.888 Q183.38 301.059 183.38 306.476 Q183.38 312.054 179.908 315.156 Q176.436 318.235 170.116 318.235 Q167.94 318.235 165.672 317.865 Q163.427 317.494 161.019 316.754 L161.019 312.054 Q163.102 313.189 165.325 313.744 Q167.547 314.3 170.024 314.3 Q174.028 314.3 176.366 312.193 Q178.704 310.087 178.704 306.476 Q178.704 302.865 176.366 300.758 Q174.028 298.652 170.024 298.652 Q168.149 298.652 166.274 299.068 Q164.422 299.485 162.477 300.365 L162.477 283.004 Z\" fill=\"#000000\" fill-rule=\"evenodd\" fill-opacity=\"1\" /><path clip-path=\"url(#clip360)\" d=\"M16.4842 793.362 L16.4842 786.455 L36.0269 773.278 L16.4842 760.197 L16.4842 753.29 L41.3741 770.095 L64.0042 770.095 L64.0042 776.557 L41.3741 776.557 L16.4842 793.362 Z\" fill=\"#000000\" fill-rule=\"evenodd\" fill-opacity=\"1\" /><path clip-path=\"url(#clip360)\" d=\"M1104.57 12.096 L1113.36 12.096 L1130.13 36.9686 L1146.78 12.096 L1155.57 12.096 L1134.18 43.7741 L1134.18 72.576 L1125.96 72.576 L1125.96 43.7741 L1104.57 12.096 Z\" fill=\"#000000\" fill-rule=\"evenodd\" fill-opacity=\"1\" /><path clip-path=\"url(#clip360)\" d=\"M1184.25 27.2059 L1192.15 27.2059 L1206.33 65.2844 L1220.5 27.2059 L1228.4 27.2059 L1211.39 72.576 L1201.26 72.576 L1184.25 27.2059 Z\" fill=\"#000000\" fill-rule=\"evenodd\" fill-opacity=\"1\" /><path clip-path=\"url(#clip360)\" d=\"M1267.62 28.5427 L1267.62 35.5912 Q1264.46 33.9709 1261.05 33.1607 Q1257.65 32.3505 1254.01 32.3505 Q1248.46 32.3505 1245.66 34.0519 Q1242.91 35.7533 1242.91 39.156 Q1242.91 41.7486 1244.89 43.2475 Q1246.88 44.7058 1252.87 46.0426 L1255.42 46.6097 Q1263.36 48.3111 1266.68 51.4303 Q1270.05 54.509 1270.05 60.0587 Q1270.05 66.3781 1265.02 70.0644 Q1260.04 73.7508 1251.29 73.7508 Q1247.65 73.7508 1243.68 73.0216 Q1239.75 72.3329 1235.37 70.9151 L1235.37 63.2184 Q1239.5 65.3654 1243.51 66.4591 Q1247.52 67.5124 1251.45 67.5124 Q1256.72 67.5124 1259.55 65.73 Q1262.39 63.9071 1262.39 60.6258 Q1262.39 57.5877 1260.32 55.9673 Q1258.3 54.3469 1251.37 52.8481 L1248.78 52.2405 Q1241.85 50.7821 1238.77 47.7845 Q1235.7 44.7463 1235.7 39.4801 Q1235.7 33.0797 1240.23 29.5959 Q1244.77 26.1121 1253.11 26.1121 Q1257.25 26.1121 1260.89 26.7198 Q1264.54 27.3274 1267.62 28.5427 Z\" fill=\"#000000\" fill-rule=\"evenodd\" fill-opacity=\"1\" /><path clip-path=\"url(#clip360)\" d=\"M1338.14 49.3643 Q1338.14 41.2625 1334.78 36.8065 Q1331.46 32.3505 1325.42 32.3505 Q1319.43 32.3505 1316.06 36.8065 Q1312.74 41.2625 1312.74 49.3643 Q1312.74 57.4256 1316.06 61.8816 Q1319.43 66.3376 1325.42 66.3376 Q1331.46 66.3376 1334.78 61.8816 Q1338.14 57.4256 1338.14 49.3643 M1345.6 66.9452 Q1345.6 78.5308 1340.45 84.1616 Q1335.31 89.8329 1324.69 89.8329 Q1320.76 89.8329 1317.28 89.2252 Q1313.8 88.6581 1310.52 87.4428 L1310.52 80.1917 Q1313.8 81.9741 1317 82.8248 Q1320.2 83.6755 1323.52 83.6755 Q1330.85 83.6755 1334.5 79.8271 Q1338.14 76.0193 1338.14 68.282 L1338.14 64.5957 Q1335.83 68.6061 1332.23 70.5911 Q1328.62 72.576 1323.6 72.576 Q1315.25 72.576 1310.15 66.2161 Q1305.05 59.8562 1305.05 49.3643 Q1305.05 38.832 1310.15 32.472 Q1315.25 26.1121 1323.6 26.1121 Q1328.62 26.1121 1332.23 28.0971 Q1335.83 30.082 1338.14 34.0924 L1338.14 27.2059 L1345.6 27.2059 L1345.6 66.9452 Z\" fill=\"#000000\" fill-rule=\"evenodd\" fill-opacity=\"1\" /><path clip-path=\"url(#clip360)\" d=\"M1378.85 9.62495 Q1373.43 18.942 1370.79 28.0566 Q1368.16 37.1711 1368.16 46.5287 Q1368.16 55.8863 1370.79 65.0818 Q1373.47 74.2369 1378.85 83.5134 L1372.37 83.5134 Q1366.3 73.9938 1363.26 64.7983 Q1360.26 55.6027 1360.26 46.5287 Q1360.26 37.4952 1363.26 28.3401 Q1366.26 19.1851 1372.37 9.62495 L1378.85 9.62495 Z\" fill=\"#000000\" fill-rule=\"evenodd\" fill-opacity=\"1\" /><path clip-path=\"url(#clip360)\" d=\"M1390.72 12.096 L1399.51 12.096 L1414.54 34.5785 L1429.65 12.096 L1438.44 12.096 L1419 41.141 L1439.74 72.576 L1430.95 72.576 L1413.93 46.8528 L1396.8 72.576 L1387.97 72.576 L1409.56 40.2903 L1390.72 12.096 Z\" fill=\"#000000\" fill-rule=\"evenodd\" fill-opacity=\"1\" /><path clip-path=\"url(#clip360)\" d=\"M1448.98 9.62495 L1455.46 9.62495 Q1461.53 19.1851 1464.53 28.3401 Q1467.57 37.4952 1467.57 46.5287 Q1467.57 55.6027 1464.53 64.7983 Q1461.53 73.9938 1455.46 83.5134 L1448.98 83.5134 Q1454.36 74.2369 1457 65.0818 Q1459.67 55.8863 1459.67 46.5287 Q1459.67 37.1711 1457 28.0566 Q1454.36 18.942 1448.98 9.62495 Z\" fill=\"#000000\" fill-rule=\"evenodd\" fill-opacity=\"1\" /><circle clip-path=\"url(#clip362)\" cx=\"319.961\" cy=\"1174.96\" r=\"14\" fill=\"#009af9\" fill-rule=\"evenodd\" fill-opacity=\"1\" stroke=\"#000000\" stroke-opacity=\"1\" stroke-width=\"3.2\"/>\n",
       "<circle clip-path=\"url(#clip362)\" cx=\"872.347\" cy=\"896.646\" r=\"14\" fill=\"#009af9\" fill-rule=\"evenodd\" fill-opacity=\"1\" stroke=\"#000000\" stroke-opacity=\"1\" stroke-width=\"3.2\"/>\n",
       "<circle clip-path=\"url(#clip362)\" cx=\"1626.89\" cy=\"789.252\" r=\"14\" fill=\"#009af9\" fill-rule=\"evenodd\" fill-opacity=\"1\" stroke=\"#000000\" stroke-opacity=\"1\" stroke-width=\"3.2\"/>\n",
       "<circle clip-path=\"url(#clip362)\" cx=\"511.099\" cy=\"938.472\" r=\"14\" fill=\"#009af9\" fill-rule=\"evenodd\" fill-opacity=\"1\" stroke=\"#000000\" stroke-opacity=\"1\" stroke-width=\"3.2\"/>\n",
       "<circle clip-path=\"url(#clip362)\" cx=\"783.898\" cy=\"783.259\" r=\"14\" fill=\"#009af9\" fill-rule=\"evenodd\" fill-opacity=\"1\" stroke=\"#000000\" stroke-opacity=\"1\" stroke-width=\"3.2\"/>\n",
       "<circle clip-path=\"url(#clip362)\" cx=\"548.278\" cy=\"1185.21\" r=\"14\" fill=\"#009af9\" fill-rule=\"evenodd\" fill-opacity=\"1\" stroke=\"#000000\" stroke-opacity=\"1\" stroke-width=\"3.2\"/>\n",
       "<circle clip-path=\"url(#clip362)\" cx=\"1010.42\" cy=\"848.097\" r=\"14\" fill=\"#009af9\" fill-rule=\"evenodd\" fill-opacity=\"1\" stroke=\"#000000\" stroke-opacity=\"1\" stroke-width=\"3.2\"/>\n",
       "<circle clip-path=\"url(#clip362)\" cx=\"2058.34\" cy=\"160.256\" r=\"14\" fill=\"#009af9\" fill-rule=\"evenodd\" fill-opacity=\"1\" stroke=\"#000000\" stroke-opacity=\"1\" stroke-width=\"3.2\"/>\n",
       "<circle clip-path=\"url(#clip362)\" cx=\"1407.51\" cy=\"830.416\" r=\"14\" fill=\"#009af9\" fill-rule=\"evenodd\" fill-opacity=\"1\" stroke=\"#000000\" stroke-opacity=\"1\" stroke-width=\"3.2\"/>\n",
       "<circle clip-path=\"url(#clip362)\" cx=\"463.146\" cy=\"1263.49\" r=\"14\" fill=\"#009af9\" fill-rule=\"evenodd\" fill-opacity=\"1\" stroke=\"#000000\" stroke-opacity=\"1\" stroke-width=\"3.2\"/>\n",
       "<circle clip-path=\"url(#clip362)\" cx=\"1567.03\" cy=\"582.852\" r=\"14\" fill=\"#009af9\" fill-rule=\"evenodd\" fill-opacity=\"1\" stroke=\"#000000\" stroke-opacity=\"1\" stroke-width=\"3.2\"/>\n",
       "<circle clip-path=\"url(#clip362)\" cx=\"1300.14\" cy=\"524.923\" r=\"14\" fill=\"#009af9\" fill-rule=\"evenodd\" fill-opacity=\"1\" stroke=\"#000000\" stroke-opacity=\"1\" stroke-width=\"3.2\"/>\n",
       "<circle clip-path=\"url(#clip362)\" cx=\"714.568\" cy=\"912.856\" r=\"14\" fill=\"#009af9\" fill-rule=\"evenodd\" fill-opacity=\"1\" stroke=\"#000000\" stroke-opacity=\"1\" stroke-width=\"3.2\"/>\n",
       "<circle clip-path=\"url(#clip362)\" cx=\"358.86\" cy=\"1199.14\" r=\"14\" fill=\"#009af9\" fill-rule=\"evenodd\" fill-opacity=\"1\" stroke=\"#000000\" stroke-opacity=\"1\" stroke-width=\"3.2\"/>\n",
       "<circle clip-path=\"url(#clip362)\" cx=\"1194.38\" cy=\"679.87\" r=\"14\" fill=\"#009af9\" fill-rule=\"evenodd\" fill-opacity=\"1\" stroke=\"#000000\" stroke-opacity=\"1\" stroke-width=\"3.2\"/>\n",
       "<circle clip-path=\"url(#clip362)\" cx=\"460.149\" cy=\"1029.25\" r=\"14\" fill=\"#009af9\" fill-rule=\"evenodd\" fill-opacity=\"1\" stroke=\"#000000\" stroke-opacity=\"1\" stroke-width=\"3.2\"/>\n",
       "<circle clip-path=\"url(#clip362)\" cx=\"279.759\" cy=\"935.227\" r=\"14\" fill=\"#009af9\" fill-rule=\"evenodd\" fill-opacity=\"1\" stroke=\"#000000\" stroke-opacity=\"1\" stroke-width=\"3.2\"/>\n",
       "<circle clip-path=\"url(#clip362)\" cx=\"1642.45\" cy=\"549.248\" r=\"14\" fill=\"#009af9\" fill-rule=\"evenodd\" fill-opacity=\"1\" stroke=\"#000000\" stroke-opacity=\"1\" stroke-width=\"3.2\"/>\n",
       "<circle clip-path=\"url(#clip362)\" cx=\"1594.25\" cy=\"533.492\" r=\"14\" fill=\"#009af9\" fill-rule=\"evenodd\" fill-opacity=\"1\" stroke=\"#000000\" stroke-opacity=\"1\" stroke-width=\"3.2\"/>\n",
       "<circle clip-path=\"url(#clip362)\" cx=\"535.06\" cy=\"1131.37\" r=\"14\" fill=\"#009af9\" fill-rule=\"evenodd\" fill-opacity=\"1\" stroke=\"#000000\" stroke-opacity=\"1\" stroke-width=\"3.2\"/>\n",
       "<circle clip-path=\"url(#clip362)\" cx=\"1423.87\" cy=\"610.526\" r=\"14\" fill=\"#009af9\" fill-rule=\"evenodd\" fill-opacity=\"1\" stroke=\"#000000\" stroke-opacity=\"1\" stroke-width=\"3.2\"/>\n",
       "<circle clip-path=\"url(#clip362)\" cx=\"470.882\" cy=\"915.175\" r=\"14\" fill=\"#009af9\" fill-rule=\"evenodd\" fill-opacity=\"1\" stroke=\"#000000\" stroke-opacity=\"1\" stroke-width=\"3.2\"/>\n",
       "<circle clip-path=\"url(#clip362)\" cx=\"632.557\" cy=\"856.394\" r=\"14\" fill=\"#009af9\" fill-rule=\"evenodd\" fill-opacity=\"1\" stroke=\"#000000\" stroke-opacity=\"1\" stroke-width=\"3.2\"/>\n",
       "<circle clip-path=\"url(#clip362)\" cx=\"1019.78\" cy=\"826.512\" r=\"14\" fill=\"#009af9\" fill-rule=\"evenodd\" fill-opacity=\"1\" stroke=\"#000000\" stroke-opacity=\"1\" stroke-width=\"3.2\"/>\n",
       "<circle clip-path=\"url(#clip362)\" cx=\"367.213\" cy=\"1060.28\" r=\"14\" fill=\"#009af9\" fill-rule=\"evenodd\" fill-opacity=\"1\" stroke=\"#000000\" stroke-opacity=\"1\" stroke-width=\"3.2\"/>\n",
       "<circle clip-path=\"url(#clip362)\" cx=\"1712.74\" cy=\"576.19\" r=\"14\" fill=\"#009af9\" fill-rule=\"evenodd\" fill-opacity=\"1\" stroke=\"#000000\" stroke-opacity=\"1\" stroke-width=\"3.2\"/>\n",
       "<circle clip-path=\"url(#clip362)\" cx=\"499.206\" cy=\"741.464\" r=\"14\" fill=\"#009af9\" fill-rule=\"evenodd\" fill-opacity=\"1\" stroke=\"#000000\" stroke-opacity=\"1\" stroke-width=\"3.2\"/>\n",
       "<circle clip-path=\"url(#clip362)\" cx=\"1494.55\" cy=\"537.718\" r=\"14\" fill=\"#009af9\" fill-rule=\"evenodd\" fill-opacity=\"1\" stroke=\"#000000\" stroke-opacity=\"1\" stroke-width=\"3.2\"/>\n",
       "<circle clip-path=\"url(#clip362)\" cx=\"963.276\" cy=\"754.139\" r=\"14\" fill=\"#009af9\" fill-rule=\"evenodd\" fill-opacity=\"1\" stroke=\"#000000\" stroke-opacity=\"1\" stroke-width=\"3.2\"/>\n",
       "<circle clip-path=\"url(#clip362)\" cx=\"421.615\" cy=\"1146.28\" r=\"14\" fill=\"#009af9\" fill-rule=\"evenodd\" fill-opacity=\"1\" stroke=\"#000000\" stroke-opacity=\"1\" stroke-width=\"3.2\"/>\n",
       "<circle clip-path=\"url(#clip362)\" cx=\"812.529\" cy=\"920.639\" r=\"14\" fill=\"#009af9\" fill-rule=\"evenodd\" fill-opacity=\"1\" stroke=\"#000000\" stroke-opacity=\"1\" stroke-width=\"3.2\"/>\n",
       "<circle clip-path=\"url(#clip362)\" cx=\"2034.43\" cy=\"303.051\" r=\"14\" fill=\"#009af9\" fill-rule=\"evenodd\" fill-opacity=\"1\" stroke=\"#000000\" stroke-opacity=\"1\" stroke-width=\"3.2\"/>\n",
       "<circle clip-path=\"url(#clip362)\" cx=\"636.626\" cy=\"754.543\" r=\"14\" fill=\"#009af9\" fill-rule=\"evenodd\" fill-opacity=\"1\" stroke=\"#000000\" stroke-opacity=\"1\" stroke-width=\"3.2\"/>\n",
       "<circle clip-path=\"url(#clip362)\" cx=\"2160.86\" cy=\"350.365\" r=\"14\" fill=\"#009af9\" fill-rule=\"evenodd\" fill-opacity=\"1\" stroke=\"#000000\" stroke-opacity=\"1\" stroke-width=\"3.2\"/>\n",
       "<circle clip-path=\"url(#clip362)\" cx=\"476.279\" cy=\"935.76\" r=\"14\" fill=\"#009af9\" fill-rule=\"evenodd\" fill-opacity=\"1\" stroke=\"#000000\" stroke-opacity=\"1\" stroke-width=\"3.2\"/>\n",
       "<circle clip-path=\"url(#clip362)\" cx=\"968.033\" cy=\"1006.26\" r=\"14\" fill=\"#009af9\" fill-rule=\"evenodd\" fill-opacity=\"1\" stroke=\"#000000\" stroke-opacity=\"1\" stroke-width=\"3.2\"/>\n",
       "<circle clip-path=\"url(#clip362)\" cx=\"449.973\" cy=\"1091.7\" r=\"14\" fill=\"#009af9\" fill-rule=\"evenodd\" fill-opacity=\"1\" stroke=\"#000000\" stroke-opacity=\"1\" stroke-width=\"3.2\"/>\n",
       "<circle clip-path=\"url(#clip362)\" cx=\"395.175\" cy=\"973.417\" r=\"14\" fill=\"#009af9\" fill-rule=\"evenodd\" fill-opacity=\"1\" stroke=\"#000000\" stroke-opacity=\"1\" stroke-width=\"3.2\"/>\n",
       "<circle clip-path=\"url(#clip362)\" cx=\"467.179\" cy=\"938.758\" r=\"14\" fill=\"#009af9\" fill-rule=\"evenodd\" fill-opacity=\"1\" stroke=\"#000000\" stroke-opacity=\"1\" stroke-width=\"3.2\"/>\n",
       "<circle clip-path=\"url(#clip362)\" cx=\"631.742\" cy=\"988.001\" r=\"14\" fill=\"#009af9\" fill-rule=\"evenodd\" fill-opacity=\"1\" stroke=\"#000000\" stroke-opacity=\"1\" stroke-width=\"3.2\"/>\n",
       "<circle clip-path=\"url(#clip362)\" cx=\"541.527\" cy=\"900.124\" r=\"14\" fill=\"#009af9\" fill-rule=\"evenodd\" fill-opacity=\"1\" stroke=\"#000000\" stroke-opacity=\"1\" stroke-width=\"3.2\"/>\n",
       "<circle clip-path=\"url(#clip362)\" cx=\"515.253\" cy=\"990.253\" r=\"14\" fill=\"#009af9\" fill-rule=\"evenodd\" fill-opacity=\"1\" stroke=\"#000000\" stroke-opacity=\"1\" stroke-width=\"3.2\"/>\n",
       "<circle clip-path=\"url(#clip362)\" cx=\"501.649\" cy=\"1075.01\" r=\"14\" fill=\"#009af9\" fill-rule=\"evenodd\" fill-opacity=\"1\" stroke=\"#000000\" stroke-opacity=\"1\" stroke-width=\"3.2\"/>\n",
       "<circle clip-path=\"url(#clip362)\" cx=\"792.434\" cy=\"990.064\" r=\"14\" fill=\"#009af9\" fill-rule=\"evenodd\" fill-opacity=\"1\" stroke=\"#000000\" stroke-opacity=\"1\" stroke-width=\"3.2\"/>\n",
       "<circle clip-path=\"url(#clip362)\" cx=\"1714.34\" cy=\"406.201\" r=\"14\" fill=\"#009af9\" fill-rule=\"evenodd\" fill-opacity=\"1\" stroke=\"#000000\" stroke-opacity=\"1\" stroke-width=\"3.2\"/>\n",
       "<circle clip-path=\"url(#clip362)\" cx=\"690.045\" cy=\"923.237\" r=\"14\" fill=\"#009af9\" fill-rule=\"evenodd\" fill-opacity=\"1\" stroke=\"#000000\" stroke-opacity=\"1\" stroke-width=\"3.2\"/>\n",
       "<circle clip-path=\"url(#clip362)\" cx=\"1057.02\" cy=\"666.309\" r=\"14\" fill=\"#009af9\" fill-rule=\"evenodd\" fill-opacity=\"1\" stroke=\"#000000\" stroke-opacity=\"1\" stroke-width=\"3.2\"/>\n",
       "<circle clip-path=\"url(#clip362)\" cx=\"312.12\" cy=\"1386.4\" r=\"14\" fill=\"#009af9\" fill-rule=\"evenodd\" fill-opacity=\"1\" stroke=\"#000000\" stroke-opacity=\"1\" stroke-width=\"3.2\"/>\n",
       "<circle clip-path=\"url(#clip362)\" cx=\"574.704\" cy=\"999.39\" r=\"14\" fill=\"#009af9\" fill-rule=\"evenodd\" fill-opacity=\"1\" stroke=\"#000000\" stroke-opacity=\"1\" stroke-width=\"3.2\"/>\n",
       "<circle clip-path=\"url(#clip362)\" cx=\"1053.35\" cy=\"754.598\" r=\"14\" fill=\"#009af9\" fill-rule=\"evenodd\" fill-opacity=\"1\" stroke=\"#000000\" stroke-opacity=\"1\" stroke-width=\"3.2\"/>\n",
       "<circle clip-path=\"url(#clip362)\" cx=\"522.164\" cy=\"1189.48\" r=\"14\" fill=\"#009af9\" fill-rule=\"evenodd\" fill-opacity=\"1\" stroke=\"#000000\" stroke-opacity=\"1\" stroke-width=\"3.2\"/>\n",
       "<circle clip-path=\"url(#clip362)\" cx=\"574.295\" cy=\"1141.89\" r=\"14\" fill=\"#009af9\" fill-rule=\"evenodd\" fill-opacity=\"1\" stroke=\"#000000\" stroke-opacity=\"1\" stroke-width=\"3.2\"/>\n",
       "<circle clip-path=\"url(#clip362)\" cx=\"455.818\" cy=\"879.026\" r=\"14\" fill=\"#009af9\" fill-rule=\"evenodd\" fill-opacity=\"1\" stroke=\"#000000\" stroke-opacity=\"1\" stroke-width=\"3.2\"/>\n",
       "<circle clip-path=\"url(#clip362)\" cx=\"308.826\" cy=\"1129.43\" r=\"14\" fill=\"#009af9\" fill-rule=\"evenodd\" fill-opacity=\"1\" stroke=\"#000000\" stroke-opacity=\"1\" stroke-width=\"3.2\"/>\n",
       "<circle clip-path=\"url(#clip362)\" cx=\"610.914\" cy=\"1086.39\" r=\"14\" fill=\"#009af9\" fill-rule=\"evenodd\" fill-opacity=\"1\" stroke=\"#000000\" stroke-opacity=\"1\" stroke-width=\"3.2\"/>\n",
       "<circle clip-path=\"url(#clip362)\" cx=\"937.874\" cy=\"787.174\" r=\"14\" fill=\"#009af9\" fill-rule=\"evenodd\" fill-opacity=\"1\" stroke=\"#000000\" stroke-opacity=\"1\" stroke-width=\"3.2\"/>\n",
       "<circle clip-path=\"url(#clip362)\" cx=\"617.168\" cy=\"1006.27\" r=\"14\" fill=\"#009af9\" fill-rule=\"evenodd\" fill-opacity=\"1\" stroke=\"#000000\" stroke-opacity=\"1\" stroke-width=\"3.2\"/>\n",
       "<circle clip-path=\"url(#clip362)\" cx=\"671.487\" cy=\"967.086\" r=\"14\" fill=\"#009af9\" fill-rule=\"evenodd\" fill-opacity=\"1\" stroke=\"#000000\" stroke-opacity=\"1\" stroke-width=\"3.2\"/>\n",
       "<circle clip-path=\"url(#clip362)\" cx=\"2196.21\" cy=\"256.289\" r=\"14\" fill=\"#009af9\" fill-rule=\"evenodd\" fill-opacity=\"1\" stroke=\"#000000\" stroke-opacity=\"1\" stroke-width=\"3.2\"/>\n",
       "<circle clip-path=\"url(#clip362)\" cx=\"483.909\" cy=\"1192.91\" r=\"14\" fill=\"#009af9\" fill-rule=\"evenodd\" fill-opacity=\"1\" stroke=\"#000000\" stroke-opacity=\"1\" stroke-width=\"3.2\"/>\n",
       "<circle clip-path=\"url(#clip362)\" cx=\"1015.66\" cy=\"788.151\" r=\"14\" fill=\"#009af9\" fill-rule=\"evenodd\" fill-opacity=\"1\" stroke=\"#000000\" stroke-opacity=\"1\" stroke-width=\"3.2\"/>\n",
       "<circle clip-path=\"url(#clip362)\" cx=\"2096.27\" cy=\"436.843\" r=\"14\" fill=\"#009af9\" fill-rule=\"evenodd\" fill-opacity=\"1\" stroke=\"#000000\" stroke-opacity=\"1\" stroke-width=\"3.2\"/>\n",
       "<circle clip-path=\"url(#clip362)\" cx=\"519.23\" cy=\"1212.84\" r=\"14\" fill=\"#009af9\" fill-rule=\"evenodd\" fill-opacity=\"1\" stroke=\"#000000\" stroke-opacity=\"1\" stroke-width=\"3.2\"/>\n",
       "<circle clip-path=\"url(#clip362)\" cx=\"373.582\" cy=\"1089.92\" r=\"14\" fill=\"#009af9\" fill-rule=\"evenodd\" fill-opacity=\"1\" stroke=\"#000000\" stroke-opacity=\"1\" stroke-width=\"3.2\"/>\n",
       "<circle clip-path=\"url(#clip362)\" cx=\"658.669\" cy=\"979.482\" r=\"14\" fill=\"#009af9\" fill-rule=\"evenodd\" fill-opacity=\"1\" stroke=\"#000000\" stroke-opacity=\"1\" stroke-width=\"3.2\"/>\n",
       "<circle clip-path=\"url(#clip362)\" cx=\"474.722\" cy=\"918.208\" r=\"14\" fill=\"#009af9\" fill-rule=\"evenodd\" fill-opacity=\"1\" stroke=\"#000000\" stroke-opacity=\"1\" stroke-width=\"3.2\"/>\n",
       "<circle clip-path=\"url(#clip362)\" cx=\"1177.36\" cy=\"653.725\" r=\"14\" fill=\"#009af9\" fill-rule=\"evenodd\" fill-opacity=\"1\" stroke=\"#000000\" stroke-opacity=\"1\" stroke-width=\"3.2\"/>\n",
       "<circle clip-path=\"url(#clip362)\" cx=\"286.492\" cy=\"1047.85\" r=\"14\" fill=\"#009af9\" fill-rule=\"evenodd\" fill-opacity=\"1\" stroke=\"#000000\" stroke-opacity=\"1\" stroke-width=\"3.2\"/>\n",
       "<circle clip-path=\"url(#clip362)\" cx=\"598.449\" cy=\"1022.56\" r=\"14\" fill=\"#009af9\" fill-rule=\"evenodd\" fill-opacity=\"1\" stroke=\"#000000\" stroke-opacity=\"1\" stroke-width=\"3.2\"/>\n",
       "<circle clip-path=\"url(#clip362)\" cx=\"452.9\" cy=\"1107.56\" r=\"14\" fill=\"#009af9\" fill-rule=\"evenodd\" fill-opacity=\"1\" stroke=\"#000000\" stroke-opacity=\"1\" stroke-width=\"3.2\"/>\n",
       "<circle clip-path=\"url(#clip362)\" cx=\"1374.78\" cy=\"585.14\" r=\"14\" fill=\"#009af9\" fill-rule=\"evenodd\" fill-opacity=\"1\" stroke=\"#000000\" stroke-opacity=\"1\" stroke-width=\"3.2\"/>\n",
       "<circle clip-path=\"url(#clip362)\" cx=\"322.26\" cy=\"1055.09\" r=\"14\" fill=\"#009af9\" fill-rule=\"evenodd\" fill-opacity=\"1\" stroke=\"#000000\" stroke-opacity=\"1\" stroke-width=\"3.2\"/>\n",
       "<circle clip-path=\"url(#clip362)\" cx=\"610.974\" cy=\"889.909\" r=\"14\" fill=\"#009af9\" fill-rule=\"evenodd\" fill-opacity=\"1\" stroke=\"#000000\" stroke-opacity=\"1\" stroke-width=\"3.2\"/>\n",
       "<circle clip-path=\"url(#clip362)\" cx=\"1385.8\" cy=\"656.825\" r=\"14\" fill=\"#009af9\" fill-rule=\"evenodd\" fill-opacity=\"1\" stroke=\"#000000\" stroke-opacity=\"1\" stroke-width=\"3.2\"/>\n",
       "<circle clip-path=\"url(#clip362)\" cx=\"299.823\" cy=\"964.367\" r=\"14\" fill=\"#009af9\" fill-rule=\"evenodd\" fill-opacity=\"1\" stroke=\"#000000\" stroke-opacity=\"1\" stroke-width=\"3.2\"/>\n",
       "<circle clip-path=\"url(#clip362)\" cx=\"741.151\" cy=\"882.667\" r=\"14\" fill=\"#009af9\" fill-rule=\"evenodd\" fill-opacity=\"1\" stroke=\"#000000\" stroke-opacity=\"1\" stroke-width=\"3.2\"/>\n",
       "<circle clip-path=\"url(#clip362)\" cx=\"506.196\" cy=\"964.784\" r=\"14\" fill=\"#009af9\" fill-rule=\"evenodd\" fill-opacity=\"1\" stroke=\"#000000\" stroke-opacity=\"1\" stroke-width=\"3.2\"/>\n",
       "<circle clip-path=\"url(#clip362)\" cx=\"1225.69\" cy=\"842.271\" r=\"14\" fill=\"#009af9\" fill-rule=\"evenodd\" fill-opacity=\"1\" stroke=\"#000000\" stroke-opacity=\"1\" stroke-width=\"3.2\"/>\n",
       "<circle clip-path=\"url(#clip362)\" cx=\"486.9\" cy=\"981.323\" r=\"14\" fill=\"#009af9\" fill-rule=\"evenodd\" fill-opacity=\"1\" stroke=\"#000000\" stroke-opacity=\"1\" stroke-width=\"3.2\"/>\n",
       "<circle clip-path=\"url(#clip362)\" cx=\"632.631\" cy=\"723.969\" r=\"14\" fill=\"#009af9\" fill-rule=\"evenodd\" fill-opacity=\"1\" stroke=\"#000000\" stroke-opacity=\"1\" stroke-width=\"3.2\"/>\n",
       "<circle clip-path=\"url(#clip362)\" cx=\"1116.75\" cy=\"730.725\" r=\"14\" fill=\"#009af9\" fill-rule=\"evenodd\" fill-opacity=\"1\" stroke=\"#000000\" stroke-opacity=\"1\" stroke-width=\"3.2\"/>\n",
       "<circle clip-path=\"url(#clip362)\" cx=\"2028.74\" cy=\"361.473\" r=\"14\" fill=\"#009af9\" fill-rule=\"evenodd\" fill-opacity=\"1\" stroke=\"#000000\" stroke-opacity=\"1\" stroke-width=\"3.2\"/>\n",
       "<circle clip-path=\"url(#clip362)\" cx=\"1271.44\" cy=\"668.474\" r=\"14\" fill=\"#009af9\" fill-rule=\"evenodd\" fill-opacity=\"1\" stroke=\"#000000\" stroke-opacity=\"1\" stroke-width=\"3.2\"/>\n",
       "<circle clip-path=\"url(#clip362)\" cx=\"1767.78\" cy=\"429.067\" r=\"14\" fill=\"#009af9\" fill-rule=\"evenodd\" fill-opacity=\"1\" stroke=\"#000000\" stroke-opacity=\"1\" stroke-width=\"3.2\"/>\n",
       "<circle clip-path=\"url(#clip362)\" cx=\"1307.5\" cy=\"600.506\" r=\"14\" fill=\"#009af9\" fill-rule=\"evenodd\" fill-opacity=\"1\" stroke=\"#000000\" stroke-opacity=\"1\" stroke-width=\"3.2\"/>\n",
       "<circle clip-path=\"url(#clip362)\" cx=\"679.106\" cy=\"843.833\" r=\"14\" fill=\"#009af9\" fill-rule=\"evenodd\" fill-opacity=\"1\" stroke=\"#000000\" stroke-opacity=\"1\" stroke-width=\"3.2\"/>\n",
       "<circle clip-path=\"url(#clip362)\" cx=\"321.696\" cy=\"1131.73\" r=\"14\" fill=\"#009af9\" fill-rule=\"evenodd\" fill-opacity=\"1\" stroke=\"#000000\" stroke-opacity=\"1\" stroke-width=\"3.2\"/>\n",
       "<circle clip-path=\"url(#clip362)\" cx=\"546.367\" cy=\"847.453\" r=\"14\" fill=\"#009af9\" fill-rule=\"evenodd\" fill-opacity=\"1\" stroke=\"#000000\" stroke-opacity=\"1\" stroke-width=\"3.2\"/>\n",
       "<circle clip-path=\"url(#clip362)\" cx=\"2292.38\" cy=\"170.853\" r=\"14\" fill=\"#009af9\" fill-rule=\"evenodd\" fill-opacity=\"1\" stroke=\"#000000\" stroke-opacity=\"1\" stroke-width=\"3.2\"/>\n",
       "<circle clip-path=\"url(#clip362)\" cx=\"708.694\" cy=\"837.212\" r=\"14\" fill=\"#009af9\" fill-rule=\"evenodd\" fill-opacity=\"1\" stroke=\"#000000\" stroke-opacity=\"1\" stroke-width=\"3.2\"/>\n",
       "<circle clip-path=\"url(#clip362)\" cx=\"472.465\" cy=\"1085.52\" r=\"14\" fill=\"#009af9\" fill-rule=\"evenodd\" fill-opacity=\"1\" stroke=\"#000000\" stroke-opacity=\"1\" stroke-width=\"3.2\"/>\n",
       "<circle clip-path=\"url(#clip362)\" cx=\"615.718\" cy=\"967.939\" r=\"14\" fill=\"#009af9\" fill-rule=\"evenodd\" fill-opacity=\"1\" stroke=\"#000000\" stroke-opacity=\"1\" stroke-width=\"3.2\"/>\n",
       "<circle clip-path=\"url(#clip362)\" cx=\"439.31\" cy=\"1014.66\" r=\"14\" fill=\"#009af9\" fill-rule=\"evenodd\" fill-opacity=\"1\" stroke=\"#000000\" stroke-opacity=\"1\" stroke-width=\"3.2\"/>\n",
       "<circle clip-path=\"url(#clip362)\" cx=\"764.42\" cy=\"1163.97\" r=\"14\" fill=\"#009af9\" fill-rule=\"evenodd\" fill-opacity=\"1\" stroke=\"#000000\" stroke-opacity=\"1\" stroke-width=\"3.2\"/>\n",
       "<circle clip-path=\"url(#clip362)\" cx=\"558.54\" cy=\"941.208\" r=\"14\" fill=\"#009af9\" fill-rule=\"evenodd\" fill-opacity=\"1\" stroke=\"#000000\" stroke-opacity=\"1\" stroke-width=\"3.2\"/>\n",
       "<circle clip-path=\"url(#clip362)\" cx=\"1659.52\" cy=\"615.788\" r=\"14\" fill=\"#009af9\" fill-rule=\"evenodd\" fill-opacity=\"1\" stroke=\"#000000\" stroke-opacity=\"1\" stroke-width=\"3.2\"/>\n",
       "<circle clip-path=\"url(#clip362)\" cx=\"304.867\" cy=\"983.912\" r=\"14\" fill=\"#009af9\" fill-rule=\"evenodd\" fill-opacity=\"1\" stroke=\"#000000\" stroke-opacity=\"1\" stroke-width=\"3.2\"/>\n",
       "<circle clip-path=\"url(#clip362)\" cx=\"434.798\" cy=\"1135.44\" r=\"14\" fill=\"#009af9\" fill-rule=\"evenodd\" fill-opacity=\"1\" stroke=\"#000000\" stroke-opacity=\"1\" stroke-width=\"3.2\"/>\n",
       "<circle clip-path=\"url(#clip362)\" cx=\"1398.94\" cy=\"663.975\" r=\"14\" fill=\"#009af9\" fill-rule=\"evenodd\" fill-opacity=\"1\" stroke=\"#000000\" stroke-opacity=\"1\" stroke-width=\"3.2\"/>\n",
       "<circle clip-path=\"url(#clip362)\" cx=\"670.67\" cy=\"1033.62\" r=\"14\" fill=\"#009af9\" fill-rule=\"evenodd\" fill-opacity=\"1\" stroke=\"#000000\" stroke-opacity=\"1\" stroke-width=\"3.2\"/>\n",
       "</svg>\n"
      ]
     },
     "metadata": {},
     "output_type": "display_data"
    },
    {
     "name": "stdout",
     "output_type": "stream",
     "text": [
      "theoretical R2:0.9116449856603569"
     ]
    }
   ],
   "source": [
    "n = 100\n",
    "p = 400\n",
    "Z = rand( Uniform( 0, 1 ), n  ) .- 0.5\n",
    "W = reshape( rand( Uniform( 0, 1 ), n * p  ), n, p )\n",
    "\n",
    "beta = ( 1 ./ range( 1, p, step = 1 ) ) .^ 2\n",
    "\n",
    "gX = exp.( Z .* 4  ) + W * beta\n",
    "\n",
    "X = hcat( Z, Z .^ 2, Z .^ 3, W )\n",
    "\n",
    "mean = 0\n",
    "sd = 1\n",
    "\n",
    "Y = gX + randn( n )\n",
    "\n",
    "print( \"theoretical R2:\", var(gX) / var( Y ) )\n",
    "\n",
    "plt = plot( gX, Y, \n",
    "    seriestype = :scatter, \n",
    "    title = \"Y vs g(X)\",\n",
    "    label = \"\", \n",
    "    lw = 3)\n",
    "xlabel!( \"g(X)\" )\n",
    "ylabel!( \"Y\" )\n",
    "display( plt )\n"
   ]
  },
  {
   "cell_type": "markdown",
   "metadata": {
    "papermill": {
     "duration": 0.013571,
     "end_time": "2021-02-15T11:01:42.446308",
     "exception": false,
     "start_time": "2021-02-15T11:01:42.432737",
     "status": "completed"
    },
    "tags": []
   },
   "source": [
    "We use package Glmnet to carry out predictions using cross-validated lasso, ridge, and elastic net"
   ]
  },
  {
   "cell_type": "code",
   "execution_count": null,
   "metadata": {},
   "outputs": [],
   "source": [
    "fit_lasso_cv = glmnetcv(X, Y, alpha = 1)\n",
    "fit_ridge   = glmnetcv(X, Y, alpha=0)\n",
    "fit_elnet   = glmnetcv(X, Y, alpha=.5)\n",
    "\n",
    "yhat_lasso_cv = GLMNet.predict( fit_lasso_cv, X )\n",
    "yhat_ridge = GLMNet.predict( fit_ridge, X )\n",
    "yhat_elnet = GLMNet.predict( fit_elnet, X )\n",
    "\n",
    "data = DataFrame( lasso_cv = ( gX - yhat_lasso_cv ) .^ 2, \n",
    "                  ridge = ( gX - yhat_ridge ) .^ 2, \n",
    "                elnet = ( gX - yhat_elnet ) .^ 2 )\n",
    "\n",
    "lasso_mse_fit = fit( LinearModel, @formula( lasso_cv ~ 1 ), data )\n",
    "ridge_mse_fit = fit( LinearModel, @formula( ridge ~ 1 ), data )\n",
    "elnet_mse_fit = fit( LinearModel, @formula( elnet ~ 1 ), data )\n",
    "\n",
    "MSE_lasso_cv  = [ GLM.coef( lasso_mse_fit )[ 1 ], stderror( lasso_mse_fit )[1] ]\n",
    "MSE_ridge  = [ GLM.coef( ridge_mse_fit )[ 1 ], stderror( ridge_mse_fit )[1] ]\n",
    "MSE_elnet  = [ GLM.coef( elnet_mse_fit )[ 1 ], stderror( elnet_mse_fit )[1] ]"
   ]
  },
  {
   "cell_type": "markdown",
   "metadata": {
    "papermill": {
     "duration": 0.01429,
     "end_time": "2021-02-15T11:01:45.388902",
     "exception": false,
     "start_time": "2021-02-15T11:01:45.374612",
     "status": "completed"
    },
    "tags": []
   },
   "source": [
    "Here we compute the lasso and ols post lasso using plug-in choices for penalty levels, using package hdm"
   ]
  },
  {
   "cell_type": "code",
   "execution_count": null,
   "metadata": {},
   "outputs": [],
   "source": []
  },
  {
   "cell_type": "markdown",
   "metadata": {
    "papermill": {
     "duration": 0.02899,
     "end_time": "2021-02-15T11:01:56.880825",
     "exception": false,
     "start_time": "2021-02-15T11:01:56.851835",
     "status": "completed"
    },
    "tags": []
   },
   "source": [
    "Next we code up lava, which alternates the fitting of lasso and ridge"
   ]
  },
  {
   "cell_type": "code",
   "execution_count": null,
   "metadata": {},
   "outputs": [],
   "source": []
  },
  {
   "cell_type": "markdown",
   "metadata": {},
   "source": [
    "There is no index in DataFrames in Julia. [Explanation here](https://stackoverflow.com/questions/64689023/is-it-possible-to-set-a-chosen-column-as-index-in-a-julia-dataframe)"
   ]
  },
  {
   "cell_type": "code",
   "execution_count": 237,
   "metadata": {},
   "outputs": [
    {
     "name": "stderr",
     "output_type": "stream",
     "text": [
      "\u001b[32m\u001b[1m   Resolving\u001b[22m\u001b[39m package versions...\n",
      "\u001b[32m\u001b[1m    Updating\u001b[22m\u001b[39m `C:\\Users\\Anzony\\.julia\\environments\\v1.7\\Project.toml`\n",
      " \u001b[90m [23fbe1c1] \u001b[39m\u001b[92m+ Latexify v0.15.12\u001b[39m\n",
      "\u001b[32m\u001b[1m  No Changes\u001b[22m\u001b[39m to `C:\\Users\\Anzony\\.julia\\environments\\v1.7\\Manifest.toml`\n"
     ]
    }
   ],
   "source": [
    "Pkg.add( \"Latexify\" )"
   ]
  },
  {
   "cell_type": "code",
   "execution_count": 238,
   "metadata": {},
   "outputs": [],
   "source": [
    "using Latexify"
   ]
  },
  {
   "cell_type": "code",
   "execution_count": 180,
   "metadata": {},
   "outputs": [
    {
     "data": {
      "text/plain": [
       "6×2 Matrix{Float64}:\n",
       " 0.0  0.0\n",
       " 0.0  0.0\n",
       " 0.0  0.0\n",
       " 0.0  0.0\n",
       " 0.0  0.0\n",
       " 0.0  0.0"
      ]
     },
     "execution_count": 180,
     "metadata": {},
     "output_type": "execute_result"
    }
   ],
   "source": [
    "table = zeros( Float64, 6, 2 )\n",
    "table[1,1:2] = MSE_lasso_cv\n",
    "table[2,1:2] = MSE_ridge\n",
    "table[3,1:2] = MSE_elnet\n",
    "table[4,1:2] = MSE_lasso\n",
    "table[5,1:2] = MSE_lasso_post\n",
    "table[6,1:2] = MSE_lava\n",
    "\n",
    "df = DataFrame( hcat( [ \"Cross-Validated Lasso\", \n",
    "                        \"Cross-Validated ridge\", \n",
    "                        \"Cross-Validated elnet\",\n",
    "                        \"Lasso\", \n",
    "                        \"Post-Lasso\",\"Lava\" ], table \n",
    "                    ) , \n",
    "                [ \"Model\", \"MSA\", \"S.E. for MSA\" ] )\n"
   ]
  },
  {
   "cell_type": "code",
   "execution_count": 245,
   "metadata": {},
   "outputs": [],
   "source": [
    "Latexify.set_default(; starred=true)"
   ]
  },
  {
   "cell_type": "markdown",
   "metadata": {},
   "source": [
    "AssertionError: latexify does not support objects of type DataFrame."
   ]
  },
  {
   "cell_type": "code",
   "execution_count": 268,
   "metadata": {},
   "outputs": [
    {
     "ename": "LoadError",
     "evalue": "AssertionError: latexify does not support objects of type DataFrame.",
     "output_type": "error",
     "traceback": [
      "AssertionError: latexify does not support objects of type DataFrame.",
      "",
      "Stacktrace:",
      " [1] _latexraw(args::DataFrame; kwargs::Base.Pairs{Symbol, Any, Tuple{Symbol, Symbol}, NamedTuple{(:env, :starred), Tuple{Symbol, Bool}}})",
      "   @ Latexify C:\\Users\\Anzony\\.julia\\packages\\Latexify\\v4lfi\\src\\latexraw.jl:109",
      " [2] process_latexify(args::DataFrame; kwargs::Base.Pairs{Symbol, Any, Tuple{Symbol, Symbol}, NamedTuple{(:env, :starred), Tuple{Symbol, Bool}}})",
      "   @ Latexify C:\\Users\\Anzony\\.julia\\packages\\Latexify\\v4lfi\\src\\latexify_function.jl:25",
      " [3] latexify(args::DataFrame; kwargs::Base.Pairs{Symbol, Symbol, Tuple{Symbol}, NamedTuple{(:env,), Tuple{Symbol}}})",
      "   @ Latexify C:\\Users\\Anzony\\.julia\\packages\\Latexify\\v4lfi\\src\\latexify_function.jl:3",
      " [4] top-level scope",
      "   @ In[268]:1",
      " [5] eval",
      "   @ .\\boot.jl:373 [inlined]",
      " [6] include_string(mapexpr::typeof(REPL.softscope), mod::Module, code::String, filename::String)",
      "   @ Base .\\loading.jl:1196"
     ]
    }
   ],
   "source": [
    "latexify( df , env= :raw )|> print"
   ]
  },
  {
   "cell_type": "code",
   "execution_count": 228,
   "metadata": {},
   "outputs": [
    {
     "data": {
      "text/html": [
       "<div class=\"data-frame\"><p>6 rows × 5 columns</p><table class=\"data-frame\"><thead><tr><th></th><th>grp</th><th>x</th><th>y</th><th>z</th><th>id</th></tr><tr><th></th><th title=\"Int64\">Int64</th><th title=\"Int64\">Int64</th><th title=\"Int64\">Int64</th><th title=\"Union{Missing, Int64}\">Int64?</th><th title=\"Char\">Char</th></tr></thead><tbody><tr><th>1</th><td>1</td><td>6</td><td>4</td><td>3</td><td>a</td></tr><tr><th>2</th><td>2</td><td>5</td><td>5</td><td>4</td><td>b</td></tr><tr><th>3</th><td>1</td><td>4</td><td>6</td><td>5</td><td>c</td></tr><tr><th>4</th><td>2</td><td>3</td><td>7</td><td>6</td><td>d</td></tr><tr><th>5</th><td>1</td><td>2</td><td>8</td><td>7</td><td>e</td></tr><tr><th>6</th><td>2</td><td>1</td><td>9</td><td><em>missing</em></td><td>f</td></tr></tbody></table></div>"
      ],
      "text/latex": [
       "\\begin{tabular}{r|ccccc}\n",
       "\t& grp & x & y & z & id\\\\\n",
       "\t\\hline\n",
       "\t& Int64 & Int64 & Int64 & Int64? & Char\\\\\n",
       "\t\\hline\n",
       "\t1 & 1 & 6 & 4 & 3 & a \\\\\n",
       "\t2 & 2 & 5 & 5 & 4 & b \\\\\n",
       "\t3 & 1 & 4 & 6 & 5 & c \\\\\n",
       "\t4 & 2 & 3 & 7 & 6 & d \\\\\n",
       "\t5 & 1 & 2 & 8 & 7 & e \\\\\n",
       "\t6 & 2 & 1 & 9 & \\emph{missing} & f \\\\\n",
       "\\end{tabular}\n"
      ],
      "text/plain": [
       "\u001b[1m6×5 DataFrame\u001b[0m\n",
       "\u001b[1m Row \u001b[0m│\u001b[1m grp   \u001b[0m\u001b[1m x     \u001b[0m\u001b[1m y     \u001b[0m\u001b[1m z       \u001b[0m\u001b[1m id   \u001b[0m\n",
       "\u001b[1m     \u001b[0m│\u001b[90m Int64 \u001b[0m\u001b[90m Int64 \u001b[0m\u001b[90m Int64 \u001b[0m\u001b[90m Int64?  \u001b[0m\u001b[90m Char \u001b[0m\n",
       "─────┼────────────────────────────────────\n",
       "   1 │     1      6      4        3  a\n",
       "   2 │     2      5      5        4  b\n",
       "   3 │     1      4      6        5  c\n",
       "   4 │     2      3      7        6  d\n",
       "   5 │     1      2      8        7  e\n",
       "   6 │     2      1      9 \u001b[90m missing \u001b[0m f"
      ]
     },
     "execution_count": 228,
     "metadata": {},
     "output_type": "execute_result"
    }
   ],
   "source": [
    "DataFrame(grp=repeat(1:2, 3), x=6:-1:1, y=4:9, z=[3:7; missing], id='a':'f')"
   ]
  },
  {
   "cell_type": "code",
   "execution_count": 227,
   "metadata": {},
   "outputs": [
    {
     "data": {
      "text/html": [
       "# 0 methods:<ul></ul>"
      ],
      "text/plain": [
       "# 0 methods:"
      ]
     },
     "execution_count": 227,
     "metadata": {},
     "output_type": "execute_result"
    }
   ],
   "source": [
    "methods( df )"
   ]
  },
  {
   "cell_type": "code",
   "execution_count": null,
   "metadata": {},
   "outputs": [],
   "source": []
  },
  {
   "cell_type": "code",
   "execution_count": null,
   "metadata": {},
   "outputs": [],
   "source": []
  },
  {
   "cell_type": "code",
   "execution_count": null,
   "metadata": {},
   "outputs": [],
   "source": []
  },
  {
   "cell_type": "code",
   "execution_count": null,
   "metadata": {},
   "outputs": [],
   "source": []
  }
 ],
 "metadata": {
  "hide_input": false,
  "kernelspec": {
   "display_name": "Julia 1.7.3",
   "language": "julia",
   "name": "julia-1.7"
  },
  "language_info": {
   "file_extension": ".jl",
   "mimetype": "application/julia",
   "name": "julia",
   "version": "1.7.3"
  }
 },
 "nbformat": 4,
 "nbformat_minor": 4
}
