{
 "cells": [
  {
   "cell_type": "markdown",
   "id": "d9aea813",
   "metadata": {},
   "source": [
    "# Double/Debiased ML for Partially Linear IV Model\n",
    "\n",
    "References: \n",
    "\n",
    "https://arxiv.org/abs/1608.00060\n",
    "\n",
    "\n",
    "https://www.amazon.com/Business-Data-Science-Combining-Accelerate/dp/1260452778\n",
    "\n",
    "The code is based on the book.\n"
   ]
  },
  {
   "cell_type": "markdown",
   "id": "13f3046c",
   "metadata": {},
   "source": [
    "\n",
    "# Partially Linear IV Model\n",
    "\n",
    "We consider the partially linear structural equation model:\n",
    "\\begin{eqnarray}\n",
    " &  Y - D\\theta_0 = g_0(X) + \\zeta,  & E[\\zeta \\mid Z,X]= 0,\\\\\n",
    "  & Z = m_0(X) +  V,   &  E[V \\mid X] = 0. \n",
    "\\end{eqnarray}\n",
    "\n",
    "\n",
    "Note that this model is not a regression model unless $Z=D$.  The model  is a canonical\n",
    "model in causal inference, going back to P. Wright's work on IV methods for estimaing demand/supply equations, with the modern difference being that $g_0$ and $m_0$ are nonlinear, potentially complicated functions of high-dimensional $X$.  \n",
    "\n",
    "\n",
    "The idea of this model is that there is a structural or causal relation between $Y$ and $D$, captured by $\\theta_0$, and $g_0(X) + \\zeta$ is the stochastic error, partly explained by covariates $X$.  $V$ and $\\zeta$ are stochastic errors that are not explained by $X$. Since $Y$ and $D$ are jointly determined, we need an external factor, commonly referred to as an instrument, $Z$ to create exogenous variation\n",
    "in $D$.   Note that $Z$ should affect $D$.  The $X$ here serve again as confounding factors, so we can think of variation in $Z$ as being exogenous only conditional on $X$. \n",
    "\n",
    "\n",
    "The causal DAG this model corresponds to is given by:\n",
    "$$\n",
    "Z \\to D,  X \\to (Y, Z, D),  L \\to (Y,D),\n",
    "$$\n",
    "where $L$ is the latent confounder affecting both $Y$ and $D$, but not $Z$.\n",
    "\n",
    "\n",
    "\n",
    "---\n",
    "\n",
    "# Example\n",
    "\n",
    "A simple contextual example is from biostatistics, where $Y$ is a health outcome and $D$ is indicator of smoking.  Thus, $\\theta_0$ is captures the effect of smoking on health.  Health outcome $Y$ and smoking behavior $D$ are treated as being jointly determined.  $X$ represents patient characteristics, and $Z$ could be a doctor's advice not to smoke (or another behavioral treatment) that may affect the outcome $Y$ only through shifting the behavior $D$, conditional on characteristics $X$.   \n",
    "\n",
    "----\n",
    "\n",
    "\n",
    "\n",
    "# PLIVM in Residualized Form\n",
    "\n",
    "The PLIV model above can be rewritten in the following residualized form:\n",
    "$$\n",
    "  \\tilde Y = \\tilde D \\theta_0 + \\zeta,   \\quad  E[\\zeta \\mid V,X]= 0,\n",
    "$$\n",
    "where\n",
    "$$\n",
    " \\tilde Y = (Y- \\ell_0(X)),  \\quad \\ell_0(X) = E[Y \\mid X] \\\\\n",
    "   \\tilde D = (D - r_0(X)), \\quad r_0(X) = E[D \\mid X] \\\\\n",
    "   \\tilde Z = (Z- m_0(X)), \\quad m_0(X) = E[Z \\mid X].\n",
    "$$\n",
    "   The tilded variables above represent original variables after taking out or \"partialling out\"\n",
    "  the effect of $X$.  Note that $\\theta_0$ is identified from this equation if $V$ \n",
    "  and $U$ have non-zero correlation, which automatically means that $U$ and $V$\n",
    "  must have non-zero variation.\n",
    "\n",
    "  \n",
    "\n",
    "-----\n",
    "\n",
    "# DML for PLIV Model\n",
    "\n",
    "Given identification, DML  proceeds as follows\n",
    "\n",
    "Compute the estimates $\\hat \\ell_0$, $\\hat r_0$, and $\\hat m_0$ , which amounts\n",
    "to solving the three problems of predicting $Y$, $D$, and $Z$ using\n",
    "$X$, using any generic  ML method, giving us estimated residuals \n",
    "$$\n",
    "\\tilde Y = Y - \\hat \\ell_0(X), \\\\ \\tilde D= D - \\hat r_0(X), \\\\ \\tilde Z = Z- \\hat m_0(X).\n",
    "$$ \n",
    "The estimates should be of a cross-validated form, as detailed in the algorithm below. \n",
    "\n",
    "Estimate $\\theta_0$ by the the intstrumental\n",
    "variable regression of $\\tilde Y$ on $\\tilde D$ using $\\tilde Z$ as an instrument.\n",
    "Use the conventional inference for the IV regression estimator, ignoring\n",
    "the estimation error in these residuals. \n",
    "\n",
    "The reason we work with this residualized form is that it eliminates the bias\n",
    "arising when solving the prediction problem in stage 1. The role of cross-validation\n",
    "is to avoid another source of bias due to potential overfitting.\n",
    "\n",
    "The estimator is adaptive,\n",
    "in the sense that the first stage estimation errors do not affect the second \n",
    "stage errors."
   ]
  },
  {
   "cell_type": "code",
   "execution_count": 1,
   "id": "a702aa69",
   "metadata": {},
   "outputs": [
    {
     "name": "stderr",
     "output_type": "stream",
     "text": [
      "\u001b[32m\u001b[1m    Updating\u001b[22m\u001b[39m registry at `C:\\Users\\User\\.julia\\registries\\General`\n",
      "\u001b[32m\u001b[1m    Updating\u001b[22m\u001b[39m git-repo `https://github.com/JuliaRegistries/General.git`\n",
      "\u001b[32m\u001b[1m   Resolving\u001b[22m\u001b[39m package versions...\n",
      "\u001b[32m\u001b[1m  No Changes\u001b[22m\u001b[39m to `C:\\Users\\User\\.julia\\environments\\v1.6\\Project.toml`\n",
      "\u001b[32m\u001b[1m  No Changes\u001b[22m\u001b[39m to `C:\\Users\\User\\.julia\\environments\\v1.6\\Manifest.toml`\n",
      "\u001b[32m\u001b[1m   Resolving\u001b[22m\u001b[39m package versions...\n",
      "\u001b[32m\u001b[1m  No Changes\u001b[22m\u001b[39m to `C:\\Users\\User\\.julia\\environments\\v1.6\\Project.toml`\n",
      "\u001b[32m\u001b[1m  No Changes\u001b[22m\u001b[39m to `C:\\Users\\User\\.julia\\environments\\v1.6\\Manifest.toml`\n",
      "\u001b[32m\u001b[1m   Resolving\u001b[22m\u001b[39m package versions...\n",
      "\u001b[32m\u001b[1m  No Changes\u001b[22m\u001b[39m to `C:\\Users\\User\\.julia\\environments\\v1.6\\Project.toml`\n",
      "\u001b[32m\u001b[1m  No Changes\u001b[22m\u001b[39m to `C:\\Users\\User\\.julia\\environments\\v1.6\\Manifest.toml`\n",
      "\u001b[32m\u001b[1m   Resolving\u001b[22m\u001b[39m package versions...\n",
      "\u001b[32m\u001b[1m  No Changes\u001b[22m\u001b[39m to `C:\\Users\\User\\.julia\\environments\\v1.6\\Project.toml`\n",
      "\u001b[32m\u001b[1m  No Changes\u001b[22m\u001b[39m to `C:\\Users\\User\\.julia\\environments\\v1.6\\Manifest.toml`\n",
      "\u001b[32m\u001b[1m   Resolving\u001b[22m\u001b[39m package versions...\n",
      "\u001b[32m\u001b[1m  No Changes\u001b[22m\u001b[39m to `C:\\Users\\User\\.julia\\environments\\v1.6\\Project.toml`\n",
      "\u001b[32m\u001b[1m  No Changes\u001b[22m\u001b[39m to `C:\\Users\\User\\.julia\\environments\\v1.6\\Manifest.toml`\n",
      "\u001b[32m\u001b[1m   Resolving\u001b[22m\u001b[39m package versions...\n",
      "\u001b[32m\u001b[1m  No Changes\u001b[22m\u001b[39m to `C:\\Users\\User\\.julia\\environments\\v1.6\\Project.toml`\n",
      "\u001b[32m\u001b[1m  No Changes\u001b[22m\u001b[39m to `C:\\Users\\User\\.julia\\environments\\v1.6\\Manifest.toml`\n",
      "\u001b[32m\u001b[1m   Resolving\u001b[22m\u001b[39m package versions...\n",
      "\u001b[32m\u001b[1m  No Changes\u001b[22m\u001b[39m to `C:\\Users\\User\\.julia\\environments\\v1.6\\Project.toml`\n",
      "\u001b[32m\u001b[1m  No Changes\u001b[22m\u001b[39m to `C:\\Users\\User\\.julia\\environments\\v1.6\\Manifest.toml`\n",
      "\u001b[32m\u001b[1m   Resolving\u001b[22m\u001b[39m package versions...\n",
      "\u001b[32m\u001b[1m  No Changes\u001b[22m\u001b[39m to `C:\\Users\\User\\.julia\\environments\\v1.6\\Project.toml`\n",
      "\u001b[32m\u001b[1m  No Changes\u001b[22m\u001b[39m to `C:\\Users\\User\\.julia\\environments\\v1.6\\Manifest.toml`\n",
      "\u001b[32m\u001b[1m   Resolving\u001b[22m\u001b[39m package versions...\n",
      "\u001b[32m\u001b[1m  No Changes\u001b[22m\u001b[39m to `C:\\Users\\User\\.julia\\environments\\v1.6\\Project.toml`\n",
      "\u001b[32m\u001b[1m  No Changes\u001b[22m\u001b[39m to `C:\\Users\\User\\.julia\\environments\\v1.6\\Manifest.toml`\n",
      "\u001b[32m\u001b[1m   Resolving\u001b[22m\u001b[39m package versions...\n",
      "\u001b[32m\u001b[1m  No Changes\u001b[22m\u001b[39m to `C:\\Users\\User\\.julia\\environments\\v1.6\\Project.toml`\n",
      "\u001b[32m\u001b[1m  No Changes\u001b[22m\u001b[39m to `C:\\Users\\User\\.julia\\environments\\v1.6\\Manifest.toml`\n",
      "\u001b[32m\u001b[1m   Resolving\u001b[22m\u001b[39m package versions...\n",
      "\u001b[32m\u001b[1m  No Changes\u001b[22m\u001b[39m to `C:\\Users\\User\\.julia\\environments\\v1.6\\Project.toml`\n",
      "\u001b[32m\u001b[1m  No Changes\u001b[22m\u001b[39m to `C:\\Users\\User\\.julia\\environments\\v1.6\\Manifest.toml`\n"
     ]
    },
    {
     "data": {
      "text/plain": [
       "(nothing, nothing)"
      ]
     },
     "execution_count": 1,
     "metadata": {},
     "output_type": "execute_result"
    }
   ],
   "source": [
    "# Import relevant packages\n",
    "using Pkg\n",
    "Pkg.add(\"CSV\"), using CSV\n",
    "Pkg.add(\"DataFrames\"), using DataFrames\n",
    "Pkg.add(\"GLM\"), using GLM\n",
    "Pkg.add(\"FixedEffectModels\"), using FixedEffectModels\n",
    "Pkg.add(\"DecisionTree\"), using DecisionTree\n",
    "Pkg.add(\"PrettyTables\"), using PrettyTables\n",
    "Pkg.add(\"CovarianceMatrices\"), using CovarianceMatrices\n",
    "Pkg.add(\"RegressionTables\"), using RegressionTables\n",
    "Pkg.add(\"StatsFuns\"), using StatsFuns\n",
    "Pkg.add(\"Plots\"), using Plots\n",
    "Pkg.add(\"RData\"), using RData\n",
    "Pkg.add(\"MLBase\"), using MLBase"
   ]
  },
  {
   "cell_type": "code",
   "execution_count": 4,
   "id": "12864245",
   "metadata": {},
   "outputs": [
    {
     "name": "stdout",
     "output_type": "stream",
     "text": [
      "Number of Rows : 64\n",
      "Number of Columns : 11\n"
     ]
    }
   ],
   "source": [
    "# load data\n",
    "rdata_read = RData.load(\"../data/ajr.RData\")\n",
    "AJR = rdata_read[\"AJR\"]\n",
    "names(AJR)\n",
    "println(\"Number of Rows : \", size(AJR)[1],\"\\n\",\"Number of Columns : \", size(AJR)[2],) #rows and columns"
   ]
  },
  {
   "cell_type": "code",
   "execution_count": 5,
   "id": "3e3d7d96",
   "metadata": {},
   "outputs": [
    {
     "data": {
      "text/html": [
       "<div class=\"data-frame\"><p>5 rows × 11 columns (omitted printing of 1 columns)</p><table class=\"data-frame\"><thead><tr><th></th><th>GDP</th><th>Exprop</th><th>Mort</th><th>Latitude</th><th>Neo</th><th>Africa</th><th>Asia</th><th>Namer</th><th>Samer</th><th>logMort</th></tr><tr><th></th><th title=\"Float64\">Float64</th><th title=\"Float64\">Float64</th><th title=\"Float64\">Float64</th><th title=\"Float64\">Float64</th><th title=\"Int32\">Int32</th><th title=\"Int32\">Int32</th><th title=\"Int32\">Int32</th><th title=\"Int32\">Int32</th><th title=\"Int32\">Int32</th><th title=\"Float64\">Float64</th></tr></thead><tbody><tr><th>1</th><td>8.39</td><td>6.5</td><td>78.2</td><td>0.3111</td><td>0</td><td>1</td><td>0</td><td>0</td><td>0</td><td>4.35927</td></tr><tr><th>2</th><td>7.77</td><td>5.36</td><td>280.0</td><td>0.1367</td><td>0</td><td>1</td><td>0</td><td>0</td><td>0</td><td>5.63479</td></tr><tr><th>3</th><td>9.13</td><td>6.39</td><td>68.9</td><td>0.3778</td><td>0</td><td>0</td><td>0</td><td>0</td><td>1</td><td>4.23266</td></tr><tr><th>4</th><td>9.9</td><td>9.32</td><td>8.55</td><td>0.3</td><td>1</td><td>0</td><td>0</td><td>0</td><td>0</td><td>2.14593</td></tr><tr><th>5</th><td>9.29</td><td>7.5</td><td>85.0</td><td>0.2683</td><td>0</td><td>0</td><td>0</td><td>1</td><td>0</td><td>4.44265</td></tr></tbody></table></div>"
      ],
      "text/latex": [
       "\\begin{tabular}{r|ccccccccccc}\n",
       "\t& GDP & Exprop & Mort & Latitude & Neo & Africa & Asia & Namer & Samer & logMort & \\\\\n",
       "\t\\hline\n",
       "\t& Float64 & Float64 & Float64 & Float64 & Int32 & Int32 & Int32 & Int32 & Int32 & Float64 & \\\\\n",
       "\t\\hline\n",
       "\t1 & 8.39 & 6.5 & 78.2 & 0.3111 & 0 & 1 & 0 & 0 & 0 & 4.35927 & $\\dots$ \\\\\n",
       "\t2 & 7.77 & 5.36 & 280.0 & 0.1367 & 0 & 1 & 0 & 0 & 0 & 5.63479 & $\\dots$ \\\\\n",
       "\t3 & 9.13 & 6.39 & 68.9 & 0.3778 & 0 & 0 & 0 & 0 & 1 & 4.23266 & $\\dots$ \\\\\n",
       "\t4 & 9.9 & 9.32 & 8.55 & 0.3 & 1 & 0 & 0 & 0 & 0 & 2.14593 & $\\dots$ \\\\\n",
       "\t5 & 9.29 & 7.5 & 85.0 & 0.2683 & 0 & 0 & 0 & 1 & 0 & 4.44265 & $\\dots$ \\\\\n",
       "\\end{tabular}\n"
      ],
      "text/plain": [
       "\u001b[1m5×11 DataFrame\u001b[0m\n",
       "\u001b[1m Row \u001b[0m│\u001b[1m GDP     \u001b[0m\u001b[1m Exprop  \u001b[0m\u001b[1m Mort    \u001b[0m\u001b[1m Latitude \u001b[0m\u001b[1m Neo   \u001b[0m\u001b[1m Africa \u001b[0m\u001b[1m Asia  \u001b[0m\u001b[1m Namer \u001b[0m\u001b[1m Samer\u001b[0m ⋯\n",
       "\u001b[1m     \u001b[0m│\u001b[90m Float64 \u001b[0m\u001b[90m Float64 \u001b[0m\u001b[90m Float64 \u001b[0m\u001b[90m Float64  \u001b[0m\u001b[90m Int32 \u001b[0m\u001b[90m Int32  \u001b[0m\u001b[90m Int32 \u001b[0m\u001b[90m Int32 \u001b[0m\u001b[90m Int32\u001b[0m ⋯\n",
       "─────┼──────────────────────────────────────────────────────────────────────────\n",
       "   1 │    8.39     6.5     78.2     0.3111      0       1      0      0      0 ⋯\n",
       "   2 │    7.77     5.36   280.0     0.1367      0       1      0      0      0\n",
       "   3 │    9.13     6.39    68.9     0.3778      0       0      0      0      1\n",
       "   4 │    9.9      9.32     8.55    0.3         1       0      0      0      0\n",
       "   5 │    9.29     7.5     85.0     0.2683      0       0      0      1      0 ⋯\n",
       "\u001b[36m                                                               2 columns omitted\u001b[0m"
      ]
     },
     "execution_count": 5,
     "metadata": {},
     "output_type": "execute_result"
    }
   ],
   "source": [
    "first(AJR, 5)"
   ]
  },
  {
   "cell_type": "code",
   "execution_count": 24,
   "id": "3aadd884",
   "metadata": {},
   "outputs": [
    {
     "data": {
      "text/plain": [
       "DML2_for_PLIVM (generic function with 1 method)"
      ]
     },
     "execution_count": 24,
     "metadata": {},
     "output_type": "execute_result"
    }
   ],
   "source": [
    "function DML2_for_PLIVM(x , d , z, y, dreg , yreg , zreg, nfold)\n",
    "     # Num ob observations\n",
    "    nobser = size(x,1)\n",
    "    \n",
    "    # Define folds indices \n",
    "    foldid = collect(Kfold(size(x)[1], nfold))\n",
    "    \n",
    "    # Create array to save errors \n",
    "    ytil = ones(nobser)\n",
    "    dtil = ones(nobser)\n",
    "    ztil = ones(nobser);\n",
    "\n",
    "    println(\"Folds: \" )\n",
    "\n",
    "    for i in 1:nfold\n",
    "        \n",
    "        # Lasso regression, excluding folds selected \n",
    "        dfit = dreg(x[foldid[i],:], d[foldid[i]])\n",
    "        zfit = zreg(x[foldid[i],:], z[foldid[i]])\n",
    "        yfit = yreg(x[foldid[i],:], y[foldid[i]])\n",
    "        \n",
    "        # Predict estimates using the \n",
    "        dhat = apply_forest(dfit,x[Not(foldid[i]),:])\n",
    "        zhat = apply_forest(zfit,x[Not(foldid[i]),:])\n",
    "        yhat = apply_forest(yfit,x[Not(foldid[i]),:])\n",
    "\n",
    "        # Save errors \n",
    "        dtil[Not(foldid[i])] = (d[Not(foldid[i])] - dhat)\n",
    "        ztil[Not(foldid[i])] = (z[Not(foldid[i])] - zhat)\n",
    "        ytil[Not(foldid[i])] = (y[Not(foldid[i])] - yhat)\n",
    "        println(i)\n",
    "\n",
    "    end\n",
    "\n",
    "    data = DataFrame(ytil = ytil, dtil = dtil, ztil = ztil)\n",
    "    ivfit = reg(data, @formula(ytil ~  + (dtil ~ ztil)))\n",
    "    # OLS clustering at the County level\n",
    "    coef_est =  ivfit.coef[2]\n",
    "    se = FixedEffectModels.coeftable(ivfit).cols[2][1]\n",
    "    println( \"\\n Coefficient (se) =\", coef_est, \"(\",se,\")\" )\n",
    "    \n",
    "    Final_result = (\"coef_est\" => coef_est , \"se\" => se , \"dtil\" => dtil , \"ytil\" => ytil , \"ztil\" => ztil);\n",
    "       \n",
    "end"
   ]
  },
  {
   "cell_type": "markdown",
   "id": "e9041704",
   "metadata": {},
   "source": [
    "-----\n",
    "\n",
    "# Emprical Example:  Acemoglu, Jonsohn, Robinson (AER).\n",
    "\n",
    "\n",
    "* Y is log GDP;\n",
    "* D is a measure of Protection from Expropriation, a proxy for \n",
    "quality of insitutions;\n",
    "* Z is the log of Settler's mortality;\n",
    "* W are geographical variables (latitude, latitude squared, continent dummies as well as interactions)\n"
   ]
  },
  {
   "cell_type": "code",
   "execution_count": 7,
   "id": "ccb8d970",
   "metadata": {},
   "outputs": [],
   "source": [
    "y = AJR[!,\"GDP\"]\n",
    "d = AJR[!,\"Exprop\"]\n",
    "z = AJR[!,\"logMort\"];"
   ]
  },
  {
   "cell_type": "code",
   "execution_count": 8,
   "id": "6d87f0f4",
   "metadata": {},
   "outputs": [],
   "source": [
    "Y = DataFrame(GDP = y)\n",
    "D = DataFrame(Exprop = d)\n",
    "Z = DataFrame(logMort = z);"
   ]
  },
  {
   "cell_type": "code",
   "execution_count": 9,
   "id": "2fa15c62",
   "metadata": {},
   "outputs": [
    {
     "data": {
      "text/plain": [
       "(64, 6)"
      ]
     },
     "execution_count": 9,
     "metadata": {},
     "output_type": "execute_result"
    }
   ],
   "source": [
    "xraw_formula = @formula(GDP ~ Latitude+ Africa+Asia + Namer + Samer)\n",
    "xraw_dframe = ModelFrame(xraw_formula, AJR)\n",
    "xraw1  = ModelMatrix(xraw_dframe)\n",
    "xraw = xraw1.m\n",
    "size(xraw)"
   ]
  },
  {
   "cell_type": "code",
   "execution_count": 10,
   "id": "00a11077",
   "metadata": {},
   "outputs": [
    {
     "data": {
      "text/plain": [
       "(64, 21)"
      ]
     },
     "execution_count": 10,
     "metadata": {},
     "output_type": "execute_result"
    }
   ],
   "source": [
    "x_formula = @formula(GDP ~ -1 + Latitude + Latitude2 + Africa + Asia + Namer + Samer\n",
    "    + Latitude*Latitude2 + Latitude*Africa + Latitude*Asia + Latitude*Namer + Latitude*Samer\n",
    "    + Latitude2*Africa + Latitude2*Asia + Latitude2*Namer + Latitude2*Samer\n",
    "    + Africa*Asia + Africa*Namer + Africa*Samer\n",
    "    + Asia*Namer + Asia*Samer\n",
    "    + Namer*Samer)\n",
    "x_dframe = ModelFrame( x_formula, AJR)\n",
    "x1 = ModelMatrix(x_dframe)\n",
    "x = x1.m\n",
    "size(x1)"
   ]
  },
  {
   "cell_type": "code",
   "execution_count": 11,
   "id": "d851d834",
   "metadata": {},
   "outputs": [
    {
     "data": {
      "text/plain": [
       "(64, 6)"
      ]
     },
     "execution_count": 11,
     "metadata": {},
     "output_type": "execute_result"
    }
   ],
   "source": [
    "X = DataFrame(Latitude = x_dframe.data[2], Latitude2 = x_dframe.data[3], Africa = x_dframe.data[4],\n",
    "    Asia = Africa = x_dframe.data[5], Namer = Africa = x_dframe.data[6], Samer = Africa = x_dframe.data[7])\n",
    "size(X)"
   ]
  },
  {
   "cell_type": "markdown",
   "id": "3759ff8a",
   "metadata": {},
   "source": [
    "Information from random Forest [link1](https://stackoverflow.com/questions/35578041/why-do-i-get-different-randomforest-outcomes-between-r-and-python), [link2](https://stackoverflow.com/questions/45612922/random-forest-in-r-and-sklearn)"
   ]
  },
  {
   "cell_type": "code",
   "execution_count": 12,
   "id": "9b0c651a",
   "metadata": {},
   "outputs": [],
   "source": [
    "y_model = DataFrame(y_model = y);"
   ]
  },
  {
   "cell_type": "code",
   "execution_count": 25,
   "id": "cff4c5cb",
   "metadata": {},
   "outputs": [
    {
     "name": "stdout",
     "output_type": "stream",
     "text": [
      "Folds: \n",
      "1\n",
      "2\n",
      "3\n",
      "4\n",
      "5\n",
      "6\n",
      "7\n",
      "8\n",
      "9\n",
      "10\n",
      "11\n",
      "12\n",
      "13\n",
      "14\n",
      "15\n",
      "16\n",
      "17\n",
      "18\n",
      "19\n",
      "20\n",
      "\n",
      " Coefficient (se) =0.7524130698167707(0.23630541190311558)\n"
     ]
    },
    {
     "data": {
      "text/plain": [
       "(\"coef_est\" => 0.7524130698167707, \"se\" => 0.23630541190311558, \"dtil\" => [0.15565634920634874, -0.2791861111111107, -0.9777500000000012, 2.29963852813853, -0.31843055555555644, -2.6909138888888897, -1.139750000000002, 1.1712214285714273, -1.5625142857142862, -0.36003214285714336  …  0.797359523809523, 0.9724035714285719, 1.1681678571428575, -0.18468412698412617, -1.2077369047619042, -0.4859154761904758, 2.753840151515152, 0.2909972222222228, -0.30180833333333457, -2.4970499999999998], \"ytil\" => [0.2812396825396828, 0.8693749999999998, 0.12426785714285771, 1.230942424242425, 0.20469837662337653, -2.2161714646464654, -0.4307873015873014, 0.2022126984126995, -0.3882476190476183, -1.2033507936507934  …  -1.0349730158730157, 0.18190039682539627, 0.5981027777777772, 0.20425714285714314, -0.0898416666666666, -0.04134920634920647, 1.2455204545454546, 0.6519388888888891, -0.9406249999999998, -0.2312666666666674], \"ztil\" => [-0.04162269159816123, -0.47678027991012506, 0.5216786273234608, -1.6768161192286897, 0.84380642810238, 0.8852341028025945, -0.030204424243000183, 0.10552145021519266, -0.6319344143374961, 1.7776519182284276  …  -0.9613266827204523, 0.7370634824889502, -0.04842881237565244, -0.24884581462637723, 0.3457469675255931, 0.5720750978085158, -1.0069785997445133, 0.01417775285878431, 0.8127966969644644, -0.3488015282100294])"
      ]
     },
     "execution_count": 25,
     "metadata": {},
     "output_type": "execute_result"
    }
   ],
   "source": [
    "function dreg( x_1 , d_1 )\n",
    "    \n",
    "    if d_1 != nothing && ( typeof(d_1) != String )\n",
    "        mtry1 = convert(Int64,findmax(round( ( size(x_1)[ 2 ]/3 ), digits = 0))[1])\n",
    "    else\n",
    "        mtry1 = convert(Int64,round(sqrt( size(x)[ 2 ] ), digits = 0))\n",
    "    end\n",
    "    \n",
    "    if d_1 != nothing && ( typeof(d_1) != String )\n",
    "        nodesize1 = 5\n",
    "    else\n",
    "        nodesize1 = 1\n",
    "    end\n",
    "    n_subfeatures=-1; n_trees=10; partial_sampling=0.7; max_depth=-1\n",
    "    min_samples_leaf= nodesize1; min_samples_split=2; min_purity_increase=0.0; seed=0\n",
    "    \n",
    "    RFmodel =  build_forest(d_1, x_1, n_subfeatures, n_trees, partial_sampling, max_depth, min_samples_leaf, min_samples_split, min_purity_increase; rng = seed)\n",
    "end\n",
    "\n",
    "function yreg( x_1, y_1 )\n",
    "    \n",
    "    if y_1 != nothing && ( typeof(y_1) != String )\n",
    "        mtry1 = convert(Int64,findmax(round( ( size(x_1)[ 2 ]/3 ), digits = 0))[1])\n",
    "    else\n",
    "        mtry1 = convert(Int64,round(sqrt( size(x_1)[ 2 ] ), digits = 0))\n",
    "    end\n",
    "    \n",
    "    if y_1 != nothing && ( typeof(y_1) != String )\n",
    "        nodesize1 = 5\n",
    "    else\n",
    "        nodesize1 = 1\n",
    "    end\n",
    "    n_subfeatures=-1; n_trees=10; partial_sampling=0.7; max_depth=-1\n",
    "    min_samples_leaf= nodesize1; min_samples_split=2; min_purity_increase=0.0; seed=0\n",
    "    \n",
    "    RFmodel =  build_forest(y_1, x_1, n_subfeatures, n_trees, partial_sampling, max_depth, min_samples_leaf, min_samples_split, min_purity_increase; rng = seed)\n",
    "end\n",
    "                \n",
    "function zreg( x_1, z_1 )\n",
    "    \n",
    "    if z_1 != nothing && ( typeof(z_1) != String )\n",
    "        mtry1 = convert(Int64,findmax(round( ( size(x_1)[ 2 ]/3 ), digits = 0))[1])\n",
    "    else\n",
    "        mtry1 = convert(Int64,round(sqrt( size(x_1)[ 2 ] ), digits = 0))\n",
    "    end\n",
    "    \n",
    "    if z_1 != nothing && ( typeof(z_1) != String )\n",
    "        nodesize1 = 5\n",
    "    else\n",
    "        nodesize1 = 1\n",
    "    end\n",
    "    n_subfeatures=-1; n_trees=10; partial_sampling=0.7; max_depth=-1\n",
    "    min_samples_leaf= nodesize1; min_samples_split=2; min_purity_increase=0.0; seed=0\n",
    "    \n",
    "    RFmodel =  build_forest(z_1, x_1, n_subfeatures, n_trees, partial_sampling, max_depth, min_samples_leaf, min_samples_split, min_purity_increase; rng = seed)\n",
    "end\n",
    "\n",
    "DML2_RF = DML2_for_PLIVM(xraw, d, z, y, dreg, yreg, zreg, 20)"
   ]
  },
  {
   "cell_type": "code",
   "execution_count": 26,
   "id": "c114c24e",
   "metadata": {},
   "outputs": [
    {
     "name": "stdout",
     "output_type": "stream",
     "text": [
      "\n",
      " DML with Post-Lasso \n"
     ]
    }
   ],
   "source": [
    "print( \"\\n DML with Post-Lasso \\n\" )"
   ]
  },
  {
   "cell_type": "code",
   "execution_count": 43,
   "id": "54d1d148",
   "metadata": {},
   "outputs": [],
   "source": [
    "include(\"E:/causal_ml/hdmjl/hdmjl.jl\")"
   ]
  },
  {
   "cell_type": "code",
   "execution_count": 36,
   "id": "64cd8e63",
   "metadata": {},
   "outputs": [],
   "source": [
    "#include(\"hdmjl/hdmjl.jl\")"
   ]
  },
  {
   "cell_type": "code",
   "execution_count": 48,
   "id": "800ba051",
   "metadata": {},
   "outputs": [
    {
     "data": {
      "text/plain": [
       "DML2_lasso_cv (generic function with 1 method)"
      ]
     },
     "execution_count": 48,
     "metadata": {},
     "output_type": "execute_result"
    }
   ],
   "source": [
    "function DML2_lasso_cv(x , d , z, y, dreg , yreg , zreg, nfold)\n",
    "     # Num ob observations\n",
    "    nobser = size(x,1)\n",
    "    \n",
    "    # Define folds indices \n",
    "    foldid = collect(Kfold(size(x)[1], nfold))\n",
    "    \n",
    "    # Create array to save errors \n",
    "    ytil = ones(nobser)\n",
    "    dtil = ones(nobser)\n",
    "    ztil = ones(nobser);\n",
    "\n",
    "    println(\"Folds: \" )\n",
    "\n",
    "    for i in 1:nfold\n",
    "\n",
    "        # Save errors \n",
    "        # Lasso regression, excluding folds selected \n",
    "        dtil= dreg(X[foldid[i],:], D[foldid[i],:])\n",
    "        ztil= dreg(X[foldid[i],:], Z[foldid[i],:])\n",
    "        ytil= dreg(X[foldid[i],:], Y[foldid[i],:])\n",
    "        println(i)\n",
    "\n",
    "    end\n",
    "\n",
    "    data = DataFrame(ytil = ytil, dtil = dtil, ztil = ztil)\n",
    "    \n",
    "    ivfit = reg(data, @formula(ytil ~  + (dtil ~ ztil)))\n",
    "    # OLS clustering at the County level\n",
    "    coef_est =  ivfit.coef[2]\n",
    "    se = FixedEffectModels.coeftable(ivfit).cols[2][1]\n",
    "    println( \"\\n Coefficient (se) =\", coef_est, \"(\",se,\")\" )\n",
    "    \n",
    "    Final_result = (\"coef_est\" => coef_est , \"se\" => se , \"dtil\" => dtil , \"ytil\" => ytil , \"ztil\" => ztil);\n",
    "       \n",
    "end"
   ]
  },
  {
   "cell_type": "code",
   "execution_count": 49,
   "id": "aefeb50c",
   "metadata": {},
   "outputs": [
    {
     "name": "stdout",
     "output_type": "stream",
     "text": [
      "Folds: \n",
      "1\n",
      "2\n",
      "3\n",
      "4\n",
      "5\n",
      "6\n",
      "7\n",
      "8\n",
      "9\n",
      "10\n",
      "11\n",
      "12\n",
      "13\n",
      "14\n",
      "15\n",
      "16\n",
      "17\n",
      "18\n",
      "19\n",
      "20\n",
      "\n",
      " Coefficient (se) =0.8025198007404852(0.25504605869117214)\n"
     ]
    },
    {
     "data": {
      "text/plain": [
       "(\"coef_est\" => 0.8025198007404852, \"se\" => 0.25504605869117214, \"dtil\" => [0.32193926336371426, -0.3770827830132363, -1.070075755625701, 2.1576850079023595, 0.43940896035100363, -1.9157575580162984, -1.2156103112423475, 1.1861811155183757, -1.2993046591692252, -1.6914123930204885  …  0.9833133752652194, 1.233808244104633, 0.7115585348636041, 0.012480510286280333, -1.1822612803084596, -0.4134126124732038, 2.339357342980089, 0.4412519781926516, -0.4226265978857042, -2.1315655638692483], \"ytil\" => [0.8507245602499757, 0.5201871241327402, 0.23278092961681263, 1.198234224563612, 0.6550068961725938, -1.7518203556789185, -0.5704415991463694, 0.3160676786406481, -0.4078354438403389, -1.3280401038135867  …  -0.9470399925282902, 0.010156634359231087, 0.3464692630007332, 0.7704131075558607, -0.21100693971176332, 0.16341110725897146, 1.19112670738053, 0.6725244564201832, -1.2053548481169798, -0.3105502641283808], \"ztil\" => [-0.7785546325051316, 0.0745990650429309, 0.6425336548870126, -1.632609215400903, 0.5873389096268885, 0.4092506488987838, 0.215074635162109, 0.026656659945137162, 0.09324711657468787, 1.3581662483976231  …  -0.7529845369035337, 0.8283344064209794, 0.23351029549835928, -0.8331538345521134, -0.22958213916338854, 0.6456750978044945, -0.7745432976135063, 0.06820232754102012, 0.8671549246258765, -0.4106150750948676])"
      ]
     },
     "execution_count": 49,
     "metadata": {},
     "output_type": "execute_result"
    }
   ],
   "source": [
    "function dreg(x_1, d_1)\n",
    "    res_Y_0 = rlasso_arg( x_1, d_1, nothing, true, true, true, false, false, \n",
    "                    nothing, 1.1, nothing, 5000, 15, 10^(-5), -Inf, true, Inf, true )\n",
    "    res_Y = rlasso(res_Y_0)[\"residuals\"]\n",
    "end\n",
    "\n",
    "function yreg(x_1, y_1)\n",
    "    res_D_0 = rlasso_arg( x_1, y_1, nothing, true, true, true, false, false, \n",
    "                        nothing, 1.1, nothing, 5000, 15, 10^(-5), -Inf, true, Inf, true )\n",
    "    res_D = rlasso(res_D_0)[\"residuals\"]\n",
    "end\n",
    "\n",
    "function yreg(x_1, z_1)\n",
    "    res_D_0 = rlasso_arg( x_1, z_1, nothing, true, true, true, false, false, \n",
    "                        nothing, 1.1, nothing, 5000, 15, 10^(-5), -Inf, true, Inf, true )\n",
    "    res_D = rlasso(res_D_0)[\"residuals\"]\n",
    "end\n",
    "\n",
    "DML2_lasso = DML2_lasso_cv(x, d, z, y, dreg, yreg, zreg, 20)"
   ]
  },
  {
   "cell_type": "code",
   "execution_count": 275,
   "id": "3fd5359a",
   "metadata": {},
   "outputs": [],
   "source": [
    "# Compare Forest vs Lasso"
   ]
  },
  {
   "cell_type": "code",
   "execution_count": 50,
   "id": "f21dcf07",
   "metadata": {},
   "outputs": [],
   "source": [
    "mods = [DML2_RF, DML2_lasso];\n",
    "mods_name = [\"DML2_RF\", \"DML2_lasso\"];"
   ]
  },
  {
   "cell_type": "code",
   "execution_count": 51,
   "id": "c9439324",
   "metadata": {},
   "outputs": [
    {
     "name": "stdout",
     "output_type": "stream",
     "text": [
      "┌────────────┬──────────────┬──────────────┬──────────────┐\n",
      "│\u001b[1m     Models \u001b[0m│\u001b[1m       RMSE_Y \u001b[0m│\u001b[1m       RMSE_D \u001b[0m│\u001b[1m       RMSE_Z \u001b[0m│\n",
      "│\u001b[90m        Any \u001b[0m│\u001b[90m          Any \u001b[0m│\u001b[90m          Any \u001b[0m│\u001b[90m          Any \u001b[0m│\n",
      "├────────────┼──────────────┼──────────────┼──────────────┤\n",
      "│    DML2_RF │ 0.8072244996 │ 1.2993424184 │ 0.9519269381 │\n",
      "│ DML2_lasso │ 0.7736230839 │ 1.2684038714 │ 0.9581213967 │\n",
      "└────────────┴──────────────┴──────────────┴──────────────┘\n"
     ]
    }
   ],
   "source": [
    "RMSE_Y = []\n",
    "RMSE_D = []\n",
    "RMSE_Z = []\n",
    "\n",
    "for i in mods\n",
    "    push!(RMSE_Y, sqrt(sum(i[4][2].^2)/length(i[4][2])))\n",
    "    push!(RMSE_D, sqrt(sum(i[3][2].^2)/length(i[3][2])))\n",
    "    push!(RMSE_Z, sqrt(sum(i[5][2].^2)/length(i[5][2])))\n",
    "end\n",
    "\n",
    "result = DataFrame([mods_name RMSE_Y RMSE_D RMSE_Z], [:Models, :RMSE_Y, :RMSE_D, :RMSE_Z])\n",
    "pretty_table(result; formatters = ft_printf(\"%5.10f\"))"
   ]
  },
  {
   "cell_type": "markdown",
   "id": "a269620e",
   "metadata": {},
   "source": [
    "# Examine if we have weak instruments"
   ]
  },
  {
   "cell_type": "code",
   "execution_count": 52,
   "id": "af170b30",
   "metadata": {},
   "outputs": [],
   "source": [
    "data1 = DataFrame(ytil = DML2_lasso[4][2], dtil = DML2_lasso[3][2], ztil = DML2_lasso[5][2]);"
   ]
  },
  {
   "cell_type": "code",
   "execution_count": 60,
   "id": "dbfdfe8e",
   "metadata": {},
   "outputs": [
    {
     "data": {
      "text/plain": [
       "StatsModels.TableRegressionModel{LinearModel{GLM.LmResp{Vector{Float64}}, GLM.DensePredChol{Float64, CholeskyPivoted{Float64, Matrix{Float64}}}}, Matrix{Float64}}\n",
       "\n",
       "dtil ~ 0 + ztil\n",
       "\n",
       "Coefficients:\n",
       "──────────────────────────────────────────────────────────────────\n",
       "          Coef.  Std. Error      t  Pr(>|t|)  Lower 95%  Upper 95%\n",
       "──────────────────────────────────────────────────────────────────\n",
       "ztil  -0.429901    0.161645  -2.66    0.0100  -0.753239  -0.106562\n",
       "──────────────────────────────────────────────────────────────────"
      ]
     },
     "execution_count": 60,
     "metadata": {},
     "output_type": "execute_result"
    }
   ],
   "source": [
    "ols1 = fit(LinearModel, @formula(dtil ~ 0 + ztil), data1)"
   ]
  },
  {
   "cell_type": "code",
   "execution_count": 55,
   "id": "e4de8522",
   "metadata": {},
   "outputs": [
    {
     "data": {
      "text/plain": [
       "1-element Vector{Float64}:\n",
       " 0.17430705743059816"
      ]
     },
     "execution_count": 55,
     "metadata": {},
     "output_type": "execute_result"
    }
   ],
   "source": [
    "stderror(HC1(), ols1)"
   ]
  },
  {
   "cell_type": "code",
   "execution_count": 56,
   "id": "99716c1e",
   "metadata": {},
   "outputs": [],
   "source": [
    "data2 = DataFrame(ytil = DML2_RF[4][2], dtil = DML2_RF[3][2], ztil = DML2_RF[5][2]);"
   ]
  },
  {
   "cell_type": "code",
   "execution_count": 61,
   "id": "0e53e8cc",
   "metadata": {},
   "outputs": [
    {
     "data": {
      "text/plain": [
       "StatsModels.TableRegressionModel{LinearModel{GLM.LmResp{Vector{Float64}}, GLM.DensePredChol{Float64, CholeskyPivoted{Float64, Matrix{Float64}}}}, Matrix{Float64}}\n",
       "\n",
       "dtil ~ 0 + ztil\n",
       "\n",
       "Coefficients:\n",
       "──────────────────────────────────────────────────────────────────\n",
       "         Coef.  Std. Error      t  Pr(>|t|)  Lower 95%   Upper 95%\n",
       "──────────────────────────────────────────────────────────────────\n",
       "ztil  -0.41886    0.163672  -2.56    0.0129  -0.745932  -0.0917875\n",
       "──────────────────────────────────────────────────────────────────"
      ]
     },
     "execution_count": 61,
     "metadata": {},
     "output_type": "execute_result"
    }
   ],
   "source": [
    "ols2 = fit(LinearModel, @formula(dtil ~ 0 + ztil), data2)"
   ]
  },
  {
   "cell_type": "code",
   "execution_count": 62,
   "id": "1fa5c54f",
   "metadata": {},
   "outputs": [
    {
     "data": {
      "text/plain": [
       "1-element Vector{Float64}:\n",
       " 0.18547948275293047"
      ]
     },
     "execution_count": 62,
     "metadata": {},
     "output_type": "execute_result"
    }
   ],
   "source": [
    "stderror(HC1(), ols2)"
   ]
  },
  {
   "cell_type": "markdown",
   "id": "92791e2a",
   "metadata": {},
   "source": [
    "#  We do have weak instruments, because t-stats in regression $\\tilde D \\sim \\tilde Z$ are less than 4 in absolute value"
   ]
  },
  {
   "cell_type": "code",
   "execution_count": 211,
   "id": "9d777b38",
   "metadata": {},
   "outputs": [
    {
     "data": {
      "text/plain": [
       "DML_AR_PLIV (generic function with 1 method)"
      ]
     },
     "execution_count": 211,
     "metadata": {},
     "output_type": "execute_result"
    }
   ],
   "source": [
    "function DML_AR_PLIV(rY, rD, rZ, grid, alpha)\n",
    "    n = size(rY)[1]\n",
    "    Cstat = zeros(size(grid))\n",
    "    \n",
    "    for i in 1:length(grid)\n",
    "        Cstat[i] = n * ((mean((rY - grid[i] * rD).* rZ))^2) / var((rY - grid[i] * rD).* rZ)\n",
    "    end\n",
    "    \n",
    "    data_ar = DataFrame(grid = grid, Cstat = Cstat)\n",
    "    \n",
    "    LB = minimum(data_ar[data_ar[:,2] .< chisqinvcdf(1, 1 - alpha), :][!,1])\n",
    "    UB = maximum(data_ar[data_ar[:,2] .< chisqinvcdf(1, 1 - alpha), :][!,1])\n",
    "    \n",
    "    println( \"UB =\" , UB, \"LB =\"  ,LB)\n",
    "\n",
    "    Plots.plot(grid, Cstat, color=:black)\n",
    "    xlabel!(\"Effect of institutions\")\n",
    "    ylabel!(\"Statistic\")\n",
    "    vline!([LB], color=:red, label=\"1\", linestyle=:dash)\n",
    "    vline!([UB], color=:red, label=\"2\", linestyle=:dash)\n",
    "    hline!([chisqinvcdf(1, 1 - alpha)], color=:skyblue, linestyle=:dash)\n",
    "end"
   ]
  },
  {
   "cell_type": "code",
   "execution_count": 212,
   "id": "bc02f664",
   "metadata": {},
   "outputs": [
    {
     "name": "stdout",
     "output_type": "stream",
     "text": [
      "UB =2.0LB =0.39\n"
     ]
    },
    {
     "data": {
      "image/svg+xml": [
       "<?xml version=\"1.0\" encoding=\"utf-8\"?>\n",
       "<svg xmlns=\"http://www.w3.org/2000/svg\" xmlns:xlink=\"http://www.w3.org/1999/xlink\" width=\"600\" height=\"400\" viewBox=\"0 0 2400 1600\">\n",
       "<defs>\n",
       "  <clipPath id=\"clip860\">\n",
       "    <rect x=\"0\" y=\"0\" width=\"2400\" height=\"1600\"/>\n",
       "  </clipPath>\n",
       "</defs>\n",
       "<path clip-path=\"url(#clip860)\" d=\"\n",
       "M0 1600 L2400 1600 L2400 0 L0 0  Z\n",
       "  \" fill=\"#ffffff\" fill-rule=\"evenodd\" fill-opacity=\"1\"/>\n",
       "<defs>\n",
       "  <clipPath id=\"clip861\">\n",
       "    <rect x=\"480\" y=\"0\" width=\"1681\" height=\"1600\"/>\n",
       "  </clipPath>\n",
       "</defs>\n",
       "<path clip-path=\"url(#clip860)\" d=\"\n",
       "M175.445 1423.18 L2352.76 1423.18 L2352.76 47.2441 L175.445 47.2441  Z\n",
       "  \" fill=\"#ffffff\" fill-rule=\"evenodd\" fill-opacity=\"1\"/>\n",
       "<defs>\n",
       "  <clipPath id=\"clip862\">\n",
       "    <rect x=\"175\" y=\"47\" width=\"2178\" height=\"1377\"/>\n",
       "  </clipPath>\n",
       "</defs>\n",
       "<polyline clip-path=\"url(#clip862)\" style=\"stroke:#000000; stroke-linecap:butt; stroke-linejoin:round; stroke-width:2; stroke-opacity:0.1; fill:none\" points=\"\n",
       "  237.067,1423.18 237.067,47.2441 \n",
       "  \"/>\n",
       "<polyline clip-path=\"url(#clip862)\" style=\"stroke:#000000; stroke-linecap:butt; stroke-linejoin:round; stroke-width:2; stroke-opacity:0.1; fill:none\" points=\"\n",
       "  750.584,1423.18 750.584,47.2441 \n",
       "  \"/>\n",
       "<polyline clip-path=\"url(#clip862)\" style=\"stroke:#000000; stroke-linecap:butt; stroke-linejoin:round; stroke-width:2; stroke-opacity:0.1; fill:none\" points=\"\n",
       "  1264.1,1423.18 1264.1,47.2441 \n",
       "  \"/>\n",
       "<polyline clip-path=\"url(#clip862)\" style=\"stroke:#000000; stroke-linecap:butt; stroke-linejoin:round; stroke-width:2; stroke-opacity:0.1; fill:none\" points=\"\n",
       "  1777.62,1423.18 1777.62,47.2441 \n",
       "  \"/>\n",
       "<polyline clip-path=\"url(#clip862)\" style=\"stroke:#000000; stroke-linecap:butt; stroke-linejoin:round; stroke-width:2; stroke-opacity:0.1; fill:none\" points=\"\n",
       "  2291.13,1423.18 2291.13,47.2441 \n",
       "  \"/>\n",
       "<polyline clip-path=\"url(#clip860)\" style=\"stroke:#000000; stroke-linecap:butt; stroke-linejoin:round; stroke-width:4; stroke-opacity:1; fill:none\" points=\"\n",
       "  175.445,1423.18 2352.76,1423.18 \n",
       "  \"/>\n",
       "<polyline clip-path=\"url(#clip860)\" style=\"stroke:#000000; stroke-linecap:butt; stroke-linejoin:round; stroke-width:4; stroke-opacity:1; fill:none\" points=\"\n",
       "  237.067,1423.18 237.067,1404.28 \n",
       "  \"/>\n",
       "<polyline clip-path=\"url(#clip860)\" style=\"stroke:#000000; stroke-linecap:butt; stroke-linejoin:round; stroke-width:4; stroke-opacity:1; fill:none\" points=\"\n",
       "  750.584,1423.18 750.584,1404.28 \n",
       "  \"/>\n",
       "<polyline clip-path=\"url(#clip860)\" style=\"stroke:#000000; stroke-linecap:butt; stroke-linejoin:round; stroke-width:4; stroke-opacity:1; fill:none\" points=\"\n",
       "  1264.1,1423.18 1264.1,1404.28 \n",
       "  \"/>\n",
       "<polyline clip-path=\"url(#clip860)\" style=\"stroke:#000000; stroke-linecap:butt; stroke-linejoin:round; stroke-width:4; stroke-opacity:1; fill:none\" points=\"\n",
       "  1777.62,1423.18 1777.62,1404.28 \n",
       "  \"/>\n",
       "<polyline clip-path=\"url(#clip860)\" style=\"stroke:#000000; stroke-linecap:butt; stroke-linejoin:round; stroke-width:4; stroke-opacity:1; fill:none\" points=\"\n",
       "  2291.13,1423.18 2291.13,1404.28 \n",
       "  \"/>\n",
       "<path clip-path=\"url(#clip860)\" d=\"M207.009 1468.75 L236.685 1468.75 L236.685 1472.69 L207.009 1472.69 L207.009 1468.75 Z\" fill=\"#000000\" fill-rule=\"evenodd\" fill-opacity=\"1\" /><path clip-path=\"url(#clip860)\" d=\"M250.806 1481.64 L267.125 1481.64 L267.125 1485.58 L245.181 1485.58 L245.181 1481.64 Q247.843 1478.89 252.426 1474.26 Q257.032 1469.61 258.213 1468.27 Q260.458 1465.74 261.338 1464.01 Q262.241 1462.25 262.241 1460.56 Q262.241 1457.8 260.296 1456.07 Q258.375 1454.33 255.273 1454.33 Q253.074 1454.33 250.62 1455.09 Q248.19 1455.86 245.412 1457.41 L245.412 1452.69 Q248.236 1451.55 250.69 1450.97 Q253.144 1450.39 255.181 1450.39 Q260.551 1450.39 263.745 1453.08 Q266.94 1455.77 266.94 1460.26 Q266.94 1462.39 266.13 1464.31 Q265.343 1466.2 263.236 1468.8 Q262.657 1469.47 259.556 1472.69 Q256.454 1475.88 250.806 1481.64 Z\" fill=\"#000000\" fill-rule=\"evenodd\" fill-opacity=\"1\" /><path clip-path=\"url(#clip860)\" d=\"M720.341 1468.75 L750.017 1468.75 L750.017 1472.69 L720.341 1472.69 L720.341 1468.75 Z\" fill=\"#000000\" fill-rule=\"evenodd\" fill-opacity=\"1\" /><path clip-path=\"url(#clip860)\" d=\"M760.919 1481.64 L768.558 1481.64 L768.558 1455.28 L760.248 1456.95 L760.248 1452.69 L768.512 1451.02 L773.188 1451.02 L773.188 1481.64 L780.827 1481.64 L780.827 1485.58 L760.919 1485.58 L760.919 1481.64 Z\" fill=\"#000000\" fill-rule=\"evenodd\" fill-opacity=\"1\" /><path clip-path=\"url(#clip860)\" d=\"M1264.1 1454.1 Q1260.49 1454.1 1258.66 1457.66 Q1256.86 1461.2 1256.86 1468.33 Q1256.86 1475.44 1258.66 1479.01 Q1260.49 1482.55 1264.1 1482.55 Q1267.73 1482.55 1269.54 1479.01 Q1271.37 1475.44 1271.37 1468.33 Q1271.37 1461.2 1269.54 1457.66 Q1267.73 1454.1 1264.1 1454.1 M1264.1 1450.39 Q1269.91 1450.39 1272.97 1455 Q1276.04 1459.58 1276.04 1468.33 Q1276.04 1477.06 1272.97 1481.67 Q1269.91 1486.25 1264.1 1486.25 Q1258.29 1486.25 1255.21 1481.67 Q1252.16 1477.06 1252.16 1468.33 Q1252.16 1459.58 1255.21 1455 Q1258.29 1450.39 1264.1 1450.39 Z\" fill=\"#000000\" fill-rule=\"evenodd\" fill-opacity=\"1\" /><path clip-path=\"url(#clip860)\" d=\"M1768 1481.64 L1775.64 1481.64 L1775.64 1455.28 L1767.33 1456.95 L1767.33 1452.69 L1775.59 1451.02 L1780.27 1451.02 L1780.27 1481.64 L1787.91 1481.64 L1787.91 1485.58 L1768 1485.58 L1768 1481.64 Z\" fill=\"#000000\" fill-rule=\"evenodd\" fill-opacity=\"1\" /><path clip-path=\"url(#clip860)\" d=\"M2285.79 1481.64 L2302.11 1481.64 L2302.11 1485.58 L2280.16 1485.58 L2280.16 1481.64 Q2282.82 1478.89 2287.41 1474.26 Q2292.01 1469.61 2293.19 1468.27 Q2295.44 1465.74 2296.32 1464.01 Q2297.22 1462.25 2297.22 1460.56 Q2297.22 1457.8 2295.28 1456.07 Q2293.36 1454.33 2290.25 1454.33 Q2288.06 1454.33 2285.6 1455.09 Q2283.17 1455.86 2280.39 1457.41 L2280.39 1452.69 Q2283.22 1451.55 2285.67 1450.97 Q2288.12 1450.39 2290.16 1450.39 Q2295.53 1450.39 2298.73 1453.08 Q2301.92 1455.77 2301.92 1460.26 Q2301.92 1462.39 2301.11 1464.31 Q2300.32 1466.2 2298.22 1468.8 Q2297.64 1469.47 2294.54 1472.69 Q2291.43 1475.88 2285.79 1481.64 Z\" fill=\"#000000\" fill-rule=\"evenodd\" fill-opacity=\"1\" /><path clip-path=\"url(#clip860)\" d=\"M941.089 1520.52 L971.135 1520.52 L971.135 1525.93 L947.518 1525.93 L947.518 1540 L970.148 1540 L970.148 1545.41 L947.518 1545.41 L947.518 1562.63 L971.708 1562.63 L971.708 1568.04 L941.089 1568.04 L941.089 1520.52 Z\" fill=\"#000000\" fill-rule=\"evenodd\" fill-opacity=\"1\" /><path clip-path=\"url(#clip860)\" d=\"M1000.07 1518.52 L1000.07 1523.39 L994.465 1523.39 Q991.314 1523.39 990.073 1524.66 Q988.863 1525.93 988.863 1529.24 L988.863 1532.4 L998.507 1532.4 L998.507 1536.95 L988.863 1536.95 L988.863 1568.04 L982.975 1568.04 L982.975 1536.95 L977.373 1536.95 L977.373 1532.4 L982.975 1532.4 L982.975 1529.91 Q982.975 1523.96 985.744 1521.26 Q988.513 1518.52 994.529 1518.52 L1000.07 1518.52 Z\" fill=\"#000000\" fill-rule=\"evenodd\" fill-opacity=\"1\" /><path clip-path=\"url(#clip860)\" d=\"M1023.02 1518.52 L1023.02 1523.39 L1017.41 1523.39 Q1014.26 1523.39 1013.02 1524.66 Q1011.81 1525.93 1011.81 1529.24 L1011.81 1532.4 L1021.46 1532.4 L1021.46 1536.95 L1011.81 1536.95 L1011.81 1568.04 L1005.92 1568.04 L1005.92 1536.95 L1000.32 1536.95 L1000.32 1532.4 L1005.92 1532.4 L1005.92 1529.91 Q1005.92 1523.96 1008.69 1521.26 Q1011.46 1518.52 1017.48 1518.52 L1023.02 1518.52 Z\" fill=\"#000000\" fill-rule=\"evenodd\" fill-opacity=\"1\" /><path clip-path=\"url(#clip860)\" d=\"M1058.41 1548.76 L1058.41 1551.62 L1031.48 1551.62 Q1031.86 1557.67 1035.11 1560.85 Q1038.39 1564 1044.21 1564 Q1047.59 1564 1050.74 1563.17 Q1053.92 1562.35 1057.04 1560.69 L1057.04 1566.23 Q1053.89 1567.57 1050.58 1568.27 Q1047.27 1568.97 1043.86 1568.97 Q1035.33 1568.97 1030.34 1564 Q1025.37 1559.04 1025.37 1550.57 Q1025.37 1541.82 1030.08 1536.69 Q1034.82 1531.54 1042.84 1531.54 Q1050.04 1531.54 1054.21 1536.18 Q1058.41 1540.8 1058.41 1548.76 M1052.55 1547.04 Q1052.49 1542.23 1049.85 1539.37 Q1047.24 1536.5 1042.91 1536.5 Q1038.01 1536.5 1035.05 1539.27 Q1032.12 1542.04 1031.67 1547.07 L1052.55 1547.04 Z\" fill=\"#000000\" fill-rule=\"evenodd\" fill-opacity=\"1\" /><path clip-path=\"url(#clip860)\" d=\"M1093.67 1533.76 L1093.67 1539.24 Q1091.19 1537.87 1088.68 1537.2 Q1086.19 1536.5 1083.65 1536.5 Q1077.95 1536.5 1074.8 1540.13 Q1071.65 1543.73 1071.65 1550.25 Q1071.65 1556.78 1074.8 1560.4 Q1077.95 1564 1083.65 1564 Q1086.19 1564 1088.68 1563.33 Q1091.19 1562.63 1093.67 1561.26 L1093.67 1566.68 Q1091.22 1567.82 1088.58 1568.39 Q1085.97 1568.97 1083.01 1568.97 Q1074.96 1568.97 1070.22 1563.91 Q1065.47 1558.85 1065.47 1550.25 Q1065.47 1541.53 1070.25 1536.53 Q1075.05 1531.54 1083.39 1531.54 Q1086.1 1531.54 1088.68 1532.11 Q1091.26 1532.65 1093.67 1533.76 Z\" fill=\"#000000\" fill-rule=\"evenodd\" fill-opacity=\"1\" /><path clip-path=\"url(#clip860)\" d=\"M1109.65 1522.27 L1109.65 1532.4 L1121.72 1532.4 L1121.72 1536.95 L1109.65 1536.95 L1109.65 1556.3 Q1109.65 1560.66 1110.83 1561.9 Q1112.04 1563.14 1115.7 1563.14 L1121.72 1563.14 L1121.72 1568.04 L1115.7 1568.04 Q1108.92 1568.04 1106.34 1565.53 Q1103.76 1562.98 1103.76 1556.3 L1103.76 1536.95 L1099.47 1536.95 L1099.47 1532.4 L1103.76 1532.4 L1103.76 1522.27 L1109.65 1522.27 Z\" fill=\"#000000\" fill-rule=\"evenodd\" fill-opacity=\"1\" /><path clip-path=\"url(#clip860)\" d=\"M1163.95 1536.5 Q1159.24 1536.5 1156.5 1540.19 Q1153.77 1543.85 1153.77 1550.25 Q1153.77 1556.65 1156.47 1560.34 Q1159.21 1564 1163.95 1564 Q1168.63 1564 1171.37 1560.31 Q1174.11 1556.62 1174.11 1550.25 Q1174.11 1543.92 1171.37 1540.23 Q1168.63 1536.5 1163.95 1536.5 M1163.95 1531.54 Q1171.59 1531.54 1175.95 1536.5 Q1180.31 1541.47 1180.31 1550.25 Q1180.31 1559 1175.95 1564 Q1171.59 1568.97 1163.95 1568.97 Q1156.28 1568.97 1151.92 1564 Q1147.59 1559 1147.59 1550.25 Q1147.59 1541.47 1151.92 1536.5 Q1156.28 1531.54 1163.95 1531.54 Z\" fill=\"#000000\" fill-rule=\"evenodd\" fill-opacity=\"1\" /><path clip-path=\"url(#clip860)\" d=\"M1208.07 1518.52 L1208.07 1523.39 L1202.46 1523.39 Q1199.31 1523.39 1198.07 1524.66 Q1196.86 1525.93 1196.86 1529.24 L1196.86 1532.4 L1206.51 1532.4 L1206.51 1536.95 L1196.86 1536.95 L1196.86 1568.04 L1190.97 1568.04 L1190.97 1536.95 L1185.37 1536.95 L1185.37 1532.4 L1190.97 1532.4 L1190.97 1529.91 Q1190.97 1523.96 1193.74 1521.26 Q1196.51 1518.52 1202.53 1518.52 L1208.07 1518.52 Z\" fill=\"#000000\" fill-rule=\"evenodd\" fill-opacity=\"1\" /><path clip-path=\"url(#clip860)\" d=\"M1233.69 1532.4 L1239.54 1532.4 L1239.54 1568.04 L1233.69 1568.04 L1233.69 1532.4 M1233.69 1518.52 L1239.54 1518.52 L1239.54 1525.93 L1233.69 1525.93 L1233.69 1518.52 Z\" fill=\"#000000\" fill-rule=\"evenodd\" fill-opacity=\"1\" /><path clip-path=\"url(#clip860)\" d=\"M1281.43 1546.53 L1281.43 1568.04 L1275.57 1568.04 L1275.57 1546.72 Q1275.57 1541.66 1273.6 1539.14 Q1271.63 1536.63 1267.68 1536.63 Q1262.94 1536.63 1260.2 1539.65 Q1257.46 1542.68 1257.46 1547.9 L1257.46 1568.04 L1251.58 1568.04 L1251.58 1532.4 L1257.46 1532.4 L1257.46 1537.93 Q1259.56 1534.72 1262.4 1533.13 Q1265.26 1531.54 1268.99 1531.54 Q1275.13 1531.54 1278.28 1535.36 Q1281.43 1539.14 1281.43 1546.53 Z\" fill=\"#000000\" fill-rule=\"evenodd\" fill-opacity=\"1\" /><path clip-path=\"url(#clip860)\" d=\"M1315.84 1533.45 L1315.84 1538.98 Q1313.36 1537.71 1310.68 1537.07 Q1308.01 1536.44 1305.14 1536.44 Q1300.78 1536.44 1298.59 1537.77 Q1296.42 1539.11 1296.42 1541.79 Q1296.42 1543.82 1297.98 1545 Q1299.54 1546.15 1304.25 1547.2 L1306.26 1547.64 Q1312.5 1548.98 1315.11 1551.43 Q1317.75 1553.85 1317.75 1558.21 Q1317.75 1563.17 1313.8 1566.07 Q1309.89 1568.97 1303.01 1568.97 Q1300.15 1568.97 1297.03 1568.39 Q1293.94 1567.85 1290.5 1566.74 L1290.5 1560.69 Q1293.75 1562.38 1296.9 1563.24 Q1300.05 1564.07 1303.14 1564.07 Q1307.28 1564.07 1309.5 1562.66 Q1311.73 1561.23 1311.73 1558.65 Q1311.73 1556.27 1310.11 1554.99 Q1308.52 1553.72 1303.07 1552.54 L1301.04 1552.07 Q1295.59 1550.92 1293.18 1548.56 Q1290.76 1546.18 1290.76 1542.04 Q1290.76 1537.01 1294.32 1534.27 Q1297.89 1531.54 1304.44 1531.54 Q1307.69 1531.54 1310.55 1532.01 Q1313.42 1532.49 1315.84 1533.45 Z\" fill=\"#000000\" fill-rule=\"evenodd\" fill-opacity=\"1\" /><path clip-path=\"url(#clip860)\" d=\"M1332.87 1522.27 L1332.87 1532.4 L1344.93 1532.4 L1344.93 1536.95 L1332.87 1536.95 L1332.87 1556.3 Q1332.87 1560.66 1334.04 1561.9 Q1335.25 1563.14 1338.91 1563.14 L1344.93 1563.14 L1344.93 1568.04 L1338.91 1568.04 Q1332.13 1568.04 1329.56 1565.53 Q1326.98 1562.98 1326.98 1556.3 L1326.98 1536.95 L1322.68 1536.95 L1322.68 1532.4 L1326.98 1532.4 L1326.98 1522.27 L1332.87 1522.27 Z\" fill=\"#000000\" fill-rule=\"evenodd\" fill-opacity=\"1\" /><path clip-path=\"url(#clip860)\" d=\"M1352.63 1532.4 L1358.49 1532.4 L1358.49 1568.04 L1352.63 1568.04 L1352.63 1532.4 M1352.63 1518.52 L1358.49 1518.52 L1358.49 1525.93 L1352.63 1525.93 L1352.63 1518.52 Z\" fill=\"#000000\" fill-rule=\"evenodd\" fill-opacity=\"1\" /><path clip-path=\"url(#clip860)\" d=\"M1376.53 1522.27 L1376.53 1532.4 L1388.6 1532.4 L1388.6 1536.95 L1376.53 1536.95 L1376.53 1556.3 Q1376.53 1560.66 1377.71 1561.9 Q1378.92 1563.14 1382.58 1563.14 L1388.6 1563.14 L1388.6 1568.04 L1382.58 1568.04 Q1375.8 1568.04 1373.22 1565.53 Q1370.65 1562.98 1370.65 1556.3 L1370.65 1536.95 L1366.35 1536.95 L1366.35 1532.4 L1370.65 1532.4 L1370.65 1522.27 L1376.53 1522.27 Z\" fill=\"#000000\" fill-rule=\"evenodd\" fill-opacity=\"1\" /><path clip-path=\"url(#clip860)\" d=\"M1395.7 1553.98 L1395.7 1532.4 L1401.55 1532.4 L1401.55 1553.75 Q1401.55 1558.81 1403.53 1561.36 Q1405.5 1563.87 1409.45 1563.87 Q1414.19 1563.87 1416.93 1560.85 Q1419.69 1557.83 1419.69 1552.61 L1419.69 1532.4 L1425.55 1532.4 L1425.55 1568.04 L1419.69 1568.04 L1419.69 1562.57 Q1417.56 1565.82 1414.73 1567.41 Q1411.93 1568.97 1408.2 1568.97 Q1402.06 1568.97 1398.88 1565.15 Q1395.7 1561.33 1395.7 1553.98 M1410.43 1531.54 L1410.43 1531.54 Z\" fill=\"#000000\" fill-rule=\"evenodd\" fill-opacity=\"1\" /><path clip-path=\"url(#clip860)\" d=\"M1443.41 1522.27 L1443.41 1532.4 L1455.47 1532.4 L1455.47 1536.95 L1443.41 1536.95 L1443.41 1556.3 Q1443.41 1560.66 1444.58 1561.9 Q1445.79 1563.14 1449.45 1563.14 L1455.47 1563.14 L1455.47 1568.04 L1449.45 1568.04 Q1442.67 1568.04 1440.1 1565.53 Q1437.52 1562.98 1437.52 1556.3 L1437.52 1536.95 L1433.22 1536.95 L1433.22 1532.4 L1437.52 1532.4 L1437.52 1522.27 L1443.41 1522.27 Z\" fill=\"#000000\" fill-rule=\"evenodd\" fill-opacity=\"1\" /><path clip-path=\"url(#clip860)\" d=\"M1463.17 1532.4 L1469.03 1532.4 L1469.03 1568.04 L1463.17 1568.04 L1463.17 1532.4 M1463.17 1518.52 L1469.03 1518.52 L1469.03 1525.93 L1463.17 1525.93 L1463.17 1518.52 Z\" fill=\"#000000\" fill-rule=\"evenodd\" fill-opacity=\"1\" /><path clip-path=\"url(#clip860)\" d=\"M1495.1 1536.5 Q1490.39 1536.5 1487.65 1540.19 Q1484.91 1543.85 1484.91 1550.25 Q1484.91 1556.65 1487.62 1560.34 Q1490.35 1564 1495.1 1564 Q1499.77 1564 1502.51 1560.31 Q1505.25 1556.62 1505.25 1550.25 Q1505.25 1543.92 1502.51 1540.23 Q1499.77 1536.5 1495.1 1536.5 M1495.1 1531.54 Q1502.73 1531.54 1507.1 1536.5 Q1511.46 1541.47 1511.46 1550.25 Q1511.46 1559 1507.1 1564 Q1502.73 1568.97 1495.1 1568.97 Q1487.43 1568.97 1483.06 1564 Q1478.74 1559 1478.74 1550.25 Q1478.74 1541.47 1483.06 1536.5 Q1487.43 1531.54 1495.1 1531.54 Z\" fill=\"#000000\" fill-rule=\"evenodd\" fill-opacity=\"1\" /><path clip-path=\"url(#clip860)\" d=\"M1550.8 1546.53 L1550.8 1568.04 L1544.94 1568.04 L1544.94 1546.72 Q1544.94 1541.66 1542.97 1539.14 Q1540.99 1536.63 1537.05 1536.63 Q1532.3 1536.63 1529.57 1539.65 Q1526.83 1542.68 1526.83 1547.9 L1526.83 1568.04 L1520.94 1568.04 L1520.94 1532.4 L1526.83 1532.4 L1526.83 1537.93 Q1528.93 1534.72 1531.76 1533.13 Q1534.63 1531.54 1538.35 1531.54 Q1544.49 1531.54 1547.65 1535.36 Q1550.8 1539.14 1550.8 1546.53 Z\" fill=\"#000000\" fill-rule=\"evenodd\" fill-opacity=\"1\" /><path clip-path=\"url(#clip860)\" d=\"M1585.2 1533.45 L1585.2 1538.98 Q1582.72 1537.71 1580.05 1537.07 Q1577.37 1536.44 1574.51 1536.44 Q1570.15 1536.44 1567.95 1537.77 Q1565.79 1539.11 1565.79 1541.79 Q1565.79 1543.82 1567.35 1545 Q1568.91 1546.15 1573.62 1547.2 L1575.62 1547.64 Q1581.86 1548.98 1584.47 1551.43 Q1587.11 1553.85 1587.11 1558.21 Q1587.11 1563.17 1583.17 1566.07 Q1579.25 1568.97 1572.38 1568.97 Q1569.51 1568.97 1566.39 1568.39 Q1563.3 1567.85 1559.87 1566.74 L1559.87 1560.69 Q1563.11 1562.38 1566.26 1563.24 Q1569.42 1564.07 1572.5 1564.07 Q1576.64 1564.07 1578.87 1562.66 Q1581.1 1561.23 1581.1 1558.65 Q1581.1 1556.27 1579.47 1554.99 Q1577.88 1553.72 1572.44 1552.54 L1570.4 1552.07 Q1564.96 1550.92 1562.54 1548.56 Q1560.12 1546.18 1560.12 1542.04 Q1560.12 1537.01 1563.69 1534.27 Q1567.25 1531.54 1573.81 1531.54 Q1577.05 1531.54 1579.92 1532.01 Q1582.78 1532.49 1585.2 1533.45 Z\" fill=\"#000000\" fill-rule=\"evenodd\" fill-opacity=\"1\" /><polyline clip-path=\"url(#clip862)\" style=\"stroke:#000000; stroke-linecap:butt; stroke-linejoin:round; stroke-width:2; stroke-opacity:0.1; fill:none\" points=\"\n",
       "  175.445,1384.25 2352.76,1384.25 \n",
       "  \"/>\n",
       "<polyline clip-path=\"url(#clip862)\" style=\"stroke:#000000; stroke-linecap:butt; stroke-linejoin:round; stroke-width:2; stroke-opacity:0.1; fill:none\" points=\"\n",
       "  175.445,1092.45 2352.76,1092.45 \n",
       "  \"/>\n",
       "<polyline clip-path=\"url(#clip862)\" style=\"stroke:#000000; stroke-linecap:butt; stroke-linejoin:round; stroke-width:2; stroke-opacity:0.1; fill:none\" points=\"\n",
       "  175.445,800.645 2352.76,800.645 \n",
       "  \"/>\n",
       "<polyline clip-path=\"url(#clip862)\" style=\"stroke:#000000; stroke-linecap:butt; stroke-linejoin:round; stroke-width:2; stroke-opacity:0.1; fill:none\" points=\"\n",
       "  175.445,508.842 2352.76,508.842 \n",
       "  \"/>\n",
       "<polyline clip-path=\"url(#clip862)\" style=\"stroke:#000000; stroke-linecap:butt; stroke-linejoin:round; stroke-width:2; stroke-opacity:0.1; fill:none\" points=\"\n",
       "  175.445,217.04 2352.76,217.04 \n",
       "  \"/>\n",
       "<polyline clip-path=\"url(#clip860)\" style=\"stroke:#000000; stroke-linecap:butt; stroke-linejoin:round; stroke-width:4; stroke-opacity:1; fill:none\" points=\"\n",
       "  175.445,1423.18 175.445,47.2441 \n",
       "  \"/>\n",
       "<polyline clip-path=\"url(#clip860)\" style=\"stroke:#000000; stroke-linecap:butt; stroke-linejoin:round; stroke-width:4; stroke-opacity:1; fill:none\" points=\"\n",
       "  175.445,1384.25 194.343,1384.25 \n",
       "  \"/>\n",
       "<polyline clip-path=\"url(#clip860)\" style=\"stroke:#000000; stroke-linecap:butt; stroke-linejoin:round; stroke-width:4; stroke-opacity:1; fill:none\" points=\"\n",
       "  175.445,1092.45 194.343,1092.45 \n",
       "  \"/>\n",
       "<polyline clip-path=\"url(#clip860)\" style=\"stroke:#000000; stroke-linecap:butt; stroke-linejoin:round; stroke-width:4; stroke-opacity:1; fill:none\" points=\"\n",
       "  175.445,800.645 194.343,800.645 \n",
       "  \"/>\n",
       "<polyline clip-path=\"url(#clip860)\" style=\"stroke:#000000; stroke-linecap:butt; stroke-linejoin:round; stroke-width:4; stroke-opacity:1; fill:none\" points=\"\n",
       "  175.445,508.842 194.343,508.842 \n",
       "  \"/>\n",
       "<polyline clip-path=\"url(#clip860)\" style=\"stroke:#000000; stroke-linecap:butt; stroke-linejoin:round; stroke-width:4; stroke-opacity:1; fill:none\" points=\"\n",
       "  175.445,217.04 194.343,217.04 \n",
       "  \"/>\n",
       "<path clip-path=\"url(#clip860)\" d=\"M127.501 1370.05 Q123.89 1370.05 122.061 1373.61 Q120.255 1377.16 120.255 1384.29 Q120.255 1391.39 122.061 1394.96 Q123.89 1398.5 127.501 1398.5 Q131.135 1398.5 132.941 1394.96 Q134.769 1391.39 134.769 1384.29 Q134.769 1377.16 132.941 1373.61 Q131.135 1370.05 127.501 1370.05 M127.501 1366.35 Q133.311 1366.35 136.367 1370.95 Q139.445 1375.54 139.445 1384.29 Q139.445 1393.01 136.367 1397.62 Q133.311 1402.2 127.501 1402.2 Q121.691 1402.2 118.612 1397.62 Q115.556 1393.01 115.556 1384.29 Q115.556 1375.54 118.612 1370.95 Q121.691 1366.35 127.501 1366.35 Z\" fill=\"#000000\" fill-rule=\"evenodd\" fill-opacity=\"1\" /><path clip-path=\"url(#clip860)\" d=\"M123.126 1105.79 L139.445 1105.79 L139.445 1109.73 L117.501 1109.73 L117.501 1105.79 Q120.163 1103.04 124.746 1098.41 Q129.353 1093.76 130.533 1092.41 Q132.779 1089.89 133.658 1088.15 Q134.561 1086.39 134.561 1084.7 Q134.561 1081.95 132.617 1080.21 Q130.695 1078.48 127.593 1078.48 Q125.394 1078.48 122.941 1079.24 Q120.51 1080.01 117.732 1081.56 L117.732 1076.83 Q120.556 1075.7 123.01 1075.12 Q125.464 1074.54 127.501 1074.54 Q132.871 1074.54 136.066 1077.23 Q139.26 1079.91 139.26 1084.4 Q139.26 1086.53 138.45 1088.45 Q137.663 1090.35 135.556 1092.95 Q134.978 1093.62 131.876 1096.83 Q128.774 1100.03 123.126 1105.79 Z\" fill=\"#000000\" fill-rule=\"evenodd\" fill-opacity=\"1\" /><path clip-path=\"url(#clip860)\" d=\"M129.862 787.439 L118.056 805.888 L129.862 805.888 L129.862 787.439 M128.635 783.365 L134.515 783.365 L134.515 805.888 L139.445 805.888 L139.445 809.777 L134.515 809.777 L134.515 817.925 L129.862 817.925 L129.862 809.777 L114.26 809.777 L114.26 805.263 L128.635 783.365 Z\" fill=\"#000000\" fill-rule=\"evenodd\" fill-opacity=\"1\" /><path clip-path=\"url(#clip860)\" d=\"M127.917 506.979 Q124.769 506.979 122.918 509.132 Q121.089 511.285 121.089 515.035 Q121.089 518.761 122.918 520.937 Q124.769 523.09 127.917 523.09 Q131.066 523.09 132.894 520.937 Q134.746 518.761 134.746 515.035 Q134.746 511.285 132.894 509.132 Q131.066 506.979 127.917 506.979 M137.2 492.326 L137.2 496.586 Q135.441 495.752 133.635 495.312 Q131.853 494.873 130.093 494.873 Q125.464 494.873 123.01 497.998 Q120.58 501.123 120.232 507.442 Q121.598 505.428 123.658 504.363 Q125.718 503.275 128.195 503.275 Q133.404 503.275 136.413 506.447 Q139.445 509.595 139.445 515.035 Q139.445 520.359 136.297 523.576 Q133.149 526.794 127.917 526.794 Q121.922 526.794 118.751 522.21 Q115.58 517.604 115.58 508.877 Q115.58 500.683 119.468 495.822 Q123.357 490.937 129.908 490.937 Q131.667 490.937 133.45 491.285 Q135.255 491.632 137.2 492.326 Z\" fill=\"#000000\" fill-rule=\"evenodd\" fill-opacity=\"1\" /><path clip-path=\"url(#clip860)\" d=\"M127.593 217.908 Q124.26 217.908 122.339 219.69 Q120.441 221.473 120.441 224.598 Q120.441 227.723 122.339 229.505 Q124.26 231.287 127.593 231.287 Q130.927 231.287 132.848 229.505 Q134.769 227.699 134.769 224.598 Q134.769 221.473 132.848 219.69 Q130.95 217.908 127.593 217.908 M122.918 215.917 Q119.908 215.176 118.218 213.116 Q116.552 211.056 116.552 208.093 Q116.552 203.95 119.492 201.542 Q122.455 199.135 127.593 199.135 Q132.755 199.135 135.695 201.542 Q138.635 203.95 138.635 208.093 Q138.635 211.056 136.945 213.116 Q135.279 215.176 132.292 215.917 Q135.672 216.704 137.547 218.996 Q139.445 221.287 139.445 224.598 Q139.445 229.621 136.367 232.306 Q133.311 234.991 127.593 234.991 Q121.876 234.991 118.797 232.306 Q115.742 229.621 115.742 224.598 Q115.742 221.287 117.64 218.996 Q119.538 216.704 122.918 215.917 M121.205 208.533 Q121.205 211.218 122.871 212.723 Q124.561 214.227 127.593 214.227 Q130.603 214.227 132.292 212.723 Q134.005 211.218 134.005 208.533 Q134.005 205.848 132.292 204.343 Q130.603 202.838 127.593 202.838 Q124.561 202.838 122.871 204.343 Q121.205 205.848 121.205 208.533 Z\" fill=\"#000000\" fill-rule=\"evenodd\" fill-opacity=\"1\" /><path clip-path=\"url(#clip860)\" d=\"M18.0438 832.464 L24.314 832.464 Q22.5634 836.124 21.704 839.371 Q20.8447 842.617 20.8447 845.641 Q20.8447 850.893 22.8817 853.757 Q24.9187 856.59 28.6745 856.59 Q31.8255 856.59 33.4488 854.712 Q35.0402 852.802 36.0269 847.519 L36.8226 843.636 Q38.1912 836.443 41.6605 833.037 Q45.098 829.599 50.8908 829.599 Q57.7976 829.599 61.3624 834.246 Q64.9272 838.862 64.9272 847.805 Q64.9272 851.179 64.1633 854.999 Q63.3994 858.786 61.9035 862.86 L55.2831 862.86 Q57.4793 858.945 58.5933 855.19 Q59.7073 851.434 59.7073 847.805 Q59.7073 842.299 57.543 839.307 Q55.3786 836.315 51.3682 836.315 Q47.8671 836.315 45.8937 838.48 Q43.9204 840.612 42.9337 845.514 L42.1698 849.429 Q40.7375 856.622 37.682 859.837 Q34.6264 863.051 29.1837 863.051 Q22.8817 863.051 19.2532 858.627 Q15.6248 854.171 15.6248 846.373 Q15.6248 843.031 16.2295 839.562 Q16.8343 836.093 18.0438 832.464 Z\" fill=\"#000000\" fill-rule=\"evenodd\" fill-opacity=\"1\" /><path clip-path=\"url(#clip860)\" d=\"M18.2347 814.035 L28.3562 814.035 L28.3562 801.972 L32.9077 801.972 L32.9077 814.035 L52.2594 814.035 Q56.6199 814.035 57.8613 812.858 Q59.1026 811.648 59.1026 807.988 L59.1026 801.972 L64.0042 801.972 L64.0042 807.988 Q64.0042 814.767 61.4897 817.345 Q58.9434 819.924 52.2594 819.924 L32.9077 819.924 L32.9077 824.22 L28.3562 824.22 L28.3562 819.924 L18.2347 819.924 L18.2347 814.035 Z\" fill=\"#000000\" fill-rule=\"evenodd\" fill-opacity=\"1\" /><path clip-path=\"url(#clip860)\" d=\"M46.0847 778.069 Q46.0847 785.167 47.7079 787.904 Q49.3312 790.641 53.2461 790.641 Q56.3653 790.641 58.2114 788.604 Q60.0256 786.535 60.0256 783.003 Q60.0256 778.133 56.5881 775.205 Q53.1188 772.244 47.3897 772.244 L46.0847 772.244 L46.0847 778.069 M43.6657 766.388 L64.0042 766.388 L64.0042 772.244 L58.5933 772.244 Q61.8398 774.25 63.3994 777.242 Q64.9272 780.233 64.9272 784.562 Q64.9272 790.037 61.8716 793.283 Q58.7843 796.498 53.6281 796.498 Q47.6125 796.498 44.5569 792.487 Q41.5014 788.445 41.5014 780.456 L41.5014 772.244 L40.9285 772.244 Q36.8862 772.244 34.6901 774.918 Q32.4621 777.56 32.4621 782.366 Q32.4621 785.421 33.1941 788.318 Q33.9262 791.214 35.3903 793.888 L29.9795 793.888 Q28.7381 790.673 28.1334 787.649 Q27.4968 784.626 27.4968 781.761 Q27.4968 774.027 31.5072 770.207 Q35.5176 766.388 43.6657 766.388 Z\" fill=\"#000000\" fill-rule=\"evenodd\" fill-opacity=\"1\" /><path clip-path=\"url(#clip860)\" d=\"M18.2347 748.532 L28.3562 748.532 L28.3562 736.469 L32.9077 736.469 L32.9077 748.532 L52.2594 748.532 Q56.6199 748.532 57.8613 747.355 Q59.1026 746.145 59.1026 742.485 L59.1026 736.469 L64.0042 736.469 L64.0042 742.485 Q64.0042 749.264 61.4897 751.842 Q58.9434 754.42 52.2594 754.42 L32.9077 754.42 L32.9077 758.717 L28.3562 758.717 L28.3562 754.42 L18.2347 754.42 L18.2347 748.532 Z\" fill=\"#000000\" fill-rule=\"evenodd\" fill-opacity=\"1\" /><path clip-path=\"url(#clip860)\" d=\"M28.3562 728.767 L28.3562 722.91 L64.0042 722.91 L64.0042 728.767 L28.3562 728.767 M14.479 728.767 L14.479 722.91 L21.895 722.91 L21.895 728.767 L14.479 728.767 Z\" fill=\"#000000\" fill-rule=\"evenodd\" fill-opacity=\"1\" /><path clip-path=\"url(#clip860)\" d=\"M29.4065 687.931 L34.9447 687.931 Q33.6716 690.413 33.035 693.087 Q32.3984 695.761 32.3984 698.625 Q32.3984 702.986 33.7352 705.182 Q35.072 707.346 37.7456 707.346 Q39.7826 707.346 40.9603 705.786 Q42.1061 704.227 43.1565 699.516 L43.6021 697.511 Q44.9389 691.273 47.3897 688.663 Q49.8086 686.021 54.1691 686.021 Q59.1344 686.021 62.0308 689.968 Q64.9272 693.883 64.9272 700.758 Q64.9272 703.622 64.3543 706.741 Q63.8132 709.829 62.6992 713.266 L56.6518 713.266 Q58.3387 710.02 59.198 706.869 Q60.0256 703.718 60.0256 700.63 Q60.0256 696.493 58.6251 694.265 Q57.1929 692.037 54.6147 692.037 Q52.2276 692.037 50.9545 693.66 Q49.6813 695.251 48.5037 700.694 L48.0262 702.731 Q46.8804 708.174 44.5251 710.593 Q42.138 713.012 38.0002 713.012 Q32.9713 713.012 30.2341 709.447 Q27.4968 705.882 27.4968 699.325 Q27.4968 696.079 27.9743 693.214 Q28.4517 690.35 29.4065 687.931 Z\" fill=\"#000000\" fill-rule=\"evenodd\" fill-opacity=\"1\" /><path clip-path=\"url(#clip860)\" d=\"M18.2347 670.902 L28.3562 670.902 L28.3562 658.839 L32.9077 658.839 L32.9077 670.902 L52.2594 670.902 Q56.6199 670.902 57.8613 669.725 Q59.1026 668.515 59.1026 664.855 L59.1026 658.839 L64.0042 658.839 L64.0042 664.855 Q64.0042 671.634 61.4897 674.213 Q58.9434 676.791 52.2594 676.791 L32.9077 676.791 L32.9077 681.088 L28.3562 681.088 L28.3562 676.791 L18.2347 676.791 L18.2347 670.902 Z\" fill=\"#000000\" fill-rule=\"evenodd\" fill-opacity=\"1\" /><path clip-path=\"url(#clip860)\" d=\"M28.3562 651.137 L28.3562 645.28 L64.0042 645.28 L64.0042 651.137 L28.3562 651.137 M14.479 651.137 L14.479 645.28 L21.895 645.28 L21.895 651.137 L14.479 651.137 Z\" fill=\"#000000\" fill-rule=\"evenodd\" fill-opacity=\"1\" /><path clip-path=\"url(#clip860)\" d=\"M29.7248 607.373 L35.1993 607.373 Q33.8307 609.855 33.1623 612.37 Q32.4621 614.852 32.4621 617.399 Q32.4621 623.096 36.0905 626.247 Q39.6872 629.398 46.212 629.398 Q52.7369 629.398 56.3653 626.247 Q59.9619 623.096 59.9619 617.399 Q59.9619 614.852 59.2935 612.37 Q58.5933 609.855 57.2247 607.373 L62.6355 607.373 Q63.7814 609.823 64.3543 612.465 Q64.9272 615.075 64.9272 618.035 Q64.9272 626.088 59.8664 630.83 Q54.8057 635.573 46.212 635.573 Q37.491 635.573 32.4939 630.798 Q27.4968 625.992 27.4968 617.653 Q27.4968 614.948 28.0697 612.37 Q28.6108 609.792 29.7248 607.373 Z\" fill=\"#000000\" fill-rule=\"evenodd\" fill-opacity=\"1\" /><polyline clip-path=\"url(#clip862)\" style=\"stroke:#000000; stroke-linecap:butt; stroke-linejoin:round; stroke-width:4; stroke-opacity:1; fill:none\" points=\"\n",
       "  237.067,385.027 242.202,384.145 247.338,383.258 252.473,382.364 257.608,381.464 262.743,380.558 267.878,379.645 273.013,378.726 278.149,377.8 283.284,376.868 \n",
       "  288.419,375.929 293.554,374.983 298.689,374.03 303.824,373.07 308.96,372.104 314.095,371.13 319.23,370.149 324.365,369.161 329.5,368.166 334.635,367.164 \n",
       "  339.771,366.154 344.906,365.136 350.041,364.111 355.176,363.079 360.311,362.039 365.446,360.991 370.582,359.935 375.717,358.871 380.852,357.799 385.987,356.719 \n",
       "  391.122,355.631 396.257,354.535 401.393,353.43 406.528,352.317 411.663,351.195 416.798,350.065 421.933,348.926 427.068,347.779 432.204,346.622 437.339,345.457 \n",
       "  442.474,344.282 447.609,343.099 452.744,341.906 457.879,340.704 463.015,339.492 468.15,338.271 473.285,337.041 478.42,335.8 483.555,334.55 488.69,333.29 \n",
       "  493.826,332.02 498.961,330.74 504.096,329.45 509.231,328.149 514.366,326.839 519.501,325.517 524.637,324.185 529.772,322.842 534.907,321.489 540.042,320.124 \n",
       "  545.177,318.749 550.312,317.362 555.448,315.965 560.583,314.555 565.718,313.135 570.853,311.703 575.988,310.259 581.123,308.803 586.259,307.336 591.394,305.856 \n",
       "  596.529,304.365 601.664,302.861 606.799,301.345 611.934,299.816 617.07,298.275 622.205,296.721 627.34,295.154 632.475,293.575 637.61,291.982 642.745,290.377 \n",
       "  647.881,288.758 653.016,287.126 658.151,285.48 663.286,283.821 668.421,282.148 673.556,280.461 678.692,278.761 683.827,277.047 688.962,275.318 694.097,273.575 \n",
       "  699.232,271.819 704.367,270.047 709.503,268.262 714.638,266.461 719.773,264.646 724.908,262.817 730.043,260.972 735.178,259.113 740.314,257.239 745.449,255.35 \n",
       "  750.584,253.445 755.719,251.526 760.854,249.591 765.989,247.642 771.125,245.676 776.26,243.696 781.395,241.7 786.53,239.689 791.665,237.662 796.8,235.621 \n",
       "  801.936,233.563 807.071,231.491 812.206,229.403 817.341,227.3 822.476,225.181 827.611,223.047 832.747,220.899 837.882,218.735 843.017,216.556 848.152,214.363 \n",
       "  853.287,212.155 858.422,209.933 863.558,207.696 868.693,205.445 873.828,203.181 878.963,200.903 884.098,198.611 889.233,196.307 894.369,193.99 899.504,191.66 \n",
       "  904.639,189.319 909.774,186.966 914.909,184.603 920.044,182.228 925.18,179.844 930.315,177.451 935.45,175.049 940.585,172.639 945.72,170.222 950.855,167.798 \n",
       "  955.991,165.369 961.126,162.935 966.261,160.498 971.396,158.058 976.531,155.616 981.666,153.175 986.802,150.734 991.937,148.296 997.072,145.862 1002.21,143.434 \n",
       "  1007.34,141.013 1012.48,138.601 1017.61,136.2 1022.75,133.812 1027.88,131.44 1033.02,129.085 1038.15,126.75 1043.29,124.438 1048.42,122.151 1053.56,119.893 \n",
       "  1058.69,117.666 1063.83,115.475 1068.96,113.322 1074.1,111.211 1079.23,109.147 1084.37,107.133 1089.5,105.174 1094.64,103.275 1099.78,101.441 1104.91,99.6777 \n",
       "  1110.05,97.9898 1115.18,96.3838 1120.32,94.8659 1125.45,93.4429 1130.59,92.1217 1135.72,90.9099 1140.86,89.8152 1145.99,88.8459 1151.13,88.0108 1156.26,87.3191 \n",
       "  1161.4,86.7802 1166.53,86.4045 1171.67,86.2026 1176.8,86.1857 1181.94,86.3654 1187.07,86.7542 1192.21,87.3648 1197.34,88.2107 1202.48,89.306 1207.61,90.6653 \n",
       "  1212.75,92.3038 1217.88,94.2375 1223.02,96.4828 1228.15,99.0567 1233.29,101.977 1238.42,105.262 1243.56,108.93 1248.7,113 1253.83,117.493 1258.97,122.429 \n",
       "  1264.1,127.828 1269.24,133.71 1274.37,140.098 1279.51,147.012 1284.64,154.474 1289.78,162.504 1294.91,171.124 1300.05,180.354 1305.18,190.215 1310.32,200.726 \n",
       "  1315.45,211.905 1320.59,223.769 1325.72,236.336 1330.86,249.618 1335.99,263.63 1341.13,278.382 1346.26,293.881 1351.4,310.135 1356.53,327.145 1361.67,344.912 \n",
       "  1366.8,363.432 1371.94,382.699 1377.07,402.7 1382.21,423.422 1387.34,444.845 1392.48,466.945 1397.61,489.694 1402.75,513.061 1407.89,537.008 1413.02,561.493 \n",
       "  1418.16,586.472 1423.29,611.893 1428.43,637.705 1433.56,663.848 1438.7,690.263 1443.83,716.886 1448.97,743.652 1454.1,770.493 1459.24,797.34 1464.37,824.123 \n",
       "  1469.51,850.773 1474.64,877.221 1479.78,903.398 1484.91,929.238 1490.05,954.677 1495.18,979.653 1500.32,1004.11 1505.45,1027.99 1510.59,1051.24 1515.72,1073.82 \n",
       "  1520.86,1095.68 1525.99,1116.8 1531.13,1137.13 1536.26,1156.65 1541.4,1175.33 1546.53,1193.17 1551.67,1210.14 1556.81,1226.25 1561.94,1241.48 1567.08,1255.83 \n",
       "  1572.21,1269.32 1577.35,1281.94 1582.48,1293.71 1587.62,1304.64 1592.75,1314.76 1597.89,1324.07 1603.02,1332.6 1608.16,1340.38 1613.29,1347.41 1618.43,1353.75 \n",
       "  1623.56,1359.39 1628.7,1364.38 1633.83,1368.74 1638.97,1372.5 1644.1,1375.69 1649.24,1378.33 1654.37,1380.44 1659.51,1382.07 1664.64,1383.23 1669.78,1383.94 \n",
       "  1674.91,1384.24 1680.05,1384.14 1685.18,1383.68 1690.32,1382.87 1695.45,1381.74 1700.59,1380.3 1705.72,1378.58 1710.86,1376.6 1716,1374.37 1721.13,1371.92 \n",
       "  1726.27,1369.25 1731.4,1366.39 1736.54,1363.35 1741.67,1360.15 1746.81,1356.79 1751.94,1353.29 1757.08,1349.67 1762.21,1345.94 1767.35,1342.1 1772.48,1338.16 \n",
       "  1777.62,1334.14 1782.75,1330.05 1787.89,1325.89 1793.02,1321.67 1798.16,1317.39 1803.29,1313.08 1808.43,1308.72 1813.56,1304.33 1818.7,1299.92 1823.83,1295.48 \n",
       "  1828.97,1291.03 1834.1,1286.56 1839.24,1282.09 1844.37,1277.62 1849.51,1273.14 1854.64,1268.67 1859.78,1264.2 1864.92,1259.75 1870.05,1255.3 1875.19,1250.87 \n",
       "  1880.32,1246.46 1885.46,1242.06 1890.59,1237.69 1895.73,1233.34 1900.86,1229.01 1906,1224.71 1911.13,1220.43 1916.27,1216.18 1921.4,1211.96 1926.54,1207.78 \n",
       "  1931.67,1203.62 1936.81,1199.49 1941.94,1195.4 1947.08,1191.34 1952.21,1187.31 1957.35,1183.32 1962.48,1179.36 1967.62,1175.44 1972.75,1171.55 1977.89,1167.7 \n",
       "  1983.02,1163.88 1988.16,1160.1 1993.29,1156.35 1998.43,1152.64 2003.56,1148.97 2008.7,1145.33 2013.83,1141.73 2018.97,1138.16 2024.11,1134.63 2029.24,1131.13 \n",
       "  2034.38,1127.67 2039.51,1124.24 2044.65,1120.85 2049.78,1117.49 2054.92,1114.17 2060.05,1110.88 2065.19,1107.63 2070.32,1104.41 2075.46,1101.22 2080.59,1098.07 \n",
       "  2085.73,1094.95 2090.86,1091.86 2096,1088.81 2101.13,1085.78 2106.27,1082.79 2111.4,1079.83 2116.54,1076.9 2121.67,1074.01 2126.81,1071.14 2131.94,1068.3 \n",
       "  2137.08,1065.49 2142.21,1062.72 2147.35,1059.97 2152.48,1057.25 2157.62,1054.56 2162.75,1051.89 2167.89,1049.26 2173.03,1046.65 2178.16,1044.07 2183.3,1041.52 \n",
       "  2188.43,1038.99 2193.57,1036.49 2198.7,1034.01 2203.84,1031.56 2208.97,1029.14 2214.11,1026.74 2219.24,1024.37 2224.38,1022.02 2229.51,1019.69 2234.65,1017.39 \n",
       "  2239.78,1015.11 2244.92,1012.86 2250.05,1010.62 2255.19,1008.41 2260.32,1006.23 2265.46,1004.06 2270.59,1001.92 2275.73,999.796 2280.86,997.696 2286,995.616 \n",
       "  2291.13,993.557 \n",
       "  \"/>\n",
       "<polyline clip-path=\"url(#clip862)\" style=\"stroke:#ff0000; stroke-linecap:butt; stroke-linejoin:round; stroke-width:4; stroke-opacity:1; fill:none\" stroke-dasharray=\"16, 10\" points=\"\n",
       "  1464.37,2799.12 1464.37,-1328.69 \n",
       "  \"/>\n",
       "<polyline clip-path=\"url(#clip862)\" style=\"stroke:#ff0000; stroke-linecap:butt; stroke-linejoin:round; stroke-width:4; stroke-opacity:1; fill:none\" stroke-dasharray=\"16, 10\" points=\"\n",
       "  2291.13,2799.12 2291.13,-1328.69 \n",
       "  \"/>\n",
       "<polyline clip-path=\"url(#clip862)\" style=\"stroke:#87ceeb; stroke-linecap:butt; stroke-linejoin:round; stroke-width:4; stroke-opacity:1; fill:none\" stroke-dasharray=\"16, 10\" points=\"\n",
       "  -2001.87,823.777 4530.07,823.777 \n",
       "  \"/>\n",
       "<path clip-path=\"url(#clip860)\" d=\"\n",
       "M1984.11 352.309 L2280.18 352.309 L2280.18 93.1086 L1984.11 93.1086  Z\n",
       "  \" fill=\"#ffffff\" fill-rule=\"evenodd\" fill-opacity=\"1\"/>\n",
       "<polyline clip-path=\"url(#clip860)\" style=\"stroke:#000000; stroke-linecap:butt; stroke-linejoin:round; stroke-width:4; stroke-opacity:1; fill:none\" points=\"\n",
       "  1984.11,352.309 2280.18,352.309 2280.18,93.1086 1984.11,93.1086 1984.11,352.309 \n",
       "  \"/>\n",
       "<polyline clip-path=\"url(#clip860)\" style=\"stroke:#000000; stroke-linecap:butt; stroke-linejoin:round; stroke-width:4; stroke-opacity:1; fill:none\" points=\"\n",
       "  2008.3,144.949 2153.46,144.949 \n",
       "  \"/>\n",
       "<path clip-path=\"url(#clip860)\" d=\"M2191.49 164.636 Q2189.69 169.266 2187.97 170.678 Q2186.26 172.09 2183.39 172.09 L2179.99 172.09 L2179.99 168.525 L2182.49 168.525 Q2184.25 168.525 2185.22 167.692 Q2186.19 166.858 2187.37 163.756 L2188.14 161.812 L2177.65 136.303 L2182.16 136.303 L2190.27 156.581 L2198.37 136.303 L2202.88 136.303 L2191.49 164.636 Z\" fill=\"#000000\" fill-rule=\"evenodd\" fill-opacity=\"1\" /><path clip-path=\"url(#clip860)\" d=\"M2210.17 158.293 L2217.81 158.293 L2217.81 131.928 L2209.5 133.595 L2209.5 129.335 L2217.77 127.669 L2222.44 127.669 L2222.44 158.293 L2230.08 158.293 L2230.08 162.229 L2210.17 162.229 L2210.17 158.293 Z\" fill=\"#000000\" fill-rule=\"evenodd\" fill-opacity=\"1\" /><polyline clip-path=\"url(#clip860)\" style=\"stroke:#ff0000; stroke-linecap:butt; stroke-linejoin:round; stroke-width:4; stroke-opacity:1; fill:none\" stroke-dasharray=\"16, 10\" points=\"\n",
       "  2008.3,196.789 2153.46,196.789 \n",
       "  \"/>\n",
       "<path clip-path=\"url(#clip860)\" d=\"M2178.32 210.133 L2185.96 210.133 L2185.96 183.768 L2177.65 185.435 L2177.65 181.175 L2185.91 179.509 L2190.59 179.509 L2190.59 210.133 L2198.23 210.133 L2198.23 214.069 L2178.32 214.069 L2178.32 210.133 Z\" fill=\"#000000\" fill-rule=\"evenodd\" fill-opacity=\"1\" /><polyline clip-path=\"url(#clip860)\" style=\"stroke:#ff0000; stroke-linecap:butt; stroke-linejoin:round; stroke-width:4; stroke-opacity:1; fill:none\" stroke-dasharray=\"16, 10\" points=\"\n",
       "  2008.3,248.629 2153.46,248.629 \n",
       "  \"/>\n",
       "<path clip-path=\"url(#clip860)\" d=\"M2183.28 261.973 L2199.6 261.973 L2199.6 265.909 L2177.65 265.909 L2177.65 261.973 Q2180.31 259.219 2184.9 254.589 Q2189.5 249.936 2190.68 248.594 Q2192.93 246.071 2193.81 244.335 Q2194.71 242.575 2194.71 240.886 Q2194.71 238.131 2192.77 236.395 Q2190.85 234.659 2187.74 234.659 Q2185.54 234.659 2183.09 235.423 Q2180.66 236.187 2177.88 237.737 L2177.88 233.015 Q2180.71 231.881 2183.16 231.302 Q2185.61 230.724 2187.65 230.724 Q2193.02 230.724 2196.22 233.409 Q2199.41 236.094 2199.41 240.585 Q2199.41 242.714 2198.6 244.636 Q2197.81 246.534 2195.71 249.126 Q2195.13 249.798 2192.03 253.015 Q2188.92 256.21 2183.28 261.973 Z\" fill=\"#000000\" fill-rule=\"evenodd\" fill-opacity=\"1\" /><polyline clip-path=\"url(#clip860)\" style=\"stroke:#87ceeb; stroke-linecap:butt; stroke-linejoin:round; stroke-width:4; stroke-opacity:1; fill:none\" stroke-dasharray=\"16, 10\" points=\"\n",
       "  2008.3,300.469 2153.46,300.469 \n",
       "  \"/>\n",
       "<path clip-path=\"url(#clip860)\" d=\"M2191.49 320.156 Q2189.69 324.786 2187.97 326.198 Q2186.26 327.61 2183.39 327.61 L2179.99 327.61 L2179.99 324.045 L2182.49 324.045 Q2184.25 324.045 2185.22 323.212 Q2186.19 322.378 2187.37 319.276 L2188.14 317.332 L2177.65 291.823 L2182.16 291.823 L2190.27 312.101 L2198.37 291.823 L2202.88 291.823 L2191.49 320.156 Z\" fill=\"#000000\" fill-rule=\"evenodd\" fill-opacity=\"1\" /><path clip-path=\"url(#clip860)\" d=\"M2222.21 287.263 L2210.41 305.712 L2222.21 305.712 L2222.21 287.263 M2220.98 283.189 L2226.86 283.189 L2226.86 305.712 L2231.79 305.712 L2231.79 309.601 L2226.86 309.601 L2226.86 317.749 L2222.21 317.749 L2222.21 309.601 L2206.61 309.601 L2206.61 305.087 L2220.98 283.189 Z\" fill=\"#000000\" fill-rule=\"evenodd\" fill-opacity=\"1\" /></svg>\n"
      ]
     },
     "execution_count": 212,
     "metadata": {},
     "output_type": "execute_result"
    }
   ],
   "source": [
    "DML_AR_PLIV(data1[!,1], data1[!,2], data1[!,3], collect(range( -2, 2.001, step = 0.01 )), 0.05 )"
   ]
  },
  {
   "cell_type": "code",
   "execution_count": 214,
   "id": "9993f902",
   "metadata": {},
   "outputs": [
    {
     "name": "stdout",
     "output_type": "stream",
     "text": [
      "UB =2.0LB =0.34\n"
     ]
    },
    {
     "data": {
      "image/svg+xml": [
       "<?xml version=\"1.0\" encoding=\"utf-8\"?>\n",
       "<svg xmlns=\"http://www.w3.org/2000/svg\" xmlns:xlink=\"http://www.w3.org/1999/xlink\" width=\"600\" height=\"400\" viewBox=\"0 0 2400 1600\">\n",
       "<defs>\n",
       "  <clipPath id=\"clip900\">\n",
       "    <rect x=\"0\" y=\"0\" width=\"2400\" height=\"1600\"/>\n",
       "  </clipPath>\n",
       "</defs>\n",
       "<path clip-path=\"url(#clip900)\" d=\"\n",
       "M0 1600 L2400 1600 L2400 0 L0 0  Z\n",
       "  \" fill=\"#ffffff\" fill-rule=\"evenodd\" fill-opacity=\"1\"/>\n",
       "<defs>\n",
       "  <clipPath id=\"clip901\">\n",
       "    <rect x=\"480\" y=\"0\" width=\"1681\" height=\"1600\"/>\n",
       "  </clipPath>\n",
       "</defs>\n",
       "<path clip-path=\"url(#clip900)\" d=\"\n",
       "M175.445 1423.18 L2352.76 1423.18 L2352.76 47.2441 L175.445 47.2441  Z\n",
       "  \" fill=\"#ffffff\" fill-rule=\"evenodd\" fill-opacity=\"1\"/>\n",
       "<defs>\n",
       "  <clipPath id=\"clip902\">\n",
       "    <rect x=\"175\" y=\"47\" width=\"2178\" height=\"1377\"/>\n",
       "  </clipPath>\n",
       "</defs>\n",
       "<polyline clip-path=\"url(#clip902)\" style=\"stroke:#000000; stroke-linecap:butt; stroke-linejoin:round; stroke-width:2; stroke-opacity:0.1; fill:none\" points=\"\n",
       "  237.067,1423.18 237.067,47.2441 \n",
       "  \"/>\n",
       "<polyline clip-path=\"url(#clip902)\" style=\"stroke:#000000; stroke-linecap:butt; stroke-linejoin:round; stroke-width:2; stroke-opacity:0.1; fill:none\" points=\"\n",
       "  750.584,1423.18 750.584,47.2441 \n",
       "  \"/>\n",
       "<polyline clip-path=\"url(#clip902)\" style=\"stroke:#000000; stroke-linecap:butt; stroke-linejoin:round; stroke-width:2; stroke-opacity:0.1; fill:none\" points=\"\n",
       "  1264.1,1423.18 1264.1,47.2441 \n",
       "  \"/>\n",
       "<polyline clip-path=\"url(#clip902)\" style=\"stroke:#000000; stroke-linecap:butt; stroke-linejoin:round; stroke-width:2; stroke-opacity:0.1; fill:none\" points=\"\n",
       "  1777.62,1423.18 1777.62,47.2441 \n",
       "  \"/>\n",
       "<polyline clip-path=\"url(#clip902)\" style=\"stroke:#000000; stroke-linecap:butt; stroke-linejoin:round; stroke-width:2; stroke-opacity:0.1; fill:none\" points=\"\n",
       "  2291.13,1423.18 2291.13,47.2441 \n",
       "  \"/>\n",
       "<polyline clip-path=\"url(#clip900)\" style=\"stroke:#000000; stroke-linecap:butt; stroke-linejoin:round; stroke-width:4; stroke-opacity:1; fill:none\" points=\"\n",
       "  175.445,1423.18 2352.76,1423.18 \n",
       "  \"/>\n",
       "<polyline clip-path=\"url(#clip900)\" style=\"stroke:#000000; stroke-linecap:butt; stroke-linejoin:round; stroke-width:4; stroke-opacity:1; fill:none\" points=\"\n",
       "  237.067,1423.18 237.067,1404.28 \n",
       "  \"/>\n",
       "<polyline clip-path=\"url(#clip900)\" style=\"stroke:#000000; stroke-linecap:butt; stroke-linejoin:round; stroke-width:4; stroke-opacity:1; fill:none\" points=\"\n",
       "  750.584,1423.18 750.584,1404.28 \n",
       "  \"/>\n",
       "<polyline clip-path=\"url(#clip900)\" style=\"stroke:#000000; stroke-linecap:butt; stroke-linejoin:round; stroke-width:4; stroke-opacity:1; fill:none\" points=\"\n",
       "  1264.1,1423.18 1264.1,1404.28 \n",
       "  \"/>\n",
       "<polyline clip-path=\"url(#clip900)\" style=\"stroke:#000000; stroke-linecap:butt; stroke-linejoin:round; stroke-width:4; stroke-opacity:1; fill:none\" points=\"\n",
       "  1777.62,1423.18 1777.62,1404.28 \n",
       "  \"/>\n",
       "<polyline clip-path=\"url(#clip900)\" style=\"stroke:#000000; stroke-linecap:butt; stroke-linejoin:round; stroke-width:4; stroke-opacity:1; fill:none\" points=\"\n",
       "  2291.13,1423.18 2291.13,1404.28 \n",
       "  \"/>\n",
       "<path clip-path=\"url(#clip900)\" d=\"M207.009 1468.75 L236.685 1468.75 L236.685 1472.69 L207.009 1472.69 L207.009 1468.75 Z\" fill=\"#000000\" fill-rule=\"evenodd\" fill-opacity=\"1\" /><path clip-path=\"url(#clip900)\" d=\"M250.806 1481.64 L267.125 1481.64 L267.125 1485.58 L245.181 1485.58 L245.181 1481.64 Q247.843 1478.89 252.426 1474.26 Q257.032 1469.61 258.213 1468.27 Q260.458 1465.74 261.338 1464.01 Q262.241 1462.25 262.241 1460.56 Q262.241 1457.8 260.296 1456.07 Q258.375 1454.33 255.273 1454.33 Q253.074 1454.33 250.62 1455.09 Q248.19 1455.86 245.412 1457.41 L245.412 1452.69 Q248.236 1451.55 250.69 1450.97 Q253.144 1450.39 255.181 1450.39 Q260.551 1450.39 263.745 1453.08 Q266.94 1455.77 266.94 1460.26 Q266.94 1462.39 266.13 1464.31 Q265.343 1466.2 263.236 1468.8 Q262.657 1469.47 259.556 1472.69 Q256.454 1475.88 250.806 1481.64 Z\" fill=\"#000000\" fill-rule=\"evenodd\" fill-opacity=\"1\" /><path clip-path=\"url(#clip900)\" d=\"M720.341 1468.75 L750.017 1468.75 L750.017 1472.69 L720.341 1472.69 L720.341 1468.75 Z\" fill=\"#000000\" fill-rule=\"evenodd\" fill-opacity=\"1\" /><path clip-path=\"url(#clip900)\" d=\"M760.919 1481.64 L768.558 1481.64 L768.558 1455.28 L760.248 1456.95 L760.248 1452.69 L768.512 1451.02 L773.188 1451.02 L773.188 1481.64 L780.827 1481.64 L780.827 1485.58 L760.919 1485.58 L760.919 1481.64 Z\" fill=\"#000000\" fill-rule=\"evenodd\" fill-opacity=\"1\" /><path clip-path=\"url(#clip900)\" d=\"M1264.1 1454.1 Q1260.49 1454.1 1258.66 1457.66 Q1256.86 1461.2 1256.86 1468.33 Q1256.86 1475.44 1258.66 1479.01 Q1260.49 1482.55 1264.1 1482.55 Q1267.73 1482.55 1269.54 1479.01 Q1271.37 1475.44 1271.37 1468.33 Q1271.37 1461.2 1269.54 1457.66 Q1267.73 1454.1 1264.1 1454.1 M1264.1 1450.39 Q1269.91 1450.39 1272.97 1455 Q1276.04 1459.58 1276.04 1468.33 Q1276.04 1477.06 1272.97 1481.67 Q1269.91 1486.25 1264.1 1486.25 Q1258.29 1486.25 1255.21 1481.67 Q1252.16 1477.06 1252.16 1468.33 Q1252.16 1459.58 1255.21 1455 Q1258.29 1450.39 1264.1 1450.39 Z\" fill=\"#000000\" fill-rule=\"evenodd\" fill-opacity=\"1\" /><path clip-path=\"url(#clip900)\" d=\"M1768 1481.64 L1775.64 1481.64 L1775.64 1455.28 L1767.33 1456.95 L1767.33 1452.69 L1775.59 1451.02 L1780.27 1451.02 L1780.27 1481.64 L1787.91 1481.64 L1787.91 1485.58 L1768 1485.58 L1768 1481.64 Z\" fill=\"#000000\" fill-rule=\"evenodd\" fill-opacity=\"1\" /><path clip-path=\"url(#clip900)\" d=\"M2285.79 1481.64 L2302.11 1481.64 L2302.11 1485.58 L2280.16 1485.58 L2280.16 1481.64 Q2282.82 1478.89 2287.41 1474.26 Q2292.01 1469.61 2293.19 1468.27 Q2295.44 1465.74 2296.32 1464.01 Q2297.22 1462.25 2297.22 1460.56 Q2297.22 1457.8 2295.28 1456.07 Q2293.36 1454.33 2290.25 1454.33 Q2288.06 1454.33 2285.6 1455.09 Q2283.17 1455.86 2280.39 1457.41 L2280.39 1452.69 Q2283.22 1451.55 2285.67 1450.97 Q2288.12 1450.39 2290.16 1450.39 Q2295.53 1450.39 2298.73 1453.08 Q2301.92 1455.77 2301.92 1460.26 Q2301.92 1462.39 2301.11 1464.31 Q2300.32 1466.2 2298.22 1468.8 Q2297.64 1469.47 2294.54 1472.69 Q2291.43 1475.88 2285.79 1481.64 Z\" fill=\"#000000\" fill-rule=\"evenodd\" fill-opacity=\"1\" /><path clip-path=\"url(#clip900)\" d=\"M941.089 1520.52 L971.135 1520.52 L971.135 1525.93 L947.518 1525.93 L947.518 1540 L970.148 1540 L970.148 1545.41 L947.518 1545.41 L947.518 1562.63 L971.708 1562.63 L971.708 1568.04 L941.089 1568.04 L941.089 1520.52 Z\" fill=\"#000000\" fill-rule=\"evenodd\" fill-opacity=\"1\" /><path clip-path=\"url(#clip900)\" d=\"M1000.07 1518.52 L1000.07 1523.39 L994.465 1523.39 Q991.314 1523.39 990.073 1524.66 Q988.863 1525.93 988.863 1529.24 L988.863 1532.4 L998.507 1532.4 L998.507 1536.95 L988.863 1536.95 L988.863 1568.04 L982.975 1568.04 L982.975 1536.95 L977.373 1536.95 L977.373 1532.4 L982.975 1532.4 L982.975 1529.91 Q982.975 1523.96 985.744 1521.26 Q988.513 1518.52 994.529 1518.52 L1000.07 1518.52 Z\" fill=\"#000000\" fill-rule=\"evenodd\" fill-opacity=\"1\" /><path clip-path=\"url(#clip900)\" d=\"M1023.02 1518.52 L1023.02 1523.39 L1017.41 1523.39 Q1014.26 1523.39 1013.02 1524.66 Q1011.81 1525.93 1011.81 1529.24 L1011.81 1532.4 L1021.46 1532.4 L1021.46 1536.95 L1011.81 1536.95 L1011.81 1568.04 L1005.92 1568.04 L1005.92 1536.95 L1000.32 1536.95 L1000.32 1532.4 L1005.92 1532.4 L1005.92 1529.91 Q1005.92 1523.96 1008.69 1521.26 Q1011.46 1518.52 1017.48 1518.52 L1023.02 1518.52 Z\" fill=\"#000000\" fill-rule=\"evenodd\" fill-opacity=\"1\" /><path clip-path=\"url(#clip900)\" d=\"M1058.41 1548.76 L1058.41 1551.62 L1031.48 1551.62 Q1031.86 1557.67 1035.11 1560.85 Q1038.39 1564 1044.21 1564 Q1047.59 1564 1050.74 1563.17 Q1053.92 1562.35 1057.04 1560.69 L1057.04 1566.23 Q1053.89 1567.57 1050.58 1568.27 Q1047.27 1568.97 1043.86 1568.97 Q1035.33 1568.97 1030.34 1564 Q1025.37 1559.04 1025.37 1550.57 Q1025.37 1541.82 1030.08 1536.69 Q1034.82 1531.54 1042.84 1531.54 Q1050.04 1531.54 1054.21 1536.18 Q1058.41 1540.8 1058.41 1548.76 M1052.55 1547.04 Q1052.49 1542.23 1049.85 1539.37 Q1047.24 1536.5 1042.91 1536.5 Q1038.01 1536.5 1035.05 1539.27 Q1032.12 1542.04 1031.67 1547.07 L1052.55 1547.04 Z\" fill=\"#000000\" fill-rule=\"evenodd\" fill-opacity=\"1\" /><path clip-path=\"url(#clip900)\" d=\"M1093.67 1533.76 L1093.67 1539.24 Q1091.19 1537.87 1088.68 1537.2 Q1086.19 1536.5 1083.65 1536.5 Q1077.95 1536.5 1074.8 1540.13 Q1071.65 1543.73 1071.65 1550.25 Q1071.65 1556.78 1074.8 1560.4 Q1077.95 1564 1083.65 1564 Q1086.19 1564 1088.68 1563.33 Q1091.19 1562.63 1093.67 1561.26 L1093.67 1566.68 Q1091.22 1567.82 1088.58 1568.39 Q1085.97 1568.97 1083.01 1568.97 Q1074.96 1568.97 1070.22 1563.91 Q1065.47 1558.85 1065.47 1550.25 Q1065.47 1541.53 1070.25 1536.53 Q1075.05 1531.54 1083.39 1531.54 Q1086.1 1531.54 1088.68 1532.11 Q1091.26 1532.65 1093.67 1533.76 Z\" fill=\"#000000\" fill-rule=\"evenodd\" fill-opacity=\"1\" /><path clip-path=\"url(#clip900)\" d=\"M1109.65 1522.27 L1109.65 1532.4 L1121.72 1532.4 L1121.72 1536.95 L1109.65 1536.95 L1109.65 1556.3 Q1109.65 1560.66 1110.83 1561.9 Q1112.04 1563.14 1115.7 1563.14 L1121.72 1563.14 L1121.72 1568.04 L1115.7 1568.04 Q1108.92 1568.04 1106.34 1565.53 Q1103.76 1562.98 1103.76 1556.3 L1103.76 1536.95 L1099.47 1536.95 L1099.47 1532.4 L1103.76 1532.4 L1103.76 1522.27 L1109.65 1522.27 Z\" fill=\"#000000\" fill-rule=\"evenodd\" fill-opacity=\"1\" /><path clip-path=\"url(#clip900)\" d=\"M1163.95 1536.5 Q1159.24 1536.5 1156.5 1540.19 Q1153.77 1543.85 1153.77 1550.25 Q1153.77 1556.65 1156.47 1560.34 Q1159.21 1564 1163.95 1564 Q1168.63 1564 1171.37 1560.31 Q1174.11 1556.62 1174.11 1550.25 Q1174.11 1543.92 1171.37 1540.23 Q1168.63 1536.5 1163.95 1536.5 M1163.95 1531.54 Q1171.59 1531.54 1175.95 1536.5 Q1180.31 1541.47 1180.31 1550.25 Q1180.31 1559 1175.95 1564 Q1171.59 1568.97 1163.95 1568.97 Q1156.28 1568.97 1151.92 1564 Q1147.59 1559 1147.59 1550.25 Q1147.59 1541.47 1151.92 1536.5 Q1156.28 1531.54 1163.95 1531.54 Z\" fill=\"#000000\" fill-rule=\"evenodd\" fill-opacity=\"1\" /><path clip-path=\"url(#clip900)\" d=\"M1208.07 1518.52 L1208.07 1523.39 L1202.46 1523.39 Q1199.31 1523.39 1198.07 1524.66 Q1196.86 1525.93 1196.86 1529.24 L1196.86 1532.4 L1206.51 1532.4 L1206.51 1536.95 L1196.86 1536.95 L1196.86 1568.04 L1190.97 1568.04 L1190.97 1536.95 L1185.37 1536.95 L1185.37 1532.4 L1190.97 1532.4 L1190.97 1529.91 Q1190.97 1523.96 1193.74 1521.26 Q1196.51 1518.52 1202.53 1518.52 L1208.07 1518.52 Z\" fill=\"#000000\" fill-rule=\"evenodd\" fill-opacity=\"1\" /><path clip-path=\"url(#clip900)\" d=\"M1233.69 1532.4 L1239.54 1532.4 L1239.54 1568.04 L1233.69 1568.04 L1233.69 1532.4 M1233.69 1518.52 L1239.54 1518.52 L1239.54 1525.93 L1233.69 1525.93 L1233.69 1518.52 Z\" fill=\"#000000\" fill-rule=\"evenodd\" fill-opacity=\"1\" /><path clip-path=\"url(#clip900)\" d=\"M1281.43 1546.53 L1281.43 1568.04 L1275.57 1568.04 L1275.57 1546.72 Q1275.57 1541.66 1273.6 1539.14 Q1271.63 1536.63 1267.68 1536.63 Q1262.94 1536.63 1260.2 1539.65 Q1257.46 1542.68 1257.46 1547.9 L1257.46 1568.04 L1251.58 1568.04 L1251.58 1532.4 L1257.46 1532.4 L1257.46 1537.93 Q1259.56 1534.72 1262.4 1533.13 Q1265.26 1531.54 1268.99 1531.54 Q1275.13 1531.54 1278.28 1535.36 Q1281.43 1539.14 1281.43 1546.53 Z\" fill=\"#000000\" fill-rule=\"evenodd\" fill-opacity=\"1\" /><path clip-path=\"url(#clip900)\" d=\"M1315.84 1533.45 L1315.84 1538.98 Q1313.36 1537.71 1310.68 1537.07 Q1308.01 1536.44 1305.14 1536.44 Q1300.78 1536.44 1298.59 1537.77 Q1296.42 1539.11 1296.42 1541.79 Q1296.42 1543.82 1297.98 1545 Q1299.54 1546.15 1304.25 1547.2 L1306.26 1547.64 Q1312.5 1548.98 1315.11 1551.43 Q1317.75 1553.85 1317.75 1558.21 Q1317.75 1563.17 1313.8 1566.07 Q1309.89 1568.97 1303.01 1568.97 Q1300.15 1568.97 1297.03 1568.39 Q1293.94 1567.85 1290.5 1566.74 L1290.5 1560.69 Q1293.75 1562.38 1296.9 1563.24 Q1300.05 1564.07 1303.14 1564.07 Q1307.28 1564.07 1309.5 1562.66 Q1311.73 1561.23 1311.73 1558.65 Q1311.73 1556.27 1310.11 1554.99 Q1308.52 1553.72 1303.07 1552.54 L1301.04 1552.07 Q1295.59 1550.92 1293.18 1548.56 Q1290.76 1546.18 1290.76 1542.04 Q1290.76 1537.01 1294.32 1534.27 Q1297.89 1531.54 1304.44 1531.54 Q1307.69 1531.54 1310.55 1532.01 Q1313.42 1532.49 1315.84 1533.45 Z\" fill=\"#000000\" fill-rule=\"evenodd\" fill-opacity=\"1\" /><path clip-path=\"url(#clip900)\" d=\"M1332.87 1522.27 L1332.87 1532.4 L1344.93 1532.4 L1344.93 1536.95 L1332.87 1536.95 L1332.87 1556.3 Q1332.87 1560.66 1334.04 1561.9 Q1335.25 1563.14 1338.91 1563.14 L1344.93 1563.14 L1344.93 1568.04 L1338.91 1568.04 Q1332.13 1568.04 1329.56 1565.53 Q1326.98 1562.98 1326.98 1556.3 L1326.98 1536.95 L1322.68 1536.95 L1322.68 1532.4 L1326.98 1532.4 L1326.98 1522.27 L1332.87 1522.27 Z\" fill=\"#000000\" fill-rule=\"evenodd\" fill-opacity=\"1\" /><path clip-path=\"url(#clip900)\" d=\"M1352.63 1532.4 L1358.49 1532.4 L1358.49 1568.04 L1352.63 1568.04 L1352.63 1532.4 M1352.63 1518.52 L1358.49 1518.52 L1358.49 1525.93 L1352.63 1525.93 L1352.63 1518.52 Z\" fill=\"#000000\" fill-rule=\"evenodd\" fill-opacity=\"1\" /><path clip-path=\"url(#clip900)\" d=\"M1376.53 1522.27 L1376.53 1532.4 L1388.6 1532.4 L1388.6 1536.95 L1376.53 1536.95 L1376.53 1556.3 Q1376.53 1560.66 1377.71 1561.9 Q1378.92 1563.14 1382.58 1563.14 L1388.6 1563.14 L1388.6 1568.04 L1382.58 1568.04 Q1375.8 1568.04 1373.22 1565.53 Q1370.65 1562.98 1370.65 1556.3 L1370.65 1536.95 L1366.35 1536.95 L1366.35 1532.4 L1370.65 1532.4 L1370.65 1522.27 L1376.53 1522.27 Z\" fill=\"#000000\" fill-rule=\"evenodd\" fill-opacity=\"1\" /><path clip-path=\"url(#clip900)\" d=\"M1395.7 1553.98 L1395.7 1532.4 L1401.55 1532.4 L1401.55 1553.75 Q1401.55 1558.81 1403.53 1561.36 Q1405.5 1563.87 1409.45 1563.87 Q1414.19 1563.87 1416.93 1560.85 Q1419.69 1557.83 1419.69 1552.61 L1419.69 1532.4 L1425.55 1532.4 L1425.55 1568.04 L1419.69 1568.04 L1419.69 1562.57 Q1417.56 1565.82 1414.73 1567.41 Q1411.93 1568.97 1408.2 1568.97 Q1402.06 1568.97 1398.88 1565.15 Q1395.7 1561.33 1395.7 1553.98 M1410.43 1531.54 L1410.43 1531.54 Z\" fill=\"#000000\" fill-rule=\"evenodd\" fill-opacity=\"1\" /><path clip-path=\"url(#clip900)\" d=\"M1443.41 1522.27 L1443.41 1532.4 L1455.47 1532.4 L1455.47 1536.95 L1443.41 1536.95 L1443.41 1556.3 Q1443.41 1560.66 1444.58 1561.9 Q1445.79 1563.14 1449.45 1563.14 L1455.47 1563.14 L1455.47 1568.04 L1449.45 1568.04 Q1442.67 1568.04 1440.1 1565.53 Q1437.52 1562.98 1437.52 1556.3 L1437.52 1536.95 L1433.22 1536.95 L1433.22 1532.4 L1437.52 1532.4 L1437.52 1522.27 L1443.41 1522.27 Z\" fill=\"#000000\" fill-rule=\"evenodd\" fill-opacity=\"1\" /><path clip-path=\"url(#clip900)\" d=\"M1463.17 1532.4 L1469.03 1532.4 L1469.03 1568.04 L1463.17 1568.04 L1463.17 1532.4 M1463.17 1518.52 L1469.03 1518.52 L1469.03 1525.93 L1463.17 1525.93 L1463.17 1518.52 Z\" fill=\"#000000\" fill-rule=\"evenodd\" fill-opacity=\"1\" /><path clip-path=\"url(#clip900)\" d=\"M1495.1 1536.5 Q1490.39 1536.5 1487.65 1540.19 Q1484.91 1543.85 1484.91 1550.25 Q1484.91 1556.65 1487.62 1560.34 Q1490.35 1564 1495.1 1564 Q1499.77 1564 1502.51 1560.31 Q1505.25 1556.62 1505.25 1550.25 Q1505.25 1543.92 1502.51 1540.23 Q1499.77 1536.5 1495.1 1536.5 M1495.1 1531.54 Q1502.73 1531.54 1507.1 1536.5 Q1511.46 1541.47 1511.46 1550.25 Q1511.46 1559 1507.1 1564 Q1502.73 1568.97 1495.1 1568.97 Q1487.43 1568.97 1483.06 1564 Q1478.74 1559 1478.74 1550.25 Q1478.74 1541.47 1483.06 1536.5 Q1487.43 1531.54 1495.1 1531.54 Z\" fill=\"#000000\" fill-rule=\"evenodd\" fill-opacity=\"1\" /><path clip-path=\"url(#clip900)\" d=\"M1550.8 1546.53 L1550.8 1568.04 L1544.94 1568.04 L1544.94 1546.72 Q1544.94 1541.66 1542.97 1539.14 Q1540.99 1536.63 1537.05 1536.63 Q1532.3 1536.63 1529.57 1539.65 Q1526.83 1542.68 1526.83 1547.9 L1526.83 1568.04 L1520.94 1568.04 L1520.94 1532.4 L1526.83 1532.4 L1526.83 1537.93 Q1528.93 1534.72 1531.76 1533.13 Q1534.63 1531.54 1538.35 1531.54 Q1544.49 1531.54 1547.65 1535.36 Q1550.8 1539.14 1550.8 1546.53 Z\" fill=\"#000000\" fill-rule=\"evenodd\" fill-opacity=\"1\" /><path clip-path=\"url(#clip900)\" d=\"M1585.2 1533.45 L1585.2 1538.98 Q1582.72 1537.71 1580.05 1537.07 Q1577.37 1536.44 1574.51 1536.44 Q1570.15 1536.44 1567.95 1537.77 Q1565.79 1539.11 1565.79 1541.79 Q1565.79 1543.82 1567.35 1545 Q1568.91 1546.15 1573.62 1547.2 L1575.62 1547.64 Q1581.86 1548.98 1584.47 1551.43 Q1587.11 1553.85 1587.11 1558.21 Q1587.11 1563.17 1583.17 1566.07 Q1579.25 1568.97 1572.38 1568.97 Q1569.51 1568.97 1566.39 1568.39 Q1563.3 1567.85 1559.87 1566.74 L1559.87 1560.69 Q1563.11 1562.38 1566.26 1563.24 Q1569.42 1564.07 1572.5 1564.07 Q1576.64 1564.07 1578.87 1562.66 Q1581.1 1561.23 1581.1 1558.65 Q1581.1 1556.27 1579.47 1554.99 Q1577.88 1553.72 1572.44 1552.54 L1570.4 1552.07 Q1564.96 1550.92 1562.54 1548.56 Q1560.12 1546.18 1560.12 1542.04 Q1560.12 1537.01 1563.69 1534.27 Q1567.25 1531.54 1573.81 1531.54 Q1577.05 1531.54 1579.92 1532.01 Q1582.78 1532.49 1585.2 1533.45 Z\" fill=\"#000000\" fill-rule=\"evenodd\" fill-opacity=\"1\" /><polyline clip-path=\"url(#clip902)\" style=\"stroke:#000000; stroke-linecap:butt; stroke-linejoin:round; stroke-width:2; stroke-opacity:0.1; fill:none\" points=\"\n",
       "  175.445,1384.26 2352.76,1384.26 \n",
       "  \"/>\n",
       "<polyline clip-path=\"url(#clip902)\" style=\"stroke:#000000; stroke-linecap:butt; stroke-linejoin:round; stroke-width:2; stroke-opacity:0.1; fill:none\" points=\"\n",
       "  175.445,1193.04 2352.76,1193.04 \n",
       "  \"/>\n",
       "<polyline clip-path=\"url(#clip902)\" style=\"stroke:#000000; stroke-linecap:butt; stroke-linejoin:round; stroke-width:2; stroke-opacity:0.1; fill:none\" points=\"\n",
       "  175.445,1001.81 2352.76,1001.81 \n",
       "  \"/>\n",
       "<polyline clip-path=\"url(#clip902)\" style=\"stroke:#000000; stroke-linecap:butt; stroke-linejoin:round; stroke-width:2; stroke-opacity:0.1; fill:none\" points=\"\n",
       "  175.445,810.58 2352.76,810.58 \n",
       "  \"/>\n",
       "<polyline clip-path=\"url(#clip902)\" style=\"stroke:#000000; stroke-linecap:butt; stroke-linejoin:round; stroke-width:2; stroke-opacity:0.1; fill:none\" points=\"\n",
       "  175.445,619.353 2352.76,619.353 \n",
       "  \"/>\n",
       "<polyline clip-path=\"url(#clip902)\" style=\"stroke:#000000; stroke-linecap:butt; stroke-linejoin:round; stroke-width:2; stroke-opacity:0.1; fill:none\" points=\"\n",
       "  175.445,428.126 2352.76,428.126 \n",
       "  \"/>\n",
       "<polyline clip-path=\"url(#clip902)\" style=\"stroke:#000000; stroke-linecap:butt; stroke-linejoin:round; stroke-width:2; stroke-opacity:0.1; fill:none\" points=\"\n",
       "  175.445,236.898 2352.76,236.898 \n",
       "  \"/>\n",
       "<polyline clip-path=\"url(#clip900)\" style=\"stroke:#000000; stroke-linecap:butt; stroke-linejoin:round; stroke-width:4; stroke-opacity:1; fill:none\" points=\"\n",
       "  175.445,1423.18 175.445,47.2441 \n",
       "  \"/>\n",
       "<polyline clip-path=\"url(#clip900)\" style=\"stroke:#000000; stroke-linecap:butt; stroke-linejoin:round; stroke-width:4; stroke-opacity:1; fill:none\" points=\"\n",
       "  175.445,1384.26 194.343,1384.26 \n",
       "  \"/>\n",
       "<polyline clip-path=\"url(#clip900)\" style=\"stroke:#000000; stroke-linecap:butt; stroke-linejoin:round; stroke-width:4; stroke-opacity:1; fill:none\" points=\"\n",
       "  175.445,1193.04 194.343,1193.04 \n",
       "  \"/>\n",
       "<polyline clip-path=\"url(#clip900)\" style=\"stroke:#000000; stroke-linecap:butt; stroke-linejoin:round; stroke-width:4; stroke-opacity:1; fill:none\" points=\"\n",
       "  175.445,1001.81 194.343,1001.81 \n",
       "  \"/>\n",
       "<polyline clip-path=\"url(#clip900)\" style=\"stroke:#000000; stroke-linecap:butt; stroke-linejoin:round; stroke-width:4; stroke-opacity:1; fill:none\" points=\"\n",
       "  175.445,810.58 194.343,810.58 \n",
       "  \"/>\n",
       "<polyline clip-path=\"url(#clip900)\" style=\"stroke:#000000; stroke-linecap:butt; stroke-linejoin:round; stroke-width:4; stroke-opacity:1; fill:none\" points=\"\n",
       "  175.445,619.353 194.343,619.353 \n",
       "  \"/>\n",
       "<polyline clip-path=\"url(#clip900)\" style=\"stroke:#000000; stroke-linecap:butt; stroke-linejoin:round; stroke-width:4; stroke-opacity:1; fill:none\" points=\"\n",
       "  175.445,428.126 194.343,428.126 \n",
       "  \"/>\n",
       "<polyline clip-path=\"url(#clip900)\" style=\"stroke:#000000; stroke-linecap:butt; stroke-linejoin:round; stroke-width:4; stroke-opacity:1; fill:none\" points=\"\n",
       "  175.445,236.898 194.343,236.898 \n",
       "  \"/>\n",
       "<path clip-path=\"url(#clip900)\" d=\"M127.501 1370.06 Q123.89 1370.06 122.061 1373.63 Q120.255 1377.17 120.255 1384.3 Q120.255 1391.4 122.061 1394.97 Q123.89 1398.51 127.501 1398.51 Q131.135 1398.51 132.941 1394.97 Q134.769 1391.4 134.769 1384.3 Q134.769 1377.17 132.941 1373.63 Q131.135 1370.06 127.501 1370.06 M127.501 1366.36 Q133.311 1366.36 136.367 1370.96 Q139.445 1375.55 139.445 1384.3 Q139.445 1393.02 136.367 1397.63 Q133.311 1402.21 127.501 1402.21 Q121.691 1402.21 118.612 1397.63 Q115.556 1393.02 115.556 1384.3 Q115.556 1375.55 118.612 1370.96 Q121.691 1366.36 127.501 1366.36 Z\" fill=\"#000000\" fill-rule=\"evenodd\" fill-opacity=\"1\" /><path clip-path=\"url(#clip900)\" d=\"M119.538 1206.38 L127.177 1206.38 L127.177 1180.01 L118.867 1181.68 L118.867 1177.42 L127.13 1175.76 L131.806 1175.76 L131.806 1206.38 L139.445 1206.38 L139.445 1210.32 L119.538 1210.32 L119.538 1206.38 Z\" fill=\"#000000\" fill-rule=\"evenodd\" fill-opacity=\"1\" /><path clip-path=\"url(#clip900)\" d=\"M123.126 1015.15 L139.445 1015.15 L139.445 1019.09 L117.501 1019.09 L117.501 1015.15 Q120.163 1012.4 124.746 1007.77 Q129.353 1003.12 130.533 1001.77 Q132.779 999.25 133.658 997.514 Q134.561 995.755 134.561 994.065 Q134.561 991.31 132.617 989.574 Q130.695 987.838 127.593 987.838 Q125.394 987.838 122.941 988.602 Q120.51 989.366 117.732 990.917 L117.732 986.194 Q120.556 985.06 123.01 984.481 Q125.464 983.903 127.501 983.903 Q132.871 983.903 136.066 986.588 Q139.26 989.273 139.26 993.764 Q139.26 995.893 138.45 997.815 Q137.663 999.713 135.556 1002.31 Q134.978 1002.98 131.876 1006.19 Q128.774 1009.39 123.126 1015.15 Z\" fill=\"#000000\" fill-rule=\"evenodd\" fill-opacity=\"1\" /><path clip-path=\"url(#clip900)\" d=\"M132.316 809.226 Q135.672 809.944 137.547 812.212 Q139.445 814.481 139.445 817.814 Q139.445 822.93 135.927 825.731 Q132.408 828.532 125.927 828.532 Q123.751 828.532 121.436 828.092 Q119.144 827.675 116.691 826.819 L116.691 822.305 Q118.635 823.439 120.95 824.018 Q123.265 824.597 125.788 824.597 Q130.186 824.597 132.478 822.86 Q134.792 821.124 134.792 817.814 Q134.792 814.759 132.64 813.046 Q130.51 811.31 126.691 811.31 L122.663 811.31 L122.663 807.467 L126.876 807.467 Q130.325 807.467 132.154 806.101 Q133.982 804.712 133.982 802.12 Q133.982 799.458 132.084 798.046 Q130.209 796.611 126.691 796.611 Q124.769 796.611 122.57 797.027 Q120.371 797.444 117.732 798.324 L117.732 794.157 Q120.394 793.416 122.709 793.046 Q125.047 792.675 127.107 792.675 Q132.431 792.675 135.533 795.106 Q138.635 797.513 138.635 801.634 Q138.635 804.504 136.992 806.495 Q135.348 808.462 132.316 809.226 Z\" fill=\"#000000\" fill-rule=\"evenodd\" fill-opacity=\"1\" /><path clip-path=\"url(#clip900)\" d=\"M129.862 606.147 L118.056 624.596 L129.862 624.596 L129.862 606.147 M128.635 602.073 L134.515 602.073 L134.515 624.596 L139.445 624.596 L139.445 628.485 L134.515 628.485 L134.515 636.633 L129.862 636.633 L129.862 628.485 L114.26 628.485 L114.26 623.971 L128.635 602.073 Z\" fill=\"#000000\" fill-rule=\"evenodd\" fill-opacity=\"1\" /><path clip-path=\"url(#clip900)\" d=\"M118.543 410.846 L136.899 410.846 L136.899 414.781 L122.825 414.781 L122.825 423.253 Q123.843 422.906 124.862 422.744 Q125.88 422.559 126.899 422.559 Q132.686 422.559 136.066 425.73 Q139.445 428.901 139.445 434.318 Q139.445 439.897 135.973 442.998 Q132.501 446.077 126.181 446.077 Q124.005 446.077 121.737 445.707 Q119.492 445.336 117.084 444.596 L117.084 439.897 Q119.168 441.031 121.39 441.586 Q123.612 442.142 126.089 442.142 Q130.093 442.142 132.431 440.035 Q134.769 437.929 134.769 434.318 Q134.769 430.707 132.431 428.6 Q130.093 426.494 126.089 426.494 Q124.214 426.494 122.339 426.911 Q120.487 427.327 118.543 428.207 L118.543 410.846 Z\" fill=\"#000000\" fill-rule=\"evenodd\" fill-opacity=\"1\" /><path clip-path=\"url(#clip900)\" d=\"M127.917 235.035 Q124.769 235.035 122.918 237.188 Q121.089 239.341 121.089 243.091 Q121.089 246.817 122.918 248.993 Q124.769 251.146 127.917 251.146 Q131.066 251.146 132.894 248.993 Q134.746 246.817 134.746 243.091 Q134.746 239.341 132.894 237.188 Q131.066 235.035 127.917 235.035 M137.2 220.382 L137.2 224.642 Q135.441 223.808 133.635 223.368 Q131.853 222.929 130.093 222.929 Q125.464 222.929 123.01 226.054 Q120.58 229.179 120.232 235.498 Q121.598 233.484 123.658 232.419 Q125.718 231.331 128.195 231.331 Q133.404 231.331 136.413 234.503 Q139.445 237.651 139.445 243.091 Q139.445 248.415 136.297 251.632 Q133.149 254.85 127.917 254.85 Q121.922 254.85 118.751 250.266 Q115.58 245.66 115.58 236.933 Q115.58 228.739 119.468 223.878 Q123.357 218.993 129.908 218.993 Q131.667 218.993 133.45 219.341 Q135.255 219.688 137.2 220.382 Z\" fill=\"#000000\" fill-rule=\"evenodd\" fill-opacity=\"1\" /><path clip-path=\"url(#clip900)\" d=\"M18.0438 832.464 L24.314 832.464 Q22.5634 836.124 21.704 839.371 Q20.8447 842.617 20.8447 845.641 Q20.8447 850.893 22.8817 853.757 Q24.9187 856.59 28.6745 856.59 Q31.8255 856.59 33.4488 854.712 Q35.0402 852.802 36.0269 847.519 L36.8226 843.636 Q38.1912 836.443 41.6605 833.037 Q45.098 829.599 50.8908 829.599 Q57.7976 829.599 61.3624 834.246 Q64.9272 838.862 64.9272 847.805 Q64.9272 851.179 64.1633 854.999 Q63.3994 858.786 61.9035 862.86 L55.2831 862.86 Q57.4793 858.945 58.5933 855.19 Q59.7073 851.434 59.7073 847.805 Q59.7073 842.299 57.543 839.307 Q55.3786 836.315 51.3682 836.315 Q47.8671 836.315 45.8937 838.48 Q43.9204 840.612 42.9337 845.514 L42.1698 849.429 Q40.7375 856.622 37.682 859.837 Q34.6264 863.051 29.1837 863.051 Q22.8817 863.051 19.2532 858.627 Q15.6248 854.171 15.6248 846.373 Q15.6248 843.031 16.2295 839.562 Q16.8343 836.093 18.0438 832.464 Z\" fill=\"#000000\" fill-rule=\"evenodd\" fill-opacity=\"1\" /><path clip-path=\"url(#clip900)\" d=\"M18.2347 814.035 L28.3562 814.035 L28.3562 801.972 L32.9077 801.972 L32.9077 814.035 L52.2594 814.035 Q56.6199 814.035 57.8613 812.858 Q59.1026 811.648 59.1026 807.988 L59.1026 801.972 L64.0042 801.972 L64.0042 807.988 Q64.0042 814.767 61.4897 817.345 Q58.9434 819.924 52.2594 819.924 L32.9077 819.924 L32.9077 824.22 L28.3562 824.22 L28.3562 819.924 L18.2347 819.924 L18.2347 814.035 Z\" fill=\"#000000\" fill-rule=\"evenodd\" fill-opacity=\"1\" /><path clip-path=\"url(#clip900)\" d=\"M46.0847 778.069 Q46.0847 785.167 47.7079 787.904 Q49.3312 790.641 53.2461 790.641 Q56.3653 790.641 58.2114 788.604 Q60.0256 786.535 60.0256 783.003 Q60.0256 778.133 56.5881 775.205 Q53.1188 772.244 47.3897 772.244 L46.0847 772.244 L46.0847 778.069 M43.6657 766.388 L64.0042 766.388 L64.0042 772.244 L58.5933 772.244 Q61.8398 774.25 63.3994 777.242 Q64.9272 780.233 64.9272 784.562 Q64.9272 790.037 61.8716 793.283 Q58.7843 796.498 53.6281 796.498 Q47.6125 796.498 44.5569 792.487 Q41.5014 788.445 41.5014 780.456 L41.5014 772.244 L40.9285 772.244 Q36.8862 772.244 34.6901 774.918 Q32.4621 777.56 32.4621 782.366 Q32.4621 785.421 33.1941 788.318 Q33.9262 791.214 35.3903 793.888 L29.9795 793.888 Q28.7381 790.673 28.1334 787.649 Q27.4968 784.626 27.4968 781.761 Q27.4968 774.027 31.5072 770.207 Q35.5176 766.388 43.6657 766.388 Z\" fill=\"#000000\" fill-rule=\"evenodd\" fill-opacity=\"1\" /><path clip-path=\"url(#clip900)\" d=\"M18.2347 748.532 L28.3562 748.532 L28.3562 736.469 L32.9077 736.469 L32.9077 748.532 L52.2594 748.532 Q56.6199 748.532 57.8613 747.355 Q59.1026 746.145 59.1026 742.485 L59.1026 736.469 L64.0042 736.469 L64.0042 742.485 Q64.0042 749.264 61.4897 751.842 Q58.9434 754.42 52.2594 754.42 L32.9077 754.42 L32.9077 758.717 L28.3562 758.717 L28.3562 754.42 L18.2347 754.42 L18.2347 748.532 Z\" fill=\"#000000\" fill-rule=\"evenodd\" fill-opacity=\"1\" /><path clip-path=\"url(#clip900)\" d=\"M28.3562 728.767 L28.3562 722.91 L64.0042 722.91 L64.0042 728.767 L28.3562 728.767 M14.479 728.767 L14.479 722.91 L21.895 722.91 L21.895 728.767 L14.479 728.767 Z\" fill=\"#000000\" fill-rule=\"evenodd\" fill-opacity=\"1\" /><path clip-path=\"url(#clip900)\" d=\"M29.4065 687.931 L34.9447 687.931 Q33.6716 690.413 33.035 693.087 Q32.3984 695.761 32.3984 698.625 Q32.3984 702.986 33.7352 705.182 Q35.072 707.346 37.7456 707.346 Q39.7826 707.346 40.9603 705.786 Q42.1061 704.227 43.1565 699.516 L43.6021 697.511 Q44.9389 691.273 47.3897 688.663 Q49.8086 686.021 54.1691 686.021 Q59.1344 686.021 62.0308 689.968 Q64.9272 693.883 64.9272 700.758 Q64.9272 703.622 64.3543 706.741 Q63.8132 709.829 62.6992 713.266 L56.6518 713.266 Q58.3387 710.02 59.198 706.869 Q60.0256 703.718 60.0256 700.63 Q60.0256 696.493 58.6251 694.265 Q57.1929 692.037 54.6147 692.037 Q52.2276 692.037 50.9545 693.66 Q49.6813 695.251 48.5037 700.694 L48.0262 702.731 Q46.8804 708.174 44.5251 710.593 Q42.138 713.012 38.0002 713.012 Q32.9713 713.012 30.2341 709.447 Q27.4968 705.882 27.4968 699.325 Q27.4968 696.079 27.9743 693.214 Q28.4517 690.35 29.4065 687.931 Z\" fill=\"#000000\" fill-rule=\"evenodd\" fill-opacity=\"1\" /><path clip-path=\"url(#clip900)\" d=\"M18.2347 670.902 L28.3562 670.902 L28.3562 658.839 L32.9077 658.839 L32.9077 670.902 L52.2594 670.902 Q56.6199 670.902 57.8613 669.725 Q59.1026 668.515 59.1026 664.855 L59.1026 658.839 L64.0042 658.839 L64.0042 664.855 Q64.0042 671.634 61.4897 674.213 Q58.9434 676.791 52.2594 676.791 L32.9077 676.791 L32.9077 681.088 L28.3562 681.088 L28.3562 676.791 L18.2347 676.791 L18.2347 670.902 Z\" fill=\"#000000\" fill-rule=\"evenodd\" fill-opacity=\"1\" /><path clip-path=\"url(#clip900)\" d=\"M28.3562 651.137 L28.3562 645.28 L64.0042 645.28 L64.0042 651.137 L28.3562 651.137 M14.479 651.137 L14.479 645.28 L21.895 645.28 L21.895 651.137 L14.479 651.137 Z\" fill=\"#000000\" fill-rule=\"evenodd\" fill-opacity=\"1\" /><path clip-path=\"url(#clip900)\" d=\"M29.7248 607.373 L35.1993 607.373 Q33.8307 609.855 33.1623 612.37 Q32.4621 614.852 32.4621 617.399 Q32.4621 623.096 36.0905 626.247 Q39.6872 629.398 46.212 629.398 Q52.7369 629.398 56.3653 626.247 Q59.9619 623.096 59.9619 617.399 Q59.9619 614.852 59.2935 612.37 Q58.5933 609.855 57.2247 607.373 L62.6355 607.373 Q63.7814 609.823 64.3543 612.465 Q64.9272 615.075 64.9272 618.035 Q64.9272 626.088 59.8664 630.83 Q54.8057 635.573 46.212 635.573 Q37.491 635.573 32.4939 630.798 Q27.4968 625.992 27.4968 617.653 Q27.4968 614.948 28.0697 612.37 Q28.6108 609.792 29.7248 607.373 Z\" fill=\"#000000\" fill-rule=\"evenodd\" fill-opacity=\"1\" /><polyline clip-path=\"url(#clip902)\" style=\"stroke:#000000; stroke-linecap:butt; stroke-linejoin:round; stroke-width:4; stroke-opacity:1; fill:none\" points=\"\n",
       "  237.067,281.968 242.202,281.299 247.338,280.625 252.473,279.947 257.608,279.265 262.743,278.578 267.878,277.887 273.013,277.191 278.149,276.49 283.284,275.785 \n",
       "  288.419,275.075 293.554,274.361 298.689,273.641 303.824,272.917 308.96,272.188 314.095,271.454 319.23,270.716 324.365,269.972 329.5,269.223 334.635,268.47 \n",
       "  339.771,267.711 344.906,266.947 350.041,266.177 355.176,265.403 360.311,264.623 365.446,263.838 370.582,263.048 375.717,262.252 380.852,261.45 385.987,260.643 \n",
       "  391.122,259.831 396.257,259.013 401.393,258.189 406.528,257.36 411.663,256.524 416.798,255.683 421.933,254.836 427.068,253.984 432.204,253.125 437.339,252.26 \n",
       "  442.474,251.389 447.609,250.512 452.744,249.629 457.879,248.739 463.015,247.843 468.15,246.941 473.285,246.033 478.42,245.118 483.555,244.196 488.69,243.268 \n",
       "  493.826,242.334 498.961,241.392 504.096,240.444 509.231,239.49 514.366,238.528 519.501,237.56 524.637,236.584 529.772,235.602 534.907,234.612 540.042,233.616 \n",
       "  545.177,232.612 550.312,231.601 555.448,230.583 560.583,229.557 565.718,228.524 570.853,227.484 575.988,226.436 581.123,225.381 586.259,224.318 591.394,223.247 \n",
       "  596.529,222.169 601.664,221.082 606.799,219.989 611.934,218.887 617.07,217.777 622.205,216.66 627.34,215.534 632.475,214.4 637.61,213.259 642.745,212.109 \n",
       "  647.881,210.951 653.016,209.785 658.151,208.61 663.286,207.427 668.421,206.236 673.556,205.037 678.692,203.829 683.827,202.613 688.962,201.388 694.097,200.154 \n",
       "  699.232,198.913 704.367,197.662 709.503,196.404 714.638,195.136 719.773,193.86 724.908,192.576 730.043,191.282 735.178,189.981 740.314,188.67 745.449,187.352 \n",
       "  750.584,186.024 755.719,184.688 760.854,183.344 765.989,181.991 771.125,180.629 776.26,179.26 781.395,177.881 786.53,176.495 791.665,175.1 796.8,173.698 \n",
       "  801.936,172.287 807.071,170.868 812.206,169.441 817.341,168.007 822.476,166.565 827.611,165.115 832.747,163.658 837.882,162.194 843.017,160.723 848.152,159.245 \n",
       "  853.287,157.76 858.422,156.269 863.558,154.772 868.693,153.269 873.828,151.76 878.963,150.246 884.098,148.727 889.233,147.203 894.369,145.675 899.504,144.143 \n",
       "  904.639,142.607 909.774,141.068 914.909,139.527 920.044,137.984 925.18,136.439 930.315,134.893 935.45,133.347 940.585,131.801 945.72,130.256 950.855,128.712 \n",
       "  955.991,127.171 961.126,125.634 966.261,124.101 971.396,122.572 976.531,121.05 981.666,119.536 986.802,118.029 991.937,116.532 997.072,115.046 1002.21,113.572 \n",
       "  1007.34,112.111 1012.48,110.665 1017.61,109.237 1022.75,107.826 1027.88,106.436 1033.02,105.067 1038.15,103.723 1043.29,102.404 1048.42,101.114 1053.56,99.8553 \n",
       "  1058.69,98.6295 1063.83,97.4397 1068.96,96.2887 1074.1,95.1794 1079.23,94.1151 1084.37,93.0991 1089.5,92.135 1094.64,91.2263 1099.78,90.3772 1104.91,89.5918 \n",
       "  1110.05,88.8745 1115.18,88.2299 1120.32,87.663 1125.45,87.1789 1130.59,86.7832 1135.72,86.4816 1140.86,86.2803 1145.99,86.1857 1151.13,86.2045 1156.26,86.344 \n",
       "  1161.4,86.6116 1166.53,87.0154 1171.67,87.5637 1176.8,88.2652 1181.94,89.1293 1187.07,90.1657 1192.21,91.3845 1197.34,92.7966 1202.48,94.4132 1207.61,96.246 \n",
       "  1212.75,98.3075 1217.88,100.61 1223.02,103.169 1228.15,105.996 1233.29,109.107 1238.42,112.517 1243.56,116.243 1248.7,120.301 1253.83,124.707 1258.97,129.48 \n",
       "  1264.1,134.638 1269.24,140.2 1274.37,146.186 1279.51,152.615 1284.64,159.508 1289.78,166.886 1294.91,174.769 1300.05,183.18 1305.18,192.139 1310.32,201.669 \n",
       "  1315.45,211.79 1320.59,222.524 1325.72,233.891 1330.86,245.913 1335.99,258.608 1341.13,271.995 1346.26,286.091 1351.4,300.912 1356.53,316.471 1361.67,332.782 \n",
       "  1366.8,349.852 1371.94,367.69 1377.07,386.299 1382.21,405.679 1387.34,425.828 1392.48,446.738 1397.61,468.398 1402.75,490.792 1407.89,513.898 1413.02,537.692 \n",
       "  1418.16,562.141 1423.29,587.208 1428.43,612.853 1433.56,639.026 1438.7,665.675 1443.83,692.741 1448.97,720.161 1454.1,747.868 1459.24,775.788 1464.37,803.846 \n",
       "  1469.51,831.963 1474.64,860.056 1479.78,888.043 1484.91,915.838 1490.05,943.358 1495.18,970.518 1500.32,997.236 1505.45,1023.43 1510.59,1049.03 1515.72,1073.95 \n",
       "  1520.86,1098.13 1525.99,1121.51 1531.13,1144.03 1536.26,1165.63 1541.4,1186.27 1546.53,1205.92 1551.67,1224.54 1556.81,1242.1 1561.94,1258.6 1567.08,1274.01 \n",
       "  1572.21,1288.33 1577.35,1301.57 1582.48,1313.73 1587.62,1324.83 1592.75,1334.87 1597.89,1343.88 1603.02,1351.89 1608.16,1358.93 1613.29,1365.02 1618.43,1370.2 \n",
       "  1623.56,1374.5 1628.7,1377.97 1633.83,1380.64 1638.97,1382.55 1644.1,1383.73 1649.24,1384.24 1654.37,1384.1 1659.51,1383.35 1664.64,1382.04 1669.78,1380.2 \n",
       "  1674.91,1377.87 1680.05,1375.08 1685.18,1371.86 1690.32,1368.25 1695.45,1364.28 1700.59,1359.98 1705.72,1355.37 1710.86,1350.49 1716,1345.36 1721.13,1340 \n",
       "  1726.27,1334.44 1731.4,1328.69 1736.54,1322.78 1741.67,1316.73 1746.81,1310.56 1751.94,1304.27 1757.08,1297.89 1762.21,1291.43 1767.35,1284.91 1772.48,1278.33 \n",
       "  1777.62,1271.71 1782.75,1265.05 1787.89,1258.38 1793.02,1251.69 1798.16,1245 1803.29,1238.31 1808.43,1231.63 1813.56,1224.96 1818.7,1218.32 1823.83,1211.7 \n",
       "  1828.97,1205.12 1834.1,1198.57 1839.24,1192.07 1844.37,1185.6 1849.51,1179.19 1854.64,1172.82 1859.78,1166.51 1864.92,1160.25 1870.05,1154.05 1875.19,1147.91 \n",
       "  1880.32,1141.82 1885.46,1135.8 1890.59,1129.84 1895.73,1123.95 1900.86,1118.11 1906,1112.35 1911.13,1106.65 1916.27,1101.01 1921.4,1095.44 1926.54,1089.94 \n",
       "  1931.67,1084.5 1936.81,1079.13 1941.94,1073.82 1947.08,1068.58 1952.21,1063.4 1957.35,1058.29 1962.48,1053.25 1967.62,1048.27 1972.75,1043.35 1977.89,1038.49 \n",
       "  1983.02,1033.7 1988.16,1028.97 1993.29,1024.3 1998.43,1019.7 2003.56,1015.15 2008.7,1010.66 2013.83,1006.23 2018.97,1001.86 2024.11,997.548 2029.24,993.292 \n",
       "  2034.38,989.091 2039.51,984.946 2044.65,980.855 2049.78,976.818 2054.92,972.833 2060.05,968.902 2065.19,965.021 2070.32,961.192 2075.46,957.412 2080.59,953.682 \n",
       "  2085.73,950 2090.86,946.367 2096,942.78 2101.13,939.24 2106.27,935.746 2111.4,932.296 2116.54,928.891 2121.67,925.53 2126.81,922.212 2131.94,918.936 \n",
       "  2137.08,915.701 2142.21,912.508 2147.35,909.355 2152.48,906.242 2157.62,903.168 2162.75,900.132 2167.89,897.135 2173.03,894.174 2178.16,891.251 2183.3,888.363 \n",
       "  2188.43,885.511 2193.57,882.694 2198.7,879.912 2203.84,877.163 2208.97,874.448 2214.11,871.765 2219.24,869.115 2224.38,866.497 2229.51,863.91 2234.65,861.354 \n",
       "  2239.78,858.828 2244.92,856.332 2250.05,853.865 2255.19,851.427 2260.32,849.018 2265.46,846.637 2270.59,844.283 2275.73,841.957 2280.86,839.657 2286,837.384 \n",
       "  2291.13,835.137 \n",
       "  \"/>\n",
       "<polyline clip-path=\"url(#clip902)\" style=\"stroke:#ff0000; stroke-linecap:butt; stroke-linejoin:round; stroke-width:4; stroke-opacity:1; fill:none\" stroke-dasharray=\"16, 10\" points=\"\n",
       "  1438.7,2799.12 1438.7,-1328.69 \n",
       "  \"/>\n",
       "<polyline clip-path=\"url(#clip902)\" style=\"stroke:#ff0000; stroke-linecap:butt; stroke-linejoin:round; stroke-width:4; stroke-opacity:1; fill:none\" stroke-dasharray=\"16, 10\" points=\"\n",
       "  2291.13,2799.12 2291.13,-1328.69 \n",
       "  \"/>\n",
       "<polyline clip-path=\"url(#clip902)\" style=\"stroke:#87ceeb; stroke-linecap:butt; stroke-linejoin:round; stroke-width:4; stroke-opacity:1; fill:none\" stroke-dasharray=\"16, 10\" points=\"\n",
       "  -2001.87,649.671 4530.07,649.671 \n",
       "  \"/>\n",
       "<path clip-path=\"url(#clip900)\" d=\"\n",
       "M1984.11 352.309 L2280.18 352.309 L2280.18 93.1086 L1984.11 93.1086  Z\n",
       "  \" fill=\"#ffffff\" fill-rule=\"evenodd\" fill-opacity=\"1\"/>\n",
       "<polyline clip-path=\"url(#clip900)\" style=\"stroke:#000000; stroke-linecap:butt; stroke-linejoin:round; stroke-width:4; stroke-opacity:1; fill:none\" points=\"\n",
       "  1984.11,352.309 2280.18,352.309 2280.18,93.1086 1984.11,93.1086 1984.11,352.309 \n",
       "  \"/>\n",
       "<polyline clip-path=\"url(#clip900)\" style=\"stroke:#000000; stroke-linecap:butt; stroke-linejoin:round; stroke-width:4; stroke-opacity:1; fill:none\" points=\"\n",
       "  2008.3,144.949 2153.46,144.949 \n",
       "  \"/>\n",
       "<path clip-path=\"url(#clip900)\" d=\"M2191.49 164.636 Q2189.69 169.266 2187.97 170.678 Q2186.26 172.09 2183.39 172.09 L2179.99 172.09 L2179.99 168.525 L2182.49 168.525 Q2184.25 168.525 2185.22 167.692 Q2186.19 166.858 2187.37 163.756 L2188.14 161.812 L2177.65 136.303 L2182.16 136.303 L2190.27 156.581 L2198.37 136.303 L2202.88 136.303 L2191.49 164.636 Z\" fill=\"#000000\" fill-rule=\"evenodd\" fill-opacity=\"1\" /><path clip-path=\"url(#clip900)\" d=\"M2210.17 158.293 L2217.81 158.293 L2217.81 131.928 L2209.5 133.595 L2209.5 129.335 L2217.77 127.669 L2222.44 127.669 L2222.44 158.293 L2230.08 158.293 L2230.08 162.229 L2210.17 162.229 L2210.17 158.293 Z\" fill=\"#000000\" fill-rule=\"evenodd\" fill-opacity=\"1\" /><polyline clip-path=\"url(#clip900)\" style=\"stroke:#ff0000; stroke-linecap:butt; stroke-linejoin:round; stroke-width:4; stroke-opacity:1; fill:none\" stroke-dasharray=\"16, 10\" points=\"\n",
       "  2008.3,196.789 2153.46,196.789 \n",
       "  \"/>\n",
       "<path clip-path=\"url(#clip900)\" d=\"M2178.32 210.133 L2185.96 210.133 L2185.96 183.768 L2177.65 185.435 L2177.65 181.175 L2185.91 179.509 L2190.59 179.509 L2190.59 210.133 L2198.23 210.133 L2198.23 214.069 L2178.32 214.069 L2178.32 210.133 Z\" fill=\"#000000\" fill-rule=\"evenodd\" fill-opacity=\"1\" /><polyline clip-path=\"url(#clip900)\" style=\"stroke:#ff0000; stroke-linecap:butt; stroke-linejoin:round; stroke-width:4; stroke-opacity:1; fill:none\" stroke-dasharray=\"16, 10\" points=\"\n",
       "  2008.3,248.629 2153.46,248.629 \n",
       "  \"/>\n",
       "<path clip-path=\"url(#clip900)\" d=\"M2183.28 261.973 L2199.6 261.973 L2199.6 265.909 L2177.65 265.909 L2177.65 261.973 Q2180.31 259.219 2184.9 254.589 Q2189.5 249.936 2190.68 248.594 Q2192.93 246.071 2193.81 244.335 Q2194.71 242.575 2194.71 240.886 Q2194.71 238.131 2192.77 236.395 Q2190.85 234.659 2187.74 234.659 Q2185.54 234.659 2183.09 235.423 Q2180.66 236.187 2177.88 237.737 L2177.88 233.015 Q2180.71 231.881 2183.16 231.302 Q2185.61 230.724 2187.65 230.724 Q2193.02 230.724 2196.22 233.409 Q2199.41 236.094 2199.41 240.585 Q2199.41 242.714 2198.6 244.636 Q2197.81 246.534 2195.71 249.126 Q2195.13 249.798 2192.03 253.015 Q2188.92 256.21 2183.28 261.973 Z\" fill=\"#000000\" fill-rule=\"evenodd\" fill-opacity=\"1\" /><polyline clip-path=\"url(#clip900)\" style=\"stroke:#87ceeb; stroke-linecap:butt; stroke-linejoin:round; stroke-width:4; stroke-opacity:1; fill:none\" stroke-dasharray=\"16, 10\" points=\"\n",
       "  2008.3,300.469 2153.46,300.469 \n",
       "  \"/>\n",
       "<path clip-path=\"url(#clip900)\" d=\"M2191.49 320.156 Q2189.69 324.786 2187.97 326.198 Q2186.26 327.61 2183.39 327.61 L2179.99 327.61 L2179.99 324.045 L2182.49 324.045 Q2184.25 324.045 2185.22 323.212 Q2186.19 322.378 2187.37 319.276 L2188.14 317.332 L2177.65 291.823 L2182.16 291.823 L2190.27 312.101 L2198.37 291.823 L2202.88 291.823 L2191.49 320.156 Z\" fill=\"#000000\" fill-rule=\"evenodd\" fill-opacity=\"1\" /><path clip-path=\"url(#clip900)\" d=\"M2222.21 287.263 L2210.41 305.712 L2222.21 305.712 L2222.21 287.263 M2220.98 283.189 L2226.86 283.189 L2226.86 305.712 L2231.79 305.712 L2231.79 309.601 L2226.86 309.601 L2226.86 317.749 L2222.21 317.749 L2222.21 309.601 L2206.61 309.601 L2206.61 305.087 L2220.98 283.189 Z\" fill=\"#000000\" fill-rule=\"evenodd\" fill-opacity=\"1\" /></svg>\n"
      ]
     },
     "execution_count": 214,
     "metadata": {},
     "output_type": "execute_result"
    }
   ],
   "source": [
    "DML_AR_PLIV(data2[!,1], data2[!,2], data2[!,3], collect(range( -2, 2.001, step = 0.01 )), 0.05 )"
   ]
  }
 ],
 "metadata": {
  "kernelspec": {
   "display_name": "Julia 1.7.3",
   "language": "julia",
   "name": "julia-1.7"
  },
  "language_info": {
   "file_extension": ".jl",
   "mimetype": "application/julia",
   "name": "julia",
   "version": "1.7.3"
  }
 },
 "nbformat": 4,
 "nbformat_minor": 5
}
