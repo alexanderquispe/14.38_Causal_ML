{
 "cells": [
  {
   "cell_type": "markdown",
   "metadata": {},
   "source": [
    "# Chapter 2: Predictive Inference"
   ]
  },
  {
   "cell_type": "markdown",
   "metadata": {},
   "source": [
    "In labor economics an important question is what determines the wage of workers. This is a causal question, but we could begin to investigate from a predictive perspective.\n",
    "\n",
    "In the following wage example, $Y$ is the hourly wage of a worker and $X$ is a vector of worker's characteristics, e.g., education, experience, gender.\n",
    "Two main questions here are:    \n",
    "\n",
    "* How to use job-relevant characteristics, such as education and experience, to best predict wages?\n",
    "\n",
    "* What is the difference in predicted wages between men and women with the same job-relevant characteristics?\n",
    "\n",
    "In this lab, we focus on the prediction question first."
   ]
  },
  {
   "cell_type": "markdown",
   "metadata": {},
   "source": [
    "## 2.1 Data"
   ]
  },
  {
   "cell_type": "markdown",
   "metadata": {},
   "source": [
    "The data set we consider is from the March Supplement of the U.S. Current Population Survey, year 2015. We select white non-hispanic individuals, aged 25 to 64 years, and working more than 35 hours per week during at least 50 weeks of the year. We exclude self-employed workers; individuals living in group quarters; individuals in the military, agricultural or private household sectors; individuals with inconsistent reports on earnings and employment status; individuals with allocated or missing information in any of the variables used in the analysis; and individuals with hourly wage below $3$.\n",
    "\n",
    "The variable of interest $Y$ is the hourly wage rate constructed as the ratio of the annual earnings to the total number of hours worked, which is constructed in turn as the product of number of weeks worked and the usual number of hours worked per week. In our analysis, we also focus on single (never married) workers. The final sample is of size $n = 5150$."
   ]
  },
  {
   "cell_type": "markdown",
   "metadata": {},
   "source": [
    "## 2.2 Data Analysis"
   ]
  },
  {
   "cell_type": "markdown",
   "metadata": {},
   "source": [
    "### 2.2.1 Julia code"
   ]
  },
  {
   "cell_type": "code",
   "execution_count": 1,
   "metadata": {},
   "outputs": [],
   "source": [
    "# to_install = [\"CSV\", \"DataFrames\", \"Dates\", \"Plots\"]\n",
    "# using Pkg \n",
    "# Pkg.add(to_install)\n",
    "\n",
    "using CSV\n",
    "using DataFrames\n",
    "using Dates\n",
    "using Plots, Lathe"
   ]
  },
  {
   "cell_type": "code",
   "execution_count": 2,
   "metadata": {},
   "outputs": [
    {
     "name": "stdout",
     "output_type": "stream",
     "text": [
      "Number of Rows : 5150\n",
      "Number of Columns : 21\n"
     ]
    }
   ],
   "source": [
    "#Reading the CSV file into a DataFrame\n",
    "#We have to set the category type for some variable\n",
    "data = CSV.File(\"../data/wage2015_subsample_inference.csv\"; types = Dict(\"occ\" => String,\"occ2\"=> String,\"ind\"=>String,\"ind2\"=>String)) |> DataFrame\n",
    "println(\"Number of Rows : \", size(data)[1],\"\\n\",\"Number of Columns : \", size(data)[2],) #rows"
   ]
  },
  {
   "cell_type": "code",
   "execution_count": 3,
   "metadata": {},
   "outputs": [
    {
     "data": {
      "text/html": [
       "<table class=\"data-frame\"><thead><tr><th></th><th>rownames</th><th>wage</th><th>lwage</th><th>sex</th><th>shs</th><th>hsg</th><th>scl</th><th>clg</th><th>ad</th></tr><tr><th></th><th>Int64</th><th>Float64</th><th>Float64</th><th>Float64</th><th>Float64</th><th>Float64</th><th>Float64</th><th>Float64</th><th>Float64</th></tr></thead><tbody><p>5 rows × 21 columns (omitted printing of 12 columns)</p><tr><th>1</th><td>10</td><td>9.61538</td><td>2.26336</td><td>1.0</td><td>0.0</td><td>0.0</td><td>0.0</td><td>1.0</td><td>0.0</td></tr><tr><th>2</th><td>12</td><td>48.0769</td><td>3.8728</td><td>0.0</td><td>0.0</td><td>0.0</td><td>0.0</td><td>1.0</td><td>0.0</td></tr><tr><th>3</th><td>15</td><td>11.0577</td><td>2.40313</td><td>0.0</td><td>0.0</td><td>1.0</td><td>0.0</td><td>0.0</td><td>0.0</td></tr><tr><th>4</th><td>18</td><td>13.9423</td><td>2.63493</td><td>1.0</td><td>0.0</td><td>0.0</td><td>0.0</td><td>0.0</td><td>1.0</td></tr><tr><th>5</th><td>19</td><td>28.8462</td><td>3.36198</td><td>1.0</td><td>0.0</td><td>0.0</td><td>0.0</td><td>1.0</td><td>0.0</td></tr></tbody></table>"
      ],
      "text/latex": [
       "\\begin{tabular}{r|cccccccccc}\n",
       "\t& rownames & wage & lwage & sex & shs & hsg & scl & clg & ad & \\\\\n",
       "\t\\hline\n",
       "\t& Int64 & Float64 & Float64 & Float64 & Float64 & Float64 & Float64 & Float64 & Float64 & \\\\\n",
       "\t\\hline\n",
       "\t1 & 10 & 9.61538 & 2.26336 & 1.0 & 0.0 & 0.0 & 0.0 & 1.0 & 0.0 & $\\dots$ \\\\\n",
       "\t2 & 12 & 48.0769 & 3.8728 & 0.0 & 0.0 & 0.0 & 0.0 & 1.0 & 0.0 & $\\dots$ \\\\\n",
       "\t3 & 15 & 11.0577 & 2.40313 & 0.0 & 0.0 & 1.0 & 0.0 & 0.0 & 0.0 & $\\dots$ \\\\\n",
       "\t4 & 18 & 13.9423 & 2.63493 & 1.0 & 0.0 & 0.0 & 0.0 & 0.0 & 1.0 & $\\dots$ \\\\\n",
       "\t5 & 19 & 28.8462 & 3.36198 & 1.0 & 0.0 & 0.0 & 0.0 & 1.0 & 0.0 & $\\dots$ \\\\\n",
       "\\end{tabular}\n"
      ],
      "text/plain": [
       "\u001b[1m5×21 DataFrame\u001b[0m\n",
       "\u001b[1m Row \u001b[0m│\u001b[1m rownames \u001b[0m\u001b[1m wage     \u001b[0m\u001b[1m lwage   \u001b[0m\u001b[1m sex     \u001b[0m\u001b[1m shs     \u001b[0m\u001b[1m hsg     \u001b[0m\u001b[1m scl     \u001b[0m\u001b[1m clg   \u001b[0m ⋯\n",
       "\u001b[1m     \u001b[0m│\u001b[90m Int64    \u001b[0m\u001b[90m Float64  \u001b[0m\u001b[90m Float64 \u001b[0m\u001b[90m Float64 \u001b[0m\u001b[90m Float64 \u001b[0m\u001b[90m Float64 \u001b[0m\u001b[90m Float64 \u001b[0m\u001b[90m Float6\u001b[0m ⋯\n",
       "─────┼──────────────────────────────────────────────────────────────────────────\n",
       "   1 │       10   9.61538  2.26336      1.0      0.0      0.0      0.0      1. ⋯\n",
       "   2 │       12  48.0769   3.8728       0.0      0.0      0.0      0.0      1.\n",
       "   3 │       15  11.0577   2.40313      0.0      0.0      1.0      0.0      0.\n",
       "   4 │       18  13.9423   2.63493      1.0      0.0      0.0      0.0      0.\n",
       "   5 │       19  28.8462   3.36198      1.0      0.0      0.0      0.0      1. ⋯\n",
       "\u001b[36m                                                              14 columns omitted\u001b[0m"
      ]
     },
     "execution_count": 3,
     "metadata": {},
     "output_type": "execute_result"
    }
   ],
   "source": [
    "# first 10 lines of the data\n",
    "first(data,5)"
   ]
  },
  {
   "cell_type": "code",
   "execution_count": 4,
   "metadata": {},
   "outputs": [
    {
     "data": {
      "text/html": [
       "<table class=\"data-frame\"><thead><tr><th></th><th>variable</th><th>mean</th><th>min</th><th>median</th><th>max</th><th>nmissing</th><th>eltype</th></tr><tr><th></th><th>Symbol</th><th>Union…</th><th>Any</th><th>Union…</th><th>Any</th><th>Int64</th><th>DataType</th></tr></thead><tbody><p>21 rows × 7 columns</p><tr><th>1</th><td>rownames</td><td>15636.3</td><td>10</td><td>15260.0</td><td>32643</td><td>0</td><td>Int64</td></tr><tr><th>2</th><td>wage</td><td>23.4104</td><td>3.02198</td><td>19.2308</td><td>528.846</td><td>0</td><td>Float64</td></tr><tr><th>3</th><td>lwage</td><td>2.97079</td><td>1.10591</td><td>2.95651</td><td>6.2707</td><td>0</td><td>Float64</td></tr><tr><th>4</th><td>sex</td><td>0.444466</td><td>0.0</td><td>0.0</td><td>1.0</td><td>0</td><td>Float64</td></tr><tr><th>5</th><td>shs</td><td>0.023301</td><td>0.0</td><td>0.0</td><td>1.0</td><td>0</td><td>Float64</td></tr><tr><th>6</th><td>hsg</td><td>0.243883</td><td>0.0</td><td>0.0</td><td>1.0</td><td>0</td><td>Float64</td></tr><tr><th>7</th><td>scl</td><td>0.278058</td><td>0.0</td><td>0.0</td><td>1.0</td><td>0</td><td>Float64</td></tr><tr><th>8</th><td>clg</td><td>0.31767</td><td>0.0</td><td>0.0</td><td>1.0</td><td>0</td><td>Float64</td></tr><tr><th>9</th><td>ad</td><td>0.137087</td><td>0.0</td><td>0.0</td><td>1.0</td><td>0</td><td>Float64</td></tr><tr><th>10</th><td>mw</td><td>0.259612</td><td>0.0</td><td>0.0</td><td>1.0</td><td>0</td><td>Float64</td></tr><tr><th>11</th><td>so</td><td>0.296505</td><td>0.0</td><td>0.0</td><td>1.0</td><td>0</td><td>Float64</td></tr><tr><th>12</th><td>we</td><td>0.216117</td><td>0.0</td><td>0.0</td><td>1.0</td><td>0</td><td>Float64</td></tr><tr><th>13</th><td>ne</td><td>0.227767</td><td>0.0</td><td>0.0</td><td>1.0</td><td>0</td><td>Float64</td></tr><tr><th>14</th><td>exp1</td><td>13.7606</td><td>0.0</td><td>10.0</td><td>47.0</td><td>0</td><td>Float64</td></tr><tr><th>15</th><td>exp2</td><td>3.01893</td><td>0.0</td><td>1.0</td><td>22.09</td><td>0</td><td>Float64</td></tr><tr><th>16</th><td>exp3</td><td>8.23587</td><td>0.0</td><td>1.0</td><td>103.823</td><td>0</td><td>Float64</td></tr><tr><th>17</th><td>exp4</td><td>25.118</td><td>0.0</td><td>1.0</td><td>487.968</td><td>0</td><td>Float64</td></tr><tr><th>18</th><td>occ</td><td></td><td>10</td><td></td><td>9750</td><td>0</td><td>String</td></tr><tr><th>19</th><td>occ2</td><td></td><td>1</td><td></td><td>9</td><td>0</td><td>String</td></tr><tr><th>20</th><td>ind</td><td></td><td>1070</td><td></td><td>9590</td><td>0</td><td>String</td></tr><tr><th>21</th><td>ind2</td><td></td><td>10</td><td></td><td>9</td><td>0</td><td>String</td></tr></tbody></table>"
      ],
      "text/latex": [
       "\\begin{tabular}{r|ccccccc}\n",
       "\t& variable & mean & min & median & max & nmissing & eltype\\\\\n",
       "\t\\hline\n",
       "\t& Symbol & Union… & Any & Union… & Any & Int64 & DataType\\\\\n",
       "\t\\hline\n",
       "\t1 & rownames & 15636.3 & 10 & 15260.0 & 32643 & 0 & Int64 \\\\\n",
       "\t2 & wage & 23.4104 & 3.02198 & 19.2308 & 528.846 & 0 & Float64 \\\\\n",
       "\t3 & lwage & 2.97079 & 1.10591 & 2.95651 & 6.2707 & 0 & Float64 \\\\\n",
       "\t4 & sex & 0.444466 & 0.0 & 0.0 & 1.0 & 0 & Float64 \\\\\n",
       "\t5 & shs & 0.023301 & 0.0 & 0.0 & 1.0 & 0 & Float64 \\\\\n",
       "\t6 & hsg & 0.243883 & 0.0 & 0.0 & 1.0 & 0 & Float64 \\\\\n",
       "\t7 & scl & 0.278058 & 0.0 & 0.0 & 1.0 & 0 & Float64 \\\\\n",
       "\t8 & clg & 0.31767 & 0.0 & 0.0 & 1.0 & 0 & Float64 \\\\\n",
       "\t9 & ad & 0.137087 & 0.0 & 0.0 & 1.0 & 0 & Float64 \\\\\n",
       "\t10 & mw & 0.259612 & 0.0 & 0.0 & 1.0 & 0 & Float64 \\\\\n",
       "\t11 & so & 0.296505 & 0.0 & 0.0 & 1.0 & 0 & Float64 \\\\\n",
       "\t12 & we & 0.216117 & 0.0 & 0.0 & 1.0 & 0 & Float64 \\\\\n",
       "\t13 & ne & 0.227767 & 0.0 & 0.0 & 1.0 & 0 & Float64 \\\\\n",
       "\t14 & exp1 & 13.7606 & 0.0 & 10.0 & 47.0 & 0 & Float64 \\\\\n",
       "\t15 & exp2 & 3.01893 & 0.0 & 1.0 & 22.09 & 0 & Float64 \\\\\n",
       "\t16 & exp3 & 8.23587 & 0.0 & 1.0 & 103.823 & 0 & Float64 \\\\\n",
       "\t17 & exp4 & 25.118 & 0.0 & 1.0 & 487.968 & 0 & Float64 \\\\\n",
       "\t18 & occ &  & 10 &  & 9750 & 0 & String \\\\\n",
       "\t19 & occ2 &  & 1 &  & 9 & 0 & String \\\\\n",
       "\t20 & ind &  & 1070 &  & 9590 & 0 & String \\\\\n",
       "\t21 & ind2 &  & 10 &  & 9 & 0 & String \\\\\n",
       "\\end{tabular}\n"
      ],
      "text/plain": [
       "\u001b[1m21×7 DataFrame\u001b[0m\n",
       "\u001b[1m Row \u001b[0m│\u001b[1m variable \u001b[0m\u001b[1m mean     \u001b[0m\u001b[1m min     \u001b[0m\u001b[1m median  \u001b[0m\u001b[1m max     \u001b[0m\u001b[1m nmissing \u001b[0m\u001b[1m eltype   \u001b[0m\n",
       "\u001b[1m     \u001b[0m│\u001b[90m Symbol   \u001b[0m\u001b[90m Union…   \u001b[0m\u001b[90m Any     \u001b[0m\u001b[90m Union…  \u001b[0m\u001b[90m Any     \u001b[0m\u001b[90m Int64    \u001b[0m\u001b[90m DataType \u001b[0m\n",
       "─────┼───────────────────────────────────────────────────────────────────\n",
       "   1 │ rownames  15636.3   10       15260.0  32643           0  Int64\n",
       "   2 │ wage      23.4104   3.02198  19.2308  528.846         0  Float64\n",
       "   3 │ lwage     2.97079   1.10591  2.95651  6.2707          0  Float64\n",
       "   4 │ sex       0.444466  0.0      0.0      1.0             0  Float64\n",
       "   5 │ shs       0.023301  0.0      0.0      1.0             0  Float64\n",
       "   6 │ hsg       0.243883  0.0      0.0      1.0             0  Float64\n",
       "   7 │ scl       0.278058  0.0      0.0      1.0             0  Float64\n",
       "   8 │ clg       0.31767   0.0      0.0      1.0             0  Float64\n",
       "   9 │ ad        0.137087  0.0      0.0      1.0             0  Float64\n",
       "  10 │ mw        0.259612  0.0      0.0      1.0             0  Float64\n",
       "  11 │ so        0.296505  0.0      0.0      1.0             0  Float64\n",
       "  12 │ we        0.216117  0.0      0.0      1.0             0  Float64\n",
       "  13 │ ne        0.227767  0.0      0.0      1.0             0  Float64\n",
       "  14 │ exp1      13.7606   0.0      10.0     47.0            0  Float64\n",
       "  15 │ exp2      3.01893   0.0      1.0      22.09           0  Float64\n",
       "  16 │ exp3      8.23587   0.0      1.0      103.823         0  Float64\n",
       "  17 │ exp4      25.118    0.0      1.0      487.968         0  Float64\n",
       "  18 │ occ      \u001b[90m          \u001b[0m 10      \u001b[90m         \u001b[0m 9750            0  String\n",
       "  19 │ occ2     \u001b[90m          \u001b[0m 1       \u001b[90m         \u001b[0m 9               0  String\n",
       "  20 │ ind      \u001b[90m          \u001b[0m 1070    \u001b[90m         \u001b[0m 9590            0  String\n",
       "  21 │ ind2     \u001b[90m          \u001b[0m 10      \u001b[90m         \u001b[0m 9               0  String"
      ]
     },
     "execution_count": 4,
     "metadata": {},
     "output_type": "execute_result"
    }
   ],
   "source": [
    "#a quick decribe of the data\n",
    "describe(data)"
   ]
  },
  {
   "cell_type": "markdown",
   "metadata": {},
   "source": [
    "We are constructing the output variable $Y$ and the matrix $Z$ which includes the characteristics of workers that are given in the data."
   ]
  },
  {
   "cell_type": "code",
   "execution_count": 5,
   "metadata": {},
   "outputs": [
    {
     "name": "stdout",
     "output_type": "stream",
     "text": [
      "Number of observations : 5150\n",
      "Number of raw regressors: 18\n"
     ]
    }
   ],
   "source": [
    "n = size(data)[1]\n",
    "z = select(data, Not([:rownames, :lwage, :wage]))\n",
    "p = size(z)[2] \n",
    "\n",
    "println(\"Number of observations : \", n, \"\\n\",\"Number of raw regressors: \", p )"
   ]
  },
  {
   "cell_type": "markdown",
   "metadata": {},
   "source": [
    "For the outcome variable wage and a subset of the raw regressors, we calculate the empirical mean to get familiar with the data."
   ]
  },
  {
   "cell_type": "code",
   "execution_count": 6,
   "metadata": {},
   "outputs": [
    {
     "data": {
      "text/html": [
       "<table class=\"data-frame\"><thead><tr><th></th><th>variable</th><th>mean</th></tr><tr><th></th><th>Symbol</th><th>Float64</th></tr></thead><tbody><p>12 rows × 2 columns</p><tr><th>1</th><td>lwage</td><td>2.97079</td></tr><tr><th>2</th><td>sex</td><td>0.444466</td></tr><tr><th>3</th><td>shs</td><td>0.023301</td></tr><tr><th>4</th><td>hsg</td><td>0.243883</td></tr><tr><th>5</th><td>scl</td><td>0.278058</td></tr><tr><th>6</th><td>clg</td><td>0.31767</td></tr><tr><th>7</th><td>ad</td><td>0.137087</td></tr><tr><th>8</th><td>mw</td><td>0.259612</td></tr><tr><th>9</th><td>so</td><td>0.296505</td></tr><tr><th>10</th><td>we</td><td>0.216117</td></tr><tr><th>11</th><td>ne</td><td>0.227767</td></tr><tr><th>12</th><td>exp1</td><td>13.7606</td></tr></tbody></table>"
      ],
      "text/latex": [
       "\\begin{tabular}{r|cc}\n",
       "\t& variable & mean\\\\\n",
       "\t\\hline\n",
       "\t& Symbol & Float64\\\\\n",
       "\t\\hline\n",
       "\t1 & lwage & 2.97079 \\\\\n",
       "\t2 & sex & 0.444466 \\\\\n",
       "\t3 & shs & 0.023301 \\\\\n",
       "\t4 & hsg & 0.243883 \\\\\n",
       "\t5 & scl & 0.278058 \\\\\n",
       "\t6 & clg & 0.31767 \\\\\n",
       "\t7 & ad & 0.137087 \\\\\n",
       "\t8 & mw & 0.259612 \\\\\n",
       "\t9 & so & 0.296505 \\\\\n",
       "\t10 & we & 0.216117 \\\\\n",
       "\t11 & ne & 0.227767 \\\\\n",
       "\t12 & exp1 & 13.7606 \\\\\n",
       "\\end{tabular}\n"
      ],
      "text/plain": [
       "\u001b[1m12×2 DataFrame\u001b[0m\n",
       "\u001b[1m Row \u001b[0m│\u001b[1m variable \u001b[0m\u001b[1m mean      \u001b[0m\n",
       "\u001b[1m     \u001b[0m│\u001b[90m Symbol   \u001b[0m\u001b[90m Float64   \u001b[0m\n",
       "─────┼─────────────────────\n",
       "   1 │ lwage      2.97079\n",
       "   2 │ sex        0.444466\n",
       "   3 │ shs        0.023301\n",
       "   4 │ hsg        0.243883\n",
       "   5 │ scl        0.278058\n",
       "   6 │ clg        0.31767\n",
       "   7 │ ad         0.137087\n",
       "   8 │ mw         0.259612\n",
       "   9 │ so         0.296505\n",
       "  10 │ we         0.216117\n",
       "  11 │ ne         0.227767\n",
       "  12 │ exp1      13.7606"
      ]
     },
     "execution_count": 6,
     "metadata": {},
     "output_type": "execute_result"
    }
   ],
   "source": [
    "z_subset = select(data, [\"lwage\",\"sex\",\"shs\",\"hsg\",\"scl\",\"clg\",\"ad\",\"mw\",\"so\",\"we\",\"ne\",\"exp1\"])\n",
    "describe(z_subset, :mean)"
   ]
  },
  {
   "cell_type": "markdown",
   "metadata": {},
   "source": [
    "# Prediction Question"
   ]
  },
  {
   "cell_type": "markdown",
   "metadata": {},
   "source": [
    "\n",
    "Now, we will construct a prediction rule for hourly wage $Y$ , which depends linearly on job-relevant characteristics  $X$:\n",
    "\n",
    "$$Y = \\beta' X + \\epsilon $$\n",
    " \n",
    "Our goals are\n",
    "\n",
    "* Predict wages using various characteristics of workers.\n",
    "\n",
    "* Assess the predictive performance using the (adjusted) sample MSE, the (adjusted) sample $R^2$ and the out-of-sample $MSE$ and $R^2$.\n",
    "\n",
    "We employ two different specifications for prediction:\n",
    "\n",
    "- **Basic Model**: $X$ consists of a set of raw regressors (e.g. gender, experience, education indicators, occupation and industry indicators, regional indicators).\n",
    "\n",
    "- **Flexible Model**: $X$ consists of all raw regressors from the basic model plus occupation and industry indicators, transformations (e.g.,$exp2$ and $exp3$) and additional two-way interactions of polynomial in experience with other regressors. An example of a regressor created through a two-way interaction is experience times the indicator of having a college degree.\n",
    "\n",
    "Using the **Flexible Model**, enables us to approximate the real relationship by a more complex regression model and therefore to reduce the bias. The **Flexible Model** increases the range of potential shapes of the estimated regression function. In general, flexible models often deliver good prediction accuracy but give models which are harder to interpret.\n",
    "\n",
    "Now, let us fit both models to our data by running ordinary least squares (ols):"
   ]
  },
  {
   "cell_type": "code",
   "execution_count": 7,
   "metadata": {},
   "outputs": [],
   "source": [
    "#Needed Packages and extra just in case\n",
    "# to_install = [\"Plots\", \"Lathe\", \"GLM\", \"StatPlots\", \"MLBase\"]\n",
    "# using Pkg; Pkg.add(to_install)\n",
    "\n",
    "# Load the installed packages\n",
    "using DataFrames\n",
    "using CSV\n",
    "using Plots\n",
    "using GLM\n",
    "using Statistics\n",
    "# using StatsPlots\n",
    "using MLBase"
   ]
  },
  {
   "cell_type": "code",
   "execution_count": 8,
   "metadata": {
    "tags": []
   },
   "outputs": [
    {
     "data": {
      "text/plain": [
       "StatsModels.TableRegressionModel{LinearModel{GLM.LmResp{Vector{Float64}}, GLM.DensePredChol{Float64, LinearAlgebra.CholeskyPivoted{Float64, Matrix{Float64}}}}, Matrix{Float64}}\n",
       "\n",
       "lwage ~ 1 + sex + shs + hsg + scl + clg + occ2 + ind2 + mw + so + we + exp1 + exp2 + exp3 + exp4 + exp1 & shs + exp1 & hsg + exp1 & scl + exp1 & clg + exp1 & occ2 + exp1 & ind2 + exp1 & mw + exp1 & so + exp1 & we + exp2 & shs + exp2 & hsg + exp2 & scl + exp2 & clg + exp2 & occ2 + exp2 & ind2 + exp2 & mw + exp2 & so + exp2 & we + exp3 & shs + exp3 & hsg + exp3 & scl + exp3 & clg + exp3 & occ2 + exp3 & ind2 + exp3 & mw + exp3 & so + exp3 & we + exp4 & shs + exp4 & hsg + exp4 & scl + exp4 & clg + exp4 & occ2 + exp4 & ind2 + exp4 & mw + exp4 & so + exp4 & we\n",
       "\n",
       "Coefficients:\n",
       "────────────────────────────────────────────────────────────────────────────────────\n",
       "                        Coef.  Std. Error      t  Pr(>|t|)    Lower 95%    Upper 95%\n",
       "────────────────────────────────────────────────────────────────────────────────────\n",
       "(Intercept)       3.27968       0.284196   11.54    <1e-29    2.72253     3.83683\n",
       "sex              -0.0695532     0.015218   -4.57    <1e-05   -0.0993874  -0.039719\n",
       "shs              -0.123309      0.906832   -0.14    0.8918   -1.90111     1.65449\n",
       "hsg              -0.528902      0.197756   -2.67    0.0075   -0.916593   -0.141212\n",
       "scl              -0.292058      0.126016   -2.32    0.0205   -0.539105   -0.0450112\n",
       "clg              -0.0411641     0.0703862  -0.58    0.5587   -0.179153    0.0968245\n",
       "occ2: 10          0.0209545     0.156498    0.13    0.8935   -0.285852    0.327761\n",
       "occ2: 11         -0.642418      0.30909    -2.08    0.0377   -1.24837    -0.036463\n",
       "occ2: 12         -0.0674774     0.252049   -0.27    0.7889   -0.561605    0.426651\n",
       "occ2: 13         -0.232978      0.231538   -1.01    0.3144   -0.686896    0.22094\n",
       "occ2: 14          0.256201      0.322673    0.79    0.4272   -0.376382    0.888784\n",
       "occ2: 15         -0.193858      0.259508   -0.75    0.4551   -0.702611    0.314894\n",
       "occ2: 16         -0.0551256     0.147066   -0.37    0.7078   -0.34344     0.233189\n",
       "occ2: 17         -0.415609      0.136114   -3.05    0.0023   -0.682454   -0.148764\n",
       "occ2: 18         -0.482217      1.04435    -0.46    0.6443   -2.52962     1.56518\n",
       "occ2: 19         -0.257941      0.332522   -0.78    0.4380   -0.909832    0.39395\n",
       "occ2: 2           0.16134       0.129724    1.24    0.2137   -0.0929781   0.415657\n",
       "occ2: 20         -0.30102       0.234102   -1.29    0.1986   -0.759965    0.157925\n",
       "occ2: 21         -0.427181      0.220649   -1.94    0.0529   -0.859751    0.00538904\n",
       "occ2: 22         -0.869453      0.297522   -2.92    0.0035   -1.45273    -0.286176\n",
       "occ2: 3           0.210151      0.168677    1.25    0.2129   -0.120532    0.540835\n",
       "occ2: 4           0.070857      0.183717    0.39    0.6997   -0.28931     0.431024\n",
       "occ2: 5          -0.396008      0.18854    -2.10    0.0357   -0.76563    -0.026385\n",
       "occ2: 6          -0.231061      0.186966   -1.24    0.2166   -0.597599    0.135476\n",
       "occ2: 7           0.314725      0.194152    1.62    0.1051   -0.0658997   0.69535\n",
       "occ2: 8          -0.187542      0.169299   -1.11    0.2680   -0.519443    0.14436\n",
       "occ2: 9          -0.339027      0.16723    -2.03    0.0427   -0.666873   -0.0111811\n",
       "ind2: 11         -0.404651      0.314232   -1.29    0.1979   -1.02069     0.211384\n",
       "ind2: 12         -0.156994      0.279436   -0.56    0.5743   -0.704813    0.390825\n",
       "ind2: 13         -0.437744      0.361684   -1.21    0.2262   -1.14681     0.271318\n",
       "ind2: 14         -0.00543335    0.270026   -0.02    0.9839   -0.534804    0.523938\n",
       "ind2: 15          0.200448      0.500542    0.40    0.6888   -0.780838    1.18173\n",
       "ind2: 16          0.0101935     0.299579    0.03    0.9729   -0.577116    0.597503\n",
       "ind2: 17         -0.2396        0.284972   -0.84    0.4005   -0.798273    0.319073\n",
       "ind2: 18         -0.180776      0.278446   -0.65    0.5162   -0.726655    0.365103\n",
       "ind2: 19         -0.300698      0.326555   -0.92    0.3572   -0.940892    0.339497\n",
       "ind2: 2           0.580584      0.480878    1.21    0.2274   -0.362151    1.52332\n",
       "ind2: 20         -0.329318      0.312909   -1.05    0.2927   -0.942761    0.284125\n",
       "ind2: 21         -0.178069      0.303635   -0.59    0.5576   -0.773331    0.417192\n",
       "ind2: 22          0.176507      0.296357    0.60    0.5515   -0.404487    0.7575\n",
       "ind2: 3          -0.666781      0.560741   -1.19    0.2345   -1.76608     0.432522\n",
       "ind2: 4           0.485756      0.349761    1.39    0.1650   -0.199933    1.17144\n",
       "ind2: 5           0.051198      0.297545    0.17    0.8634   -0.532124    0.63452\n",
       "ind2: 6          -0.0415848     0.299194   -0.14    0.8895   -0.628138    0.544969\n",
       "ind2: 7           0.0758343     0.387069    0.20    0.8447   -0.682995    0.834664\n",
       "ind2: 8          -0.14896       0.337453   -0.44    0.6589   -0.810518    0.512598\n",
       "ind2: 9          -0.221949      0.274596   -0.81    0.4190   -0.76028     0.316382\n",
       "mw                0.110683      0.0814463   1.36    0.1742   -0.0489879   0.270355\n",
       "so                0.0224244     0.0743855   0.30    0.7631   -0.123404    0.168253\n",
       "we               -0.0215659     0.0841591  -0.26    0.7978   -0.186556    0.143424\n",
       "exp1              0.0835331     0.0944741   0.88    0.3766   -0.101678    0.268745\n",
       "exp2             -0.561036      0.948991   -0.59    0.5544   -2.42148     1.29941\n",
       "exp3              0.129343      0.356603    0.36    0.7168   -0.569759    0.828445\n",
       "exp4             -0.00534853    0.0445154  -0.12    0.9044   -0.0926186   0.0819216\n",
       "exp1 & shs       -0.191998      0.195541   -0.98    0.3262   -0.575346    0.191349\n",
       "exp1 & hsg       -0.0173433     0.0572279  -0.30    0.7619   -0.129536    0.0948491\n",
       "exp1 & scl       -0.0664505     0.043373   -1.53    0.1256   -0.151481    0.01858\n",
       "exp1 & clg       -0.0550346     0.0310279  -1.77    0.0762   -0.115863    0.00579393\n",
       "exp1 & occ2: 10   0.00756285    0.0581715   0.13    0.8966   -0.106479    0.121605\n",
       "exp1 & occ2: 11   0.101422      0.100509    1.01    0.3130   -0.0956214   0.298466\n",
       "exp1 & occ2: 12  -0.0862744     0.0874768  -0.99    0.3241   -0.257768    0.0852193\n",
       "exp1 & occ2: 13   0.00671485    0.0761825   0.09    0.9298   -0.142637    0.156067\n",
       "exp1 & occ2: 14  -0.136915      0.0974458  -1.41    0.1601   -0.327953    0.0541221\n",
       "exp1 & occ2: 15  -0.0400425     0.0898931  -0.45    0.6560   -0.216273    0.136188\n",
       "exp1 & occ2: 16  -0.0539314     0.0520926  -1.04    0.3006   -0.156056    0.0481934\n",
       "exp1 & occ2: 17   0.0147277     0.0467903   0.31    0.7530   -0.0770023   0.106458\n",
       "exp1 & occ2: 18   0.10741       0.471844    0.23    0.8199   -0.817616    1.03244\n",
       "exp1 & occ2: 19   0.0047165     0.106074    0.04    0.9645   -0.203237    0.21267\n",
       "exp1 & occ2: 2   -0.0736239     0.0501108  -1.47    0.1418   -0.171863    0.0246157\n",
       "exp1 & occ2: 20   0.0243156     0.0743274   0.33    0.7436   -0.121399    0.170031\n",
       "exp1 & occ2: 21   0.0791776     0.0696947   1.14    0.2560   -0.0574551   0.21581\n",
       "exp1 & occ2: 22   0.109325      0.0880828   1.24    0.2146   -0.063357    0.282006\n",
       "exp1 & occ2: 3   -0.0714859     0.0637688  -1.12    0.2623   -0.196501    0.0535296\n",
       "exp1 & occ2: 4   -0.0723997     0.0747715  -0.97    0.3330   -0.218985    0.0741859\n",
       "exp1 & occ2: 5    0.0946732     0.0794005   1.19    0.2332   -0.0609873   0.250334\n",
       "exp1 & occ2: 6   -0.0348928     0.0712136  -0.49    0.6242   -0.174503    0.104718\n",
       "exp1 & occ2: 7   -0.227934      0.078486   -2.90    0.0037   -0.381802   -0.074066\n",
       "exp1 & occ2: 8   -0.0727459     0.0645883  -1.13    0.2601   -0.199368    0.0538762\n",
       "exp1 & occ2: 9    0.0274143     0.0669517   0.41    0.6822   -0.103841    0.15867\n",
       "exp1 & ind2: 11   0.166231      0.105875    1.57    0.1165   -0.0413313   0.373793\n",
       "exp1 & ind2: 12   0.107851      0.0933357   1.16    0.2479   -0.0751287   0.290831\n",
       "exp1 & ind2: 13   0.188352      0.11737     1.60    0.1086   -0.0417468   0.41845\n",
       "exp1 & ind2: 14  -0.00711671    0.0891863  -0.08    0.9364   -0.181962    0.167728\n",
       "exp1 & ind2: 15  -0.208076      0.203289   -1.02    0.3061   -0.606614    0.190462\n",
       "exp1 & ind2: 16  -0.0665283     0.0991814  -0.67    0.5024   -0.260968    0.127912\n",
       "exp1 & ind2: 17   0.0216289     0.094615    0.23    0.8192   -0.163859    0.207117\n",
       "exp1 & ind2: 18   0.00528206    0.0906315   0.06    0.9535   -0.172396    0.18296\n",
       "exp1 & ind2: 19   0.000352497   0.110676    0.00    0.9975   -0.216623    0.217328\n",
       "exp1 & ind2: 2   -0.151258      0.164434   -0.92    0.3577   -0.473622    0.171107\n",
       "exp1 & ind2: 20  -0.0185949     0.102096   -0.18    0.8555   -0.218749    0.181559\n",
       "exp1 & ind2: 21   0.0678327     0.100782    0.67    0.5009   -0.129745    0.26541\n",
       "exp1 & ind2: 22  -0.0366764     0.0964226  -0.38    0.7037   -0.225708    0.152355\n",
       "exp1 & ind2: 3    0.324631      0.188468    1.72    0.0850   -0.0448505   0.694113\n",
       "exp1 & ind2: 4   -0.136527      0.114344   -1.19    0.2325   -0.360692    0.0876375\n",
       "exp1 & ind2: 5   -0.0255591     0.0964004  -0.27    0.7909   -0.214547    0.163429\n",
       "exp1 & ind2: 6    0.00276967    0.0959674   0.03    0.9770   -0.185369    0.190909\n",
       "exp1 & ind2: 7   -0.0483333     0.132829   -0.36    0.7160   -0.308738    0.212071\n",
       "exp1 & ind2: 8    0.0845092     0.118195    0.72    0.4746   -0.147205    0.316224\n",
       "exp1 & ind2: 9   -0.0153499     0.0872762  -0.18    0.8604   -0.18645     0.155751\n",
       "exp1 & mw        -0.0279931     0.0296572  -0.94    0.3453   -0.0861345   0.0301484\n",
       "exp1 & so        -0.00996775    0.0266868  -0.37    0.7088   -0.0622858   0.0423503\n",
       "exp1 & we         0.00630768    0.0301417   0.21    0.8342   -0.0527835   0.0653989\n",
       "exp2 & shs        1.90051       1.45025     1.31    0.1901   -0.94263     4.74364\n",
       "exp2 & hsg        0.117164      0.550973    0.21    0.8316   -0.962989    1.19732\n",
       "exp2 & scl        0.621792      0.462999    1.34    0.1793   -0.285892    1.52948\n",
       "exp2 & clg        0.409675      0.380217    1.08    0.2813   -0.335721    1.15507\n",
       "exp2 & occ2: 10  -0.269229      0.640527   -0.42    0.6743   -1.52495     0.986491\n",
       "exp2 & occ2: 11  -1.08165       1.00576    -1.08    0.2822   -3.05339     0.890081\n",
       "exp2 & occ2: 12   0.832374      0.934125    0.89    0.3729   -0.998929    2.66368\n",
       "exp2 & occ2: 13  -0.220981      0.772846   -0.29    0.7749   -1.73611     1.29414\n",
       "exp2 & occ2: 14   0.751116      0.927255    0.81    0.4180   -1.06672     2.56895\n",
       "exp2 & occ2: 15  -0.0326858     0.940912   -0.03    0.9723   -1.87729     1.81192\n",
       "exp2 & occ2: 16   0.363581      0.550955    0.66    0.5093   -0.716537    1.4437\n",
       "exp2 & occ2: 17  -0.265929      0.486113   -0.55    0.5844   -1.21893     0.687071\n",
       "exp2 & occ2: 18  -2.56088       5.17009    -0.50    0.6204  -12.6966      7.57482\n",
       "exp2 & occ2: 19  -0.129176      1.06169    -0.12    0.9032   -2.21056     1.95221\n",
       "exp2 & occ2: 2    0.663217      0.552322    1.20    0.2299   -0.419581    1.74602\n",
       "exp2 & occ2: 20  -0.33233       0.722907   -0.46    0.6457   -1.74955     1.08489\n",
       "exp2 & occ2: 21  -0.91          0.685411   -1.33    0.1843   -2.25371     0.433714\n",
       "exp2 & occ2: 22  -0.855054      0.827941   -1.03    0.3018   -2.47819     0.768082\n",
       "exp2 & occ2: 3    0.641546      0.710278    0.90    0.3664   -0.750918    2.03401\n",
       "exp2 & occ2: 4    0.974842      0.865535    1.13    0.2601   -0.721994    2.67168\n",
       "exp2 & occ2: 5   -0.977882      0.973799   -1.00    0.3153   -2.88696     0.9312\n",
       "exp2 & occ2: 6    0.105086      0.800227    0.13    0.8955   -1.46372     1.67389\n",
       "exp2 & occ2: 7    3.14071       0.938942    3.34    0.0008    1.29996     4.98146\n",
       "exp2 & occ2: 8    0.671088      0.719208    0.93    0.3508   -0.738881    2.08106\n",
       "exp2 & occ2: 9    0.0231977     0.762914    0.03    0.9757   -1.47246     1.51885\n",
       "exp2 & ind2: 11  -1.68035       1.08035    -1.56    0.1199   -3.79831     0.437612\n",
       "exp2 & ind2: 12  -0.971713      0.934825   -1.04    0.2986   -2.80439     0.860963\n",
       "exp2 & ind2: 13  -1.76787       1.1562     -1.53    0.1263   -4.03453     0.498797\n",
       "exp2 & ind2: 14   0.119001      0.888083    0.13    0.8934   -1.62204     1.86004\n",
       "exp2 & ind2: 15   2.3885        2.20174     1.08    0.2781   -1.92789     6.70489\n",
       "exp2 & ind2: 16   0.870745      0.990124    0.88    0.3792   -1.07034     2.81183\n",
       "exp2 & ind2: 17  -0.00295735    0.948274   -0.00    0.9975   -1.862       1.85609\n",
       "exp2 & ind2: 18  -0.00329326    0.889074   -0.00    0.9970   -1.74628     1.73969\n",
       "exp2 & ind2: 19   0.266476      1.11891     0.24    0.8118   -1.92709     2.46004\n",
       "exp2 & ind2: 2    2.19733       1.77386     1.24    0.2155   -1.28024     5.6749\n",
       "exp2 & ind2: 20   0.250603      1.01001     0.25    0.8041   -1.72947     2.23068\n",
       "exp2 & ind2: 21  -0.915406      1.01458    -0.90    0.3670   -2.90443     1.07362\n",
       "exp2 & ind2: 22   0.339496      0.949368    0.36    0.7207   -1.52169     2.20068\n",
       "exp2 & ind2: 3   -3.73956       1.95946    -1.91    0.0564   -7.58098     0.101848\n",
       "exp2 & ind2: 4    1.09199       1.143       0.96    0.3394   -1.1488      3.33278\n",
       "exp2 & ind2: 5    0.182412      0.938629    0.19    0.8459   -1.65772     2.02254\n",
       "exp2 & ind2: 6   -0.0304448     0.929643   -0.03    0.9739   -1.85296     1.79207\n",
       "exp2 & ind2: 7    0.73252       1.43981     0.51    0.6109   -2.09016     3.5552\n",
       "exp2 & ind2: 8   -0.750665      1.20255    -0.62    0.5325   -3.1082      1.60687\n",
       "exp2 & ind2: 9    0.417708      0.838948    0.50    0.6186   -1.22701     2.06242\n",
       "exp2 & mw         0.200561      0.317291    0.63    0.5273   -0.421472    0.822594\n",
       "exp2 & so         0.0544354     0.281566    0.19    0.8467   -0.49756     0.606431\n",
       "exp2 & we         0.00127174    0.320787    0.00    0.9968   -0.627615    0.630159\n",
       "exp3 & shs       -0.672124      0.442663   -1.52    0.1290   -1.53994     0.195693\n",
       "exp3 & hsg       -0.0179937     0.208318   -0.09    0.9312   -0.426389    0.390402\n",
       "exp3 & scl       -0.199788      0.185519   -1.08    0.2816   -0.563488    0.163912\n",
       "exp3 & clg       -0.102523      0.164365   -0.62    0.5328   -0.424752    0.219706\n",
       "exp3 & occ2: 10   0.185475      0.257556    0.72    0.4715   -0.319451    0.690401\n",
       "exp3 & occ2: 11   0.393155      0.381776    1.03    0.3032   -0.355296    1.14161\n",
       "exp3 & occ2: 12  -0.220256      0.366021   -0.60    0.5474   -0.93782     0.497308\n",
       "exp3 & occ2: 13   0.0950356     0.290437    0.33    0.7435   -0.474351    0.664422\n",
       "exp3 & occ2: 14  -0.144393      0.334162   -0.43    0.6657   -0.799501    0.510714\n",
       "exp3 & occ2: 15   0.147708      0.364519    0.41    0.6853   -0.566913    0.862328\n",
       "exp3 & occ2: 16  -0.0378548     0.215129   -0.18    0.8603   -0.459604    0.383894\n",
       "exp3 & occ2: 17   0.15105       0.187808    0.80    0.4213   -0.217138    0.519238\n",
       "exp3 & occ2: 18   1.40844       1.88525     0.75    0.4550   -2.28748     5.10437\n",
       "exp3 & occ2: 19   0.0923425     0.404231    0.23    0.8193   -0.700131    0.884816\n",
       "exp3 & occ2: 2   -0.20394       0.221139   -0.92    0.3565   -0.637471    0.22959\n",
       "exp3 & occ2: 20   0.180699      0.265208    0.68    0.4957   -0.339227    0.700626\n",
       "exp3 & occ2: 21   0.377908      0.255303    1.48    0.1389   -0.1226      0.878417\n",
       "exp3 & occ2: 22   0.285506      0.298421    0.96    0.3388   -0.299532    0.870544\n",
       "exp3 & occ2: 3   -0.236962      0.287037   -0.83    0.4091   -0.799683    0.325759\n",
       "exp3 & occ2: 4   -0.436696      0.352017   -1.24    0.2148   -1.12681     0.253415\n",
       "exp3 & occ2: 5    0.38853       0.411886    0.94    0.3456   -0.418951    1.19601\n",
       "exp3 & occ2: 6    0.0484737     0.329353    0.15    0.8830   -0.597205    0.694152\n",
       "exp3 & occ2: 7   -1.39493       0.405011   -3.44    0.0006   -2.18893    -0.600926\n",
       "exp3 & occ2: 8   -0.20539       0.289573   -0.71    0.4782   -0.773082    0.362302\n",
       "exp3 & occ2: 9   -0.090966      0.314335   -0.29    0.7723   -0.707203    0.525271\n",
       "exp3 & ind2: 11   0.642942      0.41101     1.56    0.1178   -0.162821    1.4487\n",
       "exp3 & ind2: 12   0.328629      0.346913    0.95    0.3435   -0.351475    1.00873\n",
       "exp3 & ind2: 13   0.592851      0.425896    1.39    0.1640   -0.242095    1.4278\n",
       "exp3 & ind2: 14  -0.0285251     0.328414   -0.09    0.9308   -0.672364    0.615314\n",
       "exp3 & ind2: 15  -0.856868      0.843546   -1.02    0.3098   -2.5106      0.796861\n",
       "exp3 & ind2: 16  -0.355848      0.367758   -0.97    0.3333   -1.07682     0.365122\n",
       "exp3 & ind2: 17  -0.0362622     0.352283   -0.10    0.9180   -0.726895    0.654371\n",
       "exp3 & ind2: 18   0.0157436     0.325024    0.05    0.9614   -0.621448    0.652936\n",
       "exp3 & ind2: 19  -0.14883       0.420781   -0.35    0.7236   -0.973749    0.67609\n",
       "exp3 & ind2: 2   -1.04482       0.706672   -1.48    0.1393   -2.43021     0.340577\n",
       "exp3 & ind2: 20  -0.0679218     0.37047    -0.18    0.8545   -0.794209    0.658365\n",
       "exp3 & ind2: 21   0.396705      0.38116     1.04    0.2980   -0.350539    1.14395\n",
       "exp3 & ind2: 22  -0.0760277     0.34879    -0.22    0.8275   -0.759812    0.607756\n",
       "exp3 & ind2: 3    1.62176       0.784599    2.07    0.0388    0.0835992   3.15993\n",
       "exp3 & ind2: 4   -0.314973      0.428727   -0.73    0.4626   -1.15547     0.525524\n",
       "exp3 & ind2: 5   -0.0505912     0.339866   -0.15    0.8817   -0.716881    0.615699\n",
       "exp3 & ind2: 6    0.0193266     0.335922    0.06    0.9541   -0.63923     0.677883\n",
       "exp3 & ind2: 7   -0.335907      0.58607    -0.57    0.5666   -1.48487     0.813053\n",
       "exp3 & ind2: 8    0.189279      0.451639    0.42    0.6752   -0.696137    1.07469\n",
       "exp3 & ind2: 9   -0.216085      0.299794   -0.72    0.4711   -0.803816    0.371646\n",
       "exp3 & mw        -0.0625771     0.124129   -0.50    0.6142   -0.305926    0.180772\n",
       "exp3 & so        -0.0115842     0.108422   -0.11    0.9149   -0.224139    0.200971\n",
       "exp3 & we        -0.0124875     0.125138   -0.10    0.9205   -0.257813    0.232838\n",
       "exp4 & shs        0.0777418     0.0475427   1.64    0.1021   -0.0154632   0.170947\n",
       "exp4 & hsg        0.000491255   0.0265964   0.02    0.9853   -0.0516497   0.0526322\n",
       "exp4 & scl        0.021076      0.0245289   0.86    0.3903   -0.0270117   0.0691637\n",
       "exp4 & clg        0.00786949    0.0227528   0.35    0.7295   -0.0367363   0.0524753\n",
       "exp4 & occ2: 10  -0.0333347     0.0338825  -0.98    0.3252   -0.0997595   0.0330901\n",
       "exp4 & occ2: 11  -0.0465914     0.0479018  -0.97    0.3308   -0.1405      0.0473175\n",
       "exp4 & occ2: 12   0.0110212     0.0470536   0.23    0.8148   -0.0812249   0.103267\n",
       "exp4 & occ2: 13  -0.0136895     0.0358988  -0.38    0.7030   -0.0840673   0.0566883\n",
       "exp4 & occ2: 14   0.00555824    0.0400331   0.14    0.8896   -0.0729245   0.084041\n",
       "exp4 & occ2: 15  -0.0327444     0.0462379  -0.71    0.4789   -0.123391    0.0579026\n",
       "exp4 & occ2: 16  -0.00897062    0.0275729  -0.33    0.7449   -0.0630259   0.0450847\n",
       "exp4 & occ2: 17  -0.0256735     0.0239306  -1.07    0.2834   -0.0725881   0.0212412\n",
       "exp4 & occ2: 18  -0.212137      0.2204     -0.96    0.3358   -0.64422     0.219946\n",
       "exp4 & occ2: 19  -0.0169398     0.0513428  -0.33    0.7415   -0.117595    0.083715\n",
       "exp4 & occ2: 2    0.0176389     0.0289257   0.61    0.5420   -0.0390683   0.0743462\n",
       "exp4 & occ2: 20  -0.0296125     0.0323353  -0.92    0.3598   -0.0930042   0.0337791\n",
       "exp4 & occ2: 21  -0.0524577     0.0317251  -1.65    0.0983   -0.114653    0.00973765\n",
       "exp4 & occ2: 22  -0.0350646     0.0360687  -0.97    0.3310   -0.105775    0.0356463\n",
       "exp4 & occ2: 3    0.0303057     0.0376552   0.80    0.4210   -0.0435153   0.104127\n",
       "exp4 & occ2: 4    0.0584146     0.0457704   1.28    0.2019   -0.0313159   0.148145\n",
       "exp4 & occ2: 5   -0.0515181     0.0549489  -0.94    0.3485   -0.159243    0.0562063\n",
       "exp4 & occ2: 6   -0.0170182     0.0440847  -0.39    0.6995   -0.103444    0.0694076\n",
       "exp4 & occ2: 7    0.190535      0.0558757   3.41    0.0007    0.0809939   0.300077\n",
       "exp4 & occ2: 8    0.0196522     0.0379084   0.52    0.6042   -0.0546653   0.0939697\n",
       "exp4 & occ2: 9    0.0190014     0.0421099   0.45    0.6518   -0.0635528   0.101556\n",
       "exp4 & ind2: 11  -0.084012      0.0518917  -1.62    0.1055   -0.185743    0.0177191\n",
       "exp4 & ind2: 12  -0.0390069     0.0424964  -0.92    0.3587   -0.122319    0.044305\n",
       "exp4 & ind2: 13  -0.0672775     0.0518686  -1.30    0.1947   -0.168963    0.0344082\n",
       "exp4 & ind2: 14  -6.82236e-5    0.0400746  -0.00    0.9986   -0.0786325   0.078496\n",
       "exp4 & ind2: 15   0.0950646     0.104359    0.91    0.3624   -0.109525    0.299654\n",
       "exp4 & ind2: 16   0.0438506     0.0451919   0.97    0.3319   -0.0447458   0.132447\n",
       "exp4 & ind2: 17   0.00554933    0.043163    0.13    0.8977   -0.0790695   0.0901682\n",
       "exp4 & ind2: 18  -0.00634059    0.0394237  -0.16    0.8722   -0.0836287   0.0709475\n",
       "exp4 & ind2: 19   0.0213249     0.0523585   0.41    0.6838   -0.0813212   0.123971\n",
       "exp4 & ind2: 2    0.148284      0.0918416   1.61    0.1065   -0.0317665   0.328335\n",
       "exp4 & ind2: 20   0.00142884    0.0448582   0.03    0.9746   -0.0865134   0.0893711\n",
       "exp4 & ind2: 21  -0.0549777     0.0473826  -1.16    0.2460   -0.147869    0.0379135\n",
       "exp4 & ind2: 22   0.000189061   0.0424445   0.00    0.9964   -0.0830211   0.0833992\n",
       "exp4 & ind2: 3   -0.236895      0.106698   -2.22    0.0264   -0.446071   -0.0277192\n",
       "exp4 & ind2: 4    0.0273364     0.0534731   0.51    0.6092   -0.0774948   0.132168\n",
       "exp4 & ind2: 5    0.00417968    0.0407488   0.10    0.9183   -0.0757062   0.0840656\n",
       "exp4 & ind2: 6   -0.00432682    0.0402397  -0.11    0.9144   -0.0832147   0.0745611\n",
       "exp4 & ind2: 7    0.0480848     0.0784057   0.61    0.5397   -0.105625    0.201795\n",
       "exp4 & ind2: 8   -0.0126822     0.0561032  -0.23    0.8212   -0.12267     0.0973051\n",
       "exp4 & ind2: 9    0.0304762     0.0353913   0.86    0.3892   -0.0389067   0.099859\n",
       "exp4 & mw         0.00624394    0.0158699   0.39    0.6940   -0.0248681   0.037356\n",
       "exp4 & so         0.000314457   0.0136275   0.02    0.9816   -0.0264016   0.0270305\n",
       "exp4 & we         0.00176845    0.0159602   0.11    0.9118   -0.0295206   0.0330575\n",
       "────────────────────────────────────────────────────────────────────────────────────"
      ]
     },
     "execution_count": 8,
     "metadata": {},
     "output_type": "execute_result"
    }
   ],
   "source": [
    "#basic model\n",
    "basic  = @formula(lwage ~ (sex + exp1 + shs + hsg+ scl + clg + mw + so + we + occ2+ ind2))\n",
    "basic_results  = lm(basic, data)\n",
    "\n",
    "#flexible model\n",
    "flex = @formula(lwage ~ sex + shs+hsg+scl+clg+occ2+ind2+mw+so+we + (exp1+exp2+exp3+exp4)*(shs+hsg+scl+clg+occ2+ind2+mw+so+we))\n",
    "regflex = lm(flex, data)"
   ]
  },
  {
   "cell_type": "markdown",
   "metadata": {},
   "source": [
    "### Try Lasso next"
   ]
  },
  {
   "cell_type": "code",
   "execution_count": 9,
   "metadata": {
    "tags": []
   },
   "outputs": [
    {
     "data": {
      "text/plain": [
       "StatsModels.TableRegressionModel{LassoModel{LinearModel{GLM.LmResp{Vector{Float64}}, GLM.DensePredChol{Float64, LinearAlgebra.CholeskyPivoted{Float64, Matrix{Float64}}}}, MinAICc}, Matrix{Float64}}\n",
       "\n",
       "lwage ~ sex + shs + hsg + scl + clg + occ2 + ind2 + mw + so + we + exp1 + exp2 + exp3 + exp4 + exp1 & shs + exp1 & hsg + exp1 & scl + exp1 & clg + exp1 & occ2 + exp1 & ind2 + exp1 & mw + exp1 & so + exp1 & we + exp2 & shs + exp2 & hsg + exp2 & scl + exp2 & clg + exp2 & occ2 + exp2 & ind2 + exp2 & mw + exp2 & so + exp2 & we + exp3 & shs + exp3 & hsg + exp3 & scl + exp3 & clg + exp3 & occ2 + exp3 & ind2 + exp3 & mw + exp3 & so + exp3 & we + exp4 & shs + exp4 & hsg + exp4 & scl + exp4 & clg + exp4 & occ2 + exp4 & ind2 + exp4 & mw + exp4 & so + exp4 & we\n",
       "\n",
       "Coefficients:\n",
       "LassoModel using MinAICc(2) segment of the regularization path.\n",
       "\n",
       "Coefficients:\n",
       "──────────────────\n",
       "          Estimate\n",
       "──────────────────\n",
       "x1     3.34129\n",
       "x2    -0.0631407\n",
       "x3    -0.565639\n",
       "x4    -0.50156\n",
       "x5    -0.400049\n",
       "x6    -0.14691\n",
       "x7     0.0\n",
       "x8    -0.360004\n",
       "x9    -0.209659\n",
       "x10   -0.188597\n",
       "x11   -0.249669\n",
       "x12   -0.363077\n",
       "x13   -0.16079\n",
       "x14   -0.353041\n",
       "x15   -0.324731\n",
       "x16   -0.178614\n",
       "x17    0.0\n",
       "x18   -0.165913\n",
       "x19   -0.147868\n",
       "x20   -0.369714\n",
       "x21    0.00735858\n",
       "x22    0.0\n",
       "x23   -0.11278\n",
       "x24   -0.330056\n",
       "x25    0.00179747\n",
       "x26   -0.327129\n",
       "x27   -0.175565\n",
       "x28    0.0646178\n",
       "x29    0.172216\n",
       "x30    0.0774118\n",
       "x31    0.0506054\n",
       "x32    0.0\n",
       "x33   -0.0489911\n",
       "x34   -0.0632706\n",
       "x35   -0.0881081\n",
       "x36   -0.137242\n",
       "x37    0.282243\n",
       "x38   -0.27567\n",
       "x39    0.0\n",
       "x40    0.103844\n",
       "x41    0.124828\n",
       "x42    0.0\n",
       "x43    0.0\n",
       "x44    0.0\n",
       "x45    0.0266645\n",
       "x46    0.041781\n",
       "x47   -0.148758\n",
       "x48    0.0\n",
       "x49   -0.018235\n",
       "x50    0.0\n",
       "x51    0.0142924\n",
       "x52    0.0\n",
       "x53    0.0\n",
       "x54    0.0\n",
       "x55    0.0\n",
       "x56    0.0\n",
       "x57    0.0\n",
       "x58   -0.000195042\n",
       "x59    0.00361625\n",
       "x60   -0.00321403\n",
       "x61    0.0\n",
       "x62   -0.00919592\n",
       "x63   -0.0109497\n",
       "x64   -0.00207628\n",
       "x65    0.0\n",
       "x66    0.0\n",
       "x67    0.0\n",
       "x68    0.0\n",
       "x69    0.0\n",
       "x70    0.0\n",
       "x71   -0.00436299\n",
       "x72    0.0\n",
       "x73   -0.000609112\n",
       "x74   -0.00228671\n",
       "x75    0.0\n",
       "x76    0.0\n",
       "x77    0.0\n",
       "x78    0.0\n",
       "x79    0.00130242\n",
       "x80    0.0\n",
       "x81    0.0\n",
       "x82    0.0\n",
       "x83    0.0\n",
       "x84    0.0\n",
       "x85    0.0\n",
       "x86    0.000821768\n",
       "x87    0.0\n",
       "x88    0.0\n",
       "x89    0.0\n",
       "x90    0.0\n",
       "x91   -0.00541602\n",
       "x92    0.00312622\n",
       "x93    0.0\n",
       "x94    0.0\n",
       "x95   -0.00189558\n",
       "x96   -0.000570929\n",
       "x97    0.00105877\n",
       "x98    0.0\n",
       "x99    0.0\n",
       "x100  -0.000714472\n",
       "x101   0.0\n",
       "x102   0.00278992\n",
       "x103   0.0\n",
       "x104   0.0\n",
       "x105   0.0\n",
       "x106   0.0\n",
       "x107   0.0\n",
       "x108   0.0\n",
       "x109   0.0\n",
       "x110  -0.00651112\n",
       "x111   0.0\n",
       "x112   0.0\n",
       "x113   0.0\n",
       "x114   0.0\n",
       "x115   0.0\n",
       "x116   0.0\n",
       "x117  -0.00142291\n",
       "x118   0.0\n",
       "x119   0.0\n",
       "x120   0.0\n",
       "x121   0.0\n",
       "x122  -0.00754277\n",
       "x123   0.0\n",
       "x124   0.0\n",
       "x125   0.0\n",
       "x126   0.0\n",
       "x127   0.0\n",
       "x128   0.0\n",
       "x129   0.0\n",
       "x130  -0.00780449\n",
       "x131   0.0\n",
       "x132   0.0\n",
       "x133   0.0\n",
       "x134   0.0\n",
       "x135   0.0\n",
       "x136   0.0\n",
       "x137  -0.0240004\n",
       "x138   0.0\n",
       "x139   0.0\n",
       "x140   0.0\n",
       "x141   0.0\n",
       "x142   0.0\n",
       "x143   0.0\n",
       "x144  -0.000657946\n",
       "x145   0.00747602\n",
       "x146  -0.0168673\n",
       "x147   0.0\n",
       "x148  -0.0023378\n",
       "x149  -0.000272732\n",
       "x150   0.0\n",
       "x151   0.0\n",
       "x152   0.0\n",
       "x153   0.0\n",
       "x154   0.0\n",
       "x155   0.0\n",
       "x156   0.0\n",
       "x157   0.0\n",
       "x158   0.0\n",
       "x159   0.0\n",
       "x160   0.0\n",
       "x161   0.0\n",
       "x162   0.0\n",
       "x163   0.00459082\n",
       "x164   0.0\n",
       "x165  -0.00107904\n",
       "x166   2.35047e-5\n",
       "x167   0.0\n",
       "x168   0.0\n",
       "x169   0.0\n",
       "x170   0.0\n",
       "x171   0.0\n",
       "x172   0.0\n",
       "x173   0.0\n",
       "x174   0.0\n",
       "x175   0.0\n",
       "x176   0.0\n",
       "x177  -0.00168826\n",
       "x178   0.0\n",
       "x179   0.0\n",
       "x180   0.0\n",
       "x181   0.0\n",
       "x182   0.0\n",
       "x183   0.0\n",
       "x184   0.000737299\n",
       "x185   0.0\n",
       "x186  -0.000841314\n",
       "x187   0.0\n",
       "x188   0.0\n",
       "x189   0.0\n",
       "x190   0.0\n",
       "x191   0.0\n",
       "x192   0.0\n",
       "x193   0.0\n",
       "x194   0.0\n",
       "x195   0.0\n",
       "x196   0.0\n",
       "x197  -0.00102585\n",
       "x198   0.0\n",
       "x199   0.0\n",
       "x200   0.000244024\n",
       "x201   0.0\n",
       "x202  -0.000476642\n",
       "x203  -0.000894288\n",
       "x204   0.0\n",
       "x205  -0.00130759\n",
       "x206   0.0\n",
       "x207   0.0\n",
       "x208  -0.000999333\n",
       "x209  -0.000961788\n",
       "x210  -0.000514903\n",
       "x211   0.0\n",
       "x212   0.0\n",
       "x213  -0.00131441\n",
       "x214   0.000250381\n",
       "x215  -0.000652594\n",
       "x216   0.0\n",
       "x217   0.000192503\n",
       "x218   0.0\n",
       "x219   0.0\n",
       "x220  -0.00166666\n",
       "x221   0.0\n",
       "x222   0.0\n",
       "x223   0.0\n",
       "x224  -0.000478704\n",
       "x225   0.0\n",
       "x226   0.0\n",
       "x227   0.000417421\n",
       "x228   0.0\n",
       "x229  -0.000827938\n",
       "x230   0.0\n",
       "x231  -9.91966e-5\n",
       "x232   0.000237123\n",
       "x233   0.0\n",
       "x234  -0.00042345\n",
       "x235   0.0\n",
       "x236  -0.00143342\n",
       "x237  -0.00146757\n",
       "x238  -0.000852059\n",
       "x239   0.0\n",
       "x240   0.0\n",
       "x241   0.000435754\n",
       "x242   0.0\n",
       "x243   0.0\n",
       "x244  -0.000537361\n",
       "x245  -6.33045e-5\n",
       "x246  -0.000877637\n",
       "──────────────────\n"
      ]
     },
     "execution_count": 9,
     "metadata": {},
     "output_type": "execute_result"
    }
   ],
   "source": [
    "# using Pkg\n",
    "# Pkg.add(\"Lasso\")\n",
    "using Lasso\n",
    "\n",
    "flex = @formula(lwage ~ sex + shs+hsg+scl+clg+occ2+ind2+mw+so+we + (exp1+exp2+exp3+exp4)*(shs+hsg+scl+clg+occ2+ind2+mw+so+we))\n",
    "lasso_model = fit(LassoModel, flex, data)"
   ]
  },
  {
   "cell_type": "markdown",
   "metadata": {
    "tags": []
   },
   "source": [
    "#### Evaluating the predictive performance of the basic and flexible models\n",
    "Now, we can evaluate the performance of both models based on the (adjusted) $R^2_{sample}$ and the (adjusted) $MSE_{sample}$:"
   ]
  },
  {
   "cell_type": "code",
   "execution_count": 10,
   "metadata": {
    "tags": []
   },
   "outputs": [
    {
     "data": {
      "text/html": [
       "<table class=\"data-frame\"><thead><tr><th></th><th>Model</th><th>Basic_reg</th><th>Flexxibmle_reg</th><th>lasso_flex</th></tr><tr><th></th><th>String</th><th>Float64</th><th>Float64</th><th>Float64</th></tr></thead><tbody><p>5 rows × 4 columns</p><tr><th>1</th><td>p</td><td>51.0</td><td>246.0</td><td>246.0</td></tr><tr><th>2</th><td>R^2</td><td>0.310047</td><td>0.35111</td><td>0.32635</td></tr><tr><th>3</th><td>MSE</td><td>0.303281</td><td>0.318692</td><td>0.292551</td></tr><tr><th>4</th><td>R^2 adjusted</td><td>0.224425</td><td>0.211068</td><td>0.219122</td></tr><tr><th>5</th><td>MSE adjusted</td><td>0.22667</td><td>0.221656</td><td>0.230114</td></tr></tbody></table>"
      ],
      "text/latex": [
       "\\begin{tabular}{r|cccc}\n",
       "\t& Model & Basic\\_reg & Flexxibmle\\_reg & lasso\\_flex\\\\\n",
       "\t\\hline\n",
       "\t& String & Float64 & Float64 & Float64\\\\\n",
       "\t\\hline\n",
       "\t1 & p & 51.0 & 246.0 & 246.0 \\\\\n",
       "\t2 & R\\^2 & 0.310047 & 0.35111 & 0.32635 \\\\\n",
       "\t3 & MSE & 0.303281 & 0.318692 & 0.292551 \\\\\n",
       "\t4 & R\\^2 adjusted & 0.224425 & 0.211068 & 0.219122 \\\\\n",
       "\t5 & MSE adjusted & 0.22667 & 0.221656 & 0.230114 \\\\\n",
       "\\end{tabular}\n"
      ],
      "text/plain": [
       "\u001b[1m5×4 DataFrame\u001b[0m\n",
       "\u001b[1m Row \u001b[0m│\u001b[1m Model        \u001b[0m\u001b[1m Basic_reg \u001b[0m\u001b[1m Flexxibmle_reg \u001b[0m\u001b[1m lasso_flex \u001b[0m\n",
       "\u001b[1m     \u001b[0m│\u001b[90m String       \u001b[0m\u001b[90m Float64   \u001b[0m\u001b[90m Float64        \u001b[0m\u001b[90m Float64    \u001b[0m\n",
       "─────┼─────────────────────────────────────────────────────\n",
       "   1 │ p             51.0           246.0       246.0\n",
       "   2 │ R^2            0.310047        0.35111     0.32635\n",
       "   3 │ MSE            0.303281        0.318692    0.292551\n",
       "   4 │ R^2 adjusted   0.224425        0.211068    0.219122\n",
       "   5 │ MSE adjusted   0.22667         0.221656    0.230114"
      ]
     },
     "execution_count": 10,
     "metadata": {},
     "output_type": "execute_result"
    }
   ],
   "source": [
    "# lasso_model, basic_results, regflex\n",
    "n_data = size(data)[1]\n",
    "\n",
    "function ref_bsc(model, lasso = false, n = n_data)\n",
    "     if lasso\n",
    "        p = length(coef(model))\n",
    "        y_hat = predict(model)\n",
    "        y_r = data.lwage\n",
    "        r_2 = 1 - sum((y_r .- y_hat).^2)  / sum((y_r .- mean(y_r)).^2)\n",
    "        adj_r2 = 1 - (1 - r_2) * ((n - 1) / (n - p - 1))\n",
    "    else\n",
    "        p = length(coef(model))\n",
    "        r_2 = r2(model)\n",
    "        adj_r2 = adjr2(model)\n",
    "    end   \n",
    "    \n",
    "    mse = mean(residuals(model).^2)\n",
    "    mse_adj = (n / (n - p)) * mse\n",
    "    \n",
    "    ref = [p, r_2, adj_r2, mse, mse_adj]\n",
    "    \n",
    "    return ref\n",
    "    \n",
    "end\n",
    "\n",
    "DataFrame(\n",
    "    Model = [\"p\", \"R^2\", \"MSE\", \"R^2 adjusted\", \"MSE adjusted\"],\n",
    "    Basic_reg = ref_bsc(basic_results),\n",
    "    Flexxibmle_reg = ref_bsc(regflex),\n",
    "    lasso_flex = ref_bsc(lasso_model, true)\n",
    ")"
   ]
  },
  {
   "cell_type": "markdown",
   "metadata": {
    "tags": []
   },
   "source": [
    "Considering the measures above, the flexible model performs slightly better than the basic model. \n",
    "\n",
    "As $p/n$ is not large, the discrepancy between the adjusted and unadjusted measures is not large. However, if it were, we might still like to apply **data splitting** as a more general procedure to deal with potential overfitting if $p/n$. We illustrate the approach in the following.\n",
    "\n",
    "## Data Splitting\n",
    "\n",
    "Measure the prediction quality of the two models via data splitting:\n",
    "\n",
    "- Randomly split the data into one training sample and one testing sample. Here we just use a simple method (stratified splitting is a more sophisticated version of splitting that we might consider).\n",
    "- Use the training sample to estimate the parameters of the Basic Model and the Flexible Model.\n",
    "- Use the testing sample for evaluation. Predict the $\\mathtt{wage}$  of every observation in the testing sample based on the estimated parameters in the training sample.\n",
    "- Calculate the Mean Squared Prediction Error $MSE_{test}$ based on the testing sample for both prediction models. "
   ]
  },
  {
   "cell_type": "code",
   "execution_count": 11,
   "metadata": {},
   "outputs": [],
   "source": [
    "using Lathe.preprocess: TrainTestSplit"
   ]
  },
  {
   "cell_type": "code",
   "execution_count": 12,
   "metadata": {
    "tags": []
   },
   "outputs": [
    {
     "name": "stdout",
     "output_type": "stream",
     "text": [
      "Test MSE for the basic model: 0.2290967876788522\n",
      "Test R2 for the basic model: 0.289238974704928"
     ]
    }
   ],
   "source": [
    "train, test = TrainTestSplit(data, 4/5)\n",
    "reg_basic = lm(basic, train)\n",
    "\n",
    "train_reg_basic = predict(reg_basic, test)\n",
    "y_test = test.lwage\n",
    "\n",
    "mse_test1 = sum((y_test .- train_reg_basic).^2) / length(y_test)\n",
    "r2_test1 = 1 - mse_test1 / var(y_test)\n",
    "\n",
    "print(\"Test MSE for the basic model: $mse_test1\\nTest R2 for the basic model: $r2_test1\")"
   ]
  },
  {
   "cell_type": "markdown",
   "metadata": {},
   "source": [
    "In the basic model, the $MSE_{test}$ jis quite close to the $MSE_{sample}$"
   ]
  },
  {
   "cell_type": "code",
   "execution_count": 13,
   "metadata": {},
   "outputs": [
    {
     "name": "stdout",
     "output_type": "stream",
     "text": [
      "Test MSE for the basic model: 0.2549752677075409\n",
      "Test R2 for the basic model: 0.20895231863861619"
     ]
    }
   ],
   "source": [
    "reg_flex = lm(flex, train)\n",
    "train_reg_flex = predict(reg_flex, test)\n",
    "mse_test2 = sum((y_test .- train_reg_flex).^2) / length(y_test)\n",
    "r2_test2 = 1 - mse_test2 / var(y_test)\n",
    "    \n",
    "print(\"Test MSE for the basic model: $mse_test2\\nTest R2 for the basic model: $r2_test2\")"
   ]
  },
  {
   "cell_type": "markdown",
   "metadata": {},
   "source": [
    "In the flexible model too, the discrepancy between the $MSE_{test}$ and the $MSE_{sample}$ is not large."
   ]
  },
  {
   "cell_type": "markdown",
   "metadata": {},
   "source": [
    "It is worth noticing that the $MSE_{test}$ varies across different data splits. Hence, it is a good idea to average the out-of-sample MSE over different data splits to get valid results.\n",
    "\n",
    "Nevertheless, we observe that, based on the out-of-sample $MSE$, the basic model using ols regression performs **about as well (or slightly better)** than the flexible model. \n",
    "\n",
    "Next, let us use lasso regression in the flexible model instead of ols regression. The out-of-sample $MSE$ on the test sample can be computed for any black-box prediction method, so we also compare the performance of lasso regression in the flexible model to ols regression."
   ]
  },
  {
   "cell_type": "code",
   "execution_count": 14,
   "metadata": {},
   "outputs": [
    {
     "name": "stdout",
     "output_type": "stream",
     "text": [
      "Test MSE for the basic model: 0.22909929950928218\n",
      "Test R2 for the basic model: 0.28923118187993957"
     ]
    }
   ],
   "source": [
    "reg_lasso = fit(LassoModel, flex, train)\n",
    "train_reg_lasso = predict(reg_lasso, test)\n",
    "mse_lasso = sum((y_test .- train_reg_lasso).^2) / length(y_test)\n",
    "r2_lasso = 1 - mse_lasso / var(y_test)\n",
    "print(\"Test MSE for the basic model: $mse_lasso\\nTest R2 for the basic model: $r2_lasso\")"
   ]
  },
  {
   "cell_type": "markdown",
   "metadata": {},
   "source": [
    "Finally, let us summarize the results:"
   ]
  },
  {
   "cell_type": "code",
   "execution_count": 15,
   "metadata": {},
   "outputs": [
    {
     "data": {
      "text/html": [
       "<table class=\"data-frame\"><thead><tr><th></th><th>Model</th><th>MSE_test</th><th>R2_test</th></tr><tr><th></th><th>String</th><th>Float64</th><th>Float64</th></tr></thead><tbody><p>3 rows × 3 columns</p><tr><th>1</th><td>Basic reg</td><td>0.229097</td><td>0.289239</td></tr><tr><th>2</th><td>Flexible reg</td><td>0.254975</td><td>0.208952</td></tr><tr><th>3</th><td>Lasso Regression</td><td>0.229099</td><td>0.289231</td></tr></tbody></table>"
      ],
      "text/latex": [
       "\\begin{tabular}{r|ccc}\n",
       "\t& Model & MSE\\_test & R2\\_test\\\\\n",
       "\t\\hline\n",
       "\t& String & Float64 & Float64\\\\\n",
       "\t\\hline\n",
       "\t1 & Basic reg & 0.229097 & 0.289239 \\\\\n",
       "\t2 & Flexible reg & 0.254975 & 0.208952 \\\\\n",
       "\t3 & Lasso Regression & 0.229099 & 0.289231 \\\\\n",
       "\\end{tabular}\n"
      ],
      "text/plain": [
       "\u001b[1m3×3 DataFrame\u001b[0m\n",
       "\u001b[1m Row \u001b[0m│\u001b[1m Model            \u001b[0m\u001b[1m MSE_test \u001b[0m\u001b[1m R2_test  \u001b[0m\n",
       "\u001b[1m     \u001b[0m│\u001b[90m String           \u001b[0m\u001b[90m Float64  \u001b[0m\u001b[90m Float64  \u001b[0m\n",
       "─────┼──────────────────────────────────────\n",
       "   1 │ Basic reg         0.229097  0.289239\n",
       "   2 │ Flexible reg      0.254975  0.208952\n",
       "   3 │ Lasso Regression  0.229099  0.289231"
      ]
     },
     "execution_count": 15,
     "metadata": {},
     "output_type": "execute_result"
    }
   ],
   "source": [
    "MSE = [mse_test1, mse_test2, mse_lasso]\n",
    "R2 = [r2_test1, r2_test2, r2_lasso]\n",
    "Model = [\"Basic reg\", \"Flexible reg\", \"Lasso Regression\"]\n",
    "DataFrame( Model = Model, MSE_test = MSE, R2_test = R2)"
   ]
  }
 ],
 "metadata": {
  "hide_input": false,
  "interpreter": {
   "hash": "c469c999aae2bf6d578d6881606ced546d1546d312a4811937df5b24665ee8bc"
  },
  "kernelspec": {
   "display_name": "Julia 1.7.3",
   "language": "julia",
   "name": "julia-1.7"
  },
  "language_info": {
   "file_extension": ".jl",
   "mimetype": "application/julia",
   "name": "julia",
   "version": "1.7.3"
  }
 },
 "nbformat": 4,
 "nbformat_minor": 4
}
