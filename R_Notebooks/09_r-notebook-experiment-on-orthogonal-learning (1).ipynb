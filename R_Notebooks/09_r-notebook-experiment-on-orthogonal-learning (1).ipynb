{
 "cells": [
  {
   "cell_type": "markdown",
   "id": "bac8e821",
   "metadata": {
    "_execution_state": "idle",
    "_uuid": "051d70d956493feee0c6d64651c6a088724dca2a",
    "execution": {
     "iopub.execute_input": "2021-03-17T13:55:27.521139Z",
     "iopub.status.busy": "2021-03-17T13:55:27.518637Z",
     "iopub.status.idle": "2021-03-17T14:02:21.927575Z",
     "shell.execute_reply": "2021-03-17T14:02:21.925824Z"
    },
    "papermill": {
     "duration": 414.418507,
     "end_time": "2021-03-17T14:02:21.927880",
     "exception": false,
     "start_time": "2021-03-17T13:55:27.509373",
     "status": "completed"
    },
    "tags": []
   },
   "source": [
    "# Simulation Design 1"
   ]
  },
  {
   "cell_type": "code",
   "execution_count": 2,
   "id": "original-surfing",
   "metadata": {
    "_execution_state": "idle",
    "_uuid": "051d70d956493feee0c6d64651c6a088724dca2a",
    "execution": {
     "iopub.execute_input": "2021-03-17T13:55:27.521139Z",
     "iopub.status.busy": "2021-03-17T13:55:27.518637Z",
     "iopub.status.idle": "2021-03-17T14:02:21.927575Z",
     "shell.execute_reply": "2021-03-17T14:02:21.925824Z"
    },
    "papermill": {
     "duration": 414.418507,
     "end_time": "2021-03-17T14:02:21.927880",
     "exception": false,
     "start_time": "2021-03-17T13:55:27.509373",
     "status": "completed"
    },
    "tags": []
   },
   "outputs": [],
   "source": [
    "library(hdm)\n",
    "\n",
    "set.seed(1)\n",
    "B= 100 # trials\n",
    "Naive = rep(0, B)\n",
    "Orthogonal = rep(0, B)\n",
    "\n",
    "for (i in 1:B){\n",
    "    \n",
    "n=10000\n",
    "p= 100\n",
    "beta = 1/(1:p)^2\n",
    "gamma =1/(1:p)^2\n",
    "\n",
    "X=matrix(rnorm(n*p), n, p)\n",
    "    \n",
    "    \n",
    "D=   X%*%gamma + rnorm(n)/4\n",
    "\n",
    "Y = D+ X%*%beta + rnorm(n)\n",
    "\n",
    "# single selection method\n",
    "\n",
    "SX.IDs = which(rlasso(Y~ D+X)$coef[-c(1,2)] !=0)  #select covariates by Lasso\n",
    "\n",
    "\n",
    "if (sum(SX.IDs)==0) {Naive[i] = lm(Y~ D)$coef[2]}\n",
    "\n",
    "if (sum(SX.IDs)>0) {Naive[i] = lm(Y~ D + X[,SX.IDs])$coef[2]}\n",
    "\n",
    "\n",
    "\n",
    "#partialling out\n",
    "\n",
    "resY = rlasso(Y~ X, Post=F)$res\n",
    "resD = rlasso(D~ X, Post=F)$res\n",
    "Orthogonal[i]= lm(resY ~ resD)$coef[2]\n",
    "\n",
    "}"
   ]
  },
  {
   "cell_type": "code",
   "execution_count": 3,
   "id": "artistic-priority",
   "metadata": {
    "execution": {
     "iopub.execute_input": "2021-03-17T14:02:22.037841Z",
     "iopub.status.busy": "2021-03-17T14:02:21.989089Z",
     "iopub.status.idle": "2021-03-17T14:02:22.473026Z",
     "shell.execute_reply": "2021-03-17T14:02:22.471864Z"
    },
    "papermill": {
     "duration": 0.537926,
     "end_time": "2021-03-17T14:02:22.473201",
     "exception": false,
     "start_time": "2021-03-17T14:02:21.935275",
     "status": "completed"
    },
    "tags": []
   },
   "outputs": [
    {
     "data": {
      "image/png": "[encoded data removed]",
      "text/plain": [
       "Plot with title \"Orthogonal\""
      ]
     },
     "metadata": {
      "image/png": {
       "height": 420,
       "width": 420
      }
     },
     "output_type": "display_data"
    },
    {
     "data": {
      "image/png": "[encoded data removed]",
      "text/plain": [
       "Plot with title \"Naive\""
      ]
     },
     "metadata": {
      "image/png": {
       "height": 420,
       "width": 420
      }
     },
     "output_type": "display_data"
    }
   ],
   "source": [
    "hist(Orthogonal-1,col=4, freq=F, xlim= c(-2, 2), xlab= \"Orhtogonal -True \", main=\"Orthogonal\")\n",
    "hist(Naive-1, col=2, freq=F, xlim= c(-2,2), xlab= \"Naive- True\", main = \"Naive\")\n"
   ]
  },
  {
   "cell_type": "markdown",
   "id": "80361484",
   "metadata": {},
   "source": [
    "# Simulation Design 2"
   ]
  },
  {
   "cell_type": "code",
   "execution_count": null,
   "id": "outdoor-frame",
   "metadata": {
    "execution": {
     "iopub.execute_input": "2021-03-17T14:02:22.491998Z",
     "iopub.status.busy": "2021-03-17T14:02:22.490334Z",
     "iopub.status.idle": "2021-03-17T14:09:19.285478Z",
     "shell.execute_reply": "2021-03-17T14:09:19.281058Z"
    },
    "papermill": {
     "duration": 416.805708,
     "end_time": "2021-03-17T14:09:19.285763",
     "exception": false,
     "start_time": "2021-03-17T14:02:22.480055",
     "status": "completed"
    },
    "tags": []
   },
   "outputs": [],
   "source": [
    "library(hdm)\n",
    "\n",
    "set.seed(1)\n",
    "B= 1000 # trials \n",
    "Naive = rep(0, B)\n",
    "Orthogonal = rep(0, B)\n",
    "\n",
    "for (i in 1:B){\n",
    "    \n",
    "n=100\n",
    "p= 100\n",
    "beta = 1/(1:p)^2\n",
    "gamma =1/(1:p)^2\n",
    "\n",
    "X=matrix(rnorm(n*p), n, p)\n",
    "    \n",
    "    \n",
    "D =   X%*%gamma + rnorm(n)/4\n",
    "\n",
    "Y =  D+ X%*%beta + rnorm(n)\n",
    "\n",
    "# single selection method\n",
    "\n",
    "SX.IDs = which(rlasso(Y~ D+X)$coef[-c(1,2)] !=0)  #select covariates by Lasso\n",
    "\n",
    "\n",
    "if (sum(SX.IDs)==0) {Naive[i] = lm(Y~ D)$coef[2]}\n",
    "\n",
    "if (sum(SX.IDs)>0) {Naive[i] = lm(Y~ D + X[,SX.IDs])$coef[2]}\n",
    "\n",
    "\n",
    "\n",
    "#partialling out\n",
    "\n",
    "resY = rlasso(Y~ X, Post=T)$res\n",
    "resD = rlasso(D~ X, Post=T)$res\n",
    "Orthogonal[i]= lm(resY ~ resD)$coef[2]\n",
    "\n",
    "}\n"
   ]
  },
  {
   "cell_type": "code",
   "execution_count": null,
   "id": "human-abraham",
   "metadata": {
    "execution": {
     "iopub.execute_input": "2021-03-17T14:09:19.374054Z",
     "iopub.status.busy": "2021-03-17T14:09:19.369799Z",
     "iopub.status.idle": "2021-03-17T14:09:19.514722Z",
     "shell.execute_reply": "2021-03-17T14:09:19.513652Z"
    },
    "papermill": {
     "duration": 0.217916,
     "end_time": "2021-03-17T14:09:19.514867",
     "exception": false,
     "start_time": "2021-03-17T14:09:19.296951",
     "status": "completed"
    },
    "tags": []
   },
   "outputs": [],
   "source": [
    "hist(Orthogonal-1,col=4, freq=F, xlim= c(-2, 2), xlab= \"Orhtogonal -True \", main=\"Orthogonal\")\n",
    "hist(Naive-1, col=2, freq=F, xlim= c(-2,2), xlab= \"Naive- True\", main = \"Naive\")\n"
   ]
  }
 ],
 "metadata": {
  "kernelspec": {
   "display_name": "R",
   "language": "R",
   "name": "ir"
  },
  "language_info": {
   "codemirror_mode": "r",
   "file_extension": ".r",
   "mimetype": "text/x-r-source",
   "name": "R",
   "pygments_lexer": "r",
   "version": "4.2.1"
  },
  "papermill": {
   "default_parameters": {},
   "duration": 835.118278,
   "end_time": "2021-03-17T14:09:19.633175",
   "environment_variables": {},
   "exception": null,
   "input_path": "__notebook__.ipynb",
   "output_path": "__notebook__.ipynb",
   "parameters": {},
   "start_time": "2021-03-17T13:55:24.514897",
   "version": "2.3.2"
  }
 },
 "nbformat": 4,
 "nbformat_minor": 5
}
