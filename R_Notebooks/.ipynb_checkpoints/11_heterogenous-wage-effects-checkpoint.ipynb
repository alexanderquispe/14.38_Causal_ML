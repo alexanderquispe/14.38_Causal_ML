{
 "cells": [
  {
   "cell_type": "markdown",
   "metadata": {
    "papermill": {
     "duration": 0.011184,
     "end_time": "2021-02-28T17:17:25.882205",
     "exception": false,
     "start_time": "2021-02-28T17:17:25.871021",
     "status": "completed"
    },
    "tags": []
   },
   "source": [
    "# Application: Heterogeneous Effect of Gender on Wage Using Double Lasso\n",
    "\n",
    " We use US census data from the year 2012 to analyse the effect of gender and interaction effects of other variables with gender on wage jointly. The dependent variable is the logarithm of the wage, the target variable is *female* (in combination with other variables). All other variables denote some other socio-economic characteristics, e.g. marital status, education, and experience.  For a detailed description of the variables we refer to the help page.\n",
    "\n",
    "\n",
    "\n",
    "This analysis allows a closer look how discrimination according to gender is related to other socio-economic variables.\n",
    "\n"
   ]
  },
  {
   "cell_type": "code",
   "execution_count": 1,
   "metadata": {
    "execution": {
     "iopub.execute_input": "2021-02-28T17:17:25.940403Z",
     "iopub.status.busy": "2021-02-28T17:17:25.937816Z",
     "iopub.status.idle": "2021-02-28T17:17:26.291065Z",
     "shell.execute_reply": "2021-02-28T17:17:26.289341Z"
    },
    "papermill": {
     "duration": 0.39942,
     "end_time": "2021-02-28T17:17:26.291369",
     "exception": false,
     "start_time": "2021-02-28T17:17:25.891949",
     "status": "completed"
    },
    "tags": []
   },
   "outputs": [
    {
     "name": "stdout",
     "output_type": "stream",
     "text": [
      "'data.frame':\t29217 obs. of  23 variables:\n",
      " $ year        : num  2012 2012 2012 2012 2012 ...\n",
      " $ lnw         : num  1.91 1.37 2.54 1.8 3.35 ...\n",
      " $ female      : num  1 1 0 1 0 0 0 0 0 1 ...\n",
      " $ widowed     : num  0 0 0 0 0 0 0 0 0 0 ...\n",
      " $ divorced    : num  0 0 0 0 0 0 0 0 0 0 ...\n",
      " $ separated   : num  0 0 0 0 0 0 0 0 0 0 ...\n",
      " $ nevermarried: num  0 0 0 0 0 0 1 0 0 0 ...\n",
      " $ hsd08       : num  0 0 0 0 0 0 0 0 0 0 ...\n",
      " $ hsd911      : num  0 1 0 0 0 0 0 0 0 0 ...\n",
      " $ hsg         : num  0 0 1 1 0 1 1 0 0 0 ...\n",
      " $ cg          : num  0 0 0 0 1 0 0 0 1 0 ...\n",
      " $ ad          : num  0 0 0 0 0 0 0 0 0 0 ...\n",
      " $ mw          : num  0 0 0 0 0 0 0 0 0 0 ...\n",
      " $ so          : num  0 0 0 0 0 0 0 0 0 0 ...\n",
      " $ we          : num  0 0 0 0 0 0 0 0 0 0 ...\n",
      " $ exp1        : num  22 30 19 14 15 23 33 23.5 15 15.5 ...\n",
      " $ exp2        : num  4.84 9 3.61 1.96 2.25 ...\n",
      " $ exp3        : num  10.65 27 6.86 2.74 3.38 ...\n",
      " $ exp4        : num  23.43 81 13.03 3.84 5.06 ...\n",
      " $ weight      : num  569 626 264 257 257 ...\n",
      " $ married     : logi  TRUE TRUE TRUE TRUE TRUE TRUE ...\n",
      " $ ne          : logi  TRUE TRUE TRUE TRUE TRUE TRUE ...\n",
      " $ sc          : logi  TRUE FALSE FALSE FALSE FALSE FALSE ...\n"
     ]
    }
   ],
   "source": [
    "library(hdm)\n",
    "data(cps2012)\n",
    "str(cps2012)"
   ]
  },
  {
   "cell_type": "code",
   "execution_count": 2,
   "metadata": {
    "execution": {
     "iopub.execute_input": "2021-02-28T17:17:26.350577Z",
     "iopub.status.busy": "2021-02-28T17:17:26.317735Z",
     "iopub.status.idle": "2021-02-28T17:17:29.196789Z",
     "shell.execute_reply": "2021-02-28T17:17:29.194681Z"
    },
    "papermill": {
     "duration": 2.894102,
     "end_time": "2021-02-28T17:17:29.196986",
     "exception": false,
     "start_time": "2021-02-28T17:17:26.302884",
     "status": "completed"
    },
    "tags": []
   },
   "outputs": [
    {
     "data": {
      "text/html": [
       "<style>\n",
       ".list-inline {list-style: none; margin:0; padding: 0}\n",
       ".list-inline>li {display: inline-block}\n",
       ".list-inline>li:not(:last-child)::after {content: \"\\00b7\"; padding: 0 .5ex}\n",
       "</style>\n",
       "<ol class=list-inline><li>29217</li><li>116</li></ol>\n"
      ],
      "text/latex": [
       "\\begin{enumerate*}\n",
       "\\item 29217\n",
       "\\item 116\n",
       "\\end{enumerate*}\n"
      ],
      "text/markdown": [
       "1. 29217\n",
       "2. 116\n",
       "\n",
       "\n"
      ],
      "text/plain": [
       "[1] 29217   116"
      ]
     },
     "metadata": {},
     "output_type": "display_data"
    }
   ],
   "source": [
    "# create the model matrix for the covariates\n",
    "X <- model.matrix(~-1 + female + female:(widowed + divorced + separated + nevermarried +\n",
    "hsd08 + hsd911 + hsg + cg + ad + mw + so + we + exp1 + exp2 + exp3) + +(widowed +\n",
    "divorced + separated + nevermarried + hsd08 + hsd911 + hsg + cg + ad + mw + so +\n",
    "we + exp1 + exp2 + exp3)^2, data = cps2012)\n",
    "X <- X[, which(apply(X, 2, var) != 0)] # exclude all constant variables\n",
    "demean<- function (x){ x- mean(x)}\n",
    "X<- apply(X, 2, FUN=demean)\n",
    "dim(X)\n",
    "\n",
    "# target variables, index.gender specifices coefficients we are interested in\n",
    "index.gender <- grep(\"female\", colnames(X))\n",
    "y <- cps2012$lnw"
   ]
  },
  {
   "cell_type": "markdown",
   "metadata": {
    "papermill": {
     "duration": 0.008565,
     "end_time": "2021-02-28T17:17:29.215145",
     "exception": false,
     "start_time": "2021-02-28T17:17:29.206580",
     "status": "completed"
    },
    "tags": []
   },
   "source": [
    "The parameter estimates for the target parameters, i.e. all coefficients related to gender (i.e. by interaction with other variables) are calculated and summarized by the following commands:\n",
    "\n"
   ]
  },
  {
   "cell_type": "code",
   "execution_count": 3,
   "metadata": {
    "_execution_state": "idle",
    "_uuid": "051d70d956493feee0c6d64651c6a088724dca2a",
    "execution": {
     "iopub.execute_input": "2021-02-28T17:17:29.240943Z",
     "iopub.status.busy": "2021-02-28T17:17:29.238952Z",
     "iopub.status.idle": "2021-02-28T17:18:47.651562Z",
     "shell.execute_reply": "2021-02-28T17:18:47.648518Z"
    },
    "papermill": {
     "duration": 78.426974,
     "end_time": "2021-02-28T17:18:47.651893",
     "exception": false,
     "start_time": "2021-02-28T17:17:29.224919",
     "status": "completed"
    },
    "tags": []
   },
   "outputs": [],
   "source": [
    "# this cell takes a minute to run\n",
    "\n",
    "effects.female <- rlassoEffects(x = X, y = y, index = index.gender)\n"
   ]
  },
  {
   "cell_type": "code",
   "execution_count": 4,
   "metadata": {
    "execution": {
     "iopub.execute_input": "2021-02-28T17:18:47.695255Z",
     "iopub.status.busy": "2021-02-28T17:18:47.694641Z",
     "iopub.status.idle": "2021-02-28T17:18:47.787196Z",
     "shell.execute_reply": "2021-02-28T17:18:47.785009Z"
    },
    "papermill": {
     "duration": 0.115154,
     "end_time": "2021-02-28T17:18:47.787349",
     "exception": false,
     "start_time": "2021-02-28T17:18:47.672195",
     "status": "completed"
    },
    "tags": []
   },
   "outputs": [
    {
     "data": {
      "text/html": [
       "<table class=\"dataframe\">\n",
       "<caption>A matrix: 16 × 4 of type dbl</caption>\n",
       "<thead>\n",
       "\t<tr><th></th><th scope=col>Estimate.</th><th scope=col>Std. Error</th><th scope=col>t value</th><th scope=col>Pr(&gt;|t|)</th></tr>\n",
       "</thead>\n",
       "<tbody>\n",
       "\t<tr><th scope=row>female</th><td>-0.154923281</td><td>0.050162447</td><td>-3.08843149</td><td>2.012161e-03</td></tr>\n",
       "\t<tr><th scope=row>female:widowed</th><td> 0.136095484</td><td>0.090662629</td><td> 1.50111997</td><td>1.333245e-01</td></tr>\n",
       "\t<tr><th scope=row>female:divorced</th><td> 0.136939386</td><td>0.022181700</td><td> 6.17352970</td><td>6.678200e-10</td></tr>\n",
       "\t<tr><th scope=row>female:separated</th><td> 0.023302763</td><td>0.053211795</td><td> 0.43792476</td><td>6.614408e-01</td></tr>\n",
       "\t<tr><th scope=row>female:nevermarried</th><td> 0.186853483</td><td>0.019942393</td><td> 9.36966209</td><td>7.276511e-21</td></tr>\n",
       "\t<tr><th scope=row>female:hsd08</th><td> 0.027810312</td><td>0.120914496</td><td> 0.22999982</td><td>8.180919e-01</td></tr>\n",
       "\t<tr><th scope=row>female:hsd911</th><td>-0.119335040</td><td>0.051879684</td><td>-2.30022682</td><td>2.143537e-02</td></tr>\n",
       "\t<tr><th scope=row>female:hsg</th><td>-0.012889780</td><td>0.019223188</td><td>-0.67053290</td><td>5.025181e-01</td></tr>\n",
       "\t<tr><th scope=row>female:cg</th><td> 0.010138553</td><td>0.018326505</td><td> 0.55321800</td><td>5.801141e-01</td></tr>\n",
       "\t<tr><th scope=row>female:ad</th><td>-0.030463745</td><td>0.021806103</td><td>-1.39702838</td><td>1.624050e-01</td></tr>\n",
       "\t<tr><th scope=row>female:mw</th><td>-0.001063439</td><td>0.019191770</td><td>-0.05541119</td><td>9.558109e-01</td></tr>\n",
       "\t<tr><th scope=row>female:so</th><td>-0.008183343</td><td>0.019356818</td><td>-0.42276282</td><td>6.724683e-01</td></tr>\n",
       "\t<tr><th scope=row>female:we</th><td>-0.004226129</td><td>0.021168404</td><td>-0.19964324</td><td>8.417596e-01</td></tr>\n",
       "\t<tr><th scope=row>female:exp1</th><td> 0.004935259</td><td>0.007804275</td><td> 0.63237886</td><td>5.271393e-01</td></tr>\n",
       "\t<tr><th scope=row>female:exp2</th><td>-0.159519328</td><td>0.045299884</td><td>-3.52140699</td><td>4.292632e-04</td></tr>\n",
       "\t<tr><th scope=row>female:exp3</th><td> 0.038450579</td><td>0.007861100</td><td> 4.89124680</td><td>1.001992e-06</td></tr>\n",
       "</tbody>\n",
       "</table>\n"
      ],
      "text/latex": [
       "A matrix: 16 × 4 of type dbl\n",
       "\\begin{tabular}{r|llll}\n",
       "  & Estimate. & Std. Error & t value & Pr(>\\textbar{}t\\textbar{})\\\\\n",
       "\\hline\n",
       "\tfemale & -0.154923281 & 0.050162447 & -3.08843149 & 2.012161e-03\\\\\n",
       "\tfemale:widowed &  0.136095484 & 0.090662629 &  1.50111997 & 1.333245e-01\\\\\n",
       "\tfemale:divorced &  0.136939386 & 0.022181700 &  6.17352970 & 6.678200e-10\\\\\n",
       "\tfemale:separated &  0.023302763 & 0.053211795 &  0.43792476 & 6.614408e-01\\\\\n",
       "\tfemale:nevermarried &  0.186853483 & 0.019942393 &  9.36966209 & 7.276511e-21\\\\\n",
       "\tfemale:hsd08 &  0.027810312 & 0.120914496 &  0.22999982 & 8.180919e-01\\\\\n",
       "\tfemale:hsd911 & -0.119335040 & 0.051879684 & -2.30022682 & 2.143537e-02\\\\\n",
       "\tfemale:hsg & -0.012889780 & 0.019223188 & -0.67053290 & 5.025181e-01\\\\\n",
       "\tfemale:cg &  0.010138553 & 0.018326505 &  0.55321800 & 5.801141e-01\\\\\n",
       "\tfemale:ad & -0.030463745 & 0.021806103 & -1.39702838 & 1.624050e-01\\\\\n",
       "\tfemale:mw & -0.001063439 & 0.019191770 & -0.05541119 & 9.558109e-01\\\\\n",
       "\tfemale:so & -0.008183343 & 0.019356818 & -0.42276282 & 6.724683e-01\\\\\n",
       "\tfemale:we & -0.004226129 & 0.021168404 & -0.19964324 & 8.417596e-01\\\\\n",
       "\tfemale:exp1 &  0.004935259 & 0.007804275 &  0.63237886 & 5.271393e-01\\\\\n",
       "\tfemale:exp2 & -0.159519328 & 0.045299884 & -3.52140699 & 4.292632e-04\\\\\n",
       "\tfemale:exp3 &  0.038450579 & 0.007861100 &  4.89124680 & 1.001992e-06\\\\\n",
       "\\end{tabular}\n"
      ],
      "text/markdown": [
       "\n",
       "A matrix: 16 × 4 of type dbl\n",
       "\n",
       "| <!--/--> | Estimate. | Std. Error | t value | Pr(&gt;|t|) |\n",
       "|---|---|---|---|---|\n",
       "| female | -0.154923281 | 0.050162447 | -3.08843149 | 2.012161e-03 |\n",
       "| female:widowed |  0.136095484 | 0.090662629 |  1.50111997 | 1.333245e-01 |\n",
       "| female:divorced |  0.136939386 | 0.022181700 |  6.17352970 | 6.678200e-10 |\n",
       "| female:separated |  0.023302763 | 0.053211795 |  0.43792476 | 6.614408e-01 |\n",
       "| female:nevermarried |  0.186853483 | 0.019942393 |  9.36966209 | 7.276511e-21 |\n",
       "| female:hsd08 |  0.027810312 | 0.120914496 |  0.22999982 | 8.180919e-01 |\n",
       "| female:hsd911 | -0.119335040 | 0.051879684 | -2.30022682 | 2.143537e-02 |\n",
       "| female:hsg | -0.012889780 | 0.019223188 | -0.67053290 | 5.025181e-01 |\n",
       "| female:cg |  0.010138553 | 0.018326505 |  0.55321800 | 5.801141e-01 |\n",
       "| female:ad | -0.030463745 | 0.021806103 | -1.39702838 | 1.624050e-01 |\n",
       "| female:mw | -0.001063439 | 0.019191770 | -0.05541119 | 9.558109e-01 |\n",
       "| female:so | -0.008183343 | 0.019356818 | -0.42276282 | 6.724683e-01 |\n",
       "| female:we | -0.004226129 | 0.021168404 | -0.19964324 | 8.417596e-01 |\n",
       "| female:exp1 |  0.004935259 | 0.007804275 |  0.63237886 | 5.271393e-01 |\n",
       "| female:exp2 | -0.159519328 | 0.045299884 | -3.52140699 | 4.292632e-04 |\n",
       "| female:exp3 |  0.038450579 | 0.007861100 |  4.89124680 | 1.001992e-06 |\n",
       "\n"
      ],
      "text/plain": [
       "                    Estimate.    Std. Error  t value     Pr(>|t|)    \n",
       "female              -0.154923281 0.050162447 -3.08843149 2.012161e-03\n",
       "female:widowed       0.136095484 0.090662629  1.50111997 1.333245e-01\n",
       "female:divorced      0.136939386 0.022181700  6.17352970 6.678200e-10\n",
       "female:separated     0.023302763 0.053211795  0.43792476 6.614408e-01\n",
       "female:nevermarried  0.186853483 0.019942393  9.36966209 7.276511e-21\n",
       "female:hsd08         0.027810312 0.120914496  0.22999982 8.180919e-01\n",
       "female:hsd911       -0.119335040 0.051879684 -2.30022682 2.143537e-02\n",
       "female:hsg          -0.012889780 0.019223188 -0.67053290 5.025181e-01\n",
       "female:cg            0.010138553 0.018326505  0.55321800 5.801141e-01\n",
       "female:ad           -0.030463745 0.021806103 -1.39702838 1.624050e-01\n",
       "female:mw           -0.001063439 0.019191770 -0.05541119 9.558109e-01\n",
       "female:so           -0.008183343 0.019356818 -0.42276282 6.724683e-01\n",
       "female:we           -0.004226129 0.021168404 -0.19964324 8.417596e-01\n",
       "female:exp1          0.004935259 0.007804275  0.63237886 5.271393e-01\n",
       "female:exp2         -0.159519328 0.045299884 -3.52140699 4.292632e-04\n",
       "female:exp3          0.038450579 0.007861100  4.89124680 1.001992e-06"
      ]
     },
     "metadata": {},
     "output_type": "display_data"
    },
    {
     "name": "stdout",
     "output_type": "stream",
     "text": [
      "% latex table generated in R 3.6.3 by xtable 1.8-4 package\n",
      "% Sun Feb 28 17:18:47 2021\n",
      "\\begin{table}[ht]\n",
      "\\centering\n",
      "\\begin{tabular}{rrrr}\n",
      "  \\hline\n",
      " & Estimate. & Std. Error & Pr($>$$|$t$|$) \\\\ \n",
      "  \\hline\n",
      "female & -0.15 & 0.05 & 0.00 \\\\ \n",
      "  female:widowed & 0.14 & 0.09 & 0.13 \\\\ \n",
      "  female:divorced & 0.14 & 0.02 & 0.00 \\\\ \n",
      "  female:separated & 0.02 & 0.05 & 0.66 \\\\ \n",
      "  female:nevermarried & 0.19 & 0.02 & 0.00 \\\\ \n",
      "  female:hsd08 & 0.03 & 0.12 & 0.82 \\\\ \n",
      "  female:hsd911 & -0.12 & 0.05 & 0.02 \\\\ \n",
      "  female:hsg & -0.01 & 0.02 & 0.50 \\\\ \n",
      "  female:cg & 0.01 & 0.02 & 0.58 \\\\ \n",
      "  female:ad & -0.03 & 0.02 & 0.16 \\\\ \n",
      "  female:mw & -0.00 & 0.02 & 0.96 \\\\ \n",
      "  female:so & -0.01 & 0.02 & 0.67 \\\\ \n",
      "  female:we & -0.00 & 0.02 & 0.84 \\\\ \n",
      "  female:exp1 & 0.00 & 0.01 & 0.53 \\\\ \n",
      "  female:exp2 & -0.16 & 0.05 & 0.00 \\\\ \n",
      "  female:exp3 & 0.04 & 0.01 & 0.00 \\\\ \n",
      "   \\hline\n",
      "\\end{tabular}\n",
      "\\end{table}\n"
     ]
    }
   ],
   "source": [
    "result=summary(effects.female)\n",
    "result$coef\n",
    "library(xtable)"
   ]
  },
  {
   "cell_type": "markdown",
   "metadata": {
    "papermill": {
     "duration": 0.008891,
     "end_time": "2021-02-28T17:18:47.805643",
     "exception": false,
     "start_time": "2021-02-28T17:18:47.796752",
     "status": "completed"
    },
    "tags": []
   },
   "source": [
    "Now, we estimate and plot confident intervals, first \"pointwise\" and then the joint confidence intervals."
   ]
  },
  {
   "cell_type": "code",
   "execution_count": 5,
   "metadata": {
    "execution": {
     "iopub.execute_input": "2021-02-28T17:18:47.830650Z",
     "iopub.status.busy": "2021-02-28T17:18:47.828883Z",
     "iopub.status.idle": "2021-02-28T17:18:48.896575Z",
     "shell.execute_reply": "2021-02-28T17:18:48.895785Z"
    },
    "papermill": {
     "duration": 1.082155,
     "end_time": "2021-02-28T17:18:48.896774",
     "exception": false,
     "start_time": "2021-02-28T17:18:47.814619",
     "status": "completed"
    },
    "tags": []
   },
   "outputs": [
    {
     "data": {
      "text/html": [
       "<table class=\"dataframe\">\n",
       "<caption>A matrix: 16 × 2 of type dbl</caption>\n",
       "<thead>\n",
       "\t<tr><th></th><th scope=col>5 %</th><th scope=col>95 %</th></tr>\n",
       "</thead>\n",
       "<tbody>\n",
       "\t<tr><th scope=row>female</th><td>-0.237433164</td><td>-0.072413398</td></tr>\n",
       "\t<tr><th scope=row>female:widowed</th><td>-0.013031271</td><td> 0.285222239</td></tr>\n",
       "\t<tr><th scope=row>female:divorced</th><td> 0.100453736</td><td> 0.173425037</td></tr>\n",
       "\t<tr><th scope=row>female:separated</th><td>-0.064222851</td><td> 0.110828376</td></tr>\n",
       "\t<tr><th scope=row>female:nevermarried</th><td> 0.154051166</td><td> 0.219655800</td></tr>\n",
       "\t<tr><th scope=row>female:hsd08</th><td>-0.171076335</td><td> 0.226696960</td></tr>\n",
       "\t<tr><th scope=row>female:hsd911</th><td>-0.204669525</td><td>-0.034000554</td></tr>\n",
       "\t<tr><th scope=row>female:hsg</th><td>-0.044509111</td><td> 0.018729551</td></tr>\n",
       "\t<tr><th scope=row>female:cg</th><td>-0.020005866</td><td> 0.040282971</td></tr>\n",
       "\t<tr><th scope=row>female:ad</th><td>-0.066331593</td><td> 0.005404103</td></tr>\n",
       "\t<tr><th scope=row>female:mw</th><td>-0.032631091</td><td> 0.030504214</td></tr>\n",
       "\t<tr><th scope=row>female:so</th><td>-0.040022474</td><td> 0.023655789</td></tr>\n",
       "\t<tr><th scope=row>female:we</th><td>-0.039045055</td><td> 0.030592798</td></tr>\n",
       "\t<tr><th scope=row>female:exp1</th><td>-0.007901632</td><td> 0.017772149</td></tr>\n",
       "\t<tr><th scope=row>female:exp2</th><td>-0.234031007</td><td>-0.085007650</td></tr>\n",
       "\t<tr><th scope=row>female:exp3</th><td> 0.025520220</td><td> 0.051380937</td></tr>\n",
       "</tbody>\n",
       "</table>\n"
      ],
      "text/latex": [
       "A matrix: 16 × 2 of type dbl\n",
       "\\begin{tabular}{r|ll}\n",
       "  & 5 \\% & 95 \\%\\\\\n",
       "\\hline\n",
       "\tfemale & -0.237433164 & -0.072413398\\\\\n",
       "\tfemale:widowed & -0.013031271 &  0.285222239\\\\\n",
       "\tfemale:divorced &  0.100453736 &  0.173425037\\\\\n",
       "\tfemale:separated & -0.064222851 &  0.110828376\\\\\n",
       "\tfemale:nevermarried &  0.154051166 &  0.219655800\\\\\n",
       "\tfemale:hsd08 & -0.171076335 &  0.226696960\\\\\n",
       "\tfemale:hsd911 & -0.204669525 & -0.034000554\\\\\n",
       "\tfemale:hsg & -0.044509111 &  0.018729551\\\\\n",
       "\tfemale:cg & -0.020005866 &  0.040282971\\\\\n",
       "\tfemale:ad & -0.066331593 &  0.005404103\\\\\n",
       "\tfemale:mw & -0.032631091 &  0.030504214\\\\\n",
       "\tfemale:so & -0.040022474 &  0.023655789\\\\\n",
       "\tfemale:we & -0.039045055 &  0.030592798\\\\\n",
       "\tfemale:exp1 & -0.007901632 &  0.017772149\\\\\n",
       "\tfemale:exp2 & -0.234031007 & -0.085007650\\\\\n",
       "\tfemale:exp3 &  0.025520220 &  0.051380937\\\\\n",
       "\\end{tabular}\n"
      ],
      "text/markdown": [
       "\n",
       "A matrix: 16 × 2 of type dbl\n",
       "\n",
       "| <!--/--> | 5 % | 95 % |\n",
       "|---|---|---|\n",
       "| female | -0.237433164 | -0.072413398 |\n",
       "| female:widowed | -0.013031271 |  0.285222239 |\n",
       "| female:divorced |  0.100453736 |  0.173425037 |\n",
       "| female:separated | -0.064222851 |  0.110828376 |\n",
       "| female:nevermarried |  0.154051166 |  0.219655800 |\n",
       "| female:hsd08 | -0.171076335 |  0.226696960 |\n",
       "| female:hsd911 | -0.204669525 | -0.034000554 |\n",
       "| female:hsg | -0.044509111 |  0.018729551 |\n",
       "| female:cg | -0.020005866 |  0.040282971 |\n",
       "| female:ad | -0.066331593 |  0.005404103 |\n",
       "| female:mw | -0.032631091 |  0.030504214 |\n",
       "| female:so | -0.040022474 |  0.023655789 |\n",
       "| female:we | -0.039045055 |  0.030592798 |\n",
       "| female:exp1 | -0.007901632 |  0.017772149 |\n",
       "| female:exp2 | -0.234031007 | -0.085007650 |\n",
       "| female:exp3 |  0.025520220 |  0.051380937 |\n",
       "\n"
      ],
      "text/plain": [
       "                    5 %          95 %        \n",
       "female              -0.237433164 -0.072413398\n",
       "female:widowed      -0.013031271  0.285222239\n",
       "female:divorced      0.100453736  0.173425037\n",
       "female:separated    -0.064222851  0.110828376\n",
       "female:nevermarried  0.154051166  0.219655800\n",
       "female:hsd08        -0.171076335  0.226696960\n",
       "female:hsd911       -0.204669525 -0.034000554\n",
       "female:hsg          -0.044509111  0.018729551\n",
       "female:cg           -0.020005866  0.040282971\n",
       "female:ad           -0.066331593  0.005404103\n",
       "female:mw           -0.032631091  0.030504214\n",
       "female:so           -0.040022474  0.023655789\n",
       "female:we           -0.039045055  0.030592798\n",
       "female:exp1         -0.007901632  0.017772149\n",
       "female:exp2         -0.234031007 -0.085007650\n",
       "female:exp3          0.025520220  0.051380937"
      ]
     },
     "metadata": {},
     "output_type": "display_data"
    },
    {
     "name": "stderr",
     "output_type": "stream",
     "text": [
      "Warning message:\n",
      "“Ignoring unknown aesthetics: width, h”\n"
     ]
    },
    {
     "data": {
      "image/png": "[encoded data removed]"
     },
     "metadata": {
      "image/png": {
       "height": 420,
       "width": 420
      }
     },
     "output_type": "display_data"
    }
   ],
   "source": [
    "pointwise.CI <- confint(effects.female, level = 0.90)\n",
    "pointwise.CI\n",
    "plot(effects.female, level=0.90) # plot of the effects"
   ]
  },
  {
   "cell_type": "markdown",
   "metadata": {
    "papermill": {
     "duration": 0.01145,
     "end_time": "2021-02-28T17:18:48.920882",
     "exception": false,
     "start_time": "2021-02-28T17:18:48.909432",
     "status": "completed"
    },
    "tags": []
   },
   "source": [
    "Finally, we compare the pointwise confidence intervals to joint confidence intervals."
   ]
  },
  {
   "cell_type": "code",
   "execution_count": 6,
   "metadata": {
    "execution": {
     "iopub.execute_input": "2021-02-28T17:18:48.950512Z",
     "iopub.status.busy": "2021-02-28T17:18:48.948204Z",
     "iopub.status.idle": "2021-02-28T17:18:49.953148Z",
     "shell.execute_reply": "2021-02-28T17:18:49.950709Z"
    },
    "papermill": {
     "duration": 1.021263,
     "end_time": "2021-02-28T17:18:49.953381",
     "exception": false,
     "start_time": "2021-02-28T17:18:48.932118",
     "status": "completed"
    },
    "tags": []
   },
   "outputs": [
    {
     "data": {
      "text/html": [
       "<table class=\"dataframe\">\n",
       "<caption>A matrix: 16 × 2 of type dbl</caption>\n",
       "<thead>\n",
       "\t<tr><th></th><th scope=col>5 %</th><th scope=col>95 %</th></tr>\n",
       "</thead>\n",
       "<tbody>\n",
       "\t<tr><th scope=row>female</th><td>-0.28562536</td><td>-0.02422120</td></tr>\n",
       "\t<tr><th scope=row>female:widowed</th><td>-0.11701827</td><td> 0.38920924</td></tr>\n",
       "\t<tr><th scope=row>female:divorced</th><td> 0.07863305</td><td> 0.19524573</td></tr>\n",
       "\t<tr><th scope=row>female:separated</th><td>-0.10807314</td><td> 0.15467866</td></tr>\n",
       "\t<tr><th scope=row>female:nevermarried</th><td> 0.13281324</td><td> 0.24089372</td></tr>\n",
       "\t<tr><th scope=row>female:hsd08</th><td>-0.34966723</td><td> 0.40528786</td></tr>\n",
       "\t<tr><th scope=row>female:hsd911</th><td>-0.25978441</td><td> 0.02111433</td></tr>\n",
       "\t<tr><th scope=row>female:hsg</th><td>-0.06191408</td><td> 0.03613452</td></tr>\n",
       "\t<tr><th scope=row>female:cg</th><td>-0.03848285</td><td> 0.05875995</td></tr>\n",
       "\t<tr><th scope=row>female:ad</th><td>-0.09180140</td><td> 0.03087391</td></tr>\n",
       "\t<tr><th scope=row>female:mw</th><td>-0.05139643</td><td> 0.04926955</td></tr>\n",
       "\t<tr><th scope=row>female:so</th><td>-0.05935411</td><td> 0.04298742</td></tr>\n",
       "\t<tr><th scope=row>female:we</th><td>-0.06183831</td><td> 0.05338605</td></tr>\n",
       "\t<tr><th scope=row>female:exp1</th><td>-0.01517247</td><td> 0.02504299</td></tr>\n",
       "\t<tr><th scope=row>female:exp2</th><td>-0.27645143</td><td>-0.04258723</td></tr>\n",
       "\t<tr><th scope=row>female:exp3</th><td> 0.01818133</td><td> 0.05871983</td></tr>\n",
       "</tbody>\n",
       "</table>\n"
      ],
      "text/latex": [
       "A matrix: 16 × 2 of type dbl\n",
       "\\begin{tabular}{r|ll}\n",
       "  & 5 \\% & 95 \\%\\\\\n",
       "\\hline\n",
       "\tfemale & -0.28562536 & -0.02422120\\\\\n",
       "\tfemale:widowed & -0.11701827 &  0.38920924\\\\\n",
       "\tfemale:divorced &  0.07863305 &  0.19524573\\\\\n",
       "\tfemale:separated & -0.10807314 &  0.15467866\\\\\n",
       "\tfemale:nevermarried &  0.13281324 &  0.24089372\\\\\n",
       "\tfemale:hsd08 & -0.34966723 &  0.40528786\\\\\n",
       "\tfemale:hsd911 & -0.25978441 &  0.02111433\\\\\n",
       "\tfemale:hsg & -0.06191408 &  0.03613452\\\\\n",
       "\tfemale:cg & -0.03848285 &  0.05875995\\\\\n",
       "\tfemale:ad & -0.09180140 &  0.03087391\\\\\n",
       "\tfemale:mw & -0.05139643 &  0.04926955\\\\\n",
       "\tfemale:so & -0.05935411 &  0.04298742\\\\\n",
       "\tfemale:we & -0.06183831 &  0.05338605\\\\\n",
       "\tfemale:exp1 & -0.01517247 &  0.02504299\\\\\n",
       "\tfemale:exp2 & -0.27645143 & -0.04258723\\\\\n",
       "\tfemale:exp3 &  0.01818133 &  0.05871983\\\\\n",
       "\\end{tabular}\n"
      ],
      "text/markdown": [
       "\n",
       "A matrix: 16 × 2 of type dbl\n",
       "\n",
       "| <!--/--> | 5 % | 95 % |\n",
       "|---|---|---|\n",
       "| female | -0.28562536 | -0.02422120 |\n",
       "| female:widowed | -0.11701827 |  0.38920924 |\n",
       "| female:divorced |  0.07863305 |  0.19524573 |\n",
       "| female:separated | -0.10807314 |  0.15467866 |\n",
       "| female:nevermarried |  0.13281324 |  0.24089372 |\n",
       "| female:hsd08 | -0.34966723 |  0.40528786 |\n",
       "| female:hsd911 | -0.25978441 |  0.02111433 |\n",
       "| female:hsg | -0.06191408 |  0.03613452 |\n",
       "| female:cg | -0.03848285 |  0.05875995 |\n",
       "| female:ad | -0.09180140 |  0.03087391 |\n",
       "| female:mw | -0.05139643 |  0.04926955 |\n",
       "| female:so | -0.05935411 |  0.04298742 |\n",
       "| female:we | -0.06183831 |  0.05338605 |\n",
       "| female:exp1 | -0.01517247 |  0.02504299 |\n",
       "| female:exp2 | -0.27645143 | -0.04258723 |\n",
       "| female:exp3 |  0.01818133 |  0.05871983 |\n",
       "\n"
      ],
      "text/plain": [
       "                    5 %         95 %       \n",
       "female              -0.28562536 -0.02422120\n",
       "female:widowed      -0.11701827  0.38920924\n",
       "female:divorced      0.07863305  0.19524573\n",
       "female:separated    -0.10807314  0.15467866\n",
       "female:nevermarried  0.13281324  0.24089372\n",
       "female:hsd08        -0.34966723  0.40528786\n",
       "female:hsd911       -0.25978441  0.02111433\n",
       "female:hsg          -0.06191408  0.03613452\n",
       "female:cg           -0.03848285  0.05875995\n",
       "female:ad           -0.09180140  0.03087391\n",
       "female:mw           -0.05139643  0.04926955\n",
       "female:so           -0.05935411  0.04298742\n",
       "female:we           -0.06183831  0.05338605\n",
       "female:exp1         -0.01517247  0.02504299\n",
       "female:exp2         -0.27645143 -0.04258723\n",
       "female:exp3          0.01818133  0.05871983"
      ]
     },
     "metadata": {},
     "output_type": "display_data"
    },
    {
     "name": "stderr",
     "output_type": "stream",
     "text": [
      "Warning message:\n",
      "“Ignoring unknown aesthetics: width, h”\n"
     ]
    },
    {
     "name": "stdout",
     "output_type": "stream",
     "text": [
      "% latex table generated in R 3.6.3 by xtable 1.8-4 package\n",
      "% Sun Feb 28 17:18:49 2021\n",
      "\\begin{table}[ht]\n",
      "\\centering\n",
      "\\begin{tabular}{rrr}\n",
      "  \\hline\n",
      " & 5 \\% & 95 \\% \\\\ \n",
      "  \\hline\n",
      "female & -0.29 & -0.02 \\\\ \n",
      "  female:widowed & -0.12 & 0.39 \\\\ \n",
      "  female:divorced & 0.08 & 0.20 \\\\ \n",
      "  female:separated & -0.11 & 0.15 \\\\ \n",
      "  female:nevermarried & 0.13 & 0.24 \\\\ \n",
      "  female:hsd08 & -0.35 & 0.41 \\\\ \n",
      "  female:hsd911 & -0.26 & 0.02 \\\\ \n",
      "  female:hsg & -0.06 & 0.04 \\\\ \n",
      "  female:cg & -0.04 & 0.06 \\\\ \n",
      "  female:ad & -0.09 & 0.03 \\\\ \n",
      "  female:mw & -0.05 & 0.05 \\\\ \n",
      "  female:so & -0.06 & 0.04 \\\\ \n",
      "  female:we & -0.06 & 0.05 \\\\ \n",
      "  female:exp1 & -0.02 & 0.03 \\\\ \n",
      "  female:exp2 & -0.28 & -0.04 \\\\ \n",
      "  female:exp3 & 0.02 & 0.06 \\\\ \n",
      "   \\hline\n",
      "\\end{tabular}\n",
      "\\end{table}\n"
     ]
    },
    {
     "data": {
      "image/png": "[encoded data removed]"
     },
     "metadata": {
      "image/png": {
       "height": 420,
       "width": 420
      }
     },
     "output_type": "display_data"
    }
   ],
   "source": [
    "joint.CI <- confint(effects.female, level = 0.90, joint = TRUE)\n",
    "joint.CI\n",
    "plot(effects.female, joint=TRUE, level=0.90) # plot of the effects"
   ]
  }
 ],
 "metadata": {
  "kernelspec": {
   "display_name": "R",
   "language": "R",
   "name": "ir"
  },
  "language_info": {
   "codemirror_mode": "r",
   "file_extension": ".r",
   "mimetype": "text/x-r-source",
   "name": "R",
   "pygments_lexer": "r",
   "version": "4.2.1"
  },
  "papermill": {
   "default_parameters": {},
   "duration": 89.365707,
   "end_time": "2021-02-28T17:18:51.003711",
   "environment_variables": {},
   "exception": null,
   "input_path": "__notebook__.ipynb",
   "output_path": "__notebook__.ipynb",
   "parameters": {},
   "start_time": "2021-02-28T17:17:21.638004",
   "version": "2.2.2"
  }
 },
 "nbformat": 4,
 "nbformat_minor": 4
}
