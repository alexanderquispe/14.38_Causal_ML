{
 "cells": [
  {
   "cell_type": "markdown",
   "id": "broad-arrival",
   "metadata": {
    "papermill": {
     "duration": 0.012056,
     "end_time": "2021-07-22T20:59:23.254942",
     "exception": false,
     "start_time": "2021-07-22T20:59:23.242886",
     "status": "completed"
    },
    "tags": []
   },
   "source": [
    "This notebook contains an example for teaching.\n"
   ]
  },
  {
   "cell_type": "markdown",
   "id": "conditional-theme",
   "metadata": {
    "papermill": {
     "duration": 0.010687,
     "end_time": "2021-07-22T20:59:23.276801",
     "exception": false,
     "start_time": "2021-07-22T20:59:23.266114",
     "status": "completed"
    },
    "tags": []
   },
   "source": [
    "# Automatic Machine Learning with H2O AutoML "
   ]
  },
  {
   "cell_type": "markdown",
   "id": "numerous-industry",
   "metadata": {
    "papermill": {
     "duration": 0.010635,
     "end_time": "2021-07-22T20:59:23.298138",
     "exception": false,
     "start_time": "2021-07-22T20:59:23.287503",
     "status": "completed"
    },
    "tags": []
   },
   "source": [
    "We illustrate how to predict an outcome variable Y in a high-dimensional setting, using the AutoML package *H2O* that covers the complete pipeline from the raw dataset to the deployable machine learning model. In last few years, AutoML or automated machine learning has become widely popular among data science community. Again, re-analyse the wage prediction problem using data from the U.S. March Supplement of the Current Population Survey (CPS) in 2015."
   ]
  },
  {
   "cell_type": "markdown",
   "id": "atlantic-attention",
   "metadata": {
    "papermill": {
     "duration": 0.010745,
     "end_time": "2021-07-22T20:59:23.319755",
     "exception": false,
     "start_time": "2021-07-22T20:59:23.309010",
     "status": "completed"
    },
    "tags": []
   },
   "source": [
    "We can use AutoML as a benchmark and compare it to the methods that we used in the previous notebook where we applied one machine learning method after the other."
   ]
  },
  {
   "cell_type": "code",
   "execution_count": 1,
   "id": "coordinate-thailand",
   "metadata": {
    "execution": {
     "iopub.execute_input": "2021-07-22T20:59:23.348346Z",
     "iopub.status.busy": "2021-07-22T20:59:23.345704Z",
     "iopub.status.idle": "2021-07-22T20:59:23.761018Z",
     "shell.execute_reply": "2021-07-22T20:59:23.759748Z"
    },
    "papermill": {
     "duration": 0.430705,
     "end_time": "2021-07-22T20:59:23.761181",
     "exception": false,
     "start_time": "2021-07-22T20:59:23.330476",
     "status": "completed"
    },
    "tags": []
   },
   "outputs": [
    {
     "name": "stderr",
     "output_type": "stream",
     "text": [
      "\n",
      "----------------------------------------------------------------------\n",
      "\n",
      "Your next step is to start H2O:\n",
      "    > h2o.init()\n",
      "\n",
      "For H2O package documentation, ask for help:\n",
      "    > ??h2o\n",
      "\n",
      "After starting H2O, you can use the Web UI at http://localhost:54321\n",
      "For more information visit http://docs.h2o.ai\n",
      "\n",
      "----------------------------------------------------------------------\n",
      "\n",
      "\n",
      "\n",
      "Attaching package: ‘h2o’\n",
      "\n",
      "\n",
      "The following objects are masked from ‘package:stats’:\n",
      "\n",
      "    cor, sd, var\n",
      "\n",
      "\n",
      "The following objects are masked from ‘package:base’:\n",
      "\n",
      "    &&, %*%, %in%, ||, apply, as.factor, as.numeric, colnames,\n",
      "    colnames<-, ifelse, is.character, is.factor, is.numeric, log,\n",
      "    log10, log1p, log2, round, signif, trunc\n",
      "\n",
      "\n"
     ]
    }
   ],
   "source": [
    "# load the H2O package\n",
    "library(h2o)"
   ]
  },
  {
   "cell_type": "code",
   "execution_count": 2,
   "id": "appropriate-andorra",
   "metadata": {
    "execution": {
     "iopub.execute_input": "2021-07-22T20:59:23.823701Z",
     "iopub.status.busy": "2021-07-22T20:59:23.789401Z",
     "iopub.status.idle": "2021-07-22T20:59:23.901221Z",
     "shell.execute_reply": "2021-07-22T20:59:23.900038Z"
    },
    "papermill": {
     "duration": 0.127794,
     "end_time": "2021-07-22T20:59:23.901391",
     "exception": false,
     "start_time": "2021-07-22T20:59:23.773597",
     "status": "completed"
    },
    "tags": []
   },
   "outputs": [],
   "source": [
    "# load the data set\n",
    "load(\"../input/wage2015-inference/wage2015_subsample_inference.Rdata\")\n",
    "\n",
    "# split the data\n",
    "set.seed(1234)\n",
    "training <- sample(nrow(data), nrow(data)*(3/4), replace=FALSE)\n",
    "\n",
    "train <- data[training,]\n",
    "test <- data[-training,]"
   ]
  },
  {
   "cell_type": "code",
   "execution_count": 3,
   "id": "unusual-picture",
   "metadata": {
    "execution": {
     "iopub.execute_input": "2021-07-22T20:59:23.933492Z",
     "iopub.status.busy": "2021-07-22T20:59:23.931830Z",
     "iopub.status.idle": "2021-07-22T20:59:28.327947Z",
     "shell.execute_reply": "2021-07-22T20:59:28.325847Z"
    },
    "papermill": {
     "duration": 4.414286,
     "end_time": "2021-07-22T20:59:28.328277",
     "exception": false,
     "start_time": "2021-07-22T20:59:23.913991",
     "status": "completed"
    },
    "tags": []
   },
   "outputs": [
    {
     "name": "stdout",
     "output_type": "stream",
     "text": [
      "\n",
      "H2O is not running yet, starting it now...\n",
      "\n",
      "Note:  In case of errors look at the following log files:\n",
      "    /tmp/RtmpyLFRWM/filed92caee8/h2o_UnknownUser_started_from_r.out\n",
      "    /tmp/RtmpyLFRWM/filed15e67f00/h2o_UnknownUser_started_from_r.err\n",
      "\n",
      "\n",
      "Starting H2O JVM and connecting: .. Connection successful!\n",
      "\n",
      "R is connected to the H2O cluster: \n",
      "    H2O cluster uptime:         2 seconds 653 milliseconds \n",
      "    H2O cluster timezone:       Etc/UTC \n",
      "    H2O data parsing timezone:  UTC \n",
      "    H2O cluster version:        3.30.0.1 \n",
      "    H2O cluster version age:    1 year, 3 months and 19 days !!! \n",
      "    H2O cluster name:           H2O_started_from_R_root_tlg556 \n",
      "    H2O cluster total nodes:    1 \n",
      "    H2O cluster total memory:   4.00 GB \n",
      "    H2O cluster total cores:    4 \n",
      "    H2O cluster allowed cores:  4 \n",
      "    H2O cluster healthy:        TRUE \n",
      "    H2O Connection ip:          localhost \n",
      "    H2O Connection port:        54321 \n",
      "    H2O Connection proxy:       NA \n",
      "    H2O Internal Security:      FALSE \n",
      "    H2O API Extensions:         Amazon S3, XGBoost, Algos, AutoML, Core V3, TargetEncoder, Core V4 \n",
      "    R Version:                  R version 3.6.3 (2020-02-29) \n"
     ]
    },
    {
     "name": "stderr",
     "output_type": "stream",
     "text": [
      "Warning message in h2o.clusterInfo():\n",
      "“\n",
      "Your H2O cluster version is too old (1 year, 3 months and 19 days)!\n",
      "Please download and install the latest version from http://h2o.ai/download/”\n"
     ]
    },
    {
     "name": "stdout",
     "output_type": "stream",
     "text": [
      "\n"
     ]
    }
   ],
   "source": [
    "# start h2o cluster\n",
    "h2o.init()"
   ]
  },
  {
   "cell_type": "code",
   "execution_count": 4,
   "id": "collect-bunny",
   "metadata": {
    "execution": {
     "iopub.execute_input": "2021-07-22T20:59:28.381825Z",
     "iopub.status.busy": "2021-07-22T20:59:28.379511Z",
     "iopub.status.idle": "2021-07-22T20:59:34.880936Z",
     "shell.execute_reply": "2021-07-22T20:59:34.878677Z"
    },
    "papermill": {
     "duration": 6.531796,
     "end_time": "2021-07-22T20:59:34.881180",
     "exception": false,
     "start_time": "2021-07-22T20:59:28.349384",
     "status": "completed"
    },
    "tags": []
   },
   "outputs": [
    {
     "name": "stdout",
     "output_type": "stream",
     "text": [
      "  |======================================================================| 100%\n",
      "  |======================================================================| 100%\n"
     ]
    },
    {
     "data": {
      "text/html": [
       "<table class=\"dataframe\">\n",
       "<caption>A data.frame: 20 × 11</caption>\n",
       "<thead>\n",
       "\t<tr><th scope=col>Label</th><th scope=col>Type</th><th scope=col>Missing</th><th scope=col>Zeros</th><th scope=col>PosInf</th><th scope=col>NegInf</th><th scope=col>Min</th><th scope=col>Max</th><th scope=col>Mean</th><th scope=col>Sigma</th><th scope=col>Cardinality</th></tr>\n",
       "\t<tr><th scope=col>&lt;fct&gt;</th><th scope=col>&lt;fct&gt;</th><th scope=col>&lt;dbl&gt;</th><th scope=col>&lt;dbl&gt;</th><th scope=col>&lt;dbl&gt;</th><th scope=col>&lt;dbl&gt;</th><th scope=col>&lt;dbl&gt;</th><th scope=col>&lt;dbl&gt;</th><th scope=col>&lt;dbl&gt;</th><th scope=col>&lt;dbl&gt;</th><th scope=col>&lt;dbl&gt;</th></tr>\n",
       "</thead>\n",
       "<tbody>\n",
       "\t<tr><td>wage </td><td>real</td><td>0</td><td>   0</td><td>0</td><td>0</td><td>3.021978</td><td>528.845673</td><td>23.37760006</td><td>20.6094388</td><td> NA</td></tr>\n",
       "\t<tr><td>lwage</td><td>real</td><td>0</td><td>   0</td><td>0</td><td>0</td><td>1.105912</td><td>  6.270697</td><td> 2.96967335</td><td> 0.5721780</td><td> NA</td></tr>\n",
       "\t<tr><td>sex  </td><td>int </td><td>0</td><td>2115</td><td>0</td><td>0</td><td>0.000000</td><td>  1.000000</td><td> 0.45235629</td><td> 0.4977894</td><td> NA</td></tr>\n",
       "\t<tr><td>shs  </td><td>int </td><td>0</td><td>3770</td><td>0</td><td>0</td><td>0.000000</td><td>  1.000000</td><td> 0.02382185</td><td> 0.1525136</td><td> NA</td></tr>\n",
       "\t<tr><td>hsg  </td><td>int </td><td>0</td><td>2896</td><td>0</td><td>0</td><td>0.000000</td><td>  1.000000</td><td> 0.25012947</td><td> 0.4331435</td><td> NA</td></tr>\n",
       "\t<tr><td>scl  </td><td>int </td><td>0</td><td>2795</td><td>0</td><td>0</td><td>0.000000</td><td>  1.000000</td><td> 0.27628172</td><td> 0.4472157</td><td> NA</td></tr>\n",
       "\t<tr><td>clg  </td><td>int </td><td>0</td><td>2646</td><td>0</td><td>0</td><td>0.000000</td><td>  1.000000</td><td> 0.31486277</td><td> 0.4645213</td><td> NA</td></tr>\n",
       "\t<tr><td>ad   </td><td>int </td><td>0</td><td>3341</td><td>0</td><td>0</td><td>0.000000</td><td>  1.000000</td><td> 0.13490419</td><td> 0.3416654</td><td> NA</td></tr>\n",
       "\t<tr><td>mw   </td><td>int </td><td>0</td><td>2872</td><td>0</td><td>0</td><td>0.000000</td><td>  1.000000</td><td> 0.25634386</td><td> 0.4366704</td><td> NA</td></tr>\n",
       "\t<tr><td>so   </td><td>int </td><td>0</td><td>2707</td><td>0</td><td>0</td><td>0.000000</td><td>  1.000000</td><td> 0.29906784</td><td> 0.4579089</td><td> NA</td></tr>\n",
       "\t<tr><td>we   </td><td>int </td><td>0</td><td>3034</td><td>0</td><td>0</td><td>0.000000</td><td>  1.000000</td><td> 0.21439669</td><td> 0.4104563</td><td> NA</td></tr>\n",
       "\t<tr><td>ne   </td><td>int </td><td>0</td><td>2973</td><td>0</td><td>0</td><td>0.000000</td><td>  1.000000</td><td> 0.23019161</td><td> 0.4210099</td><td> NA</td></tr>\n",
       "\t<tr><td>exp1 </td><td>real</td><td>0</td><td>  49</td><td>0</td><td>0</td><td>0.000000</td><td> 47.000000</td><td>13.85590368</td><td>10.6713345</td><td> NA</td></tr>\n",
       "\t<tr><td>exp2 </td><td>real</td><td>0</td><td>  49</td><td>0</td><td>0</td><td>0.000000</td><td> 22.090000</td><td> 3.05833959</td><td> 4.0396140</td><td> NA</td></tr>\n",
       "\t<tr><td>exp3 </td><td>real</td><td>0</td><td>  49</td><td>0</td><td>0</td><td>0.000000</td><td>103.823000</td><td> 8.38545329</td><td>14.6586621</td><td> NA</td></tr>\n",
       "\t<tr><td>exp4 </td><td>real</td><td>0</td><td>  49</td><td>0</td><td>0</td><td>0.000000</td><td>487.968100</td><td>25.66769711</td><td>54.2554455</td><td> NA</td></tr>\n",
       "\t<tr><td>occ  </td><td>enum</td><td>0</td><td>  13</td><td>0</td><td>0</td><td>0.000000</td><td>337.000000</td><td>         NA</td><td>        NA</td><td>338</td></tr>\n",
       "\t<tr><td>occ2 </td><td>enum</td><td>0</td><td> 445</td><td>0</td><td>0</td><td>0.000000</td><td> 21.000000</td><td>         NA</td><td>        NA</td><td> 22</td></tr>\n",
       "\t<tr><td>ind  </td><td>enum</td><td>0</td><td>   8</td><td>0</td><td>0</td><td>0.000000</td><td>226.000000</td><td>         NA</td><td>        NA</td><td>227</td></tr>\n",
       "\t<tr><td>ind2 </td><td>enum</td><td>0</td><td> 110</td><td>0</td><td>0</td><td>0.000000</td><td> 20.000000</td><td>         NA</td><td>        NA</td><td> 21</td></tr>\n",
       "</tbody>\n",
       "</table>\n"
      ],
      "text/latex": [
       "A data.frame: 20 × 11\n",
       "\\begin{tabular}{lllllllllll}\n",
       " Label & Type & Missing & Zeros & PosInf & NegInf & Min & Max & Mean & Sigma & Cardinality\\\\\n",
       " <fct> & <fct> & <dbl> & <dbl> & <dbl> & <dbl> & <dbl> & <dbl> & <dbl> & <dbl> & <dbl>\\\\\n",
       "\\hline\n",
       "\t wage  & real & 0 &    0 & 0 & 0 & 3.021978 & 528.845673 & 23.37760006 & 20.6094388 &  NA\\\\\n",
       "\t lwage & real & 0 &    0 & 0 & 0 & 1.105912 &   6.270697 &  2.96967335 &  0.5721780 &  NA\\\\\n",
       "\t sex   & int  & 0 & 2115 & 0 & 0 & 0.000000 &   1.000000 &  0.45235629 &  0.4977894 &  NA\\\\\n",
       "\t shs   & int  & 0 & 3770 & 0 & 0 & 0.000000 &   1.000000 &  0.02382185 &  0.1525136 &  NA\\\\\n",
       "\t hsg   & int  & 0 & 2896 & 0 & 0 & 0.000000 &   1.000000 &  0.25012947 &  0.4331435 &  NA\\\\\n",
       "\t scl   & int  & 0 & 2795 & 0 & 0 & 0.000000 &   1.000000 &  0.27628172 &  0.4472157 &  NA\\\\\n",
       "\t clg   & int  & 0 & 2646 & 0 & 0 & 0.000000 &   1.000000 &  0.31486277 &  0.4645213 &  NA\\\\\n",
       "\t ad    & int  & 0 & 3341 & 0 & 0 & 0.000000 &   1.000000 &  0.13490419 &  0.3416654 &  NA\\\\\n",
       "\t mw    & int  & 0 & 2872 & 0 & 0 & 0.000000 &   1.000000 &  0.25634386 &  0.4366704 &  NA\\\\\n",
       "\t so    & int  & 0 & 2707 & 0 & 0 & 0.000000 &   1.000000 &  0.29906784 &  0.4579089 &  NA\\\\\n",
       "\t we    & int  & 0 & 3034 & 0 & 0 & 0.000000 &   1.000000 &  0.21439669 &  0.4104563 &  NA\\\\\n",
       "\t ne    & int  & 0 & 2973 & 0 & 0 & 0.000000 &   1.000000 &  0.23019161 &  0.4210099 &  NA\\\\\n",
       "\t exp1  & real & 0 &   49 & 0 & 0 & 0.000000 &  47.000000 & 13.85590368 & 10.6713345 &  NA\\\\\n",
       "\t exp2  & real & 0 &   49 & 0 & 0 & 0.000000 &  22.090000 &  3.05833959 &  4.0396140 &  NA\\\\\n",
       "\t exp3  & real & 0 &   49 & 0 & 0 & 0.000000 & 103.823000 &  8.38545329 & 14.6586621 &  NA\\\\\n",
       "\t exp4  & real & 0 &   49 & 0 & 0 & 0.000000 & 487.968100 & 25.66769711 & 54.2554455 &  NA\\\\\n",
       "\t occ   & enum & 0 &   13 & 0 & 0 & 0.000000 & 337.000000 &          NA &         NA & 338\\\\\n",
       "\t occ2  & enum & 0 &  445 & 0 & 0 & 0.000000 &  21.000000 &          NA &         NA &  22\\\\\n",
       "\t ind   & enum & 0 &    8 & 0 & 0 & 0.000000 & 226.000000 &          NA &         NA & 227\\\\\n",
       "\t ind2  & enum & 0 &  110 & 0 & 0 & 0.000000 &  20.000000 &          NA &         NA &  21\\\\\n",
       "\\end{tabular}\n"
      ],
      "text/markdown": [
       "\n",
       "A data.frame: 20 × 11\n",
       "\n",
       "| Label &lt;fct&gt; | Type &lt;fct&gt; | Missing &lt;dbl&gt; | Zeros &lt;dbl&gt; | PosInf &lt;dbl&gt; | NegInf &lt;dbl&gt; | Min &lt;dbl&gt; | Max &lt;dbl&gt; | Mean &lt;dbl&gt; | Sigma &lt;dbl&gt; | Cardinality &lt;dbl&gt; |\n",
       "|---|---|---|---|---|---|---|---|---|---|---|\n",
       "| wage  | real | 0 |    0 | 0 | 0 | 3.021978 | 528.845673 | 23.37760006 | 20.6094388 |  NA |\n",
       "| lwage | real | 0 |    0 | 0 | 0 | 1.105912 |   6.270697 |  2.96967335 |  0.5721780 |  NA |\n",
       "| sex   | int  | 0 | 2115 | 0 | 0 | 0.000000 |   1.000000 |  0.45235629 |  0.4977894 |  NA |\n",
       "| shs   | int  | 0 | 3770 | 0 | 0 | 0.000000 |   1.000000 |  0.02382185 |  0.1525136 |  NA |\n",
       "| hsg   | int  | 0 | 2896 | 0 | 0 | 0.000000 |   1.000000 |  0.25012947 |  0.4331435 |  NA |\n",
       "| scl   | int  | 0 | 2795 | 0 | 0 | 0.000000 |   1.000000 |  0.27628172 |  0.4472157 |  NA |\n",
       "| clg   | int  | 0 | 2646 | 0 | 0 | 0.000000 |   1.000000 |  0.31486277 |  0.4645213 |  NA |\n",
       "| ad    | int  | 0 | 3341 | 0 | 0 | 0.000000 |   1.000000 |  0.13490419 |  0.3416654 |  NA |\n",
       "| mw    | int  | 0 | 2872 | 0 | 0 | 0.000000 |   1.000000 |  0.25634386 |  0.4366704 |  NA |\n",
       "| so    | int  | 0 | 2707 | 0 | 0 | 0.000000 |   1.000000 |  0.29906784 |  0.4579089 |  NA |\n",
       "| we    | int  | 0 | 3034 | 0 | 0 | 0.000000 |   1.000000 |  0.21439669 |  0.4104563 |  NA |\n",
       "| ne    | int  | 0 | 2973 | 0 | 0 | 0.000000 |   1.000000 |  0.23019161 |  0.4210099 |  NA |\n",
       "| exp1  | real | 0 |   49 | 0 | 0 | 0.000000 |  47.000000 | 13.85590368 | 10.6713345 |  NA |\n",
       "| exp2  | real | 0 |   49 | 0 | 0 | 0.000000 |  22.090000 |  3.05833959 |  4.0396140 |  NA |\n",
       "| exp3  | real | 0 |   49 | 0 | 0 | 0.000000 | 103.823000 |  8.38545329 | 14.6586621 |  NA |\n",
       "| exp4  | real | 0 |   49 | 0 | 0 | 0.000000 | 487.968100 | 25.66769711 | 54.2554455 |  NA |\n",
       "| occ   | enum | 0 |   13 | 0 | 0 | 0.000000 | 337.000000 |          NA |         NA | 338 |\n",
       "| occ2  | enum | 0 |  445 | 0 | 0 | 0.000000 |  21.000000 |          NA |         NA |  22 |\n",
       "| ind   | enum | 0 |    8 | 0 | 0 | 0.000000 | 226.000000 |          NA |         NA | 227 |\n",
       "| ind2  | enum | 0 |  110 | 0 | 0 | 0.000000 |  20.000000 |          NA |         NA |  21 |\n",
       "\n"
      ],
      "text/plain": [
       "   Label Type Missing Zeros PosInf NegInf Min      Max        Mean       \n",
       "1  wage  real 0          0  0      0      3.021978 528.845673 23.37760006\n",
       "2  lwage real 0          0  0      0      1.105912   6.270697  2.96967335\n",
       "3  sex   int  0       2115  0      0      0.000000   1.000000  0.45235629\n",
       "4  shs   int  0       3770  0      0      0.000000   1.000000  0.02382185\n",
       "5  hsg   int  0       2896  0      0      0.000000   1.000000  0.25012947\n",
       "6  scl   int  0       2795  0      0      0.000000   1.000000  0.27628172\n",
       "7  clg   int  0       2646  0      0      0.000000   1.000000  0.31486277\n",
       "8  ad    int  0       3341  0      0      0.000000   1.000000  0.13490419\n",
       "9  mw    int  0       2872  0      0      0.000000   1.000000  0.25634386\n",
       "10 so    int  0       2707  0      0      0.000000   1.000000  0.29906784\n",
       "11 we    int  0       3034  0      0      0.000000   1.000000  0.21439669\n",
       "12 ne    int  0       2973  0      0      0.000000   1.000000  0.23019161\n",
       "13 exp1  real 0         49  0      0      0.000000  47.000000 13.85590368\n",
       "14 exp2  real 0         49  0      0      0.000000  22.090000  3.05833959\n",
       "15 exp3  real 0         49  0      0      0.000000 103.823000  8.38545329\n",
       "16 exp4  real 0         49  0      0      0.000000 487.968100 25.66769711\n",
       "17 occ   enum 0         13  0      0      0.000000 337.000000          NA\n",
       "18 occ2  enum 0        445  0      0      0.000000  21.000000          NA\n",
       "19 ind   enum 0          8  0      0      0.000000 226.000000          NA\n",
       "20 ind2  enum 0        110  0      0      0.000000  20.000000          NA\n",
       "   Sigma      Cardinality\n",
       "1  20.6094388  NA        \n",
       "2   0.5721780  NA        \n",
       "3   0.4977894  NA        \n",
       "4   0.1525136  NA        \n",
       "5   0.4331435  NA        \n",
       "6   0.4472157  NA        \n",
       "7   0.4645213  NA        \n",
       "8   0.3416654  NA        \n",
       "9   0.4366704  NA        \n",
       "10  0.4579089  NA        \n",
       "11  0.4104563  NA        \n",
       "12  0.4210099  NA        \n",
       "13 10.6713345  NA        \n",
       "14  4.0396140  NA        \n",
       "15 14.6586621  NA        \n",
       "16 54.2554455  NA        \n",
       "17         NA 338        \n",
       "18         NA  22        \n",
       "19         NA 227        \n",
       "20         NA  21        "
      ]
     },
     "metadata": {},
     "output_type": "display_data"
    }
   ],
   "source": [
    "# convert data as h2o type\n",
    "train_h = as.h2o(train)\n",
    "test_h = as.h2o(test)\n",
    "\n",
    "# have a look at the data\n",
    "h2o.describe(train_h)"
   ]
  },
  {
   "cell_type": "code",
   "execution_count": 5,
   "id": "accepted-announcement",
   "metadata": {
    "execution": {
     "iopub.execute_input": "2021-07-22T20:59:34.944989Z",
     "iopub.status.busy": "2021-07-22T20:59:34.942261Z",
     "iopub.status.idle": "2021-07-22T21:00:13.682566Z",
     "shell.execute_reply": "2021-07-22T21:00:13.681575Z"
    },
    "papermill": {
     "duration": 38.774219,
     "end_time": "2021-07-22T21:00:13.682706",
     "exception": false,
     "start_time": "2021-07-22T20:59:34.908487",
     "status": "completed"
    },
    "tags": []
   },
   "outputs": [
    {
     "name": "stderr",
     "output_type": "stream",
     "text": [
      "Warning message in .verify_dataxy(training_frame, x, y):\n",
      "“removing response variable from the explanatory variables”\n"
     ]
    },
    {
     "name": "stdout",
     "output_type": "stream",
     "text": [
      "  |======================================================================| 100%\n",
      "                                              model_id mean_residual_deviance\n",
      "1     StackedEnsemble_AllModels_AutoML_20210722_205935              0.2146648\n",
      "2  StackedEnsemble_BestOfFamily_AutoML_20210722_205935              0.2156905\n",
      "3                         GBM_1_AutoML_20210722_205935              0.2206920\n",
      "4                         GBM_2_AutoML_20210722_205935              0.2216076\n",
      "5                         GBM_3_AutoML_20210722_205935              0.2237211\n",
      "6                         GLM_1_AutoML_20210722_205935              0.2254206\n",
      "7                         GBM_4_AutoML_20210722_205935              0.2261056\n",
      "8                         GBM_5_AutoML_20210722_205935              0.2287765\n",
      "9                     XGBoost_3_AutoML_20210722_205935              0.2327049\n",
      "10                    XGBoost_1_AutoML_20210722_205935              0.2368547\n",
      "11                    XGBoost_2_AutoML_20210722_205935              0.2374365\n",
      "12                        DRF_1_AutoML_20210722_205935              0.3794121\n",
      "        rmse       mse       mae     rmsle\n",
      "1  0.4633193 0.2146648 0.3460578 0.1171117\n",
      "2  0.4644249 0.2156905 0.3475188 0.1174360\n",
      "3  0.4697787 0.2206920 0.3533490 0.1190237\n",
      "4  0.4707522 0.2216076 0.3527780 0.1189311\n",
      "5  0.4729916 0.2237211 0.3530440 0.1193735\n",
      "6  0.4747848 0.2254206 0.3531532 0.1196751\n",
      "7  0.4755057 0.2261056 0.3565537 0.1201283\n",
      "8  0.4783059 0.2287765 0.3554815 0.1206111\n",
      "9  0.4823950 0.2327049 0.3623782 0.1214791\n",
      "10 0.4866772 0.2368547 0.3661114 0.1226069\n",
      "11 0.4872745 0.2374365 0.3654413 0.1224268\n",
      "12 0.6159644 0.3794121 0.4622613 0.1560569\n",
      "\n",
      "[12 rows x 6 columns] \n"
     ]
    }
   ],
   "source": [
    "# define the variables\n",
    "y = 'lwage'\n",
    "x = setdiff(names(data), c('wage','occ2', 'ind2'))\n",
    "            \n",
    "# run AutoML for 10 base models and a maximal runtime of 100 seconds\n",
    "aml = h2o.automl(x=x,y = y,\n",
    "                  training_frame = train_h,\n",
    "                  leaderboard_frame = test_h,\n",
    "                  max_models = 10,\n",
    "                  seed = 1,\n",
    "                  max_runtime_secs = 100\n",
    "                 )\n",
    "# AutoML Leaderboard\n",
    "lb = aml@leaderboard\n",
    "print(lb, n = nrow(lb))"
   ]
  },
  {
   "cell_type": "markdown",
   "id": "critical-position",
   "metadata": {
    "papermill": {
     "duration": 0.020665,
     "end_time": "2021-07-22T21:00:13.725158",
     "exception": false,
     "start_time": "2021-07-22T21:00:13.704493",
     "status": "completed"
    },
    "tags": []
   },
   "source": [
    "We see that two Stacked Ensembles are at the top of the leaderboard. Stacked Ensembles often outperform a single model. The out-of-sample (test) MSE of the leading model is given by"
   ]
  },
  {
   "cell_type": "code",
   "execution_count": 6,
   "id": "sized-bedroom",
   "metadata": {
    "execution": {
     "iopub.execute_input": "2021-07-22T21:00:13.771196Z",
     "iopub.status.busy": "2021-07-22T21:00:13.769889Z",
     "iopub.status.idle": "2021-07-22T21:00:14.014480Z",
     "shell.execute_reply": "2021-07-22T21:00:14.013025Z"
    },
    "papermill": {
     "duration": 0.269058,
     "end_time": "2021-07-22T21:00:14.014656",
     "exception": false,
     "start_time": "2021-07-22T21:00:13.745598",
     "status": "completed"
    },
    "tags": []
   },
   "outputs": [
    {
     "data": {
      "text/plain": [
       "        mse\n",
       "1 0.2146648\n",
       "\n",
       "[1 row x 1 column] "
      ]
     },
     "metadata": {},
     "output_type": "display_data"
    }
   ],
   "source": [
    "aml@leaderboard$mse[1]"
   ]
  },
  {
   "cell_type": "markdown",
   "id": "handy-activation",
   "metadata": {
    "papermill": {
     "duration": 0.021205,
     "end_time": "2021-07-22T21:00:14.059471",
     "exception": false,
     "start_time": "2021-07-22T21:00:14.038266",
     "status": "completed"
    },
    "tags": []
   },
   "source": [
    "The in-sample performance can be evaluated by"
   ]
  },
  {
   "cell_type": "code",
   "execution_count": 7,
   "id": "expired-column",
   "metadata": {
    "execution": {
     "iopub.execute_input": "2021-07-22T21:00:14.110106Z",
     "iopub.status.busy": "2021-07-22T21:00:14.108530Z",
     "iopub.status.idle": "2021-07-22T21:00:14.166226Z",
     "shell.execute_reply": "2021-07-22T21:00:14.164889Z"
    },
    "papermill": {
     "duration": 0.083843,
     "end_time": "2021-07-22T21:00:14.166428",
     "exception": false,
     "start_time": "2021-07-22T21:00:14.082585",
     "status": "completed"
    },
    "tags": []
   },
   "outputs": [
    {
     "data": {
      "text/plain": [
       "Model Details:\n",
       "==============\n",
       "\n",
       "H2ORegressionModel: stackedensemble\n",
       "Model ID:  StackedEnsemble_AllModels_AutoML_20210722_205935 \n",
       "NULL\n",
       "\n",
       "\n",
       "H2ORegressionMetrics: stackedensemble\n",
       "** Reported on training data. **\n",
       "\n",
       "MSE:  0.1235503\n",
       "RMSE:  0.3514972\n",
       "MAE:  0.2636391\n",
       "RMSLE:  0.09105635\n",
       "Mean Residual Deviance :  0.1235503\n",
       "\n",
       "\n",
       "\n",
       "H2ORegressionMetrics: stackedensemble\n",
       "** Reported on cross-validation data. **\n",
       "** 5-fold cross-validation on training data (Metrics computed for combined holdout predictions) **\n",
       "\n",
       "MSE:  0.2161366\n",
       "RMSE:  0.464905\n",
       "MAE:  0.3524718\n",
       "RMSLE:  0.1190364\n",
       "Mean Residual Deviance :  0.2161366\n",
       "\n"
      ]
     },
     "metadata": {},
     "output_type": "display_data"
    }
   ],
   "source": [
    "aml@leader"
   ]
  },
  {
   "cell_type": "markdown",
   "id": "victorian-scott",
   "metadata": {
    "papermill": {
     "duration": 0.022096,
     "end_time": "2021-07-22T21:00:14.212541",
     "exception": false,
     "start_time": "2021-07-22T21:00:14.190445",
     "status": "completed"
    },
    "tags": []
   },
   "source": [
    "This is in line with our previous results. To understand how the ensemble works, let's take a peek inside the Stacked Ensemble \"All Models\" model.  The \"All Models\" ensemble is an ensemble of all of the individual models in the AutoML run.  This is often the top performing model on the leaderboard."
   ]
  },
  {
   "cell_type": "code",
   "execution_count": 8,
   "id": "divine-strand",
   "metadata": {
    "execution": {
     "iopub.execute_input": "2021-07-22T21:00:14.263426Z",
     "iopub.status.busy": "2021-07-22T21:00:14.262093Z",
     "iopub.status.idle": "2021-07-22T21:00:14.436597Z",
     "shell.execute_reply": "2021-07-22T21:00:14.435271Z"
    },
    "papermill": {
     "duration": 0.202062,
     "end_time": "2021-07-22T21:00:14.436752",
     "exception": false,
     "start_time": "2021-07-22T21:00:14.234690",
     "status": "completed"
    },
    "tags": []
   },
   "outputs": [
    {
     "data": {
      "text/html": [
       "<table class=\"dataframe\">\n",
       "<caption>A data.frame: 10 × 4</caption>\n",
       "<thead>\n",
       "\t<tr><th scope=col>variable</th><th scope=col>relative_importance</th><th scope=col>scaled_importance</th><th scope=col>percentage</th></tr>\n",
       "\t<tr><th scope=col>&lt;fct&gt;</th><th scope=col>&lt;dbl&gt;</th><th scope=col>&lt;dbl&gt;</th><th scope=col>&lt;dbl&gt;</th></tr>\n",
       "</thead>\n",
       "<tbody>\n",
       "\t<tr><td>GBM_1_AutoML_20210722_205935    </td><td>0.131226845</td><td>1.00000000</td><td>0.34490005</td></tr>\n",
       "\t<tr><td>GLM_1_AutoML_20210722_205935    </td><td>0.128726214</td><td>0.98094421</td><td>0.33832771</td></tr>\n",
       "\t<tr><td>GBM_2_AutoML_20210722_205935    </td><td>0.042747517</td><td>0.32575284</td><td>0.11235217</td></tr>\n",
       "\t<tr><td>GBM_3_AutoML_20210722_205935    </td><td>0.029944540</td><td>0.22818913</td><td>0.07870244</td></tr>\n",
       "\t<tr><td>XGBoost_2_AutoML_20210722_205935</td><td>0.022511221</td><td>0.17154433</td><td>0.05916565</td></tr>\n",
       "\t<tr><td>DRF_1_AutoML_20210722_205935    </td><td>0.014006204</td><td>0.10673276</td><td>0.03681214</td></tr>\n",
       "\t<tr><td>XGBoost_3_AutoML_20210722_205935</td><td>0.007274605</td><td>0.05543534</td><td>0.01911965</td></tr>\n",
       "\t<tr><td>XGBoost_1_AutoML_20210722_205935</td><td>0.004040750</td><td>0.03079210</td><td>0.01062020</td></tr>\n",
       "\t<tr><td>GBM_4_AutoML_20210722_205935    </td><td>0.000000000</td><td>0.00000000</td><td>0.00000000</td></tr>\n",
       "\t<tr><td>GBM_5_AutoML_20210722_205935    </td><td>0.000000000</td><td>0.00000000</td><td>0.00000000</td></tr>\n",
       "</tbody>\n",
       "</table>\n"
      ],
      "text/latex": [
       "A data.frame: 10 × 4\n",
       "\\begin{tabular}{llll}\n",
       " variable & relative\\_importance & scaled\\_importance & percentage\\\\\n",
       " <fct> & <dbl> & <dbl> & <dbl>\\\\\n",
       "\\hline\n",
       "\t GBM\\_1\\_AutoML\\_20210722\\_205935     & 0.131226845 & 1.00000000 & 0.34490005\\\\\n",
       "\t GLM\\_1\\_AutoML\\_20210722\\_205935     & 0.128726214 & 0.98094421 & 0.33832771\\\\\n",
       "\t GBM\\_2\\_AutoML\\_20210722\\_205935     & 0.042747517 & 0.32575284 & 0.11235217\\\\\n",
       "\t GBM\\_3\\_AutoML\\_20210722\\_205935     & 0.029944540 & 0.22818913 & 0.07870244\\\\\n",
       "\t XGBoost\\_2\\_AutoML\\_20210722\\_205935 & 0.022511221 & 0.17154433 & 0.05916565\\\\\n",
       "\t DRF\\_1\\_AutoML\\_20210722\\_205935     & 0.014006204 & 0.10673276 & 0.03681214\\\\\n",
       "\t XGBoost\\_3\\_AutoML\\_20210722\\_205935 & 0.007274605 & 0.05543534 & 0.01911965\\\\\n",
       "\t XGBoost\\_1\\_AutoML\\_20210722\\_205935 & 0.004040750 & 0.03079210 & 0.01062020\\\\\n",
       "\t GBM\\_4\\_AutoML\\_20210722\\_205935     & 0.000000000 & 0.00000000 & 0.00000000\\\\\n",
       "\t GBM\\_5\\_AutoML\\_20210722\\_205935     & 0.000000000 & 0.00000000 & 0.00000000\\\\\n",
       "\\end{tabular}\n"
      ],
      "text/markdown": [
       "\n",
       "A data.frame: 10 × 4\n",
       "\n",
       "| variable &lt;fct&gt; | relative_importance &lt;dbl&gt; | scaled_importance &lt;dbl&gt; | percentage &lt;dbl&gt; |\n",
       "|---|---|---|---|\n",
       "| GBM_1_AutoML_20210722_205935     | 0.131226845 | 1.00000000 | 0.34490005 |\n",
       "| GLM_1_AutoML_20210722_205935     | 0.128726214 | 0.98094421 | 0.33832771 |\n",
       "| GBM_2_AutoML_20210722_205935     | 0.042747517 | 0.32575284 | 0.11235217 |\n",
       "| GBM_3_AutoML_20210722_205935     | 0.029944540 | 0.22818913 | 0.07870244 |\n",
       "| XGBoost_2_AutoML_20210722_205935 | 0.022511221 | 0.17154433 | 0.05916565 |\n",
       "| DRF_1_AutoML_20210722_205935     | 0.014006204 | 0.10673276 | 0.03681214 |\n",
       "| XGBoost_3_AutoML_20210722_205935 | 0.007274605 | 0.05543534 | 0.01911965 |\n",
       "| XGBoost_1_AutoML_20210722_205935 | 0.004040750 | 0.03079210 | 0.01062020 |\n",
       "| GBM_4_AutoML_20210722_205935     | 0.000000000 | 0.00000000 | 0.00000000 |\n",
       "| GBM_5_AutoML_20210722_205935     | 0.000000000 | 0.00000000 | 0.00000000 |\n",
       "\n"
      ],
      "text/plain": [
       "   variable                         relative_importance scaled_importance\n",
       "1  GBM_1_AutoML_20210722_205935     0.131226845         1.00000000       \n",
       "2  GLM_1_AutoML_20210722_205935     0.128726214         0.98094421       \n",
       "3  GBM_2_AutoML_20210722_205935     0.042747517         0.32575284       \n",
       "4  GBM_3_AutoML_20210722_205935     0.029944540         0.22818913       \n",
       "5  XGBoost_2_AutoML_20210722_205935 0.022511221         0.17154433       \n",
       "6  DRF_1_AutoML_20210722_205935     0.014006204         0.10673276       \n",
       "7  XGBoost_3_AutoML_20210722_205935 0.007274605         0.05543534       \n",
       "8  XGBoost_1_AutoML_20210722_205935 0.004040750         0.03079210       \n",
       "9  GBM_4_AutoML_20210722_205935     0.000000000         0.00000000       \n",
       "10 GBM_5_AutoML_20210722_205935     0.000000000         0.00000000       \n",
       "   percentage\n",
       "1  0.34490005\n",
       "2  0.33832771\n",
       "3  0.11235217\n",
       "4  0.07870244\n",
       "5  0.05916565\n",
       "6  0.03681214\n",
       "7  0.01911965\n",
       "8  0.01062020\n",
       "9  0.00000000\n",
       "10 0.00000000"
      ]
     },
     "metadata": {},
     "output_type": "display_data"
    }
   ],
   "source": [
    "model_ids <- as.data.frame(aml@leaderboard$model_id)[,1]\n",
    "# Get the \"All Models\" Stacked Ensemble model\n",
    "se <- h2o.getModel(grep(\"StackedEnsemble_AllModels\", model_ids, value = TRUE)[1])\n",
    "# Get the Stacked Ensemble metalearner model\n",
    "metalearner <- se@model$metalearner_model\n",
    "h2o.varimp(metalearner)"
   ]
  },
  {
   "cell_type": "markdown",
   "id": "finnish-bobby",
   "metadata": {
    "papermill": {
     "duration": 0.021875,
     "end_time": "2021-07-22T21:00:14.481556",
     "exception": false,
     "start_time": "2021-07-22T21:00:14.459681",
     "status": "completed"
    },
    "tags": []
   },
   "source": [
    "The table above gives us the variable importance of the metalearner in the ensemble. The AutoML Stacked Ensembles use the default metalearner algorithm (GLM with non-negative weights), so the variable importance of the metalearner is actually the standardized coefficient magnitudes of the GLM. \n"
   ]
  },
  {
   "cell_type": "code",
   "execution_count": 9,
   "id": "continental-operation",
   "metadata": {
    "execution": {
     "iopub.execute_input": "2021-07-22T21:00:14.532142Z",
     "iopub.status.busy": "2021-07-22T21:00:14.530741Z",
     "iopub.status.idle": "2021-07-22T21:00:14.875060Z",
     "shell.execute_reply": "2021-07-22T21:00:14.875550Z"
    },
    "papermill": {
     "duration": 0.371053,
     "end_time": "2021-07-22T21:00:14.875713",
     "exception": false,
     "start_time": "2021-07-22T21:00:14.504660",
     "status": "completed"
    },
    "tags": []
   },
   "outputs": [
    {
     "data": {
      "image/png": "[encoded data removed]"
     },
     "metadata": {
      "image/png": {
       "height": 420,
       "width": 420
      }
     },
     "output_type": "display_data"
    }
   ],
   "source": [
    "h2o.varimp_plot(metalearner)"
   ]
  },
  {
   "cell_type": "markdown",
   "id": "mexican-computer",
   "metadata": {
    "papermill": {
     "duration": 0.024149,
     "end_time": "2021-07-22T21:00:14.925207",
     "exception": false,
     "start_time": "2021-07-22T21:00:14.901058",
     "status": "completed"
    },
    "tags": []
   },
   "source": [
    "## Generating Predictions Using Leader Model\n",
    "\n",
    "We can also generate predictions on a test sample using the leader model object."
   ]
  },
  {
   "cell_type": "code",
   "execution_count": 10,
   "id": "described-display",
   "metadata": {
    "execution": {
     "iopub.execute_input": "2021-07-22T21:00:14.980281Z",
     "iopub.status.busy": "2021-07-22T21:00:14.978153Z",
     "iopub.status.idle": "2021-07-22T21:00:16.086340Z",
     "shell.execute_reply": "2021-07-22T21:00:16.085138Z"
    },
    "papermill": {
     "duration": 1.137096,
     "end_time": "2021-07-22T21:00:16.086546",
     "exception": false,
     "start_time": "2021-07-22T21:00:14.949450",
     "status": "completed"
    },
    "tags": []
   },
   "outputs": [
    {
     "name": "stdout",
     "output_type": "stream",
     "text": [
      "  |======================================================================| 100%\n"
     ]
    },
    {
     "name": "stderr",
     "output_type": "stream",
     "text": [
      "Warning message in doTryCatch(return(expr), name, parentenv, handler):\n",
      "“Test/Validation dataset column 'occ' has levels not trained on: [2050, 2840, 3610, 3710, 3910, 4130, 5250, 5630, 6530, 6720, 8620, 9200, 9750]”\n",
      "Warning message in doTryCatch(return(expr), name, parentenv, handler):\n",
      "“Test/Validation dataset column 'ind' has levels not trained on: [4980, 690, 7990]”\n"
     ]
    },
    {
     "data": {
      "text/html": [
       "<table class=\"dataframe\">\n",
       "<caption>A matrix: 6 × 1 of type dbl</caption>\n",
       "<thead>\n",
       "\t<tr><th scope=col>predict</th></tr>\n",
       "</thead>\n",
       "<tbody>\n",
       "\t<tr><td>3.310830</td></tr>\n",
       "\t<tr><td>2.623222</td></tr>\n",
       "\t<tr><td>3.440999</td></tr>\n",
       "\t<tr><td>2.405673</td></tr>\n",
       "\t<tr><td>2.734782</td></tr>\n",
       "\t<tr><td>2.673678</td></tr>\n",
       "</tbody>\n",
       "</table>\n"
      ],
      "text/latex": [
       "A matrix: 6 × 1 of type dbl\n",
       "\\begin{tabular}{l}\n",
       " predict\\\\\n",
       "\\hline\n",
       "\t 3.310830\\\\\n",
       "\t 2.623222\\\\\n",
       "\t 3.440999\\\\\n",
       "\t 2.405673\\\\\n",
       "\t 2.734782\\\\\n",
       "\t 2.673678\\\\\n",
       "\\end{tabular}\n"
      ],
      "text/markdown": [
       "\n",
       "A matrix: 6 × 1 of type dbl\n",
       "\n",
       "| predict |\n",
       "|---|\n",
       "| 3.310830 |\n",
       "| 2.623222 |\n",
       "| 3.440999 |\n",
       "| 2.405673 |\n",
       "| 2.734782 |\n",
       "| 2.673678 |\n",
       "\n"
      ],
      "text/plain": [
       "     predict \n",
       "[1,] 3.310830\n",
       "[2,] 2.623222\n",
       "[3,] 3.440999\n",
       "[4,] 2.405673\n",
       "[5,] 2.734782\n",
       "[6,] 2.673678"
      ]
     },
     "metadata": {},
     "output_type": "display_data"
    }
   ],
   "source": [
    "pred <- as.matrix(h2o.predict(aml@leader,test_h)) # make prediction using x data from the test sample\n",
    "head(pred)"
   ]
  },
  {
   "cell_type": "markdown",
   "id": "verified-acrylic",
   "metadata": {
    "papermill": {
     "duration": 0.025631,
     "end_time": "2021-07-22T21:00:16.141346",
     "exception": false,
     "start_time": "2021-07-22T21:00:16.115715",
     "status": "completed"
    },
    "tags": []
   },
   "source": [
    "This allows us to estimate the out-of-sample (test) MSE and the standard error as well."
   ]
  },
  {
   "cell_type": "code",
   "execution_count": 11,
   "id": "durable-engineering",
   "metadata": {
    "execution": {
     "iopub.execute_input": "2021-07-22T21:00:16.199767Z",
     "iopub.status.busy": "2021-07-22T21:00:16.198503Z",
     "iopub.status.idle": "2021-07-22T21:00:16.278065Z",
     "shell.execute_reply": "2021-07-22T21:00:16.276873Z"
    },
    "papermill": {
     "duration": 0.111075,
     "end_time": "2021-07-22T21:00:16.278215",
     "exception": false,
     "start_time": "2021-07-22T21:00:16.167140",
     "status": "completed"
    },
    "tags": []
   },
   "outputs": [
    {
     "data": {
      "text/html": [
       "<style>\n",
       ".list-inline {list-style: none; margin:0; padding: 0}\n",
       ".list-inline>li {display: inline-block}\n",
       ".list-inline>li:not(:last-child)::after {content: \"\\00b7\"; padding: 0 .5ex}\n",
       "</style>\n",
       "<ol class=list-inline><li>0.214664807273824</li><li>0.0125886125707773</li></ol>\n"
      ],
      "text/latex": [
       "\\begin{enumerate*}\n",
       "\\item 0.214664807273824\n",
       "\\item 0.0125886125707773\n",
       "\\end{enumerate*}\n"
      ],
      "text/markdown": [
       "1. 0.214664807273824\n",
       "2. 0.0125886125707773\n",
       "\n",
       "\n"
      ],
      "text/plain": [
       "[1] 0.21466481 0.01258861"
      ]
     },
     "metadata": {},
     "output_type": "display_data"
    }
   ],
   "source": [
    "y_test <- as.matrix(test_h$lwage)\n",
    "summary(lm((y_test-pred)^2~1))$coef[1:2]"
   ]
  },
  {
   "cell_type": "markdown",
   "id": "ongoing-norman",
   "metadata": {
    "papermill": {
     "duration": 0.026761,
     "end_time": "2021-07-22T21:00:16.332443",
     "exception": false,
     "start_time": "2021-07-22T21:00:16.305682",
     "status": "completed"
    },
    "tags": []
   },
   "source": [
    "We observe both a lower MSE and a lower standard error compared to our previous results (see [here](https://www.kaggle.com/janniskueck/pm3-notebook-newdata))."
   ]
  },
  {
   "cell_type": "code",
   "execution_count": 12,
   "id": "absolute-river",
   "metadata": {
    "execution": {
     "iopub.execute_input": "2021-07-22T21:00:16.390354Z",
     "iopub.status.busy": "2021-07-22T21:00:16.388974Z",
     "iopub.status.idle": "2021-07-22T21:00:16.433225Z",
     "shell.execute_reply": "2021-07-22T21:00:16.432021Z"
    },
    "papermill": {
     "duration": 0.074543,
     "end_time": "2021-07-22T21:00:16.433419",
     "exception": false,
     "start_time": "2021-07-22T21:00:16.358876",
     "status": "completed"
    },
    "tags": []
   },
   "outputs": [],
   "source": [
    "h2o.shutdown(prompt = F)"
   ]
  }
 ],
 "metadata": {
  "kernelspec": {
   "display_name": "R",
   "language": "R",
   "name": "ir"
  },
  "language_info": {
   "codemirror_mode": "r",
   "file_extension": ".r",
   "mimetype": "text/x-r-source",
   "name": "R",
   "pygments_lexer": "r",
   "version": "4.2.1"
  },
  "papermill": {
   "default_parameters": {},
   "duration": 56.4395,
   "end_time": "2021-07-22T21:00:16.569891",
   "environment_variables": {},
   "exception": null,
   "input_path": "__notebook__.ipynb",
   "output_path": "__notebook__.ipynb",
   "parameters": {},
   "start_time": "2021-07-22T20:59:20.130391",
   "version": "2.3.2"
  }
 },
 "nbformat": 4,
 "nbformat_minor": 5
}
