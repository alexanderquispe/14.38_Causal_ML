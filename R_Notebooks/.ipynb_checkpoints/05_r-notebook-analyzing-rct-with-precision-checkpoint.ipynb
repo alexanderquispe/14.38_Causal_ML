{
 "cells": [
  {
   "cell_type": "markdown",
   "metadata": {
    "papermill": {
     "duration": 0.007142,
     "end_time": "2022-02-24T13:44:07.883675",
     "exception": false,
     "start_time": "2022-02-24T13:44:07.876533",
     "status": "completed"
    },
    "tags": []
   },
   "source": [
    "# Analyzing RCT with Precision by Adjusting for Baseline Covariates"
   ]
  },
  {
   "cell_type": "markdown",
   "metadata": {
    "papermill": {
     "duration": 0.005938,
     "end_time": "2022-02-24T13:44:07.895781",
     "exception": false,
     "start_time": "2022-02-24T13:44:07.889843",
     "status": "completed"
    },
    "tags": []
   },
   "source": [
    "# Jonathan Roth's DGP\n",
    "\n",
    "Here we set up a DGP with heterogenous effects. In this example, which is due to Jonathan Roth, we have\n",
    "$$\n",
    "E [Y(0) | Z] = - Z, \\quad E [Y(1) |Z] = Z, \\quad Z \\sim N(0,1).\n",
    "$$\n",
    "The CATE is\n",
    "$$\n",
    "E [Y(1) - Y(0) | Z ]= 2 Z.\n",
    "$$\n",
    "and the ATE is\n",
    "$$\n",
    "2 E Z = 0.\n",
    "$$\n",
    "\n",
    "We would like to estimate the ATE as precisely as possible.\n",
    "\n",
    "An economic motivation for this example could be provided as follows: Let D be the treatment of going to college, and $Z$ academic skills.  Suppose that academic skills cause lower earnings Y(0) in jobs that don't require college degree, and cause higher earnings  Y(1) in jobs that require college degrees. This type of scenario is reflected in the DGP set-up above.\n",
    "\n"
   ]
  },
  {
   "cell_type": "code",
   "execution_count": 1,
   "metadata": {
    "execution": {
     "iopub.execute_input": "2022-02-24T13:44:07.946078Z",
     "iopub.status.busy": "2022-02-24T13:44:07.943853Z",
     "iopub.status.idle": "2022-02-24T13:44:08.092524Z",
     "shell.execute_reply": "2022-02-24T13:44:08.091402Z"
    },
    "papermill": {
     "duration": 0.19105,
     "end_time": "2022-02-24T13:44:08.092727",
     "exception": false,
     "start_time": "2022-02-24T13:44:07.901677",
     "status": "completed"
    },
    "tags": []
   },
   "outputs": [],
   "source": [
    "# generate the simulated dataset\n",
    "set.seed(123)        # set MC seed\n",
    "n = 1000             # sample size\n",
    "Z = rnorm(n)         # generate Z\n",
    "Y0 = -Z + rnorm(n)   # conditional average baseline response is -Z\n",
    "Y1 = Z + rnorm(n)    # conditional average treatment effect is +Z\n",
    "D = (runif(n)<.2)    # treatment indicator; only 20% get treated \n",
    "Y = Y1*D + Y0*(1-D)  # observed Y\n",
    "D = D - mean(D)      # demean D\n",
    "Z = Z-mean(Z)        # demean Z"
   ]
  },
  {
   "cell_type": "markdown",
   "metadata": {
    "papermill": {
     "duration": 0.005808,
     "end_time": "2022-02-24T13:44:08.104481",
     "exception": false,
     "start_time": "2022-02-24T13:44:08.098673",
     "status": "completed"
    },
    "tags": []
   },
   "source": [
    "# Analyze the RCT data with Precision Adjustment\n",
    "\n",
    "Consider the follow regression models:\n",
    "\n",
    "*  classical 2-sample approach, no adjustment (CL)\n",
    "*  classical linear regression adjustment (CRA)\n",
    "*  interactive regression adjusment (IRA)\n",
    "\n",
    "We carry out inference using heteroskedasticity robust inference, using the sandwich formulas for variance (Eicker-Huber-White).  \n",
    "\n",
    "We observe that the CRA delivers estimates that are less efficient than the CL (pointed out by Freedman), whereas the IRA delivers a more efficient approach (pointed out by Lin). In order for the CRA to be more efficient than the CL, we need the CRA to be a correct model of the conditional expectation function of Y given D and X, which is not the case here."
   ]
  },
  {
   "cell_type": "code",
   "execution_count": 2,
   "metadata": {
    "execution": {
     "iopub.execute_input": "2022-02-24T13:44:08.152326Z",
     "iopub.status.busy": "2022-02-24T13:44:08.120367Z",
     "iopub.status.idle": "2022-02-24T13:44:08.422625Z",
     "shell.execute_reply": "2022-02-24T13:44:08.420985Z"
    },
    "papermill": {
     "duration": 0.312458,
     "end_time": "2022-02-24T13:44:08.422805",
     "exception": false,
     "start_time": "2022-02-24T13:44:08.110347",
     "status": "completed"
    },
    "tags": []
   },
   "outputs": [
    {
     "name": "stderr",
     "output_type": "stream",
     "text": [
      "Loading required package: zoo\n",
      "\n",
      "\n",
      "Attaching package: ‘zoo’\n",
      "\n",
      "\n",
      "The following objects are masked from ‘package:base’:\n",
      "\n",
      "    as.Date, as.Date.numeric\n",
      "\n",
      "\n"
     ]
    },
    {
     "data": {
      "text/plain": [
       "\n",
       "t test of coefficients:\n",
       "\n",
       "            Estimate Std. Error t value Pr(>|t|)\n",
       "(Intercept) 0.038457   0.042730  0.9000   0.3683\n",
       "D           0.010373   0.109479  0.0947   0.9245\n"
      ]
     },
     "metadata": {},
     "output_type": "display_data"
    },
    {
     "data": {
      "text/plain": [
       "\n",
       "t test of coefficients:\n",
       "\n",
       "             Estimate Std. Error  t value Pr(>|t|)    \n",
       "(Intercept)  0.038457   0.039038   0.9851   0.3248    \n",
       "D            0.070199   0.136195   0.5154   0.6064    \n",
       "Z           -0.555628   0.050840 -10.9289   <2e-16 ***\n",
       "---\n",
       "Signif. codes:  0 ‘***’ 0.001 ‘**’ 0.01 ‘*’ 0.05 ‘.’ 0.1 ‘ ’ 1\n"
      ]
     },
     "metadata": {},
     "output_type": "display_data"
    },
    {
     "data": {
      "text/plain": [
       "\n",
       "t test of coefficients:\n",
       "\n",
       "             Estimate Std. Error  t value Pr(>|t|)    \n",
       "(Intercept)  0.007973   0.031466   0.2534   0.8000    \n",
       "D           -0.054906   0.077519  -0.7083   0.4789    \n",
       "Z           -0.568043   0.031620 -17.9647   <2e-16 ***\n",
       "D:Z          1.869928   0.078191  23.9147   <2e-16 ***\n",
       "---\n",
       "Signif. codes:  0 ‘***’ 0.001 ‘**’ 0.01 ‘*’ 0.05 ‘.’ 0.1 ‘ ’ 1\n"
      ]
     },
     "metadata": {},
     "output_type": "display_data"
    }
   ],
   "source": [
    "# implement each of the models on the simulated data\n",
    "CL = lm(Y ~ D)          \n",
    "CRA = lm(Y ~ D+ Z)      #classical\n",
    "IRA = lm(Y ~ D+ Z+ Z*D) #interactive approach\n",
    "\n",
    "# we are interested in the coefficients on variable \"D\".\n",
    "library(sandwich) # heterokedasticity robust standard errors\n",
    "library(lmtest) # coefficient testing\n",
    "coeftest(CL, vcov = vcovHC(CL, type=\"HC1\"))\n",
    "coeftest(CRA, vcov = vcovHC(CRA, type=\"HC1\"))\n",
    "coeftest(IRA, vcov = vcovHC(IRA, type=\"HC1\"))"
   ]
  },
  {
   "cell_type": "markdown",
   "metadata": {
    "papermill": {
     "duration": 0.008361,
     "end_time": "2022-02-24T13:44:08.439932",
     "exception": false,
     "start_time": "2022-02-24T13:44:08.431571",
     "status": "completed"
    },
    "tags": []
   },
   "source": [
    "# Using classical standard errors (non-robust) is misleading here.\n",
    "\n",
    "We don't teach non-robust standard errors in econometrics courses, but the default statistical inference for lm() procedure in R, summary.lm(), still uses 100-year old concepts, perhaps in part due to historical legacy.  \n",
    "\n",
    "Here the non-robust standard errors suggest that there is not much difference between the different approaches, contrary to the conclusions reached using the robust standard errors.\n"
   ]
  },
  {
   "cell_type": "code",
   "execution_count": 3,
   "metadata": {
    "execution": {
     "iopub.execute_input": "2022-02-24T13:44:08.462569Z",
     "iopub.status.busy": "2022-02-24T13:44:08.460780Z",
     "iopub.status.idle": "2022-02-24T13:44:08.497951Z",
     "shell.execute_reply": "2022-02-24T13:44:08.496332Z"
    },
    "papermill": {
     "duration": 0.049989,
     "end_time": "2022-02-24T13:44:08.498118",
     "exception": false,
     "start_time": "2022-02-24T13:44:08.448129",
     "status": "completed"
    },
    "tags": []
   },
   "outputs": [
    {
     "data": {
      "text/plain": [
       "\n",
       "Call:\n",
       "lm(formula = Y ~ D)\n",
       "\n",
       "Residuals:\n",
       "    Min      1Q  Median      3Q     Max \n",
       "-4.0128 -0.8897  0.0232  0.8901  4.0058 \n",
       "\n",
       "Coefficients:\n",
       "            Estimate Std. Error t value Pr(>|t|)\n",
       "(Intercept)  0.03846    0.04273   0.900    0.368\n",
       "D            0.01037    0.10982   0.094    0.925\n",
       "\n",
       "Residual standard error: 1.351 on 998 degrees of freedom\n",
       "Multiple R-squared:  8.94e-06,\tAdjusted R-squared:  -0.0009931 \n",
       "F-statistic: 0.008922 on 1 and 998 DF,  p-value: 0.9248\n"
      ]
     },
     "metadata": {},
     "output_type": "display_data"
    },
    {
     "data": {
      "text/plain": [
       "\n",
       "Call:\n",
       "lm(formula = Y ~ D + Z)\n",
       "\n",
       "Residuals:\n",
       "    Min      1Q  Median      3Q     Max \n",
       "-4.3167 -0.7649 -0.0166  0.7739  5.2087 \n",
       "\n",
       "Coefficients:\n",
       "            Estimate Std. Error t value Pr(>|t|)    \n",
       "(Intercept)  0.03846    0.03904   0.985    0.325    \n",
       "D            0.07020    0.10042   0.699    0.485    \n",
       "Z           -0.55563    0.03942 -14.095   <2e-16 ***\n",
       "---\n",
       "Signif. codes:  0 ‘***’ 0.001 ‘**’ 0.01 ‘*’ 0.05 ‘.’ 0.1 ‘ ’ 1\n",
       "\n",
       "Residual standard error: 1.235 on 997 degrees of freedom\n",
       "Multiple R-squared:  0.1662,\tAdjusted R-squared:  0.1645 \n",
       "F-statistic: 99.34 on 2 and 997 DF,  p-value: < 2.2e-16\n"
      ]
     },
     "metadata": {},
     "output_type": "display_data"
    },
    {
     "data": {
      "text/plain": [
       "\n",
       "Call:\n",
       "lm(formula = Y ~ D + Z + Z * D)\n",
       "\n",
       "Residuals:\n",
       "    Min      1Q  Median      3Q     Max \n",
       "-3.0225 -0.6707  0.0003  0.6877  3.3018 \n",
       "\n",
       "Coefficients:\n",
       "             Estimate Std. Error t value Pr(>|t|)    \n",
       "(Intercept)  0.007973   0.031492   0.253    0.800    \n",
       "D           -0.054906   0.081116  -0.677    0.499    \n",
       "Z           -0.568043   0.031777 -17.876   <2e-16 ***\n",
       "D:Z          1.869928   0.080565  23.210   <2e-16 ***\n",
       "---\n",
       "Signif. codes:  0 ‘***’ 0.001 ‘**’ 0.01 ‘*’ 0.05 ‘.’ 0.1 ‘ ’ 1\n",
       "\n",
       "Residual standard error: 0.995 on 996 degrees of freedom\n",
       "Multiple R-squared:  0.4589,\tAdjusted R-squared:  0.4572 \n",
       "F-statistic: 281.5 on 3 and 996 DF,  p-value: < 2.2e-16\n"
      ]
     },
     "metadata": {},
     "output_type": "display_data"
    }
   ],
   "source": [
    "summary(CL)\n",
    "summary(CRA)\n",
    "summary(IRA)"
   ]
  },
  {
   "cell_type": "markdown",
   "metadata": {
    "papermill": {
     "duration": 0.009739,
     "end_time": "2022-02-24T13:44:08.517700",
     "exception": false,
     "start_time": "2022-02-24T13:44:08.507961",
     "status": "completed"
    },
    "tags": []
   },
   "source": [
    "# Verify Asymptotic Approximations Hold in Finite-Sample Simulation Experiment"
   ]
  },
  {
   "cell_type": "code",
   "execution_count": 4,
   "metadata": {
    "_execution_state": "idle",
    "_uuid": "051d70d956493feee0c6d64651c6a088724dca2a",
    "execution": {
     "iopub.execute_input": "2022-02-24T13:44:08.543027Z",
     "iopub.status.busy": "2022-02-24T13:44:08.541083Z",
     "iopub.status.idle": "2022-02-24T13:44:12.307239Z",
     "shell.execute_reply": "2022-02-24T13:44:12.305515Z"
    },
    "papermill": {
     "duration": 3.780292,
     "end_time": "2022-02-24T13:44:12.307459",
     "exception": false,
     "start_time": "2022-02-24T13:44:08.527167",
     "status": "completed"
    },
    "tags": []
   },
   "outputs": [
    {
     "name": "stdout",
     "output_type": "stream",
     "text": [
      "[1] \"Standard deviations for estimators\"\n"
     ]
    },
    {
     "data": {
      "text/html": [
       "0.130864481384174"
      ],
      "text/latex": [
       "0.130864481384174"
      ],
      "text/markdown": [
       "0.130864481384174"
      ],
      "text/plain": [
       "[1] 0.1308645"
      ]
     },
     "metadata": {},
     "output_type": "display_data"
    },
    {
     "data": {
      "text/html": [
       "0.205865178405738"
      ],
      "text/latex": [
       "0.205865178405738"
      ],
      "text/markdown": [
       "0.205865178405738"
      ],
      "text/plain": [
       "[1] 0.2058652"
      ]
     },
     "metadata": {},
     "output_type": "display_data"
    },
    {
     "data": {
      "text/html": [
       "0.116085705957897"
      ],
      "text/latex": [
       "0.116085705957897"
      ],
      "text/markdown": [
       "0.116085705957897"
      ],
      "text/plain": [
       "[1] 0.1160857"
      ]
     },
     "metadata": {},
     "output_type": "display_data"
    }
   ],
   "source": [
    "set.seed(123)\n",
    "n = 1000\n",
    "B= 1000\n",
    "\n",
    "CLs = rep(0, B)\n",
    "CRAs = rep(0, B)\n",
    "IRAs = rep(0, B)\n",
    "\n",
    "for ( i in 1:B){\n",
    "  Z = rnorm(n)\n",
    "  Y0 = -Z + rnorm(n)\n",
    "  Y1 =  Z + rnorm(n)\n",
    "  Z = Z - mean(Z)\n",
    "  D = (runif(n)<.1)\n",
    "  D = D- mean(D)\n",
    "  Y = Y1*D + Y0*(1-D)\n",
    "  CLs[i]= lm(Y ~ D)$coef[2]\n",
    "  CRAs[i] = lm(Y ~ D+ Z)$coef[2]\n",
    "  IRAs[i] = lm(Y ~ D+ Z+ Z*D)$coef[2]\n",
    "  }\n",
    "\n",
    "print(\"Standard deviations for estimators\")\n",
    "\n",
    "sqrt(mean(CLs^2))\n",
    "sqrt(mean(CRAs^2))\n",
    "sqrt(mean(IRAs^2))"
   ]
  }
 ],
 "metadata": {
  "kernelspec": {
   "display_name": "R",
   "language": "R",
   "name": "ir"
  },
  "language_info": {
   "codemirror_mode": "r",
   "file_extension": ".r",
   "mimetype": "text/x-r-source",
   "name": "R",
   "pygments_lexer": "r",
   "version": "4.2.1"
  },
  "papermill": {
   "default_parameters": {},
   "duration": 7.582204,
   "end_time": "2022-02-24T13:44:12.429627",
   "environment_variables": {},
   "exception": null,
   "input_path": "__notebook__.ipynb",
   "output_path": "__notebook__.ipynb",
   "parameters": {},
   "start_time": "2022-02-24T13:44:04.847423",
   "version": "2.2.2"
  }
 },
 "nbformat": 4,
 "nbformat_minor": 4
}
