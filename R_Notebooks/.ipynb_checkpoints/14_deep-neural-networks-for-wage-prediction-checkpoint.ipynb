{
 "cells": [
  {
   "cell_type": "markdown",
   "metadata": {
    "papermill": {
     "duration": 0.011323,
     "end_time": "2021-07-22T20:53:11.476863",
     "exception": false,
     "start_time": "2021-07-22T20:53:11.465540",
     "status": "completed"
    },
    "tags": []
   },
   "source": [
    "\n",
    "\n",
    "This notebook contains an example for teaching.\n"
   ]
  },
  {
   "cell_type": "markdown",
   "metadata": {
    "_execution_state": "idle",
    "_uuid": "051d70d956493feee0c6d64651c6a088724dca2a",
    "papermill": {
     "duration": 0.010913,
     "end_time": "2021-07-22T20:53:11.497945",
     "exception": false,
     "start_time": "2021-07-22T20:53:11.487032",
     "status": "completed"
    },
    "tags": []
   },
   "source": [
    "# Deep Neural Networks for Wage Prediction"
   ]
  },
  {
   "cell_type": "markdown",
   "metadata": {
    "papermill": {
     "duration": 0.01,
     "end_time": "2021-07-22T20:53:11.518414",
     "exception": false,
     "start_time": "2021-07-22T20:53:11.508414",
     "status": "completed"
    },
    "tags": []
   },
   "source": [
    "So far we have considered many machine learning methods such as Lasso and Random Forests for building a predictive model. In this lab, we extend our toolbox by returning to our wage prediction problem and showing how a neural network can be used for prediction."
   ]
  },
  {
   "cell_type": "markdown",
   "metadata": {
    "papermill": {
     "duration": 0.01134,
     "end_time": "2021-07-22T20:53:11.540137",
     "exception": false,
     "start_time": "2021-07-22T20:53:11.528797",
     "status": "completed"
    },
    "tags": []
   },
   "source": [
    "## Data preparation"
   ]
  },
  {
   "cell_type": "markdown",
   "metadata": {
    "papermill": {
     "duration": 0.01175,
     "end_time": "2021-07-22T20:53:11.563560",
     "exception": false,
     "start_time": "2021-07-22T20:53:11.551810",
     "status": "completed"
    },
    "tags": []
   },
   "source": [
    "Again, we consider data from the U.S. March Supplement of the Current Population Survey (CPS) in 2015."
   ]
  },
  {
   "cell_type": "code",
   "execution_count": 1,
   "metadata": {
    "execution": {
     "iopub.execute_input": "2021-07-22T20:53:11.613142Z",
     "iopub.status.busy": "2021-07-22T20:53:11.610956Z",
     "iopub.status.idle": "2021-07-22T20:53:11.749035Z",
     "shell.execute_reply": "2021-07-22T20:53:11.747041Z"
    },
    "papermill": {
     "duration": 0.174348,
     "end_time": "2021-07-22T20:53:11.749240",
     "exception": false,
     "start_time": "2021-07-22T20:53:11.574892",
     "status": "completed"
    },
    "tags": []
   },
   "outputs": [],
   "source": [
    "load(\"../input/wage2015-inference/wage2015_subsample_inference.Rdata\")\n",
    "Z <- subset(data,select=-c(lwage,wage)) # regressors"
   ]
  },
  {
   "cell_type": "markdown",
   "metadata": {
    "papermill": {
     "duration": 0.01164,
     "end_time": "2021-07-22T20:53:11.772839",
     "exception": false,
     "start_time": "2021-07-22T20:53:11.761199",
     "status": "completed"
    },
    "tags": []
   },
   "source": [
    "First, we split the data first and normalize it."
   ]
  },
  {
   "cell_type": "code",
   "execution_count": 2,
   "metadata": {
    "execution": {
     "iopub.execute_input": "2021-07-22T20:53:11.827687Z",
     "iopub.status.busy": "2021-07-22T20:53:11.803088Z",
     "iopub.status.idle": "2021-07-22T20:53:11.844271Z",
     "shell.execute_reply": "2021-07-22T20:53:11.843073Z"
    },
    "papermill": {
     "duration": 0.059918,
     "end_time": "2021-07-22T20:53:11.844400",
     "exception": false,
     "start_time": "2021-07-22T20:53:11.784482",
     "status": "completed"
    },
    "tags": []
   },
   "outputs": [],
   "source": [
    "# split the data into training and testing sets\n",
    "set.seed(1234)\n",
    "training <- sample(nrow(data), nrow(data)*(3/4), replace=FALSE)\n",
    "\n",
    "data_train <- data[training,1:16]\n",
    "data_test <- data[-training,1:16]"
   ]
  },
  {
   "cell_type": "code",
   "execution_count": 3,
   "metadata": {
    "execution": {
     "iopub.execute_input": "2021-07-22T20:53:11.871131Z",
     "iopub.status.busy": "2021-07-22T20:53:11.869454Z",
     "iopub.status.idle": "2021-07-22T20:53:11.901020Z",
     "shell.execute_reply": "2021-07-22T20:53:11.899708Z"
    },
    "papermill": {
     "duration": 0.046161,
     "end_time": "2021-07-22T20:53:11.901145",
     "exception": false,
     "start_time": "2021-07-22T20:53:11.854984",
     "status": "completed"
    },
    "tags": []
   },
   "outputs": [],
   "source": [
    "# normalize the data\n",
    "mean <- apply(data_train, 2, mean)\n",
    "std <- apply(data_train, 2, sd)\n",
    "data_train <- scale(data_train, center = mean, scale = std)\n",
    "data_test <- scale(data_test, center = mean, scale = std)\n",
    "data_train <- as.data.frame(data_train)\n",
    "data_test <- as.data.frame(data_test)"
   ]
  },
  {
   "cell_type": "markdown",
   "metadata": {
    "papermill": {
     "duration": 0.009901,
     "end_time": "2021-07-22T20:53:11.921274",
     "exception": false,
     "start_time": "2021-07-22T20:53:11.911373",
     "status": "completed"
    },
    "tags": []
   },
   "source": [
    "Then, we construct the inputs for our network."
   ]
  },
  {
   "cell_type": "code",
   "execution_count": 4,
   "metadata": {
    "execution": {
     "iopub.execute_input": "2021-07-22T20:53:11.946319Z",
     "iopub.status.busy": "2021-07-22T20:53:11.944903Z",
     "iopub.status.idle": "2021-07-22T20:53:11.967368Z",
     "shell.execute_reply": "2021-07-22T20:53:11.966053Z"
    },
    "papermill": {
     "duration": 0.035513,
     "end_time": "2021-07-22T20:53:11.967498",
     "exception": false,
     "start_time": "2021-07-22T20:53:11.931985",
     "status": "completed"
    },
    "tags": []
   },
   "outputs": [],
   "source": [
    "X_basic <-  \"sex + exp1 + shs + hsg+ scl + clg + mw + so + we\"\n",
    "formula_basic <- as.formula(paste(\"lwage\", \"~\", X_basic))\n",
    "model_X_basic_train <- model.matrix(formula_basic,data_train)\n",
    "model_X_basic_test <- model.matrix(formula_basic,data_test)\n",
    "\n",
    "Y_train <- data_train$lwage\n",
    "Y_test <- data_test$lwage"
   ]
  },
  {
   "cell_type": "markdown",
   "metadata": {
    "papermill": {
     "duration": 0.011706,
     "end_time": "2021-07-22T20:53:11.991038",
     "exception": false,
     "start_time": "2021-07-22T20:53:11.979332",
     "status": "completed"
    },
    "tags": []
   },
   "source": [
    "## Neural Networks"
   ]
  },
  {
   "cell_type": "markdown",
   "metadata": {
    "papermill": {
     "duration": 0.010416,
     "end_time": "2021-07-22T20:53:12.013225",
     "exception": false,
     "start_time": "2021-07-22T20:53:12.002809",
     "status": "completed"
    },
    "tags": []
   },
   "source": [
    "First, we need to determine the structure of our network. We are using the R package *keras* to build a simple sequential neural network with three dense layers and the ReLU activation function."
   ]
  },
  {
   "cell_type": "code",
   "execution_count": 5,
   "metadata": {
    "execution": {
     "iopub.execute_input": "2021-07-22T20:53:12.038046Z",
     "iopub.status.busy": "2021-07-22T20:53:12.036523Z",
     "iopub.status.idle": "2021-07-22T20:53:13.015460Z",
     "shell.execute_reply": "2021-07-22T20:53:13.013941Z"
    },
    "papermill": {
     "duration": 0.992545,
     "end_time": "2021-07-22T20:53:13.015640",
     "exception": false,
     "start_time": "2021-07-22T20:53:12.023095",
     "status": "completed"
    },
    "tags": []
   },
   "outputs": [],
   "source": [
    "library(keras)\n",
    "\n",
    "build_model <- function() {\n",
    "  model <- keras_model_sequential() %>% \n",
    "    layer_dense(units = 20, activation = \"relu\", # ReLU activation function\n",
    "                input_shape = dim(model_X_basic_train)[2])%>% \n",
    "    layer_dense(units = 10, activation = \"relu\") %>% \n",
    "    layer_dense(units = 1) \n",
    "  \n",
    "  model %>% compile(\n",
    "    optimizer = optimizer_adam(lr = 0.005), # Adam optimizer\n",
    "    loss = \"mse\", \n",
    "    metrics = c(\"mae\")\n",
    "  )\n",
    "}"
   ]
  },
  {
   "cell_type": "markdown",
   "metadata": {
    "papermill": {
     "duration": 0.010387,
     "end_time": "2021-07-22T20:53:13.036369",
     "exception": false,
     "start_time": "2021-07-22T20:53:13.025982",
     "status": "completed"
    },
    "tags": []
   },
   "source": [
    "Let us have a look at the structure of our network in detail."
   ]
  },
  {
   "cell_type": "code",
   "execution_count": 6,
   "metadata": {
    "execution": {
     "iopub.execute_input": "2021-07-22T20:53:13.063927Z",
     "iopub.status.busy": "2021-07-22T20:53:13.062173Z",
     "iopub.status.idle": "2021-07-22T20:53:21.113662Z",
     "shell.execute_reply": "2021-07-22T20:53:21.111160Z"
    },
    "papermill": {
     "duration": 8.066935,
     "end_time": "2021-07-22T20:53:21.113833",
     "exception": false,
     "start_time": "2021-07-22T20:53:13.046898",
     "status": "completed"
    },
    "tags": []
   },
   "outputs": [
    {
     "name": "stdout",
     "output_type": "stream",
     "text": [
      "Model: \"sequential\"\n",
      "________________________________________________________________________________\n",
      "Layer (type)                        Output Shape                    Param #     \n",
      "================================================================================\n",
      "dense_2 (Dense)                     (None, 20)                      220         \n",
      "________________________________________________________________________________\n",
      "dense_1 (Dense)                     (None, 10)                      210         \n",
      "________________________________________________________________________________\n",
      "dense (Dense)                       (None, 1)                       11          \n",
      "================================================================================\n",
      "Total params: 441\n",
      "Trainable params: 441\n",
      "Non-trainable params: 0\n",
      "________________________________________________________________________________\n"
     ]
    }
   ],
   "source": [
    "model <- build_model()\n",
    "summary(model)"
   ]
  },
  {
   "cell_type": "markdown",
   "metadata": {
    "papermill": {
     "duration": 0.016338,
     "end_time": "2021-07-22T20:53:21.148202",
     "exception": false,
     "start_time": "2021-07-22T20:53:21.131864",
     "status": "completed"
    },
    "tags": []
   },
   "source": [
    "We have $441$ trainable parameters in total."
   ]
  },
  {
   "cell_type": "markdown",
   "metadata": {
    "papermill": {
     "duration": 0.016486,
     "end_time": "2021-07-22T20:53:21.181233",
     "exception": false,
     "start_time": "2021-07-22T20:53:21.164747",
     "status": "completed"
    },
    "tags": []
   },
   "source": [
    "Now, let us train the network. Note that this takes substantial computation time. To speed up the computation time, we use GPU as an accelerator. The extent of computational time improvements varies based on a number of factors, including model architecture, batch-size, input pipeline complexity, etc."
   ]
  },
  {
   "cell_type": "code",
   "execution_count": 7,
   "metadata": {
    "execution": {
     "iopub.execute_input": "2021-07-22T20:53:21.221383Z",
     "iopub.status.busy": "2021-07-22T20:53:21.218599Z",
     "iopub.status.idle": "2021-07-22T20:54:40.586046Z",
     "shell.execute_reply": "2021-07-22T20:54:40.584744Z"
    },
    "papermill": {
     "duration": 79.38857,
     "end_time": "2021-07-22T20:54:40.586239",
     "exception": false,
     "start_time": "2021-07-22T20:53:21.197669",
     "status": "completed"
    },
    "tags": []
   },
   "outputs": [],
   "source": [
    "# training the network \n",
    "num_epochs <- 1000\n",
    "model %>% fit(model_X_basic_train, Y_train,\n",
    "                    epochs = num_epochs, batch_size = 100, verbose = 0)"
   ]
  },
  {
   "cell_type": "markdown",
   "metadata": {
    "papermill": {
     "duration": 0.010319,
     "end_time": "2021-07-22T20:54:40.611781",
     "exception": false,
     "start_time": "2021-07-22T20:54:40.601462",
     "status": "completed"
    },
    "tags": []
   },
   "source": [
    "After training the neural network, we can evaluate the performance of our model on the test sample."
   ]
  },
  {
   "cell_type": "code",
   "execution_count": 8,
   "metadata": {
    "execution": {
     "iopub.execute_input": "2021-07-22T20:54:40.636370Z",
     "iopub.status.busy": "2021-07-22T20:54:40.634929Z",
     "iopub.status.idle": "2021-07-22T20:54:40.820657Z",
     "shell.execute_reply": "2021-07-22T20:54:40.819427Z"
    },
    "papermill": {
     "duration": 0.198779,
     "end_time": "2021-07-22T20:54:40.820787",
     "exception": false,
     "start_time": "2021-07-22T20:54:40.622008",
     "status": "completed"
    },
    "tags": []
   },
   "outputs": [
    {
     "data": {
      "text/html": [
       "<style>\n",
       ".dl-inline {width: auto; margin:0; padding: 0}\n",
       ".dl-inline>dt, .dl-inline>dd {float: none; width: auto; display: inline-block}\n",
       ".dl-inline>dt::after {content: \":\\0020\"; padding-right: .5ex}\n",
       ".dl-inline>dt:not(:first-of-type) {padding-left: .5ex}\n",
       "</style><dl class=dl-inline><dt>loss</dt><dd>0.850556671619415</dd><dt>mae</dt><dd>0.703828930854797</dd></dl>\n"
      ],
      "text/latex": [
       "\\begin{description*}\n",
       "\\item[loss] 0.850556671619415\n",
       "\\item[mae] 0.703828930854797\n",
       "\\end{description*}\n"
      ],
      "text/markdown": [
       "loss\n",
       ":   0.850556671619415mae\n",
       ":   0.703828930854797\n",
       "\n"
      ],
      "text/plain": [
       "     loss       mae \n",
       "0.8505567 0.7038289 "
      ]
     },
     "metadata": {},
     "output_type": "display_data"
    }
   ],
   "source": [
    "# evaluating performance\n",
    "model %>% evaluate(model_X_basic_test, Y_test, verbose = 0)"
   ]
  },
  {
   "cell_type": "code",
   "execution_count": 9,
   "metadata": {
    "execution": {
     "iopub.execute_input": "2021-07-22T20:54:40.847071Z",
     "iopub.status.busy": "2021-07-22T20:54:40.845701Z",
     "iopub.status.idle": "2021-07-22T20:54:40.992590Z",
     "shell.execute_reply": "2021-07-22T20:54:40.991392Z"
    },
    "papermill": {
     "duration": 0.160799,
     "end_time": "2021-07-22T20:54:40.992729",
     "exception": false,
     "start_time": "2021-07-22T20:54:40.831930",
     "status": "completed"
    },
    "tags": []
   },
   "outputs": [
    {
     "name": "stdout",
     "output_type": "stream",
     "text": [
      "R^2 of the neural network: 0.1282545"
     ]
    }
   ],
   "source": [
    "# calculating the performance measures\n",
    "pred.nn <- model %>% predict(model_X_basic_test)\n",
    "MSE.nn = summary(lm((Y_test-pred.nn)^2~1))$coef[1:2]\n",
    "R2.nn <- 1-MSE.nn[1]/var(Y_test)\n",
    "# printing R^2\n",
    "cat(\"R^2 of the neural network:\",R2.nn)"
   ]
  }
 ],
 "metadata": {
  "kernelspec": {
   "display_name": "R",
   "language": "R",
   "name": "ir"
  },
  "language_info": {
   "codemirror_mode": "r",
   "file_extension": ".r",
   "mimetype": "text/x-r-source",
   "name": "R",
   "pygments_lexer": "r",
   "version": "4.2.1"
  },
  "papermill": {
   "default_parameters": {},
   "duration": 93.627066,
   "end_time": "2021-07-22T20:54:42.389276",
   "environment_variables": {},
   "exception": null,
   "input_path": "__notebook__.ipynb",
   "output_path": "__notebook__.ipynb",
   "parameters": {},
   "start_time": "2021-07-22T20:53:08.762210",
   "version": "2.2.2"
  }
 },
 "nbformat": 4,
 "nbformat_minor": 4
}
