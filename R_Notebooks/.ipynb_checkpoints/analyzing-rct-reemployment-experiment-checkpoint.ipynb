{
 "cells": [
  {
   "cell_type": "markdown",
   "metadata": {
    "papermill": {
     "duration": 0.013538,
     "end_time": "2021-02-20T13:42:41.189745",
     "exception": false,
     "start_time": "2021-02-20T13:42:41.176207",
     "status": "completed"
    },
    "tags": []
   },
   "source": [
    "# Analyzing RCT data with Precision Adjustment"
   ]
  },
  {
   "cell_type": "markdown",
   "metadata": {
    "papermill": {
     "duration": 0.011347,
     "end_time": "2021-02-20T13:42:41.213041",
     "exception": false,
     "start_time": "2021-02-20T13:42:41.201694",
     "status": "completed"
    },
    "tags": []
   },
   "source": [
    "## Data\n",
    "\n",
    "In this lab, we analyze the Pennsylvania re-employment bonus experiment, which was previously studied in \"Sequential testing of duration data: the case of the Pennsylvania ‘reemployment bonus’ experiment\" (Bilias, 2000), among others. These experiments were conducted in the 1980s by the U.S. Department of Labor to test the incentive effects of alternative compensation schemes for unemployment insurance (UI). In these experiments, UI claimants were randomly assigned either to a control group or one of five treatment groups. Actually, there are six treatment groups in the experiments. Here we focus on treatment group 4, but feel free to explore other treatment groups. In the control group the current rules of the UI applied. Individuals in the treatment groups were offered a cash bonus if they found a job within some pre-specified period of time (qualification period), provided that the job was retained for a specified duration. The treatments differed in the level of the bonus, the length of the qualification period, and whether the bonus was declining over time in the qualification period; see http://qed.econ.queensu.ca/jae/2000-v15.6/bilias/readme.b.txt for further details on data. \n",
    "  "
   ]
  },
  {
   "cell_type": "code",
   "execution_count": 1,
   "metadata": {
    "execution": {
     "iopub.execute_input": "2021-02-20T13:42:41.267823Z",
     "iopub.status.busy": "2021-02-20T13:42:41.265606Z",
     "iopub.status.idle": "2021-02-20T13:42:41.503621Z",
     "shell.execute_reply": "2021-02-20T13:42:41.502578Z"
    },
    "papermill": {
     "duration": 0.279482,
     "end_time": "2021-02-20T13:42:41.503829",
     "exception": false,
     "start_time": "2021-02-20T13:42:41.224347",
     "status": "completed"
    },
    "tags": []
   },
   "outputs": [],
   "source": [
    "## loading the data\n",
    "Penn <- as.data.frame(read.table(\"../input/reemployment-experiment/penn_jae.dat\", header=T ))\n",
    "n <- dim(Penn)[1]\n",
    "p_1 <- dim(Penn)[2]\n",
    "Penn<- subset(Penn, tg==4 | tg==0)\n",
    "attach(Penn)"
   ]
  },
  {
   "cell_type": "code",
   "execution_count": 2,
   "metadata": {
    "execution": {
     "iopub.execute_input": "2021-02-20T13:42:41.560613Z",
     "iopub.status.busy": "2021-02-20T13:42:41.531063Z",
     "iopub.status.idle": "2021-02-20T13:42:41.580817Z",
     "shell.execute_reply": "2021-02-20T13:42:41.579312Z"
    },
    "papermill": {
     "duration": 0.065266,
     "end_time": "2021-02-20T13:42:41.580972",
     "exception": false,
     "start_time": "2021-02-20T13:42:41.515706",
     "status": "completed"
    },
    "tags": []
   },
   "outputs": [
    {
     "data": {
      "text/plain": [
       "   Mode   FALSE    TRUE \n",
       "logical    3354    1745 "
      ]
     },
     "metadata": {},
     "output_type": "display_data"
    }
   ],
   "source": [
    "T4<- (tg==4)\n",
    "summary(T4)"
   ]
  },
  {
   "cell_type": "code",
   "execution_count": 3,
   "metadata": {
    "execution": {
     "iopub.execute_input": "2021-02-20T13:42:41.611073Z",
     "iopub.status.busy": "2021-02-20T13:42:41.609253Z",
     "iopub.status.idle": "2021-02-20T13:42:41.646504Z",
     "shell.execute_reply": "2021-02-20T13:42:41.645094Z"
    },
    "papermill": {
     "duration": 0.053285,
     "end_time": "2021-02-20T13:42:41.646704",
     "exception": false,
     "start_time": "2021-02-20T13:42:41.593419",
     "status": "completed"
    },
    "tags": []
   },
   "outputs": [
    {
     "data": {
      "text/html": [
       "<table class=\"dataframe\">\n",
       "<caption>A data.frame: 6 × 23</caption>\n",
       "<thead>\n",
       "\t<tr><th></th><th scope=col>abdt</th><th scope=col>tg</th><th scope=col>inuidur1</th><th scope=col>inuidur2</th><th scope=col>female</th><th scope=col>black</th><th scope=col>hispanic</th><th scope=col>othrace</th><th scope=col>dep</th><th scope=col>q1</th><th scope=col>⋯</th><th scope=col>q5</th><th scope=col>q6</th><th scope=col>recall</th><th scope=col>agelt35</th><th scope=col>agegt54</th><th scope=col>durable</th><th scope=col>nondurable</th><th scope=col>lusd</th><th scope=col>husd</th><th scope=col>muld</th></tr>\n",
       "\t<tr><th></th><th scope=col>&lt;int&gt;</th><th scope=col>&lt;int&gt;</th><th scope=col>&lt;int&gt;</th><th scope=col>&lt;int&gt;</th><th scope=col>&lt;int&gt;</th><th scope=col>&lt;int&gt;</th><th scope=col>&lt;int&gt;</th><th scope=col>&lt;int&gt;</th><th scope=col>&lt;int&gt;</th><th scope=col>&lt;int&gt;</th><th scope=col>⋯</th><th scope=col>&lt;int&gt;</th><th scope=col>&lt;int&gt;</th><th scope=col>&lt;int&gt;</th><th scope=col>&lt;int&gt;</th><th scope=col>&lt;int&gt;</th><th scope=col>&lt;int&gt;</th><th scope=col>&lt;int&gt;</th><th scope=col>&lt;int&gt;</th><th scope=col>&lt;int&gt;</th><th scope=col>&lt;int&gt;</th></tr>\n",
       "</thead>\n",
       "<tbody>\n",
       "\t<tr><th scope=row>1</th><td>10824</td><td>0</td><td>18</td><td>18</td><td>0</td><td>0</td><td>0</td><td>0</td><td>2</td><td>0</td><td>⋯</td><td>1</td><td>0</td><td>0</td><td>0</td><td>0</td><td>0</td><td>0</td><td>0</td><td>1</td><td>0</td></tr>\n",
       "\t<tr><th scope=row>4</th><td>10824</td><td>0</td><td> 1</td><td> 1</td><td>0</td><td>0</td><td>0</td><td>0</td><td>0</td><td>0</td><td>⋯</td><td>1</td><td>0</td><td>0</td><td>0</td><td>0</td><td>0</td><td>0</td><td>1</td><td>0</td><td>0</td></tr>\n",
       "\t<tr><th scope=row>5</th><td>10747</td><td>0</td><td>27</td><td>27</td><td>0</td><td>0</td><td>0</td><td>0</td><td>0</td><td>0</td><td>⋯</td><td>0</td><td>0</td><td>0</td><td>0</td><td>0</td><td>0</td><td>0</td><td>1</td><td>0</td><td>0</td></tr>\n",
       "\t<tr><th scope=row>12</th><td>10607</td><td>4</td><td> 9</td><td> 9</td><td>0</td><td>0</td><td>0</td><td>0</td><td>0</td><td>0</td><td>⋯</td><td>0</td><td>0</td><td>0</td><td>1</td><td>0</td><td>0</td><td>0</td><td>0</td><td>0</td><td>1</td></tr>\n",
       "\t<tr><th scope=row>13</th><td>10831</td><td>0</td><td>27</td><td>27</td><td>0</td><td>0</td><td>0</td><td>0</td><td>1</td><td>0</td><td>⋯</td><td>1</td><td>0</td><td>0</td><td>0</td><td>1</td><td>1</td><td>0</td><td>1</td><td>0</td><td>0</td></tr>\n",
       "\t<tr><th scope=row>14</th><td>10845</td><td>0</td><td>27</td><td>27</td><td>1</td><td>0</td><td>0</td><td>0</td><td>0</td><td>0</td><td>⋯</td><td>1</td><td>0</td><td>0</td><td>0</td><td>1</td><td>0</td><td>0</td><td>1</td><td>0</td><td>0</td></tr>\n",
       "</tbody>\n",
       "</table>\n"
      ],
      "text/latex": [
       "A data.frame: 6 × 23\n",
       "\\begin{tabular}{r|lllllllllllllllllllll}\n",
       "  & abdt & tg & inuidur1 & inuidur2 & female & black & hispanic & othrace & dep & q1 & ⋯ & q5 & q6 & recall & agelt35 & agegt54 & durable & nondurable & lusd & husd & muld\\\\\n",
       "  & <int> & <int> & <int> & <int> & <int> & <int> & <int> & <int> & <int> & <int> & ⋯ & <int> & <int> & <int> & <int> & <int> & <int> & <int> & <int> & <int> & <int>\\\\\n",
       "\\hline\n",
       "\t1 & 10824 & 0 & 18 & 18 & 0 & 0 & 0 & 0 & 2 & 0 & ⋯ & 1 & 0 & 0 & 0 & 0 & 0 & 0 & 0 & 1 & 0\\\\\n",
       "\t4 & 10824 & 0 &  1 &  1 & 0 & 0 & 0 & 0 & 0 & 0 & ⋯ & 1 & 0 & 0 & 0 & 0 & 0 & 0 & 1 & 0 & 0\\\\\n",
       "\t5 & 10747 & 0 & 27 & 27 & 0 & 0 & 0 & 0 & 0 & 0 & ⋯ & 0 & 0 & 0 & 0 & 0 & 0 & 0 & 1 & 0 & 0\\\\\n",
       "\t12 & 10607 & 4 &  9 &  9 & 0 & 0 & 0 & 0 & 0 & 0 & ⋯ & 0 & 0 & 0 & 1 & 0 & 0 & 0 & 0 & 0 & 1\\\\\n",
       "\t13 & 10831 & 0 & 27 & 27 & 0 & 0 & 0 & 0 & 1 & 0 & ⋯ & 1 & 0 & 0 & 0 & 1 & 1 & 0 & 1 & 0 & 0\\\\\n",
       "\t14 & 10845 & 0 & 27 & 27 & 1 & 0 & 0 & 0 & 0 & 0 & ⋯ & 1 & 0 & 0 & 0 & 1 & 0 & 0 & 1 & 0 & 0\\\\\n",
       "\\end{tabular}\n"
      ],
      "text/markdown": [
       "\n",
       "A data.frame: 6 × 23\n",
       "\n",
       "| <!--/--> | abdt &lt;int&gt; | tg &lt;int&gt; | inuidur1 &lt;int&gt; | inuidur2 &lt;int&gt; | female &lt;int&gt; | black &lt;int&gt; | hispanic &lt;int&gt; | othrace &lt;int&gt; | dep &lt;int&gt; | q1 &lt;int&gt; | ⋯ ⋯ | q5 &lt;int&gt; | q6 &lt;int&gt; | recall &lt;int&gt; | agelt35 &lt;int&gt; | agegt54 &lt;int&gt; | durable &lt;int&gt; | nondurable &lt;int&gt; | lusd &lt;int&gt; | husd &lt;int&gt; | muld &lt;int&gt; |\n",
       "|---|---|---|---|---|---|---|---|---|---|---|---|---|---|---|---|---|---|---|---|---|---|\n",
       "| 1 | 10824 | 0 | 18 | 18 | 0 | 0 | 0 | 0 | 2 | 0 | ⋯ | 1 | 0 | 0 | 0 | 0 | 0 | 0 | 0 | 1 | 0 |\n",
       "| 4 | 10824 | 0 |  1 |  1 | 0 | 0 | 0 | 0 | 0 | 0 | ⋯ | 1 | 0 | 0 | 0 | 0 | 0 | 0 | 1 | 0 | 0 |\n",
       "| 5 | 10747 | 0 | 27 | 27 | 0 | 0 | 0 | 0 | 0 | 0 | ⋯ | 0 | 0 | 0 | 0 | 0 | 0 | 0 | 1 | 0 | 0 |\n",
       "| 12 | 10607 | 4 |  9 |  9 | 0 | 0 | 0 | 0 | 0 | 0 | ⋯ | 0 | 0 | 0 | 1 | 0 | 0 | 0 | 0 | 0 | 1 |\n",
       "| 13 | 10831 | 0 | 27 | 27 | 0 | 0 | 0 | 0 | 1 | 0 | ⋯ | 1 | 0 | 0 | 0 | 1 | 1 | 0 | 1 | 0 | 0 |\n",
       "| 14 | 10845 | 0 | 27 | 27 | 1 | 0 | 0 | 0 | 0 | 0 | ⋯ | 1 | 0 | 0 | 0 | 1 | 0 | 0 | 1 | 0 | 0 |\n",
       "\n"
      ],
      "text/plain": [
       "   abdt  tg inuidur1 inuidur2 female black hispanic othrace dep q1 ⋯ q5 q6\n",
       "1  10824 0  18       18       0      0     0        0       2   0  ⋯ 1  0 \n",
       "4  10824 0   1        1       0      0     0        0       0   0  ⋯ 1  0 \n",
       "5  10747 0  27       27       0      0     0        0       0   0  ⋯ 0  0 \n",
       "12 10607 4   9        9       0      0     0        0       0   0  ⋯ 0  0 \n",
       "13 10831 0  27       27       0      0     0        0       1   0  ⋯ 1  0 \n",
       "14 10845 0  27       27       1      0     0        0       0   0  ⋯ 1  0 \n",
       "   recall agelt35 agegt54 durable nondurable lusd husd muld\n",
       "1  0      0       0       0       0          0    1    0   \n",
       "4  0      0       0       0       0          1    0    0   \n",
       "5  0      0       0       0       0          1    0    0   \n",
       "12 0      1       0       0       0          0    0    1   \n",
       "13 0      0       1       1       0          1    0    0   \n",
       "14 0      0       1       0       0          1    0    0   "
      ]
     },
     "metadata": {},
     "output_type": "display_data"
    }
   ],
   "source": [
    "head(Penn)"
   ]
  },
  {
   "cell_type": "markdown",
   "metadata": {
    "papermill": {
     "duration": 0.012846,
     "end_time": "2021-02-20T13:42:41.672662",
     "exception": false,
     "start_time": "2021-02-20T13:42:41.659816",
     "status": "completed"
    },
    "tags": []
   },
   "source": [
    "### Model \n",
    "To evaluate the impact of the treatments on unemployment duration, we consider the linear regression model:\n",
    "\n",
    "$$\n",
    "Y =  D \\beta_1 + W'\\beta_2 + \\varepsilon, \\quad E \\varepsilon (D,W')' = 0,\n",
    "$$\n",
    "\n",
    "where $Y$ is  the  log of duration of unemployment, $D$ is a treatment  indicators,  and $W$ is a set of controls including age group dummies, gender, race, number of dependents, quarter of the experiment, location within the state, existence of recall expectations, and type of occupation.   Here $\\beta_1$ is the ATE, if the RCT assumptions hold rigorously.\n",
    "\n",
    "\n",
    "We also consider interactive regression model:\n",
    "\n",
    "$$\n",
    "Y =  D \\alpha_1 + D W' \\alpha_2 + W'\\beta_2 + \\varepsilon, \\quad E \\varepsilon (D,W', DW')' = 0,\n",
    "$$\n",
    "where $W$'s are demeaned (apart from the intercept), so that $\\alpha_1$ is the ATE, if the RCT assumptions hold rigorously."
   ]
  },
  {
   "cell_type": "markdown",
   "metadata": {
    "papermill": {
     "duration": 0.012735,
     "end_time": "2021-02-20T13:42:41.698676",
     "exception": false,
     "start_time": "2021-02-20T13:42:41.685941",
     "status": "completed"
    },
    "tags": []
   },
   "source": [
    "Under RCT, the projection coefficient $\\beta_1$ has\n",
    "the interpretation of the causal effect of the treatment on\n",
    "the average outcome. We thus refer to $\\beta_1$ as the average\n",
    "treatment effect (ATE). Note that the covariates, here are\n",
    "independent of the treatment $D$, so we can identify $\\beta_1$ by\n",
    "just linear regression of $Y$ on $D$, without adding covariates.\n",
    "However we do add covariates in an effort to improve the\n",
    "precision of our estimates of the average treatment effect."
   ]
  },
  {
   "cell_type": "markdown",
   "metadata": {
    "papermill": {
     "duration": 0.012728,
     "end_time": "2021-02-20T13:42:41.724182",
     "exception": false,
     "start_time": "2021-02-20T13:42:41.711454",
     "status": "completed"
    },
    "tags": []
   },
   "source": [
    "### Analysis\n",
    "\n",
    "We consider \n",
    "\n",
    "*  classical 2-sample approach, no adjustment (CL)\n",
    "*  classical linear regression adjustment (CRA)\n",
    "*  interactive regression adjusment (IRA)\n",
    "\n",
    "and carry out robust inference using the *estimatr* R packages. "
   ]
  },
  {
   "cell_type": "markdown",
   "metadata": {
    "papermill": {
     "duration": 0.01276,
     "end_time": "2021-02-20T13:42:41.749736",
     "exception": false,
     "start_time": "2021-02-20T13:42:41.736976",
     "status": "completed"
    },
    "tags": []
   },
   "source": [
    "# Carry out covariate balance check"
   ]
  },
  {
   "cell_type": "markdown",
   "metadata": {
    "papermill": {
     "duration": 0.013486,
     "end_time": "2021-02-20T13:42:41.776684",
     "exception": false,
     "start_time": "2021-02-20T13:42:41.763198",
     "status": "completed"
    },
    "tags": []
   },
   "source": [
    "This is done using \"lm_robust\" command which unlike \"lm\" in the base command automatically does the correct Eicher-Huber-White standard errors, instead othe classical non-robus formula based on the homoscdedasticity command."
   ]
  },
  {
   "cell_type": "code",
   "execution_count": 4,
   "metadata": {
    "execution": {
     "iopub.execute_input": "2021-02-20T13:42:41.808584Z",
     "iopub.status.busy": "2021-02-20T13:42:41.806963Z",
     "iopub.status.idle": "2021-02-20T13:42:42.217752Z",
     "shell.execute_reply": "2021-02-20T13:42:42.215514Z"
    },
    "papermill": {
     "duration": 0.428084,
     "end_time": "2021-02-20T13:42:42.217973",
     "exception": false,
     "start_time": "2021-02-20T13:42:41.789889",
     "status": "completed"
    },
    "tags": []
   },
   "outputs": [
    {
     "name": "stderr",
     "output_type": "stream",
     "text": [
      "Loading required package: zoo\n",
      "\n",
      "\n",
      "Attaching package: ‘zoo’\n",
      "\n",
      "\n",
      "The following objects are masked from ‘package:base’:\n",
      "\n",
      "    as.Date, as.Date.numeric\n",
      "\n",
      "\n"
     ]
    },
    {
     "data": {
      "text/plain": [
       "\n",
       "t test of coefficients:\n",
       "\n",
       "                        Estimate  Std. Error t value  Pr(>|t|)    \n",
       "(Intercept)           0.32145725  0.16125607  1.9935 0.0462656 *  \n",
       "female                0.10423328  0.13624779  0.7650 0.4442914    \n",
       "black                 0.07164803  0.08288534  0.8644 0.3873969    \n",
       "othrace               0.02801517  0.40496815  0.0692 0.9448502    \n",
       "factor(dep)1         -0.07363340  0.20094637 -0.3664 0.7140574    \n",
       "factor(dep)2         -0.10854072  0.15754307 -0.6890 0.4908810    \n",
       "q2                   -0.02667937  0.16255836 -0.1641 0.8696419    \n",
       "q3                   -0.00567387  0.16218178 -0.0350 0.9720934    \n",
       "q4                    0.04334425  0.16233956  0.2670 0.7894821    \n",
       "q5                    0.09386458  0.16157184  0.5809 0.5613028    \n",
       "q6                   -0.22156423  0.15984049 -1.3862 0.1657604    \n",
       "agelt35              -0.10923976  0.13323486 -0.8199 0.4123101    \n",
       "agegt54              -0.43668630  0.13581268 -3.2154 0.0013111 ** \n",
       "durable              -0.12500967  0.17083793 -0.7317 0.4643590    \n",
       "lusd                  0.11428653  0.06824019  1.6748 0.0940422 .  \n",
       "husd                  0.09467997  0.07364116  1.2857 0.1986096    \n",
       "female:black          0.08886596  0.04381635  2.0281 0.0425983 *  \n",
       "female:othrace       -0.41350947  0.16481280 -2.5090 0.0121400 *  \n",
       "female:factor(dep)1   0.05547519  0.04647943  1.1935 0.2327135    \n",
       "female:factor(dep)2   0.04544801  0.04053454  1.1212 0.2622494    \n",
       "female:q2            -0.18880964  0.13587953 -1.3895 0.1647314    \n",
       "female:q3            -0.16526367  0.13565839 -1.2182 0.2231926    \n",
       "female:q4            -0.17632875  0.13530942 -1.3032 0.1925829    \n",
       "female:q5            -0.20321654  0.13480991 -1.5074 0.1317636    \n",
       "female:q6            -0.04271603  0.14234389 -0.3001 0.7641207    \n",
       "female:agelt35        0.07342181  0.03004676  2.4436 0.0145765 *  \n",
       "female:agegt54        0.02612867  0.05090915  0.5132 0.6078053    \n",
       "female:durable        0.01975687  0.04372711  0.4518 0.6514168    \n",
       "female:lusd           0.00206955  0.03395251  0.0610 0.9513982    \n",
       "female:husd           0.01178851  0.03747209  0.3146 0.7530827    \n",
       "black:factor(dep)1   -0.11726334  0.06797874 -1.7250 0.0845893 .  \n",
       "black:factor(dep)2   -0.02222434  0.06342353 -0.3504 0.7260446    \n",
       "black:q2             -0.03349395  0.08989631 -0.3726 0.7094737    \n",
       "black:q3             -0.19656696  0.08506268 -2.3108 0.0208818 *  \n",
       "black:q4             -0.12493576  0.08604499 -1.4520 0.1465694    \n",
       "black:q5             -0.20988793  0.08398490 -2.4991 0.0124822 *  \n",
       "black:agelt35         0.06226414  0.04512447  1.3798 0.1677004    \n",
       "black:agegt54         0.05126323  0.08453009  0.6064 0.5442439    \n",
       "black:durable         0.10475086  0.06615415  1.5834 0.1133854    \n",
       "black:lusd           -0.02103874  0.05600033 -0.3757 0.7071637    \n",
       "black:husd            0.24964245  0.16874707  1.4794 0.1390996    \n",
       "othrace:factor(dep)1 -0.85807661  0.33077992 -2.5941 0.0095115 ** \n",
       "othrace:factor(dep)2  0.24153715  0.13330391  1.8119 0.0700573 .  \n",
       "othrace:q2            0.43717264  0.34672729  1.2609 0.2074202    \n",
       "othrace:q3           -0.37343006  0.37701782 -0.9905 0.3219856    \n",
       "othrace:q4            0.41589086  0.32950089  1.2622 0.2069414    \n",
       "othrace:q5            0.00605385  0.31112921  0.0195 0.9844768    \n",
       "othrace:agelt35       0.31647921  0.18343682  1.7253 0.0845395 .  \n",
       "othrace:agegt54       0.30916352  0.15913988  1.9427 0.0521066 .  \n",
       "othrace:durable      -0.19077665  0.13757582 -1.3867 0.1655946    \n",
       "othrace:lusd         -0.09108976  0.20264053 -0.4495 0.6530804    \n",
       "othrace:husd          0.00516356  0.20312636  0.0254 0.9797206    \n",
       "factor(dep)1:q2       0.16575553  0.20084375  0.8253 0.4092430    \n",
       "factor(dep)2:q2       0.08749363  0.15663627  0.5586 0.5764745    \n",
       "factor(dep)1:q3       0.12098515  0.19967547  0.6059 0.5446028    \n",
       "factor(dep)2:q3       0.13964196  0.15680429  0.8905 0.3732138    \n",
       "factor(dep)1:q4       0.08476950  0.19909174  0.4258 0.6702857    \n",
       "factor(dep)2:q4       0.09099807  0.15685510  0.5801 0.5618457    \n",
       "factor(dep)1:q5       0.11045395  0.19829410  0.5570 0.5775381    \n",
       "factor(dep)2:q5       0.09599502  0.15542385  0.6176 0.5368449    \n",
       "factor(dep)1:q6       0.10069661  0.20903291  0.4817 0.6300216    \n",
       "factor(dep)2:q6       0.04840278  0.16392190  0.2953 0.7677926    \n",
       "factor(dep)1:agelt35 -0.07372986  0.04856221 -1.5183 0.1290132    \n",
       "factor(dep)2:agelt35 -0.02438958  0.03750210 -0.6504 0.5154946    \n",
       "factor(dep)1:agegt54 -0.08058890  0.06829342 -1.1800 0.2380409    \n",
       "factor(dep)2:agegt54  0.02804903  0.12779824  0.2195 0.8262859    \n",
       "factor(dep)1:durable -0.06027564  0.05959803 -1.0114 0.3118885    \n",
       "factor(dep)2:durable  0.12466452  0.05025495  2.4806 0.0131473 *  \n",
       "factor(dep)1:lusd     0.05896976  0.05246189  1.1240 0.2610461    \n",
       "factor(dep)2:lusd     0.05157515  0.04708540  1.0954 0.2734147    \n",
       "factor(dep)1:husd    -0.04332567  0.05587546 -0.7754 0.4381417    \n",
       "factor(dep)2:husd    -0.08820323  0.04775494 -1.8470 0.0648067 .  \n",
       "q2:agelt35            0.12754085  0.13321346  0.9574 0.3384031    \n",
       "q2:agegt54            0.52955745  0.13686983  3.8691 0.0001106 ***\n",
       "q2:durable            0.12611989  0.16953217  0.7439 0.4569544    \n",
       "q2:lusd              -0.07617774  0.07121471 -1.0697 0.2848100    \n",
       "q2:husd              -0.01882666  0.07542000 -0.2496 0.8028882    \n",
       "q3:agelt35            0.13059171  0.13296592  0.9821 0.3260764    \n",
       "q3:agegt54            0.47820240  0.13404885  3.5674 0.0003640 ***\n",
       "q3:durable            0.05420566  0.16940199  0.3200 0.7489950    \n",
       "q3:lusd              -0.05379374  0.06990174 -0.7696 0.4415960    \n",
       "q3:husd              -0.06007985  0.07486872 -0.8025 0.4223197    \n",
       "q4:agelt35            0.13100899  0.13279101  0.9866 0.3238962    \n",
       "q4:agegt54            0.54033014  0.13143961  4.1109 4.005e-05 ***\n",
       "q4:durable            0.09625171  0.16983764  0.5667 0.5709246    \n",
       "q4:lusd              -0.10342038  0.07052957 -1.4663 0.1426184    \n",
       "q4:husd              -0.17191877  0.07455451 -2.3059 0.0211543 *  \n",
       "q5:agelt35            0.07077473  0.13203088  0.5360 0.5919501    \n",
       "q5:agegt54            0.44377887  0.13056413  3.3989 0.0006818 ***\n",
       "q5:durable            0.07466571  0.16765628  0.4453 0.6560862    \n",
       "q5:lusd              -0.07611869  0.07005218 -1.0866 0.2772661    \n",
       "q5:husd              -0.16162391  0.07301750 -2.2135 0.0269085 *  \n",
       "q6:agelt35            0.17030213  0.13886226  1.2264 0.2201021    \n",
       "q6:agegt54            0.56552338  0.15041890  3.7597 0.0001721 ***\n",
       "q6:durable            0.25578701  0.17834228  1.4342 0.1515642    \n",
       "agelt35:durable       0.00948986  0.04062983  0.2336 0.8153294    \n",
       "agelt35:lusd         -0.02586155  0.03541632 -0.7302 0.4652926    \n",
       "agelt35:husd          0.03548765  0.03973732  0.8931 0.3718702    \n",
       "agegt54:durable      -0.06231416  0.06390387 -0.9751 0.3295462    \n",
       "agegt54:lusd         -0.03662895  0.05793021 -0.6323 0.5272235    \n",
       "agegt54:husd         -0.07421790  0.06125689 -1.2116 0.2257288    \n",
       "durable:lusd         -0.05517360  0.04342256 -1.2706 0.2039228    \n",
       "durable:husd         -0.00016918  0.05273588 -0.0032 0.9974404    \n",
       "---\n",
       "Signif. codes:  0 ‘***’ 0.001 ‘**’ 0.01 ‘*’ 0.05 ‘.’ 0.1 ‘ ’ 1\n"
      ]
     },
     "metadata": {},
     "output_type": "display_data"
    }
   ],
   "source": [
    "\n",
    "m <- lm(T4~(female+black+othrace+factor(dep)+q2+q3+q4+q5+q6+agelt35+agegt54+durable+lusd+husd)^2)\n",
    "library(lmtest)\n",
    "library(sandwich)\n",
    "coeftest(m, vcov = vcovHC(m, type=\"HC1\"))\n"
   ]
  },
  {
   "cell_type": "markdown",
   "metadata": {
    "papermill": {
     "duration": 0.02549,
     "end_time": "2021-02-20T13:42:42.269256",
     "exception": false,
     "start_time": "2021-02-20T13:42:42.243766",
     "status": "completed"
    },
    "tags": []
   },
   "source": [
    "We see that that even though this is a randomized experiment, balance conditions are failed."
   ]
  },
  {
   "cell_type": "markdown",
   "metadata": {
    "papermill": {
     "duration": 0.021046,
     "end_time": "2021-02-20T13:42:42.315674",
     "exception": false,
     "start_time": "2021-02-20T13:42:42.294628",
     "status": "completed"
    },
    "tags": []
   },
   "source": [
    "# Model Specification"
   ]
  },
  {
   "cell_type": "code",
   "execution_count": 5,
   "metadata": {
    "execution": {
     "iopub.execute_input": "2021-02-20T13:42:42.351202Z",
     "iopub.status.busy": "2021-02-20T13:42:42.350620Z",
     "iopub.status.idle": "2021-02-20T13:42:42.680257Z",
     "shell.execute_reply": "2021-02-20T13:42:42.677739Z"
    },
    "papermill": {
     "duration": 0.350081,
     "end_time": "2021-02-20T13:42:42.680497",
     "exception": false,
     "start_time": "2021-02-20T13:42:42.330416",
     "status": "completed"
    },
    "tags": []
   },
   "outputs": [
    {
     "name": "stdout",
     "output_type": "stream",
     "text": [
      "\n",
      "t test of coefficients:\n",
      "\n",
      "             Estimate Std. Error t value Pr(>|t|)    \n",
      "(Intercept)  2.056830   0.020955 98.1557  < 2e-16 ***\n",
      "T4TRUE      -0.085455   0.035856 -2.3833  0.01719 *  \n",
      "---\n",
      "Signif. codes:  0 ‘***’ 0.001 ‘**’ 0.01 ‘*’ 0.05 ‘.’ 0.1 ‘ ’ 1\n",
      "\n",
      "\n",
      "t test of coefficients:\n",
      "\n",
      "                       Estimate Std. Error t value  Pr(>|t|)    \n",
      "(Intercept)           2.6330806  0.3680995  7.1532 9.707e-13 ***\n",
      "T4TRUE               -0.0796801  0.0355909 -2.2388 0.0252143 *  \n",
      "female               -0.1146093  0.3163904 -0.3622 0.7171880    \n",
      "black                -0.8990265  0.2402463 -3.7421 0.0001845 ***\n",
      "othrace              -2.6269216  0.4541551 -5.7842 7.729e-09 ***\n",
      "factor(dep)1         -0.7196978  0.5812182 -1.2383 0.2156788    \n",
      "factor(dep)2         -0.0405584  0.3598395 -0.1127 0.9102631    \n",
      "q2                   -0.1596700  0.3704317 -0.4310 0.6664596    \n",
      "q3                   -0.5398906  0.3700794 -1.4589 0.1446691    \n",
      "q4                   -0.4333540  0.3711943 -1.1675 0.2430809    \n",
      "q5                   -0.3452411  0.3688695 -0.9359 0.3493474    \n",
      "q6                   -0.4936773  0.3711965 -1.3300 0.1835915    \n",
      "agelt35              -0.6258624  0.3075342 -2.0351 0.0418936 *  \n",
      "agegt54              -0.3613731  0.7123413 -0.5073 0.6119644    \n",
      "durable              -0.2792290  0.4915163 -0.5681 0.5699946    \n",
      "lusd                 -0.2228702  0.1872595 -1.1902 0.2340371    \n",
      "husd                 -0.1701852  0.2009770 -0.8468 0.3971531    \n",
      "female:black         -0.1549507  0.1219071 -1.2711 0.2037680    \n",
      "female:othrace        0.3102073  0.4235996  0.7323 0.4640122    \n",
      "female:factor(dep)1  -0.0278778  0.1175012 -0.2373 0.8124682    \n",
      "female:factor(dep)2   0.1481502  0.1028922  1.4399 0.1499700    \n",
      "female:q2            -0.0874102  0.3159348 -0.2767 0.7820437    \n",
      "female:q3             0.2048766  0.3157548  0.6488 0.5164669    \n",
      "female:q4             0.2731929  0.3155243  0.8658 0.3866207    \n",
      "female:q5             0.0611480  0.3147517  0.1943 0.8459693    \n",
      "female:q6             0.2872199  0.3383699  0.8488 0.3960143    \n",
      "female:agelt35        0.1263862  0.0771246  1.6387 0.1013333    \n",
      "female:agegt54        0.0399664  0.1273024  0.3139 0.7535731    \n",
      "female:durable        0.0680019  0.1098236  0.6192 0.5358179    \n",
      "female:lusd           0.0837401  0.0849409  0.9859 0.3242482    \n",
      "female:husd           0.0623186  0.0939899  0.6630 0.5073383    \n",
      "black:factor(dep)1    0.1574946  0.1944014  0.8102 0.4178917    \n",
      "black:factor(dep)2   -0.1038472  0.1830946 -0.5672 0.5706190    \n",
      "black:q2              0.4585250  0.2502346  1.8324 0.0669543 .  \n",
      "black:q3              0.4165852  0.2406748  1.7309 0.0835305 .  \n",
      "black:q4              0.5484541  0.2405233  2.2803 0.0226346 *  \n",
      "black:q5              0.7346046  0.2385727  3.0792 0.0020871 ** \n",
      "black:agelt35         0.0150577  0.1278921  0.1177 0.9062805    \n",
      "black:agegt54         0.4438236  0.2032818  2.1833 0.0290607 *  \n",
      "black:durable         0.2436432  0.1767895  1.3782 0.1682174    \n",
      "black:lusd            0.2909737  0.1516517  1.9187 0.0550796 .  \n",
      "black:husd            1.3148898  0.3375145  3.8958 9.915e-05 ***\n",
      "othrace:factor(dep)1  1.0735683  0.6412293  1.6742 0.0941471 .  \n",
      "othrace:factor(dep)2  0.0069864  0.4290751  0.0163 0.9870097    \n",
      "othrace:q2            1.7440567  0.4939140  3.5311 0.0004176 ***\n",
      "othrace:q3            1.3575029  0.6005228  2.2605 0.0238309 *  \n",
      "othrace:q4            1.4433098  0.5114574  2.8220 0.0047920 ** \n",
      "othrace:q5            1.4252414  0.5377240  2.6505 0.0080624 ** \n",
      "othrace:agelt35       1.1845483  0.3885957  3.0483 0.0023136 ** \n",
      "othrace:agegt54      -0.2219307  0.6946266 -0.3195 0.7493635    \n",
      "othrace:durable       1.6279730  0.3646743  4.4642 8.214e-06 ***\n",
      "othrace:lusd         -0.0706857  0.4614414 -0.1532 0.8782589    \n",
      "othrace:husd         -0.7714207  0.3511811 -2.1966 0.0280915 *  \n",
      "factor(dep)1:q2       0.6398160  0.5731436  1.1163 0.2643356    \n",
      "factor(dep)2:q2      -0.0444763  0.3582375 -0.1242 0.9011990    \n",
      "factor(dep)1:q3       0.6984404  0.5738771  1.2171 0.2236405    \n",
      "factor(dep)2:q3      -0.0295370  0.3591136 -0.0822 0.9344515    \n",
      "factor(dep)1:q4       0.5041391  0.5735998  0.8789 0.3794957    \n",
      "factor(dep)2:q4       0.1390476  0.3613911  0.3848 0.7004342    \n",
      "factor(dep)1:q5       0.5277650  0.5710098  0.9243 0.3553924    \n",
      "factor(dep)2:q5      -0.1696878  0.3594357 -0.4721 0.6368797    \n",
      "factor(dep)1:q6       1.0950006  0.6028539  1.8164 0.0693749 .  \n",
      "factor(dep)2:q6       0.3408681  0.3877331  0.8791 0.3793727    \n",
      "factor(dep)1:agelt35  0.0745954  0.1218982  0.6119 0.5405997    \n",
      "factor(dep)2:agelt35  0.0332783  0.0943357  0.3528 0.7242796    \n",
      "factor(dep)1:agegt54  0.0724984  0.1689300  0.4292 0.6678233    \n",
      "factor(dep)2:agegt54  0.1566880  0.3685784  0.4251 0.6707716    \n",
      "factor(dep)1:durable  0.2945693  0.1488177  1.9794 0.0478261 *  \n",
      "factor(dep)2:durable  0.0454331  0.1197948  0.3793 0.7045127    \n",
      "factor(dep)1:lusd     0.1500114  0.1282812  1.1694 0.2423003    \n",
      "factor(dep)2:lusd     0.1825593  0.1129078  1.6169 0.1059655    \n",
      "factor(dep)1:husd     0.0813778  0.1386621  0.5869 0.5573117    \n",
      "factor(dep)2:husd     0.1522329  0.1210549  1.2576 0.2086125    \n",
      "q2:agelt35            0.4302198  0.3070259  1.4012 0.1612016    \n",
      "q2:agegt54            0.6712185  0.7087949  0.9470 0.3436919    \n",
      "q2:durable           -0.1064128  0.4876416 -0.2182 0.8272671    \n",
      "q2:lusd              -0.0427925  0.1895762 -0.2257 0.8214230    \n",
      "q2:husd              -0.0416684  0.1968781 -0.2116 0.8323923    \n",
      "q3:agelt35            0.4544980  0.3073864  1.4786 0.1393134    \n",
      "q3:agegt54            0.8660082  0.7091553  1.2212 0.2220745    \n",
      "q3:durable            0.2449985  0.4871951  0.5029 0.6150739    \n",
      "q3:lusd               0.0858674  0.1872141  0.4587 0.6464991    \n",
      "q3:husd               0.1703037  0.1968349  0.8652 0.3869646    \n",
      "q4:agelt35            0.3882234  0.3073238  1.2632 0.2065623    \n",
      "q4:agegt54            0.5553344  0.7074422  0.7850 0.4324972    \n",
      "q4:durable            0.2173382  0.4911082  0.4425 0.6581129    \n",
      "q4:lusd              -0.0950058  0.1883029 -0.5045 0.6139061    \n",
      "q4:husd              -0.1206083  0.1991519 -0.6056 0.5448017    \n",
      "q5:agelt35            0.2779587  0.3060249  0.9083 0.3637700    \n",
      "q5:agegt54            0.4514516  0.7061981  0.6393 0.5226762    \n",
      "q5:durable            0.2881290  0.4872177  0.5914 0.5542950    \n",
      "q5:lusd              -0.1040223  0.1890812 -0.5501 0.5822434    \n",
      "q5:husd              -0.1523360  0.1969199 -0.7736 0.4392077    \n",
      "q6:agelt35            0.3381108  0.3327264  1.0162 0.3095917    \n",
      "q6:agegt54            0.9493469  0.7289766  1.3023 0.1928736    \n",
      "q6:durable            0.4091672  0.5081837  0.8052 0.4207679    \n",
      "agelt35:durable       0.0252788  0.1015065  0.2490 0.8033430    \n",
      "agelt35:lusd         -0.0652757  0.0883181 -0.7391 0.4598825    \n",
      "agelt35:husd          0.0577119  0.1018421  0.5667 0.5709568    \n",
      "agegt54:durable       0.0319891  0.1658304  0.1929 0.8470434    \n",
      "agegt54:lusd         -0.1481624  0.1374421 -1.0780 0.2810863    \n",
      "agegt54:husd         -0.3015467  0.1537536 -1.9612 0.0499073 *  \n",
      "durable:lusd          0.1157832  0.1100547  1.0521 0.2928269    \n",
      "durable:husd          0.2376411  0.1290104  1.8420 0.0655298 .  \n",
      "---\n",
      "Signif. codes:  0 ‘***’ 0.001 ‘**’ 0.01 ‘*’ 0.05 ‘.’ 0.1 ‘ ’ 1\n",
      "\n"
     ]
    }
   ],
   "source": [
    "# model specifications\n",
    "\n",
    "\n",
    "# no adjustment (2-sample approach)\n",
    "formula_cl <- log(inuidur1)~T4\n",
    "\n",
    "# adding controls\n",
    "formula_cra <- log(inuidur1)~T4+ (female+black+othrace+factor(dep)+q2+q3+q4+q5+q6+agelt35+agegt54+durable+lusd+husd)^2\n",
    "# Omitted dummies: q1, nondurable, muld\n",
    "\n",
    "\n",
    "ols.cl <- lm(formula_cl)\n",
    "ols.cra <- lm(formula_cra)\n",
    "\n",
    "\n",
    "ols.cl = coeftest(ols.cl, vcov = vcovHC(ols.cl, type=\"HC1\"))\n",
    "ols.cra = coeftest(ols.cra, vcov = vcovHC(ols.cra, type=\"HC1\"))\n",
    "\n",
    "print(ols.cl)\n",
    "print(ols.cra)\n",
    "\n"
   ]
  },
  {
   "cell_type": "markdown",
   "metadata": {
    "papermill": {
     "duration": 0.02768,
     "end_time": "2021-02-20T13:42:42.735966",
     "exception": false,
     "start_time": "2021-02-20T13:42:42.708286",
     "status": "completed"
    },
    "tags": []
   },
   "source": [
    "The interactive specificaiton corresponds to the approach introduced in Lin (2013)."
   ]
  },
  {
   "cell_type": "code",
   "execution_count": 6,
   "metadata": {
    "execution": {
     "iopub.execute_input": "2021-02-20T13:42:42.787957Z",
     "iopub.status.busy": "2021-02-20T13:42:42.787434Z",
     "iopub.status.idle": "2021-02-20T13:42:43.662431Z",
     "shell.execute_reply": "2021-02-20T13:42:43.659030Z"
    },
    "papermill": {
     "duration": 0.898452,
     "end_time": "2021-02-20T13:42:43.662684",
     "exception": false,
     "start_time": "2021-02-20T13:42:42.764232",
     "status": "completed"
    },
    "tags": []
   },
   "outputs": [
    {
     "data": {
      "text/html": [
       "<style>\n",
       ".list-inline {list-style: none; margin:0; padding: 0}\n",
       ".list-inline>li {display: inline-block}\n",
       ".list-inline>li:not(:last-child)::after {content: \"\\00b7\"; padding: 0 .5ex}\n",
       "</style>\n",
       "<ol class=list-inline><li>5099</li><li>119</li></ol>\n"
      ],
      "text/latex": [
       "\\begin{enumerate*}\n",
       "\\item 5099\n",
       "\\item 119\n",
       "\\end{enumerate*}\n"
      ],
      "text/markdown": [
       "1. 5099\n",
       "2. 119\n",
       "\n",
       "\n"
      ],
      "text/plain": [
       "[1] 5099  119"
      ]
     },
     "metadata": {},
     "output_type": "display_data"
    },
    {
     "name": "stdout",
     "output_type": "stream",
     "text": [
      "\n",
      "t test of coefficients:\n",
      "\n",
      "                               Estimate Std. Error t value  Pr(>|t|)    \n",
      "(Intercept)                   2.0576131  0.0207724 99.0553 < 2.2e-16 ***\n",
      "T4TRUE                       -0.0755005  0.0356049 -2.1205 0.0340132 *  \n",
      "Xfemale                      -0.6662823  0.4090214 -1.6290 0.1033843    \n",
      "Xblack                       -0.8634862  0.2976698 -2.9008 0.0037385 ** \n",
      "Xothrace                     -3.8176881  0.9389101 -4.0661 4.856e-05 ***\n",
      "Xfactor(dep)1                 0.0359264  0.6492658  0.0553 0.9558747    \n",
      "Xfactor(dep)2                 0.2117556  0.4523267  0.4681 0.6397000    \n",
      "Xq2                          -0.2546436  0.4564528 -0.5579 0.5769552    \n",
      "Xq3                          -0.6212326  0.4560767 -1.3621 0.1732217    \n",
      "Xq4                          -0.4799269  0.4572363 -1.0496 0.2939421    \n",
      "Xq5                          -0.3718675  0.4549983 -0.8173 0.4138001    \n",
      "Xq6                          -0.6770474  0.4532559 -1.4937 0.1353075    \n",
      "Xagelt35                     -0.6777054  0.4103686 -1.6515 0.0987098 .  \n",
      "Xagegt54                     -0.3041092  0.7023228 -0.4330 0.6650303    \n",
      "Xdurable                     -0.8380082  0.5978075 -1.4018 0.1610376    \n",
      "Xlusd                        -0.0994890  0.2284832 -0.4354 0.6632677    \n",
      "Xhusd                        -0.0626419  0.2354860 -0.2660 0.7902417    \n",
      "Xfemale:black                -0.2154799  0.1508795 -1.4282 0.1533099    \n",
      "Xfemale:othrace               0.5994387  0.5639427  1.0629 0.2878604    \n",
      "Xfemale:factor(dep)1         -0.1734245  0.1422299 -1.2193 0.2227795    \n",
      "Xfemale:factor(dep)2          0.2166417  0.1266455  1.7106 0.0872155 .  \n",
      "Xfemale:q2                    0.3918886  0.4076721  0.9613 0.3364571    \n",
      "Xfemale:q3                    0.6850391  0.4073378  1.6817 0.0926817 .  \n",
      "Xfemale:q4                    0.7213679  0.4071442  1.7718 0.0764941 .  \n",
      "Xfemale:q5                    0.5657763  0.4057729  1.3943 0.1632850    \n",
      "Xfemale:q6                    0.9081697  0.4314728  2.1048 0.0353584 *  \n",
      "Xfemale:agelt35               0.1700754  0.0952978  1.7847 0.0743761 .  \n",
      "Xfemale:agegt54               0.2357510  0.1605168  1.4687 0.1419785    \n",
      "Xfemale:durable               0.0974132  0.1379539  0.7061 0.4801419    \n",
      "Xfemale:lusd                  0.0720077  0.1067810  0.6743 0.5001211    \n",
      "Xfemale:husd                  0.0609671  0.1167304  0.5223 0.6014921    \n",
      "Xblack:factor(dep)1           0.1090114  0.2290403  0.4759 0.6341323    \n",
      "Xblack:factor(dep)2          -0.2006964  0.2290137 -0.8764 0.3808822    \n",
      "Xblack:q2                     0.4266974  0.3214584  1.3274 0.1844450    \n",
      "Xblack:q3                     0.3299448  0.3037315  1.0863 0.2773979    \n",
      "Xblack:q4                     0.5443145  0.3112808  1.7486 0.0804179 .  \n",
      "Xblack:q5                     0.6596567  0.3007871  2.1931 0.0283469 *  \n",
      "Xblack:agelt35                0.0829816  0.1587253  0.5228 0.6011373    \n",
      "Xblack:agegt54                0.4229716  0.2553713  1.6563 0.0977251 .  \n",
      "Xblack:durable                0.4681489  0.2279823  2.0534 0.0400825 *  \n",
      "Xblack:lusd                   0.3086087  0.1847969  1.6700 0.0949856 .  \n",
      "Xblack:husd                   0.5498228  0.6612247  0.8315 0.4057195    \n",
      "Xothrace:factor(dep)1         2.5201927  1.8595284  1.3553 0.1753890    \n",
      "Xothrace:factor(dep)2         1.1888567  0.5745637  2.0691 0.0385847 *  \n",
      "Xothrace:q2                   2.0825791  0.6098579  3.4149 0.0006433 ***\n",
      "Xothrace:q3                   0.9373310  0.6618231  1.4163 0.1567553    \n",
      "Xothrace:q4                   3.8597060  0.8826603  4.3728 1.252e-05 ***\n",
      "Xothrace:q5                   0.9711789  0.5539044  1.7533 0.0796075 .  \n",
      "Xothrace:agelt35              2.2479921  0.9176578  2.4497 0.0143321 *  \n",
      "Xothrace:agegt54              0.8197664  0.9032981  0.9075 0.3641734    \n",
      "Xothrace:durable              1.7505609  0.3714006  4.7134 2.504e-06 ***\n",
      "Xothrace:lusd                -0.6944472  0.4964383 -1.3989 0.1619186    \n",
      "Xothrace:husd                -0.1798006  0.6139360 -0.2929 0.7696375    \n",
      "Xfactor(dep)1:q2              0.2338980  0.6431170  0.3637 0.7161019    \n",
      "Xfactor(dep)2:q2             -0.2176777  0.4492642 -0.4845 0.6280382    \n",
      "Xfactor(dep)1:q3              0.1543408  0.6452907  0.2392 0.8109759    \n",
      "Xfactor(dep)2:q3             -0.2544863  0.4512921 -0.5639 0.5728439    \n",
      "Xfactor(dep)1:q4             -0.0239012  0.6438726 -0.0371 0.9703900    \n",
      "Xfactor(dep)2:q4             -0.1619010  0.4521935 -0.3580 0.7203327    \n",
      "Xfactor(dep)1:q5              0.1395606  0.6398436  0.2181 0.8273473    \n",
      "Xfactor(dep)2:q5             -0.5626408  0.4499601 -1.2504 0.2112046    \n",
      "Xfactor(dep)1:q6              0.4833394  0.6819766  0.7087 0.4785238    \n",
      "Xfactor(dep)2:q6             -0.0048033  0.4784717 -0.0100 0.9919908    \n",
      "Xfactor(dep)1:agelt35         0.0507982  0.1496526  0.3394 0.7342924    \n",
      "Xfactor(dep)2:agelt35         0.1192418  0.1165187  1.0234 0.3061834    \n",
      "Xfactor(dep)1:agegt54         0.0366384  0.2059312  0.1779 0.8587966    \n",
      "Xfactor(dep)2:agegt54         0.2231138  0.4217691  0.5290 0.5968329    \n",
      "Xfactor(dep)1:durable         0.3397110  0.1846058  1.8402 0.0657999 .  \n",
      "Xfactor(dep)2:durable         0.1146589  0.1535646  0.7466 0.4553110    \n",
      "Xfactor(dep)1:lusd           -0.2603558  0.1622010 -1.6051 0.1085269    \n",
      "Xfactor(dep)2:lusd            0.1150924  0.1402213  0.8208 0.4118053    \n",
      "Xfactor(dep)1:husd           -0.0427975  0.1661665 -0.2576 0.7967589    \n",
      "Xfactor(dep)2:husd            0.0180150  0.1514754  0.1189 0.9053356    \n",
      "Xq2:agelt35                   0.5007384  0.4106983  1.2192 0.2228132    \n",
      "Xq2:agegt54                   0.4321562  0.6996084  0.6177 0.5367942    \n",
      "Xq2:durable                   0.2615077  0.5946671  0.4398 0.6601341    \n",
      "Xq2:lusd                     -0.0675213  0.2314571 -0.2917 0.7705110    \n",
      "Xq2:husd                     -0.1818392  0.2342604 -0.7762 0.4376525    \n",
      "Xq3:agelt35                   0.5137183  0.4108088  1.2505 0.2111751    \n",
      "Xq3:agegt54                   0.7245598  0.6972349  1.0392 0.2987676    \n",
      "Xq3:durable                   0.7223769  0.5932561  1.2176 0.2234166    \n",
      "Xq3:lusd                     -0.0013615  0.2306899 -0.0059 0.9952914    \n",
      "Xq3:husd                      0.0989285  0.2321770  0.4261 0.6700604    \n",
      "Xq4:agelt35                   0.4048006  0.4107500  0.9855 0.3244195    \n",
      "Xq4:agegt54                   0.2469008  0.6953627  0.3551 0.7225542    \n",
      "Xq4:durable                   0.5937668  0.5993915  0.9906 0.3219220    \n",
      "Xq4:lusd                     -0.1685841  0.2329311 -0.7238 0.4692533    \n",
      "Xq4:husd                     -0.1450618  0.2354023 -0.6162 0.5377717    \n",
      "Xq5:agelt35                   0.2160041  0.4090996  0.5280 0.5975241    \n",
      "Xq5:agegt54                   0.0996302  0.6933259  0.1437 0.8857441    \n",
      "Xq5:durable                   0.8536110  0.5917475  1.4425 0.1492181    \n",
      "Xq5:lusd                     -0.2592947  0.2345723 -1.1054 0.2690435    \n",
      "Xq5:husd                     -0.1735647  0.2321677 -0.7476 0.4547474    \n",
      "Xq6:agelt35                   0.3823616  0.4353024  0.8784 0.3797797    \n",
      "Xq6:agegt54                   0.8362035  0.7295655  1.1462 0.2517823    \n",
      "Xq6:durable                   1.0289246  0.6197491  1.6602 0.0969327 .  \n",
      "Xagelt35:durable             -0.0026919  0.1258734 -0.0214 0.9829388    \n",
      "Xagelt35:lusd                -0.0573760  0.1095767 -0.5236 0.6005700    \n",
      "Xagelt35:husd                 0.0545333  0.1259022  0.4331 0.6649320    \n",
      "Xagegt54:durable             -0.1239369  0.2078664 -0.5962 0.5510469    \n",
      "Xagegt54:lusd                 0.0912453  0.1761141  0.5181 0.6044094    \n",
      "Xagegt54:husd                -0.3145573  0.1897250 -1.6580 0.0973886 .  \n",
      "Xdurable:lusd                 0.2633733  0.1381244  1.9068 0.0566070 .  \n",
      "Xdurable:husd                 0.3137941  0.1585604  1.9790 0.0478697 *  \n",
      "T4TRUE:Xfemale                1.5687241  0.6449717  2.4322 0.0150415 *  \n",
      "T4TRUE:Xblack                -0.1680715  0.5271755 -0.3188 0.7498803    \n",
      "T4TRUE:Xothrace               1.5323391  1.0097200  1.5176 0.1291828    \n",
      "T4TRUE:Xfactor(dep)1         -2.3329622  1.0175682 -2.2927 0.0219084 *  \n",
      "T4TRUE:Xfactor(dep)2         -0.5623344  0.7088884 -0.7933 0.4276635    \n",
      "T4TRUE:Xq2                    0.3434241  0.8635560  0.3977 0.6908790    \n",
      "T4TRUE:Xq3                    0.2923838  0.8624549  0.3390 0.7346142    \n",
      "T4TRUE:Xq4                    0.1763172  0.8636186  0.2042 0.8382362    \n",
      "T4TRUE:Xq5                    0.1042954  0.8595077  0.1213 0.9034242    \n",
      "T4TRUE:Xq6                    0.5963439  0.8828270  0.6755 0.4993942    \n",
      "T4TRUE:Xagelt35               0.1837329  0.6541905  0.2809 0.7788332    \n",
      "T4TRUE:Xagegt54               0.2266222  0.5536738  0.4093 0.6823327    \n",
      "T4TRUE:Xdurable               1.1588701  0.8030028  1.4432 0.1490364    \n",
      "T4TRUE:Xlusd                 -0.4531538  0.4212049 -1.0759 0.2820468    \n",
      "T4TRUE:Xhusd                 -0.4467484  0.4730512 -0.9444 0.3450131    \n",
      "T4TRUE:Xfemale:black          0.1380547  0.2614215  0.5281 0.5974591    \n",
      "T4TRUE:Xfemale:othrace       -0.5586530  0.7723319 -0.7233 0.4695099    \n",
      "T4TRUE:Xfemale:factor(dep)1   0.3960939  0.2435064  1.6266 0.1038809    \n",
      "T4TRUE:Xfemale:factor(dep)2  -0.1082247  0.2200527 -0.4918 0.6228738    \n",
      "T4TRUE:Xfemale:q2            -1.3293478  0.6382078 -2.0829 0.0373086 *  \n",
      "T4TRUE:Xfemale:q3            -1.3338819  0.6384536 -2.0892 0.0367377 *  \n",
      "T4TRUE:Xfemale:q4            -1.2680867  0.6393946 -1.9833 0.0473940 *  \n",
      "T4TRUE:Xfemale:q5            -1.4117762  0.6366892 -2.2174 0.0266435 *  \n",
      "T4TRUE:Xfemale:q6            -1.7085425  0.7024859 -2.4321 0.0150456 *  \n",
      "T4TRUE:Xfemale:agelt35       -0.0888114  0.1659011 -0.5353 0.5924480    \n",
      "T4TRUE:Xfemale:agegt54       -0.4766781  0.2703806 -1.7630 0.0779646 .  \n",
      "T4TRUE:Xfemale:durable       -0.0767000  0.2431214 -0.3155 0.7524104    \n",
      "T4TRUE:Xfemale:lusd          -0.0369075  0.1810235 -0.2039 0.8384537    \n",
      "T4TRUE:Xfemale:husd          -0.1521181  0.1989156 -0.7647 0.4444651    \n",
      "T4TRUE:Xblack:factor(dep)1    0.1903584  0.4425781  0.4301 0.6671327    \n",
      "T4TRUE:Xblack:factor(dep)2    0.2897821  0.3879140  0.7470 0.4550833    \n",
      "T4TRUE:Xblack:q2              0.1490358  0.5331513  0.2795 0.7798441    \n",
      "T4TRUE:Xblack:q3              0.3089349  0.5207622  0.5932 0.5530506    \n",
      "T4TRUE:Xblack:q4              0.0613923  0.5075250  0.1210 0.9037245    \n",
      "T4TRUE:Xblack:q5              0.3031430  0.5178468  0.5854 0.5583116    \n",
      "T4TRUE:Xblack:agelt35        -0.1701310  0.2766315 -0.6150 0.5385770    \n",
      "T4TRUE:Xblack:agegt54         0.1066454  0.4236147  0.2518 0.8012441    \n",
      "T4TRUE:Xblack:durable        -0.7329320  0.3828037 -1.9146 0.0555964 .  \n",
      "T4TRUE:Xblack:lusd            0.0108045  0.3214851  0.0336 0.9731910    \n",
      "T4TRUE:Xblack:husd            1.3639338  0.7179872  1.8997 0.0575361 .  \n",
      "T4TRUE:Xothrace:factor(dep)2 -1.4019754  0.6970823 -2.0112 0.0443585 *  \n",
      "T4TRUE:Xothrace:q2           -1.1358500  0.9189862 -1.2360 0.2165247    \n",
      "T4TRUE:Xothrace:q3            1.0393350  1.1221051  0.9262 0.3543686    \n",
      "T4TRUE:Xothrace:q4           -3.7042056  1.0891156 -3.4011 0.0006765 ***\n",
      "T4TRUE:Xothrace:q5            0.5951156  0.9570329  0.6218 0.5340800    \n",
      "T4TRUE:Xothrace:agelt35      -0.7748627  1.2326667 -0.6286 0.5296358    \n",
      "T4TRUE:Xothrace:agegt54      -0.5700470  1.4024341 -0.4065 0.6844153    \n",
      "T4TRUE:Xothrace:durable       0.3781386  1.0194518  0.3709 0.7107106    \n",
      "T4TRUE:Xothrace:lusd          1.2125172  0.6393274  1.8966 0.0579460 .  \n",
      "T4TRUE:Xfactor(dep)1:q2       1.4338668  1.0038969  1.4283 0.1532691    \n",
      "T4TRUE:Xfactor(dep)2:q2       0.2254685  0.7102716  0.3174 0.7509234    \n",
      "T4TRUE:Xfactor(dep)1:q3       1.7204643  1.0016580  1.7176 0.0859298 .  \n",
      "T4TRUE:Xfactor(dep)2:q3       0.4410416  0.7075852  0.6233 0.5331130    \n",
      "T4TRUE:Xfactor(dep)1:q4       1.6610489  1.0046747  1.6533 0.0983298 .  \n",
      "T4TRUE:Xfactor(dep)2:q4       0.7074711  0.7144576  0.9902 0.3221149    \n",
      "T4TRUE:Xfactor(dep)1:q5       1.1549997  0.9965034  1.1591 0.2464913    \n",
      "T4TRUE:Xfactor(dep)2:q5       0.9001462  0.7111195  1.2658 0.2056393    \n",
      "T4TRUE:Xfactor(dep)1:q6       1.9447243  1.0936196  1.7782 0.0754256 .  \n",
      "T4TRUE:Xfactor(dep)2:q6       0.9842411  0.7949072  1.2382 0.2157073    \n",
      "T4TRUE:Xfactor(dep)1:agelt35  0.0375954  0.2508437  0.1499 0.8808687    \n",
      "T4TRUE:Xfactor(dep)2:agelt35 -0.2680419  0.2039740 -1.3141 0.1888747    \n",
      "T4TRUE:Xfactor(dep)1:agegt54  0.3309752  0.3511847  0.9425 0.3460071    \n",
      "T4TRUE:Xfactor(dep)2:agegt54 -0.3165330  0.6347516 -0.4987 0.6180327    \n",
      "T4TRUE:Xfactor(dep)1:durable -0.3935842  0.3488170 -1.1283 0.2592316    \n",
      "T4TRUE:Xfactor(dep)2:durable -0.2343620  0.2592717 -0.9039 0.3660800    \n",
      "T4TRUE:Xfactor(dep)1:lusd     1.1350161  0.2591824  4.3792 1.216e-05 ***\n",
      "T4TRUE:Xfactor(dep)2:lusd     0.1783376  0.2390640  0.7460 0.4557136    \n",
      "T4TRUE:Xfactor(dep)1:husd     0.3741178  0.2870855  1.3032 0.1925820    \n",
      "T4TRUE:Xfactor(dep)2:husd     0.5146011  0.2562320  2.0083 0.0446619 *  \n",
      "T4TRUE:Xq2:agelt35           -0.3016655  0.6517732 -0.4628 0.6435010    \n",
      "T4TRUE:Xq2:agegt54            0.1146393  0.5672954  0.2021 0.8398622    \n",
      "T4TRUE:Xq2:durable           -0.5168275  0.7780445 -0.6643 0.5065522    \n",
      "T4TRUE:Xq2:lusd               0.1657733  0.4309371  0.3847 0.7004905    \n",
      "T4TRUE:Xq2:husd               0.5322576  0.4617869  1.1526 0.2491291    \n",
      "T4TRUE:Xq3:agelt35           -0.2256636  0.6520806 -0.3461 0.7293072    \n",
      "T4TRUE:Xq3:agegt54           -0.1937229  0.5659725 -0.3423 0.7321525    \n",
      "T4TRUE:Xq3:durable           -0.8490334  0.7822032 -1.0854 0.2777810    \n",
      "T4TRUE:Xq3:lusd               0.3147193  0.4225769  0.7448 0.4564512    \n",
      "T4TRUE:Xq3:husd               0.3113014  0.4634820  0.6717 0.5018331    \n",
      "T4TRUE:Xq4:agelt35           -0.1347930  0.6512222 -0.2070 0.8360305    \n",
      "T4TRUE:Xq4:agegt54            0.3529137  0.5502729  0.6413 0.5213299    \n",
      "T4TRUE:Xq4:durable           -0.6280831  0.7948229 -0.7902 0.4294389    \n",
      "T4TRUE:Xq4:lusd               0.3023492  0.4223630  0.7159 0.4741172    \n",
      "T4TRUE:Xq4:husd               0.3028765  0.4690497  0.6457 0.5184885    \n",
      "T4TRUE:Xq5:agelt35            0.0969516  0.6493474  0.1493 0.8813181    \n",
      "T4TRUE:Xq5:agegt54            0.4822714  0.5557568  0.8678 0.3855605    \n",
      "T4TRUE:Xq5:durable           -1.2396075  0.7855332 -1.5780 0.1146197    \n",
      "T4TRUE:Xq5:lusd               0.6158451  0.4260090  1.4456 0.1483492    \n",
      "T4TRUE:Xq5:husd               0.2946255  0.4633891  0.6358 0.5249327    \n",
      "T4TRUE:Xq6:agelt35           -0.0010440  0.7295168 -0.0014 0.9988582    \n",
      "T4TRUE:Xq6:durable           -1.3652498  0.8496439 -1.6068 0.1081519    \n",
      "T4TRUE:Xagelt35:durable       0.1439485  0.2229223  0.6457 0.5184820    \n",
      "T4TRUE:Xagelt35:lusd         -0.0138601  0.1899414 -0.0730 0.9418328    \n",
      "T4TRUE:Xagelt35:husd          0.0294056  0.2174912  0.1352 0.8924564    \n",
      "T4TRUE:Xagegt54:durable       0.5449316  0.3430590  1.5884 0.1122495    \n",
      "T4TRUE:Xagegt54:lusd         -0.5793615  0.2877536 -2.0134 0.0441278 *  \n",
      "T4TRUE:Xagegt54:husd          0.1910486  0.3277012  0.5830 0.5599226    \n",
      "T4TRUE:Xdurable:lusd         -0.3744395  0.2400369 -1.5599 0.1188423    \n",
      "T4TRUE:Xdurable:husd         -0.3381096  0.2774443 -1.2187 0.2230328    \n",
      "---\n",
      "Signif. codes:  0 ‘***’ 0.001 ‘**’ 0.01 ‘*’ 0.05 ‘.’ 0.1 ‘ ’ 1\n",
      "\n"
     ]
    }
   ],
   "source": [
    "\n",
    "#interactive regression model;\n",
    "\n",
    "X = model.matrix (~ (female+black+othrace+factor(dep)+q2+q3+q4+q5+q6+agelt35+agegt54+durable+lusd+husd)^2)[,-1]\n",
    "dim(X)\n",
    "demean<- function(x){ x - mean(x)}\n",
    "X = apply(X, 2, demean)\n",
    "\n",
    "ols.ira = lm(log(inuidur1) ~ T4*X) \n",
    "ols.ira= coeftest(ols.ira, vcov = vcovHC(ols.ira, type=\"HC1\"))\n",
    "print(ols.ira)\n",
    "\n",
    "\n"
   ]
  },
  {
   "cell_type": "markdown",
   "metadata": {
    "papermill": {
     "duration": 0.030243,
     "end_time": "2021-02-20T13:42:43.724231",
     "exception": false,
     "start_time": "2021-02-20T13:42:43.693988",
     "status": "completed"
    },
    "tags": []
   },
   "source": [
    "Next we try out partialling out with lasso"
   ]
  },
  {
   "cell_type": "code",
   "execution_count": 7,
   "metadata": {
    "execution": {
     "iopub.execute_input": "2021-02-20T13:42:43.774524Z",
     "iopub.status.busy": "2021-02-20T13:42:43.773643Z",
     "iopub.status.idle": "2021-02-20T13:42:45.044886Z",
     "shell.execute_reply": "2021-02-20T13:42:45.043005Z"
    },
    "papermill": {
     "duration": 1.29547,
     "end_time": "2021-02-20T13:42:45.045172",
     "exception": false,
     "start_time": "2021-02-20T13:42:43.749702",
     "status": "completed"
    },
    "tags": []
   },
   "outputs": [
    {
     "name": "stdout",
     "output_type": "stream",
     "text": [
      "[1] \"Estimates and significance testing of the effect of target variables\"\n",
      "   Estimate. Std. Error t value Pr(>|t|)  \n",
      "T4  -0.07889    0.03555  -2.219   0.0265 *\n",
      "---\n",
      "Signif. codes:  0 ‘***’ 0.001 ‘**’ 0.01 ‘*’ 0.05 ‘.’ 0.1 ‘ ’ 1\n",
      "\n",
      "\n"
     ]
    }
   ],
   "source": [
    "library(hdm)\n",
    "\n",
    "T4 = demean(T4)\n",
    "\n",
    "DX = model.matrix(~T4*X)[,-1]\n",
    "\n",
    "rlasso.ira = summary(rlassoEffects(DX, log(inuidur1), index = 1))\n",
    "\n",
    "\n",
    "print(rlasso.ira)\n",
    "\n"
   ]
  },
  {
   "cell_type": "markdown",
   "metadata": {
    "papermill": {
     "duration": 0.030965,
     "end_time": "2021-02-20T13:42:45.107753",
     "exception": false,
     "start_time": "2021-02-20T13:42:45.076788",
     "status": "completed"
    },
    "tags": []
   },
   "source": [
    "### Results"
   ]
  },
  {
   "cell_type": "code",
   "execution_count": 8,
   "metadata": {
    "execution": {
     "iopub.execute_input": "2021-02-20T13:42:45.149961Z",
     "iopub.status.busy": "2021-02-20T13:42:45.149392Z",
     "iopub.status.idle": "2021-02-20T13:42:45.171719Z",
     "shell.execute_reply": "2021-02-20T13:42:45.170654Z"
    },
    "papermill": {
     "duration": 0.045792,
     "end_time": "2021-02-20T13:42:45.171860",
     "exception": false,
     "start_time": "2021-02-20T13:42:45.126068",
     "status": "completed"
    },
    "tags": []
   },
   "outputs": [
    {
     "name": "stdout",
     "output_type": "stream",
     "text": [
      " 'coeftest' num [1:203, 1:4] 2.0576 -0.0755 -0.6663 -0.8635 -3.8177 ...\n",
      " - attr(*, \"dimnames\")=List of 2\n",
      "  ..$ : chr [1:203] \"(Intercept)\" \"T4TRUE\" \"Xfemale\" \"Xblack\" ...\n",
      "  ..$ : chr [1:4] \"Estimate\" \"Std. Error\" \"t value\" \"Pr(>|t|)\"\n",
      " - attr(*, \"method\")= chr \"t test of coefficients\"\n",
      " - attr(*, \"df\")= int 4896\n",
      " - attr(*, \"nobs\")= int 5099\n",
      " - attr(*, \"logLik\")=Class 'logLik' : -8016 (df=204)\n"
     ]
    },
    {
     "data": {
      "text/html": [
       "-0.0755005494164907"
      ],
      "text/latex": [
       "-0.0755005494164907"
      ],
      "text/markdown": [
       "-0.0755005494164907"
      ],
      "text/plain": [
       "[1] -0.07550055"
      ]
     },
     "metadata": {},
     "output_type": "display_data"
    }
   ],
   "source": [
    "str(ols.ira)\n",
    "ols.ira[2,1]"
   ]
  },
  {
   "cell_type": "code",
   "execution_count": 9,
   "metadata": {
    "execution": {
     "iopub.execute_input": "2021-02-20T13:42:45.214919Z",
     "iopub.status.busy": "2021-02-20T13:42:45.213709Z",
     "iopub.status.idle": "2021-02-20T13:42:45.304637Z",
     "shell.execute_reply": "2021-02-20T13:42:45.303410Z"
    },
    "papermill": {
     "duration": 0.113372,
     "end_time": "2021-02-20T13:42:45.304786",
     "exception": false,
     "start_time": "2021-02-20T13:42:45.191414",
     "status": "completed"
    },
    "tags": []
   },
   "outputs": [
    {
     "data": {
      "text/html": [
       "<table class=\"dataframe\">\n",
       "<caption>A xtable: 2 × 4</caption>\n",
       "<thead>\n",
       "\t<tr><th></th><th scope=col>CL</th><th scope=col>CRA</th><th scope=col>IRA</th><th scope=col>IRA w Lasso</th></tr>\n",
       "\t<tr><th></th><th scope=col>&lt;dbl&gt;</th><th scope=col>&lt;dbl&gt;</th><th scope=col>&lt;dbl&gt;</th><th scope=col>&lt;dbl&gt;</th></tr>\n",
       "</thead>\n",
       "<tbody>\n",
       "\t<tr><th scope=row>estimate</th><td>-0.08545541</td><td>-0.07968012</td><td>-0.07550055</td><td>-0.07888608</td></tr>\n",
       "\t<tr><th scope=row>standard error</th><td> 0.03585569</td><td> 0.03559092</td><td> 0.03560489</td><td> 0.03555130</td></tr>\n",
       "</tbody>\n",
       "</table>\n"
      ],
      "text/latex": [
       "A xtable: 2 × 4\n",
       "\\begin{tabular}{r|llll}\n",
       "  & CL & CRA & IRA & IRA w Lasso\\\\\n",
       "  & <dbl> & <dbl> & <dbl> & <dbl>\\\\\n",
       "\\hline\n",
       "\testimate & -0.08545541 & -0.07968012 & -0.07550055 & -0.07888608\\\\\n",
       "\tstandard error &  0.03585569 &  0.03559092 &  0.03560489 &  0.03555130\\\\\n",
       "\\end{tabular}\n"
      ],
      "text/markdown": [
       "\n",
       "A xtable: 2 × 4\n",
       "\n",
       "| <!--/--> | CL &lt;dbl&gt; | CRA &lt;dbl&gt; | IRA &lt;dbl&gt; | IRA w Lasso &lt;dbl&gt; |\n",
       "|---|---|---|---|---|\n",
       "| estimate | -0.08545541 | -0.07968012 | -0.07550055 | -0.07888608 |\n",
       "| standard error |  0.03585569 |  0.03559092 |  0.03560489 |  0.03555130 |\n",
       "\n"
      ],
      "text/plain": [
       "               CL          CRA         IRA         IRA w Lasso\n",
       "estimate       -0.08545541 -0.07968012 -0.07550055 -0.07888608\n",
       "standard error  0.03585569  0.03559092  0.03560489  0.03555130"
      ]
     },
     "metadata": {},
     "output_type": "display_data"
    },
    {
     "name": "stdout",
     "output_type": "stream",
     "text": [
      "% latex table generated in R 3.6.3 by xtable 1.8-4 package\n",
      "% Sat Feb 20 13:42:45 2021\n",
      "\\begin{table}[ht]\n",
      "\\centering\n",
      "\\begin{tabular}{rrrrr}\n",
      "  \\hline\n",
      " & CL & CRA & IRA & IRA w Lasso \\\\ \n",
      "  \\hline\n",
      "estimate & -0.08546 & -0.07968 & -0.07550 & -0.07889 \\\\ \n",
      "  standard error & 0.03586 & 0.03559 & 0.03560 & 0.03555 \\\\ \n",
      "   \\hline\n",
      "\\end{tabular}\n",
      "\\end{table}\n"
     ]
    }
   ],
   "source": [
    "library(xtable)\n",
    "table<- matrix(0, 2, 4)\n",
    "table[1,1]<-  ols.cl[2,1]\n",
    "table[1,2]<-  ols.cra[2,1]\n",
    "table[1,3]<-  ols.ira[2,1]\n",
    "table[1,4]<-  rlasso.ira[[1]][1]\n",
    "\n",
    "table[2,1]<-  ols.cl[2,2]\n",
    "table[2,2]<-  ols.cra[2,2]\n",
    "table[2,3]<-  ols.ira[2,2]\n",
    "table[2,4]<-  rlasso.ira[[1]][2]\n",
    "\n",
    "\n",
    "colnames(table)<- c(\"CL\",\"CRA\",\"IRA\", \"IRA w Lasso\")\n",
    "rownames(table)<- c(\"estimate\", \"standard error\")\n",
    "tab<- xtable(table, digits=5)\n",
    "tab\n",
    "\n",
    "print(tab, type=\"latex\", digits=5)"
   ]
  },
  {
   "cell_type": "markdown",
   "metadata": {
    "papermill": {
     "duration": 0.019862,
     "end_time": "2021-02-20T13:42:45.344887",
     "exception": false,
     "start_time": "2021-02-20T13:42:45.325025",
     "status": "completed"
    },
    "tags": []
   },
   "source": [
    "Treatment group 4 experiences an average decrease of about $7.8\\%$ in the length of unemployment spell.\n",
    "\n",
    "\n",
    "Observe that regression estimators delivers estimates that are slighly more efficient (lower standard errors) than the simple 2 mean estimator, but essentially all methods have very similar standard errors. From IRA results we also see that there is not any statistically detectable heterogeneity.  We also see the regression estimators offer slightly lower estimates -- these difference occur perhaps to due minor imbalance in the treatment allocation, which the regression estimators try to correct.\n",
    "\n",
    "\n"
   ]
  }
 ],
 "metadata": {
  "hide_input": false,
  "kernelspec": {
   "display_name": "R",
   "language": "R",
   "name": "ir"
  },
  "language_info": {
   "codemirror_mode": "r",
   "file_extension": ".r",
   "mimetype": "text/x-r-source",
   "name": "R",
   "pygments_lexer": "r",
   "version": "3.6.3"
  },
  "papermill": {
   "default_parameters": {},
   "duration": 7.178818,
   "end_time": "2021-02-20T13:42:45.473549",
   "environment_variables": {},
   "exception": null,
   "input_path": "__notebook__.ipynb",
   "output_path": "__notebook__.ipynb",
   "parameters": {},
   "start_time": "2021-02-20T13:42:38.294731",
   "version": "2.2.2"
  }
 },
 "nbformat": 4,
 "nbformat_minor": 4
}
