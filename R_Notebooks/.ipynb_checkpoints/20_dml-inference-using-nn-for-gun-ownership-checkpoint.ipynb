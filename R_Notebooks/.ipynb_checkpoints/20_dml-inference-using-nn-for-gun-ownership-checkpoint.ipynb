{
 "cells": [
  {
   "cell_type": "markdown",
   "metadata": {
    "_execution_state": "idle",
    "_uuid": "051d70d956493feee0c6d64651c6a088724dca2a",
    "papermill": {
     "duration": 0.007728,
     "end_time": "2021-07-23T15:44:20.377968",
     "exception": false,
     "start_time": "2021-07-23T15:44:20.370240",
     "status": "completed"
    },
    "tags": []
   },
   "source": [
    "This notebook contains an example for teaching."
   ]
  },
  {
   "cell_type": "markdown",
   "metadata": {
    "papermill": {
     "duration": 0.006255,
     "end_time": "2021-07-23T15:44:20.390614",
     "exception": false,
     "start_time": "2021-07-23T15:44:20.384359",
     "status": "completed"
    },
    "tags": []
   },
   "source": [
    "# The Effect of Gun Ownership on Gun-Homicide Rates using DML for neural nets"
   ]
  },
  {
   "cell_type": "markdown",
   "metadata": {
    "papermill": {
     "duration": 0.00697,
     "end_time": "2021-07-23T15:44:20.404271",
     "exception": false,
     "start_time": "2021-07-23T15:44:20.397301",
     "status": "completed"
    },
    "tags": []
   },
   "source": [
    "In this lab, we estimate the effect of gun ownership on the homicide rate using a neural network."
   ]
  },
  {
   "cell_type": "code",
   "execution_count": 1,
   "metadata": {
    "execution": {
     "iopub.execute_input": "2021-07-23T15:44:20.448109Z",
     "iopub.status.busy": "2021-07-23T15:44:20.445619Z",
     "iopub.status.idle": "2021-07-23T15:44:21.749828Z",
     "shell.execute_reply": "2021-07-23T15:44:21.748337Z"
    },
    "papermill": {
     "duration": 1.339145,
     "end_time": "2021-07-23T15:44:21.750036",
     "exception": false,
     "start_time": "2021-07-23T15:44:20.410891",
     "status": "completed"
    },
    "tags": []
   },
   "outputs": [
    {
     "name": "stderr",
     "output_type": "stream",
     "text": [
      "Loading required package: Matrix\n",
      "\n"
     ]
    }
   ],
   "source": [
    "library(keras)\n",
    "library(lfe)"
   ]
  },
  {
   "cell_type": "markdown",
   "metadata": {
    "papermill": {
     "duration": 0.007697,
     "end_time": "2021-07-23T15:44:21.765659",
     "exception": false,
     "start_time": "2021-07-23T15:44:21.757962",
     "status": "completed"
    },
    "tags": []
   },
   "source": [
    "First, we need to load and preprocess the data."
   ]
  },
  {
   "cell_type": "code",
   "execution_count": 2,
   "metadata": {
    "execution": {
     "iopub.execute_input": "2021-07-23T15:44:21.889175Z",
     "iopub.status.busy": "2021-07-23T15:44:21.782978Z",
     "iopub.status.idle": "2021-07-23T15:44:50.097481Z",
     "shell.execute_reply": "2021-07-23T15:44:50.096227Z"
    },
    "papermill": {
     "duration": 28.325243,
     "end_time": "2021-07-23T15:44:50.097680",
     "exception": false,
     "start_time": "2021-07-23T15:44:21.772437",
     "status": "completed"
    },
    "tags": []
   },
   "outputs": [],
   "source": [
    "# read in dataset\n",
    "data <- read.csv(\"../input/gun-example/gun_clean.csv\") \n",
    "\n",
    "\n",
    "################## Find Variable Names from the Dataset ###################\n",
    "\n",
    "varlist <- function (df=NULL,type=c(\"numeric\",\"factor\",\"character\"), pattern=\"\", exclude=NULL) {\n",
    "  vars <- character(0)\n",
    "  if (any(type %in% \"numeric\")) {\n",
    "    vars <- c(vars,names(df)[sapply(df,is.numeric)])\n",
    "  }\n",
    "  if (any(type %in% \"factor\")) {\n",
    "    vars <- c(vars,names(df)[sapply(df,is.factor)])\n",
    "  }  \n",
    "  if (any(type %in% \"character\")) {\n",
    "    vars <- c(vars,names(df)[sapply(df,is.character)])\n",
    "  }  \n",
    "  vars[(!vars %in% exclude) & grepl(vars,pattern=pattern)]\n",
    "}\n",
    "\n",
    "########################### Create Variables ##############################\n",
    "\n",
    "# dummy variables for year and county fixed effects\n",
    "fixed  <- grep(\"X_Jfips\", names(data), value=TRUE, fixed=TRUE)\n",
    "year   <- varlist(data, pattern=\"X_Tyear\")\n",
    "\n",
    "# census control variables\n",
    "census     <- NULL\n",
    "census_var <- c(\"^AGE\", \"^BN\", \"^BP\", \"^BZ\", \"^ED\", \"^EL\",\"^HI\", \"^HS\", \"^INC\", \"^LF\", \"^LN\", \"^PI\", \"^PO\", \"^PP\", \"^PV\", \"^SPR\", \"^VS\")\n",
    "\n",
    "for(i in 1:length(census_var)){\n",
    "  census  <- append(census, varlist(data, pattern=census_var[i]))\n",
    "}\n",
    "\n",
    "############################### Variables #################################\n",
    "\n",
    "# treatment variable\n",
    "d     <- \"logfssl\"\n",
    "\n",
    "# outcome variable\n",
    "y     <- \"logghomr\"\n",
    "\n",
    "# other control variables\n",
    "X1    <- c(\"logrobr\", \"logburg\", \"burg_missing\", \"robrate_missing\")\n",
    "X2    <- c(\"newblack\", \"newfhh\", \"newmove\", \"newdens\", \"newmal\")\n",
    "\n",
    "######################  Partial-out Fixed Effects #########################\n",
    "\n",
    "# new dataset for partialled-out variables\n",
    "rdata <- as.data.frame(data$CountyCode) \n",
    "colnames(rdata) <- \"CountyCode\"\n",
    "\n",
    "# variables to partial-out\n",
    "varlist <- c(y, d,X1, X2, census)\n",
    "\n",
    "# partial out year and county fixed effects from variables in varlist\n",
    "for(i in 1:length(varlist)){\n",
    "  form <- as.formula(paste(varlist[i], \"~\", paste(paste(year,collapse=\"+\"),  paste(fixed,collapse=\"+\"), sep=\"+\")))\n",
    "  rdata[, varlist[i]] <- lm(form, data)$residuals\n",
    "}"
   ]
  },
  {
   "cell_type": "markdown",
   "metadata": {
    "papermill": {
     "duration": 0.007124,
     "end_time": "2021-07-23T15:44:50.112901",
     "exception": false,
     "start_time": "2021-07-23T15:44:50.105777",
     "status": "completed"
    },
    "tags": []
   },
   "source": [
    "# DML for neural nets\n"
   ]
  },
  {
   "cell_type": "markdown",
   "metadata": {
    "papermill": {
     "duration": 0.007402,
     "end_time": "2021-07-23T15:44:50.127705",
     "exception": false,
     "start_time": "2021-07-23T15:44:50.120303",
     "status": "completed"
    },
    "tags": []
   },
   "source": [
    "The following algorithm consumes $Y$,$D$ and $Z$, and learns the residuals $\\tilde{Y}$ and $\\tilde{D}$ via a neural network, where the residuals are obtained by cross-validation (cross-fitting). Then, it prints the estimated coefficient $\\beta$ and the clustered standard error from the final OLS regression."
   ]
  },
  {
   "cell_type": "code",
   "execution_count": 3,
   "metadata": {
    "execution": {
     "iopub.execute_input": "2021-07-23T15:44:50.147658Z",
     "iopub.status.busy": "2021-07-23T15:44:50.145978Z",
     "iopub.status.idle": "2021-07-23T15:44:50.157608Z",
     "shell.execute_reply": "2021-07-23T15:44:50.156400Z"
    },
    "papermill": {
     "duration": 0.022579,
     "end_time": "2021-07-23T15:44:50.157723",
     "exception": false,
     "start_time": "2021-07-23T15:44:50.135144",
     "status": "completed"
    },
    "tags": []
   },
   "outputs": [],
   "source": [
    "DML2.for.NN <- function(z, d, y, nfold=2, clu, num_epochs, batch_size) {\n",
    "  nobs <- nrow(z) # number of observations\n",
    "  foldid <- rep.int(1:nfold,times = ceiling(nobs/nfold))[sample.int(nobs)] # define folds indices\n",
    "  I <- split(1:nobs, foldid)  # split observation indices into folds  \n",
    "  ytil <- dtil <- rep(NA, nobs)\n",
    "  cat(\"fold: \")\n",
    "  for(b in 1:length(I)){\n",
    "  # normalize the data\n",
    "  mean <- apply(z[-I[[b]],], 2, mean)\n",
    "  std <- apply(z[-I[[b]],], 2, sd)\n",
    "  z[-I[[b]],] <- scale(z[-I[[b]],], center = mean, scale = std)\n",
    "  z[I[[b]],] <- scale(z[I[[b]],], center = mean, scale = std)\n",
    "  # building the model with 3 layers, the ReLU activation function, mse loss and rmsprop optimizer                  \n",
    "  build_model <- function(){\n",
    "  model <- keras_model_sequential() %>% \n",
    "    layer_dense(units = 16, activation = \"relu\", \n",
    "                input_shape = dim(z[-I[[b]],][2]))%>% \n",
    "    layer_dense(units = 16, activation = \"relu\") %>% \n",
    "    layer_dense(units = 1) \n",
    "  \n",
    "    model %>% compile(\n",
    "    optimizer = \"rmsprop\", \n",
    "    loss = \"mse\", \n",
    "    metrics = c(\"mae\")\n",
    "    )  \n",
    "   }\n",
    "  model.Y <- build_model()\n",
    "  model.D <- build_model()                       \n",
    "  # fitting the model                   \n",
    "  model.D %>% fit(z[-I[[b]],], d[-I[[b]]],\n",
    "                    epochs = num_epochs, batch_size = batch_size, verbose = 0)                       \n",
    "  model.Y %>% fit(z[-I[[b]],], y[-I[[b]]],\n",
    "                    epochs = num_epochs, batch_size = batch_size, verbose = 0)\n",
    "  dhat <- model.D %>% predict(z[I[[b]],])\n",
    "  yhat <- model.Y %>% predict(z[I[[b]],])   \n",
    "  dtil[I[[b]]] <- (d[I[[b]]] - dhat) # record residual for the left-out fold\n",
    "  ytil[I[[b]]] <- (y[I[[b]]] - yhat) # record residial for the left-out fold                  \n",
    "  cat(b,\" \")\n",
    "        }\n",
    "  #rfit <- lm(ytil ~ dtil) # estimate the main parameter by regressing one residual on the other\n",
    "  data <- data.frame(cbind(ytil, dtil, as.matrix(clu)))\n",
    "  rfit <- felm(ytil ~ dtil|0|0|CountyCode,data=data)\n",
    "  coef.est <- coef(rfit)[2] # extract the coefficient\n",
    "  #HC <- vcovHC(rfit)\n",
    "  se    <- summary(rfit,robust=T)$coefficients[2,2] # record robust standard error by county\n",
    "  cat(sprintf(\"\\ncoef (se) = %g (%g)\\n\", coef.est , se)) # print the output\n",
    "  return( list(coef.est =coef.est , se=se, dtil=dtil, ytil=ytil, rfit=rfit) ) # save the output and residuals \n",
    "}"
   ]
  },
  {
   "cell_type": "markdown",
   "metadata": {
    "papermill": {
     "duration": 0.006625,
     "end_time": "2021-07-23T15:44:50.170736",
     "exception": false,
     "start_time": "2021-07-23T15:44:50.164111",
     "status": "completed"
    },
    "tags": []
   },
   "source": [
    "# Estimating the effect with DML for neural nets"
   ]
  },
  {
   "cell_type": "code",
   "execution_count": 4,
   "metadata": {
    "execution": {
     "iopub.execute_input": "2021-07-23T15:44:50.188331Z",
     "iopub.status.busy": "2021-07-23T15:44:50.186972Z",
     "iopub.status.idle": "2021-07-23T15:44:50.367481Z",
     "shell.execute_reply": "2021-07-23T15:44:50.366113Z"
    },
    "papermill": {
     "duration": 0.189775,
     "end_time": "2021-07-23T15:44:50.367628",
     "exception": false,
     "start_time": "2021-07-23T15:44:50.177853",
     "status": "completed"
    },
    "tags": []
   },
   "outputs": [],
   "source": [
    "# treatment variable\n",
    "D <- rdata[which(colnames(rdata) == d)]\n",
    "# outcome variable\n",
    "Y <- rdata[which(colnames(rdata) == y)]\n",
    "# construct matrix Z\n",
    "Z <- rdata[which(colnames(rdata) %in% c(X1,X2,census))]\n",
    "\n",
    "# inputs\n",
    "y_nn <- as.matrix(Y)\n",
    "d_nn <- as.matrix(D)\n",
    "z_nn <- as.matrix(Z)\n",
    "clu <- rdata[which(colnames(rdata) == \"CountyCode\")]"
   ]
  },
  {
   "cell_type": "code",
   "execution_count": 5,
   "metadata": {
    "execution": {
     "iopub.execute_input": "2021-07-23T15:44:50.386230Z",
     "iopub.status.busy": "2021-07-23T15:44:50.384669Z",
     "iopub.status.idle": "2021-07-23T15:47:24.835856Z",
     "shell.execute_reply": "2021-07-23T15:47:24.836621Z"
    },
    "papermill": {
     "duration": 154.462083,
     "end_time": "2021-07-23T15:47:24.837018",
     "exception": false,
     "start_time": "2021-07-23T15:44:50.374935",
     "status": "completed"
    },
    "tags": []
   },
   "outputs": [
    {
     "name": "stdout",
     "output_type": "stream",
     "text": [
      "fold: 1  2  \n",
      "coef (se) = 0.0810204 (0.138744)\n"
     ]
    }
   ],
   "source": [
    "# DML with a NN\n",
    "set.seed(123)\n",
    "DML2.nn = DML2.for.NN(z_nn, d_nn, y_nn, nfold=2, clu, 100, 10)"
   ]
  }
 ],
 "metadata": {
  "kernelspec": {
   "display_name": "R",
   "language": "R",
   "name": "ir"
  },
  "language_info": {
   "codemirror_mode": "r",
   "file_extension": ".r",
   "mimetype": "text/x-r-source",
   "name": "R",
   "pygments_lexer": "r",
   "version": "4.2.1"
  },
  "papermill": {
   "default_parameters": {},
   "duration": 188.752293,
   "end_time": "2021-07-23T15:47:26.353553",
   "environment_variables": {},
   "exception": null,
   "input_path": "__notebook__.ipynb",
   "output_path": "__notebook__.ipynb",
   "parameters": {},
   "start_time": "2021-07-23T15:44:17.601260",
   "version": "2.2.2"
  }
 },
 "nbformat": 4,
 "nbformat_minor": 4
}
