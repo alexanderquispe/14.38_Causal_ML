{
 "cells": [
  {
   "cell_type": "markdown",
   "metadata": {
    "papermill": {
     "duration": 0.02697,
     "end_time": "2021-07-23T16:17:55.653889",
     "exception": false,
     "start_time": "2021-07-23T16:17:55.626919",
     "status": "completed"
    },
    "tags": []
   },
   "source": [
    "This notebook contains an example for teaching."
   ]
  },
  {
   "cell_type": "markdown",
   "metadata": {
    "papermill": {
     "duration": 0.024906,
     "end_time": "2021-07-23T16:17:55.704014",
     "exception": false,
     "start_time": "2021-07-23T16:17:55.679108",
     "status": "completed"
    },
    "tags": []
   },
   "source": [
    "# A Case Study: The Effect of Gun Ownership on Gun-Homicide Rates"
   ]
  },
  {
   "cell_type": "markdown",
   "metadata": {
    "papermill": {
     "duration": 0.024533,
     "end_time": "2021-07-23T16:17:55.753444",
     "exception": false,
     "start_time": "2021-07-23T16:17:55.728911",
     "status": "completed"
    },
    "tags": []
   },
   "source": [
    "We consider the problem of estimating the effect of gun\n",
    "ownership on the homicide rate. For this purpose, we estimate the following partially\n",
    "linear model\n",
    "\n",
    "$$\n",
    " Y_{j,t} = \\beta D_{j,(t-1)} + g(Z_{j,t}) + \\epsilon_{j,t}.\n",
    "$$"
   ]
  },
  {
   "cell_type": "markdown",
   "metadata": {
    "papermill": {
     "duration": 0.024711,
     "end_time": "2021-07-23T16:17:55.803109",
     "exception": false,
     "start_time": "2021-07-23T16:17:55.778398",
     "status": "completed"
    },
    "tags": []
   },
   "source": [
    "## Data"
   ]
  },
  {
   "cell_type": "markdown",
   "metadata": {
    "papermill": {
     "duration": 0.025115,
     "end_time": "2021-07-23T16:17:55.854426",
     "exception": false,
     "start_time": "2021-07-23T16:17:55.829311",
     "status": "completed"
    },
    "tags": []
   },
   "source": [
    "$Y_{j,t}$ is the log homicide rate in county $j$ at time $t$, $D_{j, t-1}$ is the log fraction of suicides committed with a firearm in county $j$ at time $t-1$, which we use as a proxy for gun ownership,  and  $Z_{j,t}$ is a set of demographic and economic characteristics of county $j$ at time $t$. The parameter $\\beta$ is the effect of gun ownership on homicide rates, controlling for county-level demographic and economic characteristics. \n",
    "\n",
    "The sample covers 195 large United States counties between the years 1980 through 1999, giving us 3900 observations."
   ]
  },
  {
   "cell_type": "code",
   "execution_count": 1,
   "metadata": {
    "execution": {
     "iopub.execute_input": "2021-07-23T16:17:55.936143Z",
     "iopub.status.busy": "2021-07-23T16:17:55.934044Z",
     "iopub.status.idle": "2021-07-23T16:17:57.012578Z",
     "shell.execute_reply": "2021-07-23T16:17:57.011044Z"
    },
    "papermill": {
     "duration": 1.13301,
     "end_time": "2021-07-23T16:17:57.012828",
     "exception": false,
     "start_time": "2021-07-23T16:17:55.879818",
     "status": "completed"
    },
    "tags": []
   },
   "outputs": [
    {
     "data": {
      "text/html": [
       "3900"
      ],
      "text/latex": [
       "3900"
      ],
      "text/markdown": [
       "3900"
      ],
      "text/plain": [
       "[1] 3900"
      ]
     },
     "metadata": {},
     "output_type": "display_data"
    }
   ],
   "source": [
    "data <- read.csv(\"../input/gun-example/gun_clean.csv\") \n",
    "dim(data)[1]"
   ]
  },
  {
   "cell_type": "markdown",
   "metadata": {
    "papermill": {
     "duration": 0.025977,
     "end_time": "2021-07-23T16:17:57.064860",
     "exception": false,
     "start_time": "2021-07-23T16:17:57.038883",
     "status": "completed"
    },
    "tags": []
   },
   "source": [
    "### Preprocessing"
   ]
  },
  {
   "cell_type": "markdown",
   "metadata": {
    "papermill": {
     "duration": 0.024998,
     "end_time": "2021-07-23T16:17:57.115009",
     "exception": false,
     "start_time": "2021-07-23T16:17:57.090011",
     "status": "completed"
    },
    "tags": []
   },
   "source": [
    "To account for heterogeneity across counties and time trends in  all variables, we remove from them county-specific and time-specific effects in the following preprocessing."
   ]
  },
  {
   "cell_type": "code",
   "execution_count": 2,
   "metadata": {
    "execution": {
     "iopub.execute_input": "2021-07-23T16:17:57.221326Z",
     "iopub.status.busy": "2021-07-23T16:17:57.169803Z",
     "iopub.status.idle": "2021-07-23T16:18:23.043752Z",
     "shell.execute_reply": "2021-07-23T16:18:23.042830Z"
    },
    "papermill": {
     "duration": 25.903532,
     "end_time": "2021-07-23T16:18:23.043902",
     "exception": false,
     "start_time": "2021-07-23T16:17:57.140370",
     "status": "completed"
    },
    "tags": []
   },
   "outputs": [],
   "source": [
    "##################### Find Variable Names from Dataset ######################\n",
    "\n",
    "varlist <- function (df=NULL,type=c(\"numeric\",\"factor\",\"character\"), pattern=\"\", exclude=NULL) {\n",
    "  vars <- character(0)\n",
    "  if (any(type %in% \"numeric\")) {\n",
    "    vars <- c(vars,names(df)[sapply(df,is.numeric)])\n",
    "  }\n",
    "  if (any(type %in% \"factor\")) {\n",
    "    vars <- c(vars,names(df)[sapply(df,is.factor)])\n",
    "  }  \n",
    "  if (any(type %in% \"character\")) {\n",
    "    vars <- c(vars,names(df)[sapply(df,is.character)])\n",
    "  }  \n",
    "  vars[(!vars %in% exclude) & grepl(vars,pattern=pattern)]\n",
    "}\n",
    "\n",
    "############################# Create Variables ##############################\n",
    "\n",
    "# dummy variables for year and county fixed effects\n",
    "fixed  <- grep(\"X_Jfips\", names(data), value=TRUE, fixed=TRUE)\n",
    "year   <- varlist(data, pattern=\"X_Tyear\")\n",
    "\n",
    "# census control variables\n",
    "census     <- NULL\n",
    "census_var <- c(\"^AGE\", \"^BN\", \"^BP\", \"^BZ\", \"^ED\", \"^EL\",\"^HI\", \"^HS\", \"^INC\", \"^LF\", \"^LN\", \"^PI\", \"^PO\", \"^PP\", \"^PV\", \"^SPR\", \"^VS\")\n",
    "\n",
    "for(i in 1:length(census_var)){\n",
    "    census  <- append(census, varlist(data, pattern=census_var[i])) \n",
    "}\n",
    "\n",
    "################################ Variables ##################################\n",
    "# treatment variable\n",
    "d     <- \"logfssl\"\n",
    "\n",
    "# outcome variable\n",
    "y     <- \"logghomr\"\n",
    "\n",
    "# other control variables\n",
    "X1    <- c(\"logrobr\", \"logburg\", \"burg_missing\", \"robrate_missing\")\n",
    "X2    <- c(\"newblack\", \"newfhh\", \"newmove\", \"newdens\", \"newmal\")\n",
    "\n",
    "######################## Partial out Fixed Effects ##########################\n",
    "\n",
    "# new dataset for partialled-out variables\n",
    "rdata    <- as.data.frame(data$CountyCode) \n",
    "colnames(rdata) <- \"CountyCode\"\n",
    "\n",
    "# variables to partial out\n",
    "varlist <- c(y, d,X1, X2, census)\n",
    "\n",
    "# partial out year and county fixed effect from variables in varlist\n",
    "for(i in 1:length(varlist)){\n",
    "  form <- as.formula(paste(varlist[i], \"~\", paste(paste(year,collapse=\"+\"),  paste(fixed,collapse=\"+\"), sep=\"+\")))\n",
    "  rdata[, varlist[i]] <- lm(form, data)$residuals\n",
    "}"
   ]
  },
  {
   "cell_type": "markdown",
   "metadata": {
    "papermill": {
     "duration": 0.025494,
     "end_time": "2021-07-23T16:18:23.095320",
     "exception": false,
     "start_time": "2021-07-23T16:18:23.069826",
     "status": "completed"
    },
    "tags": []
   },
   "source": [
    "Now, we can construct the treatment variable, the outcome variable and the matrix $Z$ that includes the control variables."
   ]
  },
  {
   "cell_type": "code",
   "execution_count": 3,
   "metadata": {
    "execution": {
     "iopub.execute_input": "2021-07-23T16:18:23.151589Z",
     "iopub.status.busy": "2021-07-23T16:18:23.150087Z",
     "iopub.status.idle": "2021-07-23T16:18:23.171298Z",
     "shell.execute_reply": "2021-07-23T16:18:23.169940Z"
    },
    "papermill": {
     "duration": 0.050666,
     "end_time": "2021-07-23T16:18:23.171445",
     "exception": false,
     "start_time": "2021-07-23T16:18:23.120779",
     "status": "completed"
    },
    "tags": []
   },
   "outputs": [
    {
     "data": {
      "text/html": [
       "<style>\n",
       ".list-inline {list-style: none; margin:0; padding: 0}\n",
       ".list-inline>li {display: inline-block}\n",
       ".list-inline>li:not(:last-child)::after {content: \"\\00b7\"; padding: 0 .5ex}\n",
       "</style>\n",
       "<ol class=list-inline><li>3900</li><li>195</li></ol>\n"
      ],
      "text/latex": [
       "\\begin{enumerate*}\n",
       "\\item 3900\n",
       "\\item 195\n",
       "\\end{enumerate*}\n"
      ],
      "text/markdown": [
       "1. 3900\n",
       "2. 195\n",
       "\n",
       "\n"
      ],
      "text/plain": [
       "[1] 3900  195"
      ]
     },
     "metadata": {},
     "output_type": "display_data"
    }
   ],
   "source": [
    "# treatment variable\n",
    "D     <- rdata[which(colnames(rdata) == d)]\n",
    "\n",
    "# outcome variable\n",
    "Y     <- rdata[which(colnames(rdata) == y)]\n",
    "\n",
    "# construct matrix Z\n",
    "Z <- rdata[which(colnames(rdata) %in% c(X1,X2,census))]\n",
    "dim(Z)"
   ]
  },
  {
   "cell_type": "markdown",
   "metadata": {
    "papermill": {
     "duration": 0.025783,
     "end_time": "2021-07-23T16:18:23.223256",
     "exception": false,
     "start_time": "2021-07-23T16:18:23.197473",
     "status": "completed"
    },
    "tags": []
   },
   "source": [
    "We have 195 control variables in total. The control variables $Z_{j,t}$ are from the U.S. Census Bureau and  contain demographic and economic characteristics of the counties such as  the age distribution, the income distribution, crime rates, federal spending, home ownership rates, house prices, educational attainment, voting paterns, employment statistics, and migration rates. "
   ]
  },
  {
   "cell_type": "code",
   "execution_count": 4,
   "metadata": {
    "execution": {
     "iopub.execute_input": "2021-07-23T16:18:23.280530Z",
     "iopub.status.busy": "2021-07-23T16:18:23.279019Z",
     "iopub.status.idle": "2021-07-23T16:18:23.293787Z",
     "shell.execute_reply": "2021-07-23T16:18:23.292611Z"
    },
    "papermill": {
     "duration": 0.044714,
     "end_time": "2021-07-23T16:18:23.293932",
     "exception": false,
     "start_time": "2021-07-23T16:18:23.249218",
     "status": "completed"
    },
    "tags": []
   },
   "outputs": [],
   "source": [
    "clu <- rdata[which(colnames(rdata) == \"CountyCode\")] # for clustering the standard errors\n",
    "data <- data.frame(cbind(Y, D, Z,as.matrix(clu)))"
   ]
  },
  {
   "cell_type": "code",
   "execution_count": 5,
   "metadata": {
    "execution": {
     "iopub.execute_input": "2021-07-23T16:18:23.352107Z",
     "iopub.status.busy": "2021-07-23T16:18:23.351591Z",
     "iopub.status.idle": "2021-07-23T16:18:24.408436Z",
     "shell.execute_reply": "2021-07-23T16:18:24.406986Z"
    },
    "papermill": {
     "duration": 1.088195,
     "end_time": "2021-07-23T16:18:24.408616",
     "exception": false,
     "start_time": "2021-07-23T16:18:23.320421",
     "status": "completed"
    },
    "tags": []
   },
   "outputs": [
    {
     "name": "stderr",
     "output_type": "stream",
     "text": [
      "Loading required package: Matrix\n",
      "\n"
     ]
    }
   ],
   "source": [
    "library(lfe) # linear group fixed effects package"
   ]
  },
  {
   "cell_type": "markdown",
   "metadata": {
    "papermill": {
     "duration": 0.02615,
     "end_time": "2021-07-23T16:18:24.461261",
     "exception": false,
     "start_time": "2021-07-23T16:18:24.435111",
     "status": "completed"
    },
    "tags": []
   },
   "source": [
    "## The effect of gun ownership"
   ]
  },
  {
   "cell_type": "markdown",
   "metadata": {
    "papermill": {
     "duration": 0.02615,
     "end_time": "2021-07-23T16:18:24.513673",
     "exception": false,
     "start_time": "2021-07-23T16:18:24.487523",
     "status": "completed"
    },
    "tags": []
   },
   "source": [
    "### OLS"
   ]
  },
  {
   "cell_type": "markdown",
   "metadata": {
    "papermill": {
     "duration": 0.027888,
     "end_time": "2021-07-23T16:18:24.568278",
     "exception": false,
     "start_time": "2021-07-23T16:18:24.540390",
     "status": "completed"
    },
    "tags": []
   },
   "source": [
    "After preprocessing the data, as a baseline model, we first look at simple regression of $Y_{j,t}$ on $D_{j,t-1}$ without controls."
   ]
  },
  {
   "cell_type": "code",
   "execution_count": 6,
   "metadata": {
    "execution": {
     "iopub.execute_input": "2021-07-23T16:18:24.626226Z",
     "iopub.status.busy": "2021-07-23T16:18:24.624811Z",
     "iopub.status.idle": "2021-07-23T16:18:24.716352Z",
     "shell.execute_reply": "2021-07-23T16:18:24.715067Z"
    },
    "papermill": {
     "duration": 0.122095,
     "end_time": "2021-07-23T16:18:24.716515",
     "exception": false,
     "start_time": "2021-07-23T16:18:24.594420",
     "status": "completed"
    },
    "tags": []
   },
   "outputs": [
    {
     "data": {
      "text/html": [
       "<style>\n",
       ".dl-inline {width: auto; margin:0; padding: 0}\n",
       ".dl-inline>dt, .dl-inline>dd {float: none; width: auto; display: inline-block}\n",
       ".dl-inline>dt::after {content: \":\\0020\"; padding-right: .5ex}\n",
       ".dl-inline>dt:not(:first-of-type) {padding-left: .5ex}\n",
       "</style><dl class=dl-inline><dt>2.5 %</dt><dd>0.155238182025455</dd><dt>97.5 %</dt><dd>0.409370751240969</dd></dl>\n"
      ],
      "text/latex": [
       "\\begin{description*}\n",
       "\\item[2.5 \\textbackslash{}\\%] 0.155238182025455\n",
       "\\item[97.5 \\textbackslash{}\\%] 0.409370751240969\n",
       "\\end{description*}\n"
      ],
      "text/markdown": [
       "2.5 %\n",
       ":   0.15523818202545597.5 %\n",
       ":   0.409370751240969\n",
       "\n"
      ],
      "text/plain": [
       "    2.5 %    97.5 % \n",
       "0.1552382 0.4093708 "
      ]
     },
     "metadata": {},
     "output_type": "display_data"
    },
    {
     "data": {
      "text/html": [
       "<style>\n",
       ".dl-inline {width: auto; margin:0; padding: 0}\n",
       ".dl-inline>dt, .dl-inline>dd {float: none; width: auto; display: inline-block}\n",
       ".dl-inline>dt::after {content: \":\\0020\"; padding-right: .5ex}\n",
       ".dl-inline>dt:not(:first-of-type) {padding-left: .5ex}\n",
       "</style><dl class=dl-inline><dt>Estimate</dt><dd>0.282304466633212</dd><dt>Cluster s.e.</dt><dd>0.0648107978379222</dd><dt>t value</dt><dd>4.35582458557592</dd><dt>Pr(&gt;|t|)</dt><dd>1.35976701238181e-05</dd></dl>\n"
      ],
      "text/latex": [
       "\\begin{description*}\n",
       "\\item[Estimate] 0.282304466633212\n",
       "\\item[Cluster s.e.] 0.0648107978379222\n",
       "\\item[t value] 4.35582458557592\n",
       "\\item[Pr(>\\textbackslash{}textbar\\{\\}t\\textbackslash{}textbar\\{\\})] 1.35976701238181e-05\n",
       "\\end{description*}\n"
      ],
      "text/markdown": [
       "Estimate\n",
       ":   0.282304466633212Cluster s.e.\n",
       ":   0.0648107978379222t value\n",
       ":   4.35582458557592Pr(&amp;gt;|t|)\n",
       ":   1.35976701238181e-05\n",
       "\n"
      ],
      "text/plain": [
       "    Estimate Cluster s.e.      t value     Pr(>|t|) \n",
       "2.823045e-01 6.481080e-02 4.355825e+00 1.359767e-05 "
      ]
     },
     "metadata": {},
     "output_type": "display_data"
    }
   ],
   "source": [
    "# baseline_formula <- as.formula(paste(y, \"~\", d ))\n",
    "# baseline.ols <- lm(baseline_formula,data=rdata)\n",
    "\n",
    "baseline.ols <- felm(logghomr ~ logfssl |0|0| CountyCode,data=data) # ols with clustered standard errors\n",
    "est_baseline <- summary(baseline.ols)$coef[2,]\n",
    "confint(baseline.ols)[2,]\n",
    "est_baseline"
   ]
  },
  {
   "cell_type": "markdown",
   "metadata": {
    "papermill": {
     "duration": 0.02777,
     "end_time": "2021-07-23T16:18:24.772317",
     "exception": false,
     "start_time": "2021-07-23T16:18:24.744547",
     "status": "completed"
    },
    "tags": []
   },
   "source": [
    "The point estimate is $0.282$ with the confidence interval ranging from 0.155 to 0.41. This\n",
    "suggests that increases in gun ownership rates are related to gun homicide rates - if gun ownership increases by 1% relative\n",
    "to a trend then the predicted gun homicide rate goes up by 0.28%, without controlling for counties' characteristics.\n",
    "\n",
    "Since our goal is to estimate the effect of gun ownership after controlling for a rich set county characteristics, we next include the controls. First, we estimate the model by ols and then by an array of the modern regression methods using the double machine learning approach."
   ]
  },
  {
   "cell_type": "code",
   "execution_count": 7,
   "metadata": {
    "execution": {
     "iopub.execute_input": "2021-07-23T16:18:24.833712Z",
     "iopub.status.busy": "2021-07-23T16:18:24.832321Z",
     "iopub.status.idle": "2021-07-23T16:18:25.026602Z",
     "shell.execute_reply": "2021-07-23T16:18:25.024518Z"
    },
    "papermill": {
     "duration": 0.226563,
     "end_time": "2021-07-23T16:18:25.026830",
     "exception": false,
     "start_time": "2021-07-23T16:18:24.800267",
     "status": "completed"
    },
    "tags": []
   },
   "outputs": [
    {
     "name": "stderr",
     "output_type": "stream",
     "text": [
      "Warning message in chol.default(mat, pivot = TRUE, tol = tol):\n",
      "“the matrix is either rank-deficient or indefinite”\n",
      "Warning message in chol.default(mat, pivot = TRUE, tol = tol):\n",
      "“the matrix is either rank-deficient or indefinite”\n"
     ]
    },
    {
     "data": {
      "text/html": [
       "<style>\n",
       ".dl-inline {width: auto; margin:0; padding: 0}\n",
       ".dl-inline>dt, .dl-inline>dd {float: none; width: auto; display: inline-block}\n",
       ".dl-inline>dt::after {content: \":\\0020\"; padding-right: .5ex}\n",
       ".dl-inline>dt:not(:first-of-type) {padding-left: .5ex}\n",
       "</style><dl class=dl-inline><dt>2.5 %</dt><dd>0.0878159355832366</dd><dt>97.5 %</dt><dd>0.293473517507511</dd></dl>\n"
      ],
      "text/latex": [
       "\\begin{description*}\n",
       "\\item[2.5 \\textbackslash{}\\%] 0.0878159355832366\n",
       "\\item[97.5 \\textbackslash{}\\%] 0.293473517507511\n",
       "\\end{description*}\n"
      ],
      "text/markdown": [
       "2.5 %\n",
       ":   0.087815935583236697.5 %\n",
       ":   0.293473517507511\n",
       "\n"
      ],
      "text/plain": [
       "     2.5 %     97.5 % \n",
       "0.08781594 0.29347352 "
      ]
     },
     "metadata": {},
     "output_type": "display_data"
    },
    {
     "data": {
      "text/html": [
       "<style>\n",
       ".dl-inline {width: auto; margin:0; padding: 0}\n",
       ".dl-inline>dt, .dl-inline>dd {float: none; width: auto; display: inline-block}\n",
       ".dl-inline>dt::after {content: \":\\0020\"; padding-right: .5ex}\n",
       ".dl-inline>dt:not(:first-of-type) {padding-left: .5ex}\n",
       "</style><dl class=dl-inline><dt>Estimate</dt><dd>0.190644726545374</dd><dt>Cluster s.e.</dt><dd>0.0524475581603829</dd><dt>t value</dt><dd>3.63495905686188</dd><dt>Pr(&gt;|t|)</dt><dd>0.00028178672203492</dd></dl>\n"
      ],
      "text/latex": [
       "\\begin{description*}\n",
       "\\item[Estimate] 0.190644726545374\n",
       "\\item[Cluster s.e.] 0.0524475581603829\n",
       "\\item[t value] 3.63495905686188\n",
       "\\item[Pr(>\\textbackslash{}textbar\\{\\}t\\textbackslash{}textbar\\{\\})] 0.00028178672203492\n",
       "\\end{description*}\n"
      ],
      "text/markdown": [
       "Estimate\n",
       ":   0.190644726545374Cluster s.e.\n",
       ":   0.0524475581603829t value\n",
       ":   3.63495905686188Pr(&amp;gt;|t|)\n",
       ":   0.00028178672203492\n",
       "\n"
      ],
      "text/plain": [
       "    Estimate Cluster s.e.      t value     Pr(>|t|) \n",
       "0.1906447265 0.0524475582 3.6349590569 0.0002817867 "
      ]
     },
     "metadata": {},
     "output_type": "display_data"
    }
   ],
   "source": [
    "control_formula <- as.formula(paste(\"logghomr\", \"~\", paste(\"logfssl\",paste(colnames(Z),collapse=\"+\"),\n",
    "                                                           sep=\"+\"),\"|0|0| CountyCode\"))\n",
    "control.ols <- felm(control_formula,data=data) # fixed effects lm function\n",
    "est_ols <- summary(control.ols)$coef[2,]\n",
    "confint(control.ols)[2,]\n",
    "est_ols"
   ]
  },
  {
   "cell_type": "markdown",
   "metadata": {
    "papermill": {
     "duration": 0.043087,
     "end_time": "2021-07-23T16:18:25.122084",
     "exception": false,
     "start_time": "2021-07-23T16:18:25.078997",
     "status": "completed"
    },
    "tags": []
   },
   "source": [
    "After controlling for a rich set of characteristics, the point estimate of gun ownership reduces to $0.19$."
   ]
  },
  {
   "cell_type": "markdown",
   "metadata": {
    "papermill": {
     "duration": 0.029945,
     "end_time": "2021-07-23T16:18:25.181867",
     "exception": false,
     "start_time": "2021-07-23T16:18:25.151922",
     "status": "completed"
    },
    "tags": []
   },
   "source": [
    "# DML algorithm\n",
    "\n",
    "Here we perform inference on the predictive coefficient $\\beta$ in our partially linear statistical model, \n",
    "\n",
    "$$\n",
    "Y = D\\beta + g(Z) + \\epsilon, \\quad E (\\epsilon | D, Z) = 0,\n",
    "$$\n",
    "\n",
    "using the **double machine learning** approach. \n",
    "\n",
    "For $\\tilde Y = Y- E(Y|Z)$ and $\\tilde D= D- E(D|Z)$, we can write\n",
    "$$\n",
    "\\tilde Y = \\alpha \\tilde D + \\epsilon, \\quad E (\\epsilon |\\tilde D) =0.\n",
    "$$\n",
    "\n",
    "Using cross-fitting, we employ modern regression methods\n",
    "to build estimators $\\hat \\ell(Z)$ and $\\hat m(Z)$ of $\\ell(Z):=E(Y|Z)$ and $m(Z):=E(D|Z)$ to obtain the estimates of the residualized quantities:\n",
    "\n",
    "$$\n",
    "\\tilde Y_i = Y_i  - \\hat \\ell (Z_i),   \\quad \\tilde D_i = D_i - \\hat m(Z_i), \\quad \\text{ for each } i = 1,\\dots,n.\n",
    "$$\n",
    "\n",
    "Finally, using ordinary least squares of $\\tilde Y_i$ on $\\tilde D_i$, we obtain the \n",
    "estimate of $\\beta$."
   ]
  },
  {
   "cell_type": "markdown",
   "metadata": {
    "papermill": {
     "duration": 0.029683,
     "end_time": "2021-07-23T16:18:25.241259",
     "exception": false,
     "start_time": "2021-07-23T16:18:25.211576",
     "status": "completed"
    },
    "tags": []
   },
   "source": [
    "The following algorithm comsumes $Y, D, Z$, and a machine learning method for learning the residuals $\\tilde Y$ and $\\tilde D$, where the residuals are obtained by cross-validation (cross-fitting). Then, it prints the estimated coefficient $\\beta$ and the corresponding standard error from the final OLS regression."
   ]
  },
  {
   "cell_type": "code",
   "execution_count": 8,
   "metadata": {
    "execution": {
     "iopub.execute_input": "2021-07-23T16:18:25.366881Z",
     "iopub.status.busy": "2021-07-23T16:18:25.306413Z",
     "iopub.status.idle": "2021-07-23T16:18:25.376948Z",
     "shell.execute_reply": "2021-07-23T16:18:25.375583Z"
    },
    "papermill": {
     "duration": 0.106075,
     "end_time": "2021-07-23T16:18:25.377122",
     "exception": false,
     "start_time": "2021-07-23T16:18:25.271047",
     "status": "completed"
    },
    "tags": []
   },
   "outputs": [],
   "source": [
    "DML2.for.PLM <- function(z, d, y, dreg, yreg, nfold=2, clu) {\n",
    "  nobs <- nrow(z) # number of observations\n",
    "  foldid <- rep.int(1:nfold,times = ceiling(nobs/nfold))[sample.int(nobs)] # define folds indices\n",
    "  I <- split(1:nobs, foldid)  # split observation indices into folds  \n",
    "  ytil <- dtil <- rep(NA, nobs)\n",
    "  cat(\"fold: \")\n",
    "  for(b in 1:length(I)){\n",
    "    dfit <- dreg(z[-I[[b]],], d[-I[[b]]]) # take a fold out\n",
    "    yfit <- yreg(z[-I[[b]],], y[-I[[b]]]) # take a fold out\n",
    "    dhat <- predict(dfit, z[I[[b]],], type=\"response\") # predict the left-out fold \n",
    "    yhat <- predict(yfit, z[I[[b]],], type=\"response\") # predict the left-out fold  \n",
    "    dtil[I[[b]]] <- (d[I[[b]]] - dhat) # record residual for the left-out fold\n",
    "    ytil[I[[b]]] <- (y[I[[b]]] - yhat) # record residial for the left-out fold\n",
    "    cat(b,\" \")\n",
    "        }\n",
    "  #rfit <- lm(ytil ~ dtil) # estimate the main parameter by regressing one residual on the other\n",
    "  data <- data.frame(cbind(ytil, dtil, as.matrix(clu)))\n",
    "  rfit <- felm(ytil ~ dtil|0|0|CountyCode,data=data) \n",
    "  coef.est <- coef(rfit)[2] # extract coefficient\n",
    "  #HC <- vcovHC(rfit)\n",
    "  se    <- summary(rfit,robust=T)$coefficients[2,2] # record robust standard error by county\n",
    "  cat(sprintf(\"\\ncoef (se) = %g (%g)\\n\", coef.est , se)) # print output\n",
    "  return( list(coef.est =coef.est , se=se, dtil=dtil, ytil=ytil, rfit=rfit) ) # save output and residuals \n",
    "}"
   ]
  },
  {
   "cell_type": "markdown",
   "metadata": {
    "papermill": {
     "duration": 0.029713,
     "end_time": "2021-07-23T16:18:25.436669",
     "exception": false,
     "start_time": "2021-07-23T16:18:25.406956",
     "status": "completed"
    },
    "tags": []
   },
   "source": [
    "Now, we apply the Double Machine Learning (DML) approach with different machine learning methods. First, we load the relevant libraries."
   ]
  },
  {
   "cell_type": "code",
   "execution_count": 9,
   "metadata": {
    "execution": {
     "iopub.execute_input": "2021-07-23T16:18:25.500694Z",
     "iopub.status.busy": "2021-07-23T16:18:25.499327Z",
     "iopub.status.idle": "2021-07-23T16:18:25.913553Z",
     "shell.execute_reply": "2021-07-23T16:18:25.912468Z"
    },
    "papermill": {
     "duration": 0.447415,
     "end_time": "2021-07-23T16:18:25.913748",
     "exception": false,
     "start_time": "2021-07-23T16:18:25.466333",
     "status": "completed"
    },
    "tags": []
   },
   "outputs": [
    {
     "name": "stderr",
     "output_type": "stream",
     "text": [
      "Loaded glmnet 4.0-2\n",
      "\n",
      "randomForest 4.6-14\n",
      "\n",
      "Type rfNews() to see new features/changes/bug fixes.\n",
      "\n"
     ]
    }
   ],
   "source": [
    "library(hdm)\n",
    "library(glmnet)\n",
    "library(sandwich)\n",
    "library(randomForest)"
   ]
  },
  {
   "cell_type": "markdown",
   "metadata": {
    "papermill": {
     "duration": 0.0315,
     "end_time": "2021-07-23T16:18:25.976510",
     "exception": false,
     "start_time": "2021-07-23T16:18:25.945010",
     "status": "completed"
    },
    "tags": []
   },
   "source": [
    "Let us, construct the input matrices."
   ]
  },
  {
   "cell_type": "code",
   "execution_count": 10,
   "metadata": {
    "execution": {
     "iopub.execute_input": "2021-07-23T16:18:26.044814Z",
     "iopub.status.busy": "2021-07-23T16:18:26.043760Z",
     "iopub.status.idle": "2021-07-23T16:18:26.087973Z",
     "shell.execute_reply": "2021-07-23T16:18:26.086885Z"
    },
    "papermill": {
     "duration": 0.080207,
     "end_time": "2021-07-23T16:18:26.088114",
     "exception": false,
     "start_time": "2021-07-23T16:18:26.007907",
     "status": "completed"
    },
    "tags": []
   },
   "outputs": [
    {
     "data": {
      "text/html": [
       "<table class=\"dataframe\">\n",
       "<caption>A data.frame: 6 × 3</caption>\n",
       "<thead>\n",
       "\t<tr><th></th><th scope=col>logghomr</th><th scope=col>logfssl</th><th scope=col>CountyCode</th></tr>\n",
       "\t<tr><th></th><th scope=col>&lt;dbl&gt;</th><th scope=col>&lt;dbl&gt;</th><th scope=col>&lt;dbl&gt;</th></tr>\n",
       "</thead>\n",
       "<tbody>\n",
       "\t<tr><th scope=row>1</th><td>-0.13477752</td><td> 0.096127077</td><td>1073</td></tr>\n",
       "\t<tr><th scope=row>2</th><td>-0.23962152</td><td> 0.080809373</td><td>1073</td></tr>\n",
       "\t<tr><th scope=row>3</th><td>-0.07867716</td><td> 0.057339916</td><td>1073</td></tr>\n",
       "\t<tr><th scope=row>4</th><td>-0.33146546</td><td> 0.081694483</td><td>1073</td></tr>\n",
       "\t<tr><th scope=row>5</th><td>-0.31663980</td><td> 0.025365514</td><td>1073</td></tr>\n",
       "\t<tr><th scope=row>6</th><td> 0.10513190</td><td>-0.006777264</td><td>1073</td></tr>\n",
       "</tbody>\n",
       "</table>\n"
      ],
      "text/latex": [
       "A data.frame: 6 × 3\n",
       "\\begin{tabular}{r|lll}\n",
       "  & logghomr & logfssl & CountyCode\\\\\n",
       "  & <dbl> & <dbl> & <dbl>\\\\\n",
       "\\hline\n",
       "\t1 & -0.13477752 &  0.096127077 & 1073\\\\\n",
       "\t2 & -0.23962152 &  0.080809373 & 1073\\\\\n",
       "\t3 & -0.07867716 &  0.057339916 & 1073\\\\\n",
       "\t4 & -0.33146546 &  0.081694483 & 1073\\\\\n",
       "\t5 & -0.31663980 &  0.025365514 & 1073\\\\\n",
       "\t6 &  0.10513190 & -0.006777264 & 1073\\\\\n",
       "\\end{tabular}\n"
      ],
      "text/markdown": [
       "\n",
       "A data.frame: 6 × 3\n",
       "\n",
       "| <!--/--> | logghomr &lt;dbl&gt; | logfssl &lt;dbl&gt; | CountyCode &lt;dbl&gt; |\n",
       "|---|---|---|---|\n",
       "| 1 | -0.13477752 |  0.096127077 | 1073 |\n",
       "| 2 | -0.23962152 |  0.080809373 | 1073 |\n",
       "| 3 | -0.07867716 |  0.057339916 | 1073 |\n",
       "| 4 | -0.33146546 |  0.081694483 | 1073 |\n",
       "| 5 | -0.31663980 |  0.025365514 | 1073 |\n",
       "| 6 |  0.10513190 | -0.006777264 | 1073 |\n",
       "\n"
      ],
      "text/plain": [
       "  logghomr    logfssl      CountyCode\n",
       "1 -0.13477752  0.096127077 1073      \n",
       "2 -0.23962152  0.080809373 1073      \n",
       "3 -0.07867716  0.057339916 1073      \n",
       "4 -0.33146546  0.081694483 1073      \n",
       "5 -0.31663980  0.025365514 1073      \n",
       "6  0.10513190 -0.006777264 1073      "
      ]
     },
     "metadata": {},
     "output_type": "display_data"
    }
   ],
   "source": [
    "y <- as.matrix(Y)\n",
    "d <- as.matrix(D)\n",
    "z <- as.matrix(Z)\n",
    "clu <- rdata[which(colnames(rdata) == \"CountyCode\")]\n",
    "head(data.frame(cbind(y,d,as.matrix(clu))))"
   ]
  },
  {
   "cell_type": "markdown",
   "metadata": {
    "papermill": {
     "duration": 0.031675,
     "end_time": "2021-07-23T16:18:26.151956",
     "exception": false,
     "start_time": "2021-07-23T16:18:26.120281",
     "status": "completed"
    },
    "tags": []
   },
   "source": [
    "In the following, we apply the DML approach with the different versions of lasso.\n"
   ]
  },
  {
   "cell_type": "markdown",
   "metadata": {
    "papermill": {
     "duration": 0.031799,
     "end_time": "2021-07-23T16:18:26.216020",
     "exception": false,
     "start_time": "2021-07-23T16:18:26.184221",
     "status": "completed"
    },
    "tags": []
   },
   "source": [
    "## Lasso"
   ]
  },
  {
   "cell_type": "code",
   "execution_count": 11,
   "metadata": {
    "execution": {
     "iopub.execute_input": "2021-07-23T16:18:26.285746Z",
     "iopub.status.busy": "2021-07-23T16:18:26.284530Z",
     "iopub.status.idle": "2021-07-23T16:18:53.543146Z",
     "shell.execute_reply": "2021-07-23T16:18:53.541561Z"
    },
    "papermill": {
     "duration": 27.294829,
     "end_time": "2021-07-23T16:18:53.543425",
     "exception": false,
     "start_time": "2021-07-23T16:18:26.248596",
     "status": "completed"
    },
    "tags": []
   },
   "outputs": [
    {
     "name": "stdout",
     "output_type": "stream",
     "text": [
      "fold: 1  2  3  4  5  6  7  8  9  10  \n",
      "coef (se) = 0.222807 (0.0570267)\n"
     ]
    }
   ],
   "source": [
    "# DML with Lasso:\n",
    "set.seed(123)\n",
    "dreg <- function(z,d){ rlasso(z,d, post=FALSE) } # ML method= lasso from hdm \n",
    "yreg <- function(z,y){ rlasso(z,y, post=FALSE) } # ML method = lasso from hdm\n",
    "DML2.lasso = DML2.for.PLM(z, d, y, dreg, yreg, nfold=10,clu)"
   ]
  },
  {
   "cell_type": "code",
   "execution_count": 12,
   "metadata": {
    "execution": {
     "iopub.execute_input": "2021-07-23T16:18:53.645871Z",
     "iopub.status.busy": "2021-07-23T16:18:53.644233Z",
     "iopub.status.idle": "2021-07-23T16:19:20.978865Z",
     "shell.execute_reply": "2021-07-23T16:19:20.977018Z"
    },
    "papermill": {
     "duration": 27.380509,
     "end_time": "2021-07-23T16:19:20.979078",
     "exception": false,
     "start_time": "2021-07-23T16:18:53.598569",
     "status": "completed"
    },
    "tags": []
   },
   "outputs": [
    {
     "name": "stdout",
     "output_type": "stream",
     "text": [
      "fold: 1  2  3  4  5  6  7  8  9  10  \n",
      "coef (se) = 0.226934 (0.0561918)\n"
     ]
    }
   ],
   "source": [
    "# DML with Post-Lasso:\n",
    "dreg <- function(z,d){ rlasso(z,d, post=T) } # ML method= lasso from hdm \n",
    "yreg <- function(z,y){ rlasso(z,y, post=T) } # ML method = lasso from hdm\n",
    "DML2.post = DML2.for.PLM(z, d, y, dreg, yreg, nfold=10, clu)"
   ]
  },
  {
   "cell_type": "code",
   "execution_count": 13,
   "metadata": {
    "execution": {
     "iopub.execute_input": "2021-07-23T16:19:21.082131Z",
     "iopub.status.busy": "2021-07-23T16:19:21.081531Z",
     "iopub.status.idle": "2021-07-23T16:22:49.829404Z",
     "shell.execute_reply": "2021-07-23T16:22:49.829809Z"
    },
    "papermill": {
     "duration": 208.795325,
     "end_time": "2021-07-23T16:22:49.830002",
     "exception": false,
     "start_time": "2021-07-23T16:19:21.034677",
     "status": "completed"
    },
    "tags": []
   },
   "outputs": [
    {
     "name": "stdout",
     "output_type": "stream",
     "text": [
      "fold: 1  2  3  4  5  6  7  8  9  10  \n",
      "coef (se) = 0.200474 (0.0576411)\n",
      "fold: 1  2  3  4  5  6  7  8  9  10  \n",
      "coef (se) = 0.206117 (0.0574622)\n",
      "fold: 1  2  3  4  5  6  7  8  9  10  \n",
      "coef (se) = 0.201379 (0.0579066)\n"
     ]
    }
   ],
   "source": [
    "# DML with cross-validated Lasso:\n",
    "dreg <- function(z,d){ cv.glmnet(z,d,family=\"gaussian\", alpha=1) } # ML method = lasso from glmnet \n",
    "yreg <- function(z,y){ cv.glmnet(z,y,family=\"gaussian\", alpha=1) } # ML method = lasso from glmnet \n",
    "DML2.lasso.cv = DML2.for.PLM(z, d, y, dreg, yreg, nfold=10, clu)\n",
    "\n",
    "dreg <- function(z,d){ cv.glmnet(z,d,family=\"gaussian\", alpha=0.5) } # ML method = elastic net from glmnet \n",
    "yreg <- function(z,y){ cv.glmnet(z,y,family=\"gaussian\", alpha=0.5) } # ML method = elastic net from glmnet \n",
    "DML2.elnet = DML2.for.PLM(z, d, y, dreg, yreg, nfold=10, clu)\n",
    "\n",
    "dreg <- function(z,d){ cv.glmnet(z,d,family=\"gaussian\", alpha=0) } # ML method = ridge from glmnet \n",
    "yreg <- function(z,y){ cv.glmnet(z,y,family=\"gaussian\", alpha=0) } # ML method = ridge from glmnet \n",
    "DML2.ridge = DML2.for.PLM(z, d, y, dreg, yreg, nfold=10, clu)"
   ]
  },
  {
   "cell_type": "markdown",
   "metadata": {
    "papermill": {
     "duration": 0.032997,
     "end_time": "2021-07-23T16:22:49.896173",
     "exception": false,
     "start_time": "2021-07-23T16:22:49.863176",
     "status": "completed"
    },
    "tags": []
   },
   "source": [
    "Here we also compute DML with OLS used as the ML method"
   ]
  },
  {
   "cell_type": "code",
   "execution_count": 14,
   "metadata": {
    "execution": {
     "iopub.execute_input": "2021-07-23T16:22:49.967771Z",
     "iopub.status.busy": "2021-07-23T16:22:49.966766Z",
     "iopub.status.idle": "2021-07-23T16:22:56.011257Z",
     "shell.execute_reply": "2021-07-23T16:22:56.010000Z"
    },
    "papermill": {
     "duration": 6.081638,
     "end_time": "2021-07-23T16:22:56.011495",
     "exception": false,
     "start_time": "2021-07-23T16:22:49.929857",
     "status": "completed"
    },
    "tags": []
   },
   "outputs": [
    {
     "name": "stdout",
     "output_type": "stream",
     "text": [
      "fold: 1  2  3  4  5  6  7  8  9  10  \n",
      "coef (se) = 0.222905 (0.0540549)\n"
     ]
    }
   ],
   "source": [
    "dreg <- function(z,d){  glmnet(z,d,family=\"gaussian\", lambda=0) } # ML method = ols from glmnet \n",
    "yreg <- function(z,y){  glmnet(z,y,family=\"gaussian\", lambda=0) }  # ML method = ols from glmnet \n",
    "DML2.ols = DML2.for.PLM(z, d, y, dreg, yreg, nfold=10, clu)"
   ]
  },
  {
   "cell_type": "markdown",
   "metadata": {
    "papermill": {
     "duration": 0.034198,
     "end_time": "2021-07-23T16:22:56.080477",
     "exception": false,
     "start_time": "2021-07-23T16:22:56.046279",
     "status": "completed"
    },
    "tags": []
   },
   "source": [
    "Next, we also apply Random Forest for comparison purposes."
   ]
  },
  {
   "cell_type": "markdown",
   "metadata": {
    "papermill": {
     "duration": 0.034213,
     "end_time": "2021-07-23T16:22:56.149222",
     "exception": false,
     "start_time": "2021-07-23T16:22:56.115009",
     "status": "completed"
    },
    "tags": []
   },
   "source": [
    "### Random Forest\n"
   ]
  },
  {
   "cell_type": "code",
   "execution_count": 15,
   "metadata": {
    "execution": {
     "iopub.execute_input": "2021-07-23T16:22:56.221769Z",
     "iopub.status.busy": "2021-07-23T16:22:56.220693Z",
     "iopub.status.idle": "2021-07-23T16:28:25.236205Z",
     "shell.execute_reply": "2021-07-23T16:28:25.236813Z"
    },
    "papermill": {
     "duration": 329.054108,
     "end_time": "2021-07-23T16:28:25.237058",
     "exception": false,
     "start_time": "2021-07-23T16:22:56.182950",
     "status": "completed"
    },
    "tags": []
   },
   "outputs": [
    {
     "name": "stdout",
     "output_type": "stream",
     "text": [
      "fold: 1  2  \n",
      "coef (se) = 0.192174 (0.058141)\n"
     ]
    }
   ],
   "source": [
    "# DML with Random Forest:\n",
    "dreg <- function(z,d){ randomForest(z, d) } # ML method = random forest \n",
    "yreg <- function(z,y){ randomForest(z, y) } # ML method = random forest\n",
    "set.seed(1)\n",
    "DML2.RF = DML2.for.PLM(z, d, y, dreg, yreg, nfold=2, clu) # set folds to 2 to limit computation time"
   ]
  },
  {
   "cell_type": "markdown",
   "metadata": {
    "papermill": {
     "duration": 0.033629,
     "end_time": "2021-07-23T16:28:25.305430",
     "exception": false,
     "start_time": "2021-07-23T16:28:25.271801",
     "status": "completed"
    },
    "tags": []
   },
   "source": [
    "We conclude that the gun ownership rates are related to gun homicide rates - if gun ownership increases by 1% relative\n",
    "to a trend then the predicted gun homicide rate goes up by about 0.20% controlling for counties' characteristics."
   ]
  },
  {
   "cell_type": "markdown",
   "metadata": {
    "papermill": {
     "duration": 0.033891,
     "end_time": "2021-07-23T16:28:25.372853",
     "exception": false,
     "start_time": "2021-07-23T16:28:25.338962",
     "status": "completed"
    },
    "tags": []
   },
   "source": [
    "Finally, let's see which method is best. We compute RMSE for predicting D and Y, and see which\n",
    "of the methods works better.\n"
   ]
  },
  {
   "cell_type": "code",
   "execution_count": 16,
   "metadata": {
    "execution": {
     "iopub.execute_input": "2021-07-23T16:28:25.445295Z",
     "iopub.status.busy": "2021-07-23T16:28:25.444109Z",
     "iopub.status.idle": "2021-07-23T16:28:25.476105Z",
     "shell.execute_reply": "2021-07-23T16:28:25.474916Z"
    },
    "papermill": {
     "duration": 0.069824,
     "end_time": "2021-07-23T16:28:25.476256",
     "exception": false,
     "start_time": "2021-07-23T16:28:25.406432",
     "status": "completed"
    },
    "tags": []
   },
   "outputs": [
    {
     "name": "stdout",
     "output_type": "stream",
     "text": [
      "               OLS       Lasso  Post-Lasso    CV Lasso    CV Ridge    CV Elnet\n",
      "RMSE D 1.08679e-04 3.25471e-05 1.32656e-04 3.85574e-04 2.56496e-04 0.000824198\n",
      "RMSE Y 6.53256e-05 3.73226e-05 6.89649e-05 6.22797e-05 2.76534e-06 0.000025963\n",
      "               RF\n",
      "RMSE D 0.01109672\n",
      "RMSE Y 0.00134852\n"
     ]
    }
   ],
   "source": [
    "mods<- list(DML2.ols, DML2.lasso, DML2.post, DML2.lasso.cv, DML2.ridge, DML2.elnet, DML2.RF)\n",
    "\n",
    "RMSE.mdl<- function(mdl) {\n",
    "RMSEY <- sqrt(mean(mdl$ytil)^2) \n",
    "RMSED <- sqrt(mean(mdl$dtil)^2) \n",
    "return( list(RMSEY=RMSEY, RMSED=RMSED))\n",
    "}\n",
    "\n",
    "#RMSE.mdl(DML2.lasso)\n",
    "#DML2.lasso$ytil\n",
    "\n",
    "Res<- lapply(mods, RMSE.mdl)\n",
    "\n",
    "prRes.Y<- c( Res[[1]]$RMSEY,Res[[2]]$RMSEY, Res[[3]]$RMSEY, Res[[4]]$RMSEY, Res[[5]]$RMSEY,  Res[[6]]$RMSEY, Res[[7]]$RMSEY)\n",
    "prRes.D<- c( Res[[1]]$RMSED,Res[[2]]$RMSED, Res[[3]]$RMSED, Res[[4]]$RMSED, Res[[5]]$RMSED, Res[[6]]$RMSED, Res[[7]]$RMSED)\n",
    "\n",
    "prRes<- rbind(prRes.Y, prRes.D); \n",
    "rownames(prRes)<- c(\"RMSE D\", \"RMSE Y\");\n",
    "colnames(prRes)<- c(\"OLS\", \"Lasso\", \"Post-Lasso\", \"CV Lasso\", \"CV Ridge\", \"CV Elnet\", \"RF\")\n",
    "print(prRes,digit=6)"
   ]
  },
  {
   "cell_type": "markdown",
   "metadata": {
    "papermill": {
     "duration": 0.033769,
     "end_time": "2021-07-23T16:28:25.543748",
     "exception": false,
     "start_time": "2021-07-23T16:28:25.509979",
     "status": "completed"
    },
    "tags": []
   },
   "source": [
    "It looks like the best method for predicting D is Lasso, and the best method for predicting Y is CV Ridge.\n"
   ]
  },
  {
   "cell_type": "code",
   "execution_count": 17,
   "metadata": {
    "execution": {
     "iopub.execute_input": "2021-07-23T16:28:25.616472Z",
     "iopub.status.busy": "2021-07-23T16:28:25.615749Z",
     "iopub.status.idle": "2021-07-23T16:28:55.523624Z",
     "shell.execute_reply": "2021-07-23T16:28:55.521846Z"
    },
    "papermill": {
     "duration": 29.946488,
     "end_time": "2021-07-23T16:28:55.523860",
     "exception": false,
     "start_time": "2021-07-23T16:28:25.577372",
     "status": "completed"
    },
    "tags": []
   },
   "outputs": [
    {
     "name": "stdout",
     "output_type": "stream",
     "text": [
      "fold: 1  2  3  4  5  6  7  8  9  10  \n",
      "coef (se) = 0.219005 (0.0572196)\n"
     ]
    }
   ],
   "source": [
    "dreg <- function(z,d){ rlasso(z,d, post=T) } # ML method = lasso from hdm \n",
    "yreg <- function(z,y){ cv.glmnet(z,y,family=\"gaussian\", alpha=0) }  # ML method = ridge from glmnet \n",
    "DML2.best= DML2.for.PLM(z, d, y, dreg, yreg, nfold=10, clu)"
   ]
  },
  {
   "cell_type": "markdown",
   "metadata": {
    "papermill": {
     "duration": 0.039349,
     "end_time": "2021-07-23T16:28:55.622579",
     "exception": false,
     "start_time": "2021-07-23T16:28:55.583230",
     "status": "completed"
    },
    "tags": []
   },
   "source": [
    "Let's organize the results in a table."
   ]
  },
  {
   "cell_type": "code",
   "execution_count": 18,
   "metadata": {
    "execution": {
     "iopub.execute_input": "2021-07-23T16:28:55.696769Z",
     "iopub.status.busy": "2021-07-23T16:28:55.695588Z",
     "iopub.status.idle": "2021-07-23T16:28:55.754783Z",
     "shell.execute_reply": "2021-07-23T16:28:55.753576Z"
    },
    "papermill": {
     "duration": 0.097853,
     "end_time": "2021-07-23T16:28:55.754924",
     "exception": false,
     "start_time": "2021-07-23T16:28:55.657071",
     "status": "completed"
    },
    "tags": []
   },
   "outputs": [
    {
     "data": {
      "text/html": [
       "<table class=\"dataframe\">\n",
       "<caption>A matrix: 9 × 2 of type dbl</caption>\n",
       "<thead>\n",
       "\t<tr><th></th><th scope=col>Estimate</th><th scope=col>Standard Error</th></tr>\n",
       "</thead>\n",
       "<tbody>\n",
       "\t<tr><th scope=row>Baseline OLS</th><td>0.2823045</td><td>0.06481080</td></tr>\n",
       "\t<tr><th scope=row>Least Squares with controls</th><td>0.1906447</td><td>0.05244756</td></tr>\n",
       "\t<tr><th scope=row>Lasso</th><td>0.2228074</td><td>0.05702673</td></tr>\n",
       "\t<tr><th scope=row>Post-Lasso</th><td>0.2269338</td><td>0.05619181</td></tr>\n",
       "\t<tr><th scope=row>CV Lasso</th><td>0.2004742</td><td>0.05764115</td></tr>\n",
       "\t<tr><th scope=row>CV Elnet</th><td>0.2061170</td><td>0.05746222</td></tr>\n",
       "\t<tr><th scope=row>CV Ridge</th><td>0.2013789</td><td>0.05790663</td></tr>\n",
       "\t<tr><th scope=row>Random Forest</th><td>0.1921739</td><td>0.05814101</td></tr>\n",
       "\t<tr><th scope=row>Best</th><td>0.2190048</td><td>0.05721956</td></tr>\n",
       "</tbody>\n",
       "</table>\n"
      ],
      "text/latex": [
       "A matrix: 9 × 2 of type dbl\n",
       "\\begin{tabular}{r|ll}\n",
       "  & Estimate & Standard Error\\\\\n",
       "\\hline\n",
       "\tBaseline OLS & 0.2823045 & 0.06481080\\\\\n",
       "\tLeast Squares with controls & 0.1906447 & 0.05244756\\\\\n",
       "\tLasso & 0.2228074 & 0.05702673\\\\\n",
       "\tPost-Lasso & 0.2269338 & 0.05619181\\\\\n",
       "\tCV Lasso & 0.2004742 & 0.05764115\\\\\n",
       "\tCV Elnet & 0.2061170 & 0.05746222\\\\\n",
       "\tCV Ridge & 0.2013789 & 0.05790663\\\\\n",
       "\tRandom Forest & 0.1921739 & 0.05814101\\\\\n",
       "\tBest & 0.2190048 & 0.05721956\\\\\n",
       "\\end{tabular}\n"
      ],
      "text/markdown": [
       "\n",
       "A matrix: 9 × 2 of type dbl\n",
       "\n",
       "| <!--/--> | Estimate | Standard Error |\n",
       "|---|---|---|\n",
       "| Baseline OLS | 0.2823045 | 0.06481080 |\n",
       "| Least Squares with controls | 0.1906447 | 0.05244756 |\n",
       "| Lasso | 0.2228074 | 0.05702673 |\n",
       "| Post-Lasso | 0.2269338 | 0.05619181 |\n",
       "| CV Lasso | 0.2004742 | 0.05764115 |\n",
       "| CV Elnet | 0.2061170 | 0.05746222 |\n",
       "| CV Ridge | 0.2013789 | 0.05790663 |\n",
       "| Random Forest | 0.1921739 | 0.05814101 |\n",
       "| Best | 0.2190048 | 0.05721956 |\n",
       "\n"
      ],
      "text/plain": [
       "                            Estimate  Standard Error\n",
       "Baseline OLS                0.2823045 0.06481080    \n",
       "Least Squares with controls 0.1906447 0.05244756    \n",
       "Lasso                       0.2228074 0.05702673    \n",
       "Post-Lasso                  0.2269338 0.05619181    \n",
       "CV Lasso                    0.2004742 0.05764115    \n",
       "CV Elnet                    0.2061170 0.05746222    \n",
       "CV Ridge                    0.2013789 0.05790663    \n",
       "Random Forest               0.1921739 0.05814101    \n",
       "Best                        0.2190048 0.05721956    "
      ]
     },
     "metadata": {},
     "output_type": "display_data"
    }
   ],
   "source": [
    "library(xtable)\n",
    "\n",
    "table <- matrix(0,9,2)\n",
    "table[1,1] <- as.numeric(est_baseline[1])\n",
    "table[2,1] <- as.numeric(est_ols[1])\n",
    "table[3,1]   <- as.numeric(DML2.lasso$coef.est)\n",
    "table[4,1]   <- as.numeric(DML2.post$coef.est)\n",
    "table[5,1]  <-as.numeric(DML2.lasso.cv$coef.est)\n",
    "table[6,1] <-as.numeric(DML2.elnet$coef.est)\n",
    "table[7,1] <-as.numeric(DML2.ridge$coef.est)\n",
    "table[8,1] <-as.numeric(DML2.RF$coef.est)\n",
    "table[9,1] <-as.numeric(DML2.best$coef.est)\n",
    "table[1,2] <- as.numeric(est_baseline[2])\n",
    "table[2,2] <- as.numeric(est_ols[2])\n",
    "table[3,2]   <- as.numeric(DML2.lasso$se)\n",
    "table[4,2]   <- as.numeric(DML2.post$se)\n",
    "table[5,2]  <-as.numeric(DML2.lasso.cv$se)\n",
    "table[6,2] <-as.numeric(DML2.elnet$se)\n",
    "table[7,2] <-as.numeric(DML2.ridge$se)\n",
    "table[8,2] <-as.numeric(DML2.RF$se)\n",
    "table[9,2] <-as.numeric(DML2.best$se)\n",
    "\n",
    "# print results\n",
    "colnames(table) <- c(\"Estimate\",\"Standard Error\")\n",
    "rownames(table) <- c(\"Baseline OLS\", \"Least Squares with controls\", \"Lasso\", \"Post-Lasso\", \"CV Lasso\",\"CV Elnet\", \"CV Ridge\", \"Random Forest\", \n",
    "                     \"Best\")\n",
    "table"
   ]
  }
 ],
 "metadata": {
  "kernelspec": {
   "display_name": "R",
   "language": "R",
   "name": "ir"
  },
  "language_info": {
   "codemirror_mode": "r",
   "file_extension": ".r",
   "mimetype": "text/x-r-source",
   "name": "R",
   "pygments_lexer": "r",
   "version": "4.2.1"
  },
  "papermill": {
   "default_parameters": {},
   "duration": 663.673787,
   "end_time": "2021-07-23T16:28:56.086168",
   "environment_variables": {},
   "exception": null,
   "input_path": "__notebook__.ipynb",
   "output_path": "__notebook__.ipynb",
   "parameters": {},
   "start_time": "2021-07-23T16:17:52.412381",
   "version": "2.2.2"
  }
 },
 "nbformat": 4,
 "nbformat_minor": 4
}
